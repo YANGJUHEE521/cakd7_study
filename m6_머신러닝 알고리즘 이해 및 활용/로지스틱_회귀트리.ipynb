{
 "cells": [
  {
   "cell_type": "code",
   "execution_count": null,
   "id": "39ecbd8b",
   "metadata": {
    "id": "39ecbd8b"
   },
   "outputs": [],
   "source": [
    "import pandas as pd\n",
    "import matplotlib.pyplot as plt\n",
    "import warnings\n",
    "warnings.filterwarnings('ignore')\n",
    "\n",
    "from sklearn.datasets import load_breast_cancer\n",
    "from sklearn.linear_model import LogisticRegression\n",
    "\n",
    "cancer = load_breast_cancer()"
   ]
  },
  {
   "cell_type": "code",
   "execution_count": null,
   "id": "ab8a5b10",
   "metadata": {
    "id": "ab8a5b10"
   },
   "outputs": [],
   "source": [
    "pd.options.display.float_format = '{:.1f}'.format"
   ]
  },
  {
   "cell_type": "code",
   "execution_count": null,
   "id": "0d0b3a3d",
   "metadata": {
    "id": "0d0b3a3d",
    "outputId": "804e7ca4-58fc-4da0-ad29-d5b6c27241db"
   },
   "outputs": [
    {
     "data": {
      "text/plain": [
       "array([[1.799e+01, 1.038e+01, 1.228e+02, ..., 2.654e-01, 4.601e-01,\n",
       "        1.189e-01],\n",
       "       [2.057e+01, 1.777e+01, 1.329e+02, ..., 1.860e-01, 2.750e-01,\n",
       "        8.902e-02],\n",
       "       [1.969e+01, 2.125e+01, 1.300e+02, ..., 2.430e-01, 3.613e-01,\n",
       "        8.758e-02],\n",
       "       ...,\n",
       "       [1.660e+01, 2.808e+01, 1.083e+02, ..., 1.418e-01, 2.218e-01,\n",
       "        7.820e-02],\n",
       "       [2.060e+01, 2.933e+01, 1.401e+02, ..., 2.650e-01, 4.087e-01,\n",
       "        1.240e-01],\n",
       "       [7.760e+00, 2.454e+01, 4.792e+01, ..., 0.000e+00, 2.871e-01,\n",
       "        7.039e-02]])"
      ]
     },
     "execution_count": 6,
     "metadata": {},
     "output_type": "execute_result"
    }
   ],
   "source": [
    "cancer.data"
   ]
  },
  {
   "cell_type": "code",
   "execution_count": null,
   "id": "512a49b3",
   "metadata": {
    "id": "512a49b3"
   },
   "outputs": [],
   "source": [
    "#데이터의 정규 분포도에 따라 예측 성능 영향을 받을 수 있으므로, 정규 분포 형태의 표준 스케일링 적용 -> 데이터 분리 \n",
    "from sklearn.preprocessing import StandardScaler\n",
    "from sklearn.model_selection import train_test_split\n",
    "\n",
    "scaler = StandardScaler()\n",
    "data_scaled = scaler.fit_transform(cancer.data)\n",
    "\n",
    "X_train, X_test, y_train, y_test = train_test_split(data_scaled, cancer.target, test_size=0.3, random_state=0)"
   ]
  },
  {
   "cell_type": "code",
   "execution_count": null,
   "id": "2673858c",
   "metadata": {
    "id": "2673858c",
    "outputId": "870b00a7-e22e-4f16-b56c-5a3634b73f28"
   },
   "outputs": [
    {
     "name": "stdout",
     "output_type": "stream",
     "text": [
      "accuracy:0.9766, roc_auc:0.9716\n"
     ]
    }
   ],
   "source": [
    "from sklearn.metrics import accuracy_score, roc_auc_score\n",
    "\n",
    "#로지스틱 회귀를 이용하여 학습 및 예측 수행(solver는 default인 '1bfgs'적용)\n",
    "lr_clf = LogisticRegression()\n",
    "lr_clf.fit(X_train, y_train)\n",
    "lr_preds = lr_clf.predict(X_test)\n",
    "\n",
    "#정확도와 roc_auc 값 구하기 \n",
    "print(f'accuracy:{round(accuracy_score(y_test, lr_preds),4)}, roc_auc:{round(roc_auc_score(y_test, lr_preds),4)}')"
   ]
  },
  {
   "cell_type": "code",
   "execution_count": null,
   "id": "1bc8a1a1",
   "metadata": {
    "id": "1bc8a1a1",
    "outputId": "083ac28e-1f0f-4471-c607-e38bf36fa1c9"
   },
   "outputs": [
    {
     "name": "stdout",
     "output_type": "stream",
     "text": [
      "solver:lbfgs, accuracy: 0.977, roc_auc:0.972\n",
      "solver:liblinear, accuracy: 0.982, roc_auc:0.979\n",
      "solver:newton-cg, accuracy: 0.977, roc_auc:0.972\n",
      "solver:sag, accuracy: 0.982, roc_auc:0.979\n",
      "solver:saga, accuracy: 0.982, roc_auc:0.979\n"
     ]
    }
   ],
   "source": [
    "#과제_1011_1\n",
    "#여러개의 solver 값별로 LogisticRegression 학습 후 성능 평가(최적화 방안) - accuracy, roc_auc\n",
    "\n",
    "solvers = ['lbfgs', 'liblinear', 'newton-cg', 'sag', 'saga']\n",
    "\n",
    "# 여러개의 solver 값별로 LogisticRegression 학습 후 성능 평가\n",
    "for solver in solvers:\n",
    "    lr_clf = LogisticRegression(solver=solver, max_iter=600)\n",
    "    lr_clf.fit(X_train, y_train)\n",
    "    lr_preds = lr_clf.predict(X_test)\n",
    "    \n",
    "    # accuracy와 roc_auc 측정\n",
    "    print('solver:{0}, accuracy: {1:.3f}, roc_auc:{2:.3f}'.format(solver,\n",
    "                                                                  accuracy_score(y_test, lr_preds),\n",
    "                                                                  roc_auc_score(y_test , lr_preds)))\n",
    "    \n",
    "#데이터 세트가 워낙 작기에 개별 solver별 차이가 크지 않음"
   ]
  },
  {
   "cell_type": "code",
   "execution_count": null,
   "id": "0fb93481",
   "metadata": {
    "id": "0fb93481",
    "outputId": "bd2c1856-e3ad-41ac-b642-6300d0c5b6f2"
   },
   "outputs": [
    {
     "name": "stdout",
     "output_type": "stream",
     "text": [
      "최적 하이퍼 파라미터:{'C': 0.1, 'penalty': 'l2', 'solver': 'liblinear'}, 최적 평균 정확도:0.979\n"
     ]
    }
   ],
   "source": [
    "#과제_1011_2 GridSearchCV를 이용하여 최적 하이퍼 파라미터 및 최적 평균 정확도를 구하세요.\n",
    "from sklearn.model_selection import GridSearchCV\n",
    "\n",
    "params = {'solver':['lbfgs','liblinear' ],\n",
    "         'penalty':['l2','l1'],\n",
    "         'C':[0.01, 0.1, 1.5, 10]}\n",
    "\n",
    "lr_clf = LogisticRegression()\n",
    "\n",
    "grid_clf = GridSearchCV(lr_clf, param_grid=params, scoring='accuracy', cv=3)\n",
    "grid_clf.fit(data_scaled, cancer.target)\n",
    "print('최적 하이퍼 파라미터:{0}, 최적 평균 정확도:{1:.3f}'.format(grid_clf.best_params_, grid_clf.best_score_))"
   ]
  },
  {
   "cell_type": "markdown",
   "id": "d22aad3f",
   "metadata": {
    "id": "d22aad3f"
   },
   "source": [
    "## 회귀트리"
   ]
  },
  {
   "cell_type": "code",
   "execution_count": null,
   "id": "6657ec3a",
   "metadata": {
    "id": "6657ec3a"
   },
   "outputs": [],
   "source": [
    "from sklearn.datasets import load_boston\n",
    "from sklearn.model_selection import cross_val_score\n",
    "from sklearn.ensemble import RandomForestRegressor\n",
    "import numpy as np\n",
    "import pandas as pd"
   ]
  },
  {
   "cell_type": "code",
   "execution_count": null,
   "id": "902955ad",
   "metadata": {
    "id": "902955ad",
    "outputId": "58e9e355-cdd6-4b2b-e9f3-713c31076ea9"
   },
   "outputs": [
    {
     "data": {
      "text/plain": [
       "dict_keys(['data', 'target', 'feature_names', 'DESCR', 'filename', 'data_module'])"
      ]
     },
     "execution_count": 13,
     "metadata": {},
     "output_type": "execute_result"
    }
   ],
   "source": [
    "boston = load_boston()\n",
    "boston.keys()"
   ]
  },
  {
   "cell_type": "code",
   "execution_count": null,
   "id": "b47fb135",
   "metadata": {
    "id": "b47fb135",
    "outputId": "e56379de-2500-495b-a5ca-2b72818c9560"
   },
   "outputs": [
    {
     "data": {
      "text/plain": [
       "array(['CRIM', 'ZN', 'INDUS', 'CHAS', 'NOX', 'RM', 'AGE', 'DIS', 'RAD',\n",
       "       'TAX', 'PTRATIO', 'B', 'LSTAT'], dtype='<U7')"
      ]
     },
     "execution_count": 14,
     "metadata": {},
     "output_type": "execute_result"
    }
   ],
   "source": [
    "boston.feature_names"
   ]
  },
  {
   "cell_type": "code",
   "execution_count": null,
   "id": "d9585e93",
   "metadata": {
    "id": "d9585e93",
    "outputId": "51bcd3f1-b186-4dee-8130-000bedcabeb0"
   },
   "outputs": [
    {
     "data": {
      "text/html": [
       "<div>\n",
       "<style scoped>\n",
       "    .dataframe tbody tr th:only-of-type {\n",
       "        vertical-align: middle;\n",
       "    }\n",
       "\n",
       "    .dataframe tbody tr th {\n",
       "        vertical-align: top;\n",
       "    }\n",
       "\n",
       "    .dataframe thead th {\n",
       "        text-align: right;\n",
       "    }\n",
       "</style>\n",
       "<table border=\"1\" class=\"dataframe\">\n",
       "  <thead>\n",
       "    <tr style=\"text-align: right;\">\n",
       "      <th></th>\n",
       "      <th>CRIM</th>\n",
       "      <th>ZN</th>\n",
       "      <th>INDUS</th>\n",
       "      <th>CHAS</th>\n",
       "      <th>NOX</th>\n",
       "      <th>RM</th>\n",
       "      <th>AGE</th>\n",
       "      <th>DIS</th>\n",
       "      <th>RAD</th>\n",
       "      <th>TAX</th>\n",
       "      <th>PTRATIO</th>\n",
       "      <th>B</th>\n",
       "      <th>LSTAT</th>\n",
       "      <th>PRICE</th>\n",
       "    </tr>\n",
       "  </thead>\n",
       "  <tbody>\n",
       "    <tr>\n",
       "      <th>0</th>\n",
       "      <td>0.0</td>\n",
       "      <td>18.0</td>\n",
       "      <td>2.3</td>\n",
       "      <td>0.0</td>\n",
       "      <td>0.5</td>\n",
       "      <td>6.6</td>\n",
       "      <td>65.2</td>\n",
       "      <td>4.1</td>\n",
       "      <td>1.0</td>\n",
       "      <td>296.0</td>\n",
       "      <td>15.3</td>\n",
       "      <td>396.9</td>\n",
       "      <td>5.0</td>\n",
       "      <td>24.0</td>\n",
       "    </tr>\n",
       "    <tr>\n",
       "      <th>1</th>\n",
       "      <td>0.0</td>\n",
       "      <td>0.0</td>\n",
       "      <td>7.1</td>\n",
       "      <td>0.0</td>\n",
       "      <td>0.5</td>\n",
       "      <td>6.4</td>\n",
       "      <td>78.9</td>\n",
       "      <td>5.0</td>\n",
       "      <td>2.0</td>\n",
       "      <td>242.0</td>\n",
       "      <td>17.8</td>\n",
       "      <td>396.9</td>\n",
       "      <td>9.1</td>\n",
       "      <td>21.6</td>\n",
       "    </tr>\n",
       "    <tr>\n",
       "      <th>2</th>\n",
       "      <td>0.0</td>\n",
       "      <td>0.0</td>\n",
       "      <td>7.1</td>\n",
       "      <td>0.0</td>\n",
       "      <td>0.5</td>\n",
       "      <td>7.2</td>\n",
       "      <td>61.1</td>\n",
       "      <td>5.0</td>\n",
       "      <td>2.0</td>\n",
       "      <td>242.0</td>\n",
       "      <td>17.8</td>\n",
       "      <td>392.8</td>\n",
       "      <td>4.0</td>\n",
       "      <td>34.7</td>\n",
       "    </tr>\n",
       "    <tr>\n",
       "      <th>3</th>\n",
       "      <td>0.0</td>\n",
       "      <td>0.0</td>\n",
       "      <td>2.2</td>\n",
       "      <td>0.0</td>\n",
       "      <td>0.5</td>\n",
       "      <td>7.0</td>\n",
       "      <td>45.8</td>\n",
       "      <td>6.1</td>\n",
       "      <td>3.0</td>\n",
       "      <td>222.0</td>\n",
       "      <td>18.7</td>\n",
       "      <td>394.6</td>\n",
       "      <td>2.9</td>\n",
       "      <td>33.4</td>\n",
       "    </tr>\n",
       "    <tr>\n",
       "      <th>4</th>\n",
       "      <td>0.1</td>\n",
       "      <td>0.0</td>\n",
       "      <td>2.2</td>\n",
       "      <td>0.0</td>\n",
       "      <td>0.5</td>\n",
       "      <td>7.1</td>\n",
       "      <td>54.2</td>\n",
       "      <td>6.1</td>\n",
       "      <td>3.0</td>\n",
       "      <td>222.0</td>\n",
       "      <td>18.7</td>\n",
       "      <td>396.9</td>\n",
       "      <td>5.3</td>\n",
       "      <td>36.2</td>\n",
       "    </tr>\n",
       "  </tbody>\n",
       "</table>\n",
       "</div>"
      ],
      "text/plain": [
       "   CRIM   ZN  INDUS  CHAS  NOX  RM  AGE  DIS  RAD   TAX  PTRATIO     B  LSTAT  \\\n",
       "0   0.0 18.0    2.3   0.0  0.5 6.6 65.2  4.1  1.0 296.0     15.3 396.9    5.0   \n",
       "1   0.0  0.0    7.1   0.0  0.5 6.4 78.9  5.0  2.0 242.0     17.8 396.9    9.1   \n",
       "2   0.0  0.0    7.1   0.0  0.5 7.2 61.1  5.0  2.0 242.0     17.8 392.8    4.0   \n",
       "3   0.0  0.0    2.2   0.0  0.5 7.0 45.8  6.1  3.0 222.0     18.7 394.6    2.9   \n",
       "4   0.1  0.0    2.2   0.0  0.5 7.1 54.2  6.1  3.0 222.0     18.7 396.9    5.3   \n",
       "\n",
       "   PRICE  \n",
       "0   24.0  \n",
       "1   21.6  \n",
       "2   34.7  \n",
       "3   33.4  \n",
       "4   36.2  "
      ]
     },
     "execution_count": 15,
     "metadata": {},
     "output_type": "execute_result"
    }
   ],
   "source": [
    "bostonDF = pd.DataFrame(boston.data, columns=boston.feature_names)\n",
    "\n",
    "bostonDF['PRICE'] = boston.target\n",
    "bostonDF.head()"
   ]
  },
  {
   "cell_type": "code",
   "execution_count": null,
   "id": "d5102445",
   "metadata": {
    "id": "d5102445",
    "outputId": "bfbed8cf-24f3-476f-f0ab-5988a4eb839e"
   },
   "outputs": [
    {
     "name": "stdout",
     "output_type": "stream",
     "text": [
      "[ -7.88 -13.14 -20.57 -46.23 -18.88]\n",
      "[2.81 3.63 4.54 6.8  4.34]\n",
      "4.4225\n"
     ]
    }
   ],
   "source": [
    "y_target = bostonDF['PRICE']\n",
    "X_data = bostonDF.drop(['PRICE'], axis=1, inplace=False)\n",
    "\n",
    "rf = RandomForestRegressor(random_state=0, n_estimators=1000)\n",
    "neg_mse_scores = cross_val_score(rf, X_data, y_target, scoring='neg_mean_squared_error', cv=5)\n",
    "rmse_scores = np.sqrt(-1 * neg_mse_scores)\n",
    "avg_mse = np.mean(rmse_scores)\n",
    "\n",
    "print(np.round(neg_mse_scores, 2))\n",
    "print(np.round(rmse_scores, 2))\n",
    "print(np.round(avg_mse, 4))"
   ]
  },
  {
   "cell_type": "raw",
   "id": "0e410ee6",
   "metadata": {
    "id": "0e410ee6"
   },
   "source": []
  },
  {
   "cell_type": "code",
   "execution_count": null,
   "id": "327aa839",
   "metadata": {
    "id": "327aa839"
   },
   "outputs": [],
   "source": [
    "#과제_1011_3 회귀트리 모델들을 이용하여 모델링 및 평가를 수행하세요\n",
    "# (def get_model_cv_predict(model, X_data, y_target ))\n",
    "\n",
    "\n",
    "#입력 모델과 데이터 세트를 입력받아 교차 검증으로 평균 RMSE를 계산해주는 함수 \n",
    "def get_model_cv_prediction(model, X_data, y_target):\n",
    "    neg_mse_scores = cross_val_score(model, X_data, y_target, scoring='neg_mean_squared_error', cv=5)\n",
    "    rmse_scores = np.sqrt(- 1 * neg_mse_scores)\n",
    "    avg_rmse = np.mean(rmse_scores)\n",
    "    print('####', model.__class__.__name__, '####')\n",
    "    print('5 교차 검증의 평균 RMSE : {0:.3f}'.format(avg_rmse))"
   ]
  },
  {
   "cell_type": "code",
   "execution_count": null,
   "id": "121ad182",
   "metadata": {
    "id": "121ad182",
    "outputId": "3c36774f-4e0e-4034-84c7-7232f2ddc054"
   },
   "outputs": [
    {
     "name": "stdout",
     "output_type": "stream",
     "text": [
      "#### DecisionTreeRegressor ####\n",
      "5 교차 검증의 평균 RMSE : 5.978\n",
      "#### RandomForestRegressor ####\n",
      "5 교차 검증의 평균 RMSE : 4.423\n",
      "#### GradientBoostingRegressor ####\n",
      "5 교차 검증의 평균 RMSE : 4.269\n",
      "#### XGBRegressor ####\n",
      "5 교차 검증의 평균 RMSE : 4.251\n",
      "#### LGBMRegressor ####\n",
      "5 교차 검증의 평균 RMSE : 4.646\n"
     ]
    }
   ],
   "source": [
    "from sklearn.tree import DecisionTreeRegressor\n",
    "from sklearn.ensemble import GradientBoostingRegressor\n",
    "from xgboost import XGBRegressor\n",
    "from lightgbm import LGBMRegressor\n",
    "\n",
    "df_reg = DecisionTreeRegressor(random_state = 0, max_depth=4) \n",
    "rf_reg = RandomForestRegressor(random_state = 0, n_estimators=1000)  #n_estimators 결정 트리의 개수\n",
    "gb_reg = GradientBoostingRegressor(random_state=0, n_estimators=1000)\n",
    "xgb_reg = XGBRegressor(n_estimators=1000)\n",
    "lgb_reg = LGBMRegressor(n_estimators=1000)\n",
    "\n",
    "#트리 기반의 회귀 모델을 반복하면서 평가 수행\n",
    "\n",
    "models = [df_reg, rf_reg, gb_reg, xgb_reg, lgb_reg]\n",
    "\n",
    "for model in models:\n",
    "    get_model_cv_prediction(model, X_data, y_target)\n"
   ]
  },
  {
   "cell_type": "code",
   "execution_count": null,
   "id": "90f59e0d",
   "metadata": {
    "id": "90f59e0d",
    "outputId": "3c0b73e5-71af-47e7-d1c8-871e8a5e4d14"
   },
   "outputs": [
    {
     "data": {
      "text/plain": [
       "<AxesSubplot:>"
      ]
     },
     "execution_count": 19,
     "metadata": {},
     "output_type": "execute_result"
    },
    {
     "data": {
      "image/png": "[encoded data removed]",
      "text/plain": [
       "<Figure size 432x288 with 1 Axes>"
      ]
     },
     "metadata": {
      "needs_background": "light"
     },
     "output_type": "display_data"
    }
   ],
   "source": [
    "#Regressor 클래스에서는 feature_importances_로 피처별 중요도 파악 \n",
    "\n",
    "import seaborn as sns\n",
    "%matplotlib inline\n",
    "\n",
    "#랜덤 포레스트가 RMSE 값이 가장 좋아서 \n",
    "rf_reg = RandomForestRegressor(n_estimators=1000)\n",
    "\n",
    "#앞에서 만들어진 X_data, y_target 데이터 세트를 적용해 학습\n",
    "\n",
    "rf_reg.fit(X_data, y_target)\n",
    "\n",
    "feature_series = pd.Series(data=rf_reg.feature_importances_, index=X_data.columns)\n",
    "feature_series = feature_series.sort_values(ascending=False)\n",
    "sns.barplot(x=feature_series, y=feature_series.index)"
   ]
  },
  {
   "cell_type": "markdown",
   "id": "3bae8037",
   "metadata": {
    "id": "3bae8037"
   },
   "source": [
    "#### 회귀 트리 Regressor가 어떻게 예측값을 판단하는지 선형 회귀와 비교해 시각화"
   ]
  },
  {
   "cell_type": "code",
   "execution_count": null,
   "id": "1b8683af",
   "metadata": {
    "id": "1b8683af",
    "outputId": "42632351-6d7d-4055-f71e-16e1e5d0ea3a"
   },
   "outputs": [
    {
     "name": "stdout",
     "output_type": "stream",
     "text": [
      "(100, 2)\n"
     ]
    },
    {
     "data": {
      "text/plain": [
       "<matplotlib.collections.PathCollection at 0x17099090e80>"
      ]
     },
     "execution_count": 20,
     "metadata": {},
     "output_type": "execute_result"
    },
    {
     "data": {
      "image/png": "[encoded data removed]",
      "text/plain": [
       "<Figure size 432x288 with 1 Axes>"
      ]
     },
     "metadata": {
      "needs_background": "light"
     },
     "output_type": "display_data"
    }
   ],
   "source": [
    "#보스턴 데이터 세트의 개수를 100개만 샘플링하고 RM, PRICE 칼럼만 추출\n",
    "#독립변수 rm, 종속변수price를 가지고 직관적으로 예측값 시각화 -> 산점도 형태로\n",
    "\n",
    "bostonDF_sample = bostonDF[['RM', 'PRICE']]\n",
    "bostonDF_sample = bostonDF_sample.sample(n=100, random_state=0)\n",
    "print(bostonDF_sample.shape)\n",
    "\n",
    "plt.figure()\n",
    "plt.scatter(bostonDF_sample.RM, bostonDF_sample.PRICE, c='darkorange')\n"
   ]
  },
  {
   "cell_type": "code",
   "execution_count": null,
   "id": "b79d3d53",
   "metadata": {
    "id": "b79d3d53"
   },
   "outputs": [],
   "source": [
    "# 선형회귀와 결정트리를 max_depth를 2,7로 해서 학습\n",
    "# 학습후, RM 값을 4.5~8.5까지의 100개의 테스트 데이터 세트로 제공했을 때 예측값 구하기\n",
    "import numpy as np\n",
    "from sklearn.linear_model import LinearRegression\n",
    "from sklearn.tree import DecisionTreeRegressor\n",
    "\n",
    "lr_reg = LinearRegression()\n",
    "rf_reg2 = DecisionTreeRegressor(max_depth=2)\n",
    "rf_reg7 = DecisionTreeRegressor(max_depth=7)\n",
    "\n",
    "#실제 예측을 적용할 테스트용 데이터 세트를 4.5~8.5까지의 100개 데이터 세트로 생성\n",
    "X_test = np.arange(4.5, 8.5, 0.4).reshape(-1, 1)\n",
    "\n",
    "#보스턴 주택 가격 데이터에서 시각화를 위한 피처는 RM만, 결정 데이터 PRICE 추출\n",
    "X_feature = bostonDF_sample['RM'].values.reshape(-1,1)\n",
    "y_target = bostonDF_sample['PRICE'].values.reshape(-1,1)\n",
    "\n",
    "#학습과 예측 수행\n",
    "lr_reg.fit(X_feature, y_target)\n",
    "rf_reg2.fit(X_feature, y_target)\n",
    "rf_reg7.fit(X_feature, y_target)\n",
    "\n",
    "pred_lr = lr_reg.predict(X_test)\n",
    "pred_rf2 = rf_reg2.predict(X_test)\n",
    "pred_rf7 = rf_reg7.predict(X_test)"
   ]
  },
  {
   "cell_type": "code",
   "execution_count": null,
   "id": "02a0796b",
   "metadata": {
    "id": "02a0796b",
    "outputId": "c811422c-7d64-423c-e624-316edb24dae1"
   },
   "outputs": [
    {
     "data": {
      "text/plain": [
       "[<matplotlib.lines.Line2D at 0x170a36a7910>]"
      ]
     },
     "execution_count": 34,
     "metadata": {},
     "output_type": "execute_result"
    },
    {
     "data": {
      "image/png": "[encoded data removed]",
      "text/plain": [
       "<Figure size 1008x288 with 3 Axes>"
      ]
     },
     "metadata": {
      "needs_background": "light"
     },
     "output_type": "display_data"
    }
   ],
   "source": [
    "fig, (ax1, ax2, ax3) = plt.subplots(figsize=(14,4), ncols=3)\n",
    "\n",
    "#X 축 값을 4.5~8.5로 변환하며, 입력했을 때 선형회귀와 결정 트리 회귀 예측선 시각화\n",
    "\n",
    "#선형 회귀로 학습된 모델 회귀 예측선 -> 직선으로 예측 회귀선 표현 \n",
    "ax1.set_title('Linear Regression')\n",
    "ax1.scatter(bostonDF_sample.RM,bostonDF_sample.PRICE, c='darkorange')\n",
    "ax1.plot(X_test, pred_lr, label='linear', linewidth=2)\n",
    "\n",
    "#회귀 트리의 경우 분할되는 데이터 지점에 따라 브랜치를 만들면서 계단 형태로 회귀선을 만듦\n",
    "#DecisionTreeRegressor의 max_depth 2로 했을때 회귀 예측선 \n",
    "ax2.set_title('DecisionTree Regression: \\n max_depth=2')\n",
    "ax2.scatter(bostonDF_sample.RM,bostonDF_sample.PRICE, c='darkorange')\n",
    "ax2.plot(X_test, pred_rf2, label='max_depth: 2', linewidth=2)\n",
    "\n",
    "#DecisionTreeRegressor의 max_depth 7로 했을때 회귀 예측선 -> 이상치 데이터도 학습하며, 복잡한 계단 형태의 회귀선, 과적합이 되기 쉬운 모델 \n",
    "ax3.set_title('DecisionTree Regression: \\n max_depth=7')\n",
    "ax3.scatter(bostonDF_sample.RM,bostonDF_sample.PRICE, c='darkorange')\n",
    "ax3.plot(X_test, pred_rf7, label='max_depth: 7', linewidth=2)"
   ]
  },
  {
   "cell_type": "markdown",
   "id": "4dc9a589",
   "metadata": {
    "id": "4dc9a589"
   },
   "source": [
    "## Regression 실습 - Bike Sharing Demand"
   ]
  },
  {
   "cell_type": "markdown",
   "id": "3d49eeae",
   "metadata": {
    "id": "3d49eeae"
   },
   "source": [
    "cf) https://www.kaggle.com/datasets/lakshmi25npathi/bike-sharing-dataset"
   ]
  },
  {
   "cell_type": "code",
   "execution_count": null,
   "id": "b0c5faf5",
   "metadata": {
    "id": "b0c5faf5",
    "outputId": "40989fef-3b2a-4421-84bc-f94f2fff1544"
   },
   "outputs": [
    {
     "name": "stdout",
     "output_type": "stream",
     "text": [
      "(10886, 12)\n"
     ]
    },
    {
     "data": {
      "text/html": [
       "<div>\n",
       "<style scoped>\n",
       "    .dataframe tbody tr th:only-of-type {\n",
       "        vertical-align: middle;\n",
       "    }\n",
       "\n",
       "    .dataframe tbody tr th {\n",
       "        vertical-align: top;\n",
       "    }\n",
       "\n",
       "    .dataframe thead th {\n",
       "        text-align: right;\n",
       "    }\n",
       "</style>\n",
       "<table border=\"1\" class=\"dataframe\">\n",
       "  <thead>\n",
       "    <tr style=\"text-align: right;\">\n",
       "      <th></th>\n",
       "      <th>datetime</th>\n",
       "      <th>season</th>\n",
       "      <th>holiday</th>\n",
       "      <th>workingday</th>\n",
       "      <th>weather</th>\n",
       "      <th>temp</th>\n",
       "      <th>atemp</th>\n",
       "      <th>humidity</th>\n",
       "      <th>windspeed</th>\n",
       "      <th>casual</th>\n",
       "      <th>registered</th>\n",
       "      <th>count</th>\n",
       "    </tr>\n",
       "  </thead>\n",
       "  <tbody>\n",
       "    <tr>\n",
       "      <th>0</th>\n",
       "      <td>2011-01-01 00:00:00</td>\n",
       "      <td>1</td>\n",
       "      <td>0</td>\n",
       "      <td>0</td>\n",
       "      <td>1</td>\n",
       "      <td>9.8</td>\n",
       "      <td>14.4</td>\n",
       "      <td>81</td>\n",
       "      <td>0.0</td>\n",
       "      <td>3</td>\n",
       "      <td>13</td>\n",
       "      <td>16</td>\n",
       "    </tr>\n",
       "    <tr>\n",
       "      <th>1</th>\n",
       "      <td>2011-01-01 01:00:00</td>\n",
       "      <td>1</td>\n",
       "      <td>0</td>\n",
       "      <td>0</td>\n",
       "      <td>1</td>\n",
       "      <td>9.0</td>\n",
       "      <td>13.6</td>\n",
       "      <td>80</td>\n",
       "      <td>0.0</td>\n",
       "      <td>8</td>\n",
       "      <td>32</td>\n",
       "      <td>40</td>\n",
       "    </tr>\n",
       "    <tr>\n",
       "      <th>2</th>\n",
       "      <td>2011-01-01 02:00:00</td>\n",
       "      <td>1</td>\n",
       "      <td>0</td>\n",
       "      <td>0</td>\n",
       "      <td>1</td>\n",
       "      <td>9.0</td>\n",
       "      <td>13.6</td>\n",
       "      <td>80</td>\n",
       "      <td>0.0</td>\n",
       "      <td>5</td>\n",
       "      <td>27</td>\n",
       "      <td>32</td>\n",
       "    </tr>\n",
       "    <tr>\n",
       "      <th>3</th>\n",
       "      <td>2011-01-01 03:00:00</td>\n",
       "      <td>1</td>\n",
       "      <td>0</td>\n",
       "      <td>0</td>\n",
       "      <td>1</td>\n",
       "      <td>9.8</td>\n",
       "      <td>14.4</td>\n",
       "      <td>75</td>\n",
       "      <td>0.0</td>\n",
       "      <td>3</td>\n",
       "      <td>10</td>\n",
       "      <td>13</td>\n",
       "    </tr>\n",
       "    <tr>\n",
       "      <th>4</th>\n",
       "      <td>2011-01-01 04:00:00</td>\n",
       "      <td>1</td>\n",
       "      <td>0</td>\n",
       "      <td>0</td>\n",
       "      <td>1</td>\n",
       "      <td>9.8</td>\n",
       "      <td>14.4</td>\n",
       "      <td>75</td>\n",
       "      <td>0.0</td>\n",
       "      <td>0</td>\n",
       "      <td>1</td>\n",
       "      <td>1</td>\n",
       "    </tr>\n",
       "  </tbody>\n",
       "</table>\n",
       "</div>"
      ],
      "text/plain": [
       "              datetime  season  holiday  workingday  weather  temp  atemp  \\\n",
       "0  2011-01-01 00:00:00       1        0           0        1   9.8   14.4   \n",
       "1  2011-01-01 01:00:00       1        0           0        1   9.0   13.6   \n",
       "2  2011-01-01 02:00:00       1        0           0        1   9.0   13.6   \n",
       "3  2011-01-01 03:00:00       1        0           0        1   9.8   14.4   \n",
       "4  2011-01-01 04:00:00       1        0           0        1   9.8   14.4   \n",
       "\n",
       "   humidity  windspeed  casual  registered  count  \n",
       "0        81        0.0       3          13     16  \n",
       "1        80        0.0       8          32     40  \n",
       "2        80        0.0       5          27     32  \n",
       "3        75        0.0       3          10     13  \n",
       "4        75        0.0       0           1      1  "
      ]
     },
     "execution_count": 35,
     "metadata": {},
     "output_type": "execute_result"
    }
   ],
   "source": [
    "import numpy as np\n",
    "import pandas as pd\n",
    "import seaborn as sns\n",
    "import matplotlib.pyplot as plt\n",
    "\n",
    "bike_df = pd.read_csv('bike_train.csv')\n",
    "print(bike_df.shape)\n",
    "bike_df.head()"
   ]
  },
  {
   "cell_type": "code",
   "execution_count": null,
   "id": "3b794585",
   "metadata": {
    "id": "3b794585",
    "outputId": "d695704b-47ae-4b6d-e6f7-3ba3aedb66c2"
   },
   "outputs": [
    {
     "name": "stdout",
     "output_type": "stream",
     "text": [
      "<class 'pandas.core.frame.DataFrame'>\n",
      "RangeIndex: 10886 entries, 0 to 10885\n",
      "Data columns (total 12 columns):\n",
      " #   Column      Non-Null Count  Dtype  \n",
      "---  ------      --------------  -----  \n",
      " 0   datetime    10886 non-null  object \n",
      " 1   season      10886 non-null  int64  \n",
      " 2   holiday     10886 non-null  int64  \n",
      " 3   workingday  10886 non-null  int64  \n",
      " 4   weather     10886 non-null  int64  \n",
      " 5   temp        10886 non-null  float64\n",
      " 6   atemp       10886 non-null  float64\n",
      " 7   humidity    10886 non-null  int64  \n",
      " 8   windspeed   10886 non-null  float64\n",
      " 9   casual      10886 non-null  int64  \n",
      " 10  registered  10886 non-null  int64  \n",
      " 11  count       10886 non-null  int64  \n",
      "dtypes: float64(3), int64(8), object(1)\n",
      "memory usage: 1020.7+ KB\n"
     ]
    }
   ],
   "source": [
    "bike_df.info()"
   ]
  },
  {
   "cell_type": "code",
   "execution_count": null,
   "id": "527ac89f",
   "metadata": {
    "id": "527ac89f",
    "outputId": "56e7f051-3624-4a58-8996-ccf4ab593cd7"
   },
   "outputs": [
    {
     "data": {
      "text/html": [
       "<div>\n",
       "<style scoped>\n",
       "    .dataframe tbody tr th:only-of-type {\n",
       "        vertical-align: middle;\n",
       "    }\n",
       "\n",
       "    .dataframe tbody tr th {\n",
       "        vertical-align: top;\n",
       "    }\n",
       "\n",
       "    .dataframe thead th {\n",
       "        text-align: right;\n",
       "    }\n",
       "</style>\n",
       "<table border=\"1\" class=\"dataframe\">\n",
       "  <thead>\n",
       "    <tr style=\"text-align: right;\">\n",
       "      <th></th>\n",
       "      <th>datetime</th>\n",
       "      <th>season</th>\n",
       "      <th>holiday</th>\n",
       "      <th>workingday</th>\n",
       "      <th>weather</th>\n",
       "      <th>temp</th>\n",
       "      <th>atemp</th>\n",
       "      <th>humidity</th>\n",
       "      <th>windspeed</th>\n",
       "      <th>casual</th>\n",
       "      <th>registered</th>\n",
       "      <th>count</th>\n",
       "      <th>year</th>\n",
       "      <th>month</th>\n",
       "      <th>day</th>\n",
       "      <th>hour</th>\n",
       "    </tr>\n",
       "  </thead>\n",
       "  <tbody>\n",
       "    <tr>\n",
       "      <th>0</th>\n",
       "      <td>2011-01-01 00:00:00</td>\n",
       "      <td>1</td>\n",
       "      <td>0</td>\n",
       "      <td>0</td>\n",
       "      <td>1</td>\n",
       "      <td>9.8</td>\n",
       "      <td>14.4</td>\n",
       "      <td>81</td>\n",
       "      <td>0.0</td>\n",
       "      <td>3</td>\n",
       "      <td>13</td>\n",
       "      <td>16</td>\n",
       "      <td>2011</td>\n",
       "      <td>1</td>\n",
       "      <td>1</td>\n",
       "      <td>0</td>\n",
       "    </tr>\n",
       "    <tr>\n",
       "      <th>1</th>\n",
       "      <td>2011-01-01 01:00:00</td>\n",
       "      <td>1</td>\n",
       "      <td>0</td>\n",
       "      <td>0</td>\n",
       "      <td>1</td>\n",
       "      <td>9.0</td>\n",
       "      <td>13.6</td>\n",
       "      <td>80</td>\n",
       "      <td>0.0</td>\n",
       "      <td>8</td>\n",
       "      <td>32</td>\n",
       "      <td>40</td>\n",
       "      <td>2011</td>\n",
       "      <td>1</td>\n",
       "      <td>1</td>\n",
       "      <td>1</td>\n",
       "    </tr>\n",
       "    <tr>\n",
       "      <th>2</th>\n",
       "      <td>2011-01-01 02:00:00</td>\n",
       "      <td>1</td>\n",
       "      <td>0</td>\n",
       "      <td>0</td>\n",
       "      <td>1</td>\n",
       "      <td>9.0</td>\n",
       "      <td>13.6</td>\n",
       "      <td>80</td>\n",
       "      <td>0.0</td>\n",
       "      <td>5</td>\n",
       "      <td>27</td>\n",
       "      <td>32</td>\n",
       "      <td>2011</td>\n",
       "      <td>1</td>\n",
       "      <td>1</td>\n",
       "      <td>2</td>\n",
       "    </tr>\n",
       "    <tr>\n",
       "      <th>3</th>\n",
       "      <td>2011-01-01 03:00:00</td>\n",
       "      <td>1</td>\n",
       "      <td>0</td>\n",
       "      <td>0</td>\n",
       "      <td>1</td>\n",
       "      <td>9.8</td>\n",
       "      <td>14.4</td>\n",
       "      <td>75</td>\n",
       "      <td>0.0</td>\n",
       "      <td>3</td>\n",
       "      <td>10</td>\n",
       "      <td>13</td>\n",
       "      <td>2011</td>\n",
       "      <td>1</td>\n",
       "      <td>1</td>\n",
       "      <td>3</td>\n",
       "    </tr>\n",
       "    <tr>\n",
       "      <th>4</th>\n",
       "      <td>2011-01-01 04:00:00</td>\n",
       "      <td>1</td>\n",
       "      <td>0</td>\n",
       "      <td>0</td>\n",
       "      <td>1</td>\n",
       "      <td>9.8</td>\n",
       "      <td>14.4</td>\n",
       "      <td>75</td>\n",
       "      <td>0.0</td>\n",
       "      <td>0</td>\n",
       "      <td>1</td>\n",
       "      <td>1</td>\n",
       "      <td>2011</td>\n",
       "      <td>1</td>\n",
       "      <td>1</td>\n",
       "      <td>4</td>\n",
       "    </tr>\n",
       "  </tbody>\n",
       "</table>\n",
       "</div>"
      ],
      "text/plain": [
       "             datetime  season  holiday  workingday  weather  temp  atemp  \\\n",
       "0 2011-01-01 00:00:00       1        0           0        1   9.8   14.4   \n",
       "1 2011-01-01 01:00:00       1        0           0        1   9.0   13.6   \n",
       "2 2011-01-01 02:00:00       1        0           0        1   9.0   13.6   \n",
       "3 2011-01-01 03:00:00       1        0           0        1   9.8   14.4   \n",
       "4 2011-01-01 04:00:00       1        0           0        1   9.8   14.4   \n",
       "\n",
       "   humidity  windspeed  casual  registered  count  year  month  day  hour  \n",
       "0        81        0.0       3          13     16  2011      1    1     0  \n",
       "1        80        0.0       8          32     40  2011      1    1     1  \n",
       "2        80        0.0       5          27     32  2011      1    1     2  \n",
       "3        75        0.0       3          10     13  2011      1    1     3  \n",
       "4        75        0.0       0           1      1  2011      1    1     4  "
      ]
     },
     "execution_count": 37,
     "metadata": {},
     "output_type": "execute_result"
    }
   ],
   "source": [
    "#문자열을 datetime 타입으로 변경\n",
    "\n",
    "bike_df['datetime'] = bike_df.datetime.apply(pd.to_datetime)\n",
    "\n",
    "bike_df['year'] = bike_df.datetime.apply(lambda x: x.year)\n",
    "bike_df['month'] = bike_df.datetime.apply(lambda x: x.month)\n",
    "bike_df['day'] = bike_df.datetime.apply(lambda x: x.day)\n",
    "bike_df['hour'] = bike_df.datetime.apply(lambda x: x.hour)\n",
    "\n",
    "bike_df.head()"
   ]
  },
  {
   "cell_type": "code",
   "execution_count": null,
   "id": "bc4ab3e7",
   "metadata": {
    "id": "bc4ab3e7"
   },
   "outputs": [],
   "source": [
    "drop_columns = ['datetime', 'casual', 'registered']\n",
    "bike_df.drop(drop_columns, axis=1, inplace=True)"
   ]
  },
  {
   "cell_type": "code",
   "execution_count": null,
   "id": "7164d00f",
   "metadata": {
    "id": "7164d00f",
    "outputId": "c0ad4f77-957a-41ed-ce2d-dc0715007d88"
   },
   "outputs": [
    {
     "data": {
      "text/plain": [
       "Index(['season', 'holiday', 'workingday', 'weather', 'temp', 'atemp',\n",
       "       'humidity', 'windspeed', 'count', 'year', 'month', 'day', 'hour'],\n",
       "      dtype='object')"
      ]
     },
     "execution_count": 39,
     "metadata": {},
     "output_type": "execute_result"
    }
   ],
   "source": [
    "bike_df.columns"
   ]
  },
  {
   "cell_type": "markdown",
   "id": "486e5d11",
   "metadata": {
    "id": "486e5d11"
   },
   "source": [
    "#### target 값인 count가 어떻게 분포되어있는지 시각화 "
   ]
  },
  {
   "cell_type": "code",
   "execution_count": null,
   "id": "c294540d",
   "metadata": {
    "id": "c294540d",
    "outputId": "fa4f0460-f819-470f-97fb-267f0058fe7b"
   },
   "outputs": [
    {
     "data": {
      "image/png": "[encoded data removed]",
      "text/plain": [
       "<Figure size 1152x576 with 8 Axes>"
      ]
     },
     "metadata": {
      "needs_background": "light"
     },
     "output_type": "display_data"
    }
   ],
   "source": [
    "fig, axs = plt.subplots(figsize=(16,8), ncols=4, nrows=2)\n",
    "cat_features = ['year','month', 'season', 'weather','day', 'hour','holiday', 'workingday']\n",
    "\n",
    "for i, feature in enumerate(cat_features):\n",
    "    row = int(i/4)\n",
    "    col = i % 4\n",
    "    sns.barplot(x=feature, y='count', data=bike_df, ax=axs[row][col])"
   ]
  },
  {
   "cell_type": "markdown",
   "id": "a02ad905",
   "metadata": {
    "id": "a02ad905"
   },
   "source": [
    "## 로그 변환\n",
    "https://suppppppp.github.io/posts/Why-Series-MDM-1/\n",
    "![nn](log.png)\n",
    "![nn](log2.png)\n",
    "![nn](log3.png)\n",
    "![nn](log4.png)"
   ]
  },
  {
   "cell_type": "code",
   "execution_count": null,
   "id": "4c7b590d",
   "metadata": {
    "id": "4c7b590d"
   },
   "outputs": [],
   "source": [
    "from sklearn.metrics import mean_squared_error, mean_absolute_error\n",
    "\n",
    "#log값 변환시 NaN등의 이슈로 log()가 아닌 log1p()를 이용해 RMSLE 계산\n",
    "\n",
    "def rmsle(y, pred):\n",
    "    log_y = np.log1p(y)\n",
    "    log_pred = np.log1p(pred)\n",
    "    squared_error = (log_y - log_pred) ** 2\n",
    "    rmsle = np.sqrt(np.mean(squared_error))\n",
    "    return rmsle\n",
    "\n",
    "def rmse(y, pred):\n",
    "    return np.sqrt(mean_squared_error(y, pred))\n",
    "\n",
    "def evaluate_regr(y, pred):\n",
    "    rmsle_val = rmsle(y, pred)\n",
    "    rmse_val = rmse(y, pred)\n",
    "    \n",
    "    #MAE는 사이킷런의 mean_absolute_error()로 계산\n",
    "    mae_val = mean_absolute_error(y, pred)\n",
    "    \n",
    "    print(f'rmsle:{round(rmsle_val, 4)}, rmse:{round(rmse_val, 4)}, mae:{round(mae_val, 4)}')\n",
    "    \n",
    "    "
   ]
  },
  {
   "cell_type": "code",
   "execution_count": null,
   "id": "a4c9a6a0",
   "metadata": {
    "id": "a4c9a6a0",
    "outputId": "69b7d70a-9f7e-489f-d0ae-3233ab8f1673"
   },
   "outputs": [
    {
     "name": "stdout",
     "output_type": "stream",
     "text": [
      "rmsle:1.1647, rmse:140.8996, mae:105.9244\n"
     ]
    }
   ],
   "source": [
    "#로그변환, 모델 학습/예측/평가\n",
    "from sklearn.model_selection import train_test_split, GridSearchCV\n",
    "from sklearn.linear_model import LinearRegression, Ridge, Lasso\n",
    "\n",
    "y_target = bike_df['count']\n",
    "X_features = bike_df.drop(['count'], axis = 1, inplace=False)\n",
    "X_train, X_test, y_train, y_test = train_test_split(X_features, y_target, test_size=0.3, random_state=0)\n",
    "\n",
    "lr_reg = LinearRegression()\n",
    "lr_reg.fit(X_train, y_train)\n",
    "pred = lr_reg.predict(X_test)\n",
    "\n",
    "evaluate_regr(y_test, pred)\n",
    "\n",
    "#예측오류가 큰 경우, target 값의 분포가 왜곡된 분포를 이루고 있는지 확인한다."
   ]
  },
  {
   "cell_type": "code",
   "execution_count": null,
   "id": "784ca1c0",
   "metadata": {
    "id": "784ca1c0",
    "outputId": "f531b454-72a9-470d-a161-f22a9d6534a2"
   },
   "outputs": [
    {
     "data": {
      "text/plain": [
       "<AxesSubplot:>"
      ]
     },
     "execution_count": 46,
     "metadata": {},
     "output_type": "execute_result"
    },
    {
     "data": {
      "image/png": "[encoded data removed]",
      "text/plain": [
       "<Figure size 432x288 with 1 Axes>"
      ]
     },
     "metadata": {
      "needs_background": "light"
     },
     "output_type": "display_data"
    }
   ],
   "source": [
    "#target 분포 확인.\n",
    "y_target.hist()\n",
    "\n",
    "#0~200 사이에 왜곡돼 있음."
   ]
  },
  {
   "cell_type": "code",
   "execution_count": null,
   "id": "51e3a6fb",
   "metadata": {
    "id": "51e3a6fb",
    "outputId": "0a8572ea-ed3f-49cb-aac5-1ce006884172"
   },
   "outputs": [
    {
     "data": {
      "text/plain": [
       "<AxesSubplot:>"
      ]
     },
     "execution_count": 47,
     "metadata": {},
     "output_type": "execute_result"
    },
    {
     "data": {
      "image/png": "[encoded data removed]",
      "text/plain": [
       "<Figure size 432x288 with 1 Axes>"
      ]
     },
     "metadata": {
      "needs_background": "light"
     },
     "output_type": "display_data"
    }
   ],
   "source": [
    "#로그를 적용해 정규 분포 형태로 바꿔줌.\n",
    "\n",
    "y_log_transform = np.log1p(y_target)\n",
    "y_log_transform.hist()\n",
    "\n",
    "#왜곡 정도가 많이 향상됨."
   ]
  },
  {
   "cell_type": "markdown",
   "id": "12efc0de",
   "metadata": {
    "id": "12efc0de"
   },
   "source": [
    "#### [과제_1011_4]. 상기 사례에 대하여 로그 변환을 수행 후 모델링 및 평가를 수행하세요.(LinearRegression 적용)"
   ]
  },
  {
   "cell_type": "code",
   "execution_count": null,
   "id": "fe4f1ec4",
   "metadata": {
    "id": "fe4f1ec4",
    "outputId": "0ea17a82-942d-4503-bd74-a0504fb067e0"
   },
   "outputs": [
    {
     "name": "stdout",
     "output_type": "stream",
     "text": [
      "rmsle:1.0168, rmse:162.5943, mae:109.2862\n"
     ]
    }
   ],
   "source": [
    "# 타깃 칼럼인 count값을 log1p로 로그 변환\n",
    "y_target_log = np.log1p(y_target)\n",
    "\n",
    "#로그 변환된 y_target_log를 반영해 학습/테스트 데이터 세트 분할\n",
    "\n",
    "X_train, X_test, y_train, y_test = train_test_split(X_features, y_target_log, test_size=0.3, random_state=0)\n",
    "\n",
    "#이렇게 변경된 target 기반으로 학습하고, 예측한 값은 원래 scale로 원상복구하면됨.\n",
    "lr_reg = LinearRegression()\n",
    "lr_reg.fit(X_train, y_train)\n",
    "pred = lr_reg.predict(X_test)\n",
    "\n",
    "#테스트 데이터 세트의 target 값은 로그 변환 됐으니 다시 expm1을 이용해 원래 스케일로 변환\n",
    "y_test_exp = np.expm1(y_test)\n",
    "\n",
    "#예측값 역시 로그 변환된 타깃 기반으로 학습돼 예측했으니, 다시 스케일 변환\n",
    "pred_exp = np.expm1(pred)\n",
    "\n",
    "evaluate_regr(y_test_exp, pred_exp)\n",
    "\n",
    "\n",
    "#rmsle 오류는 줄었지만, rmse는 오히려 더 늘었음"
   ]
  },
  {
   "cell_type": "code",
   "execution_count": null,
   "id": "81fb5cd6",
   "metadata": {
    "id": "81fb5cd6",
    "outputId": "4a29fe33-ecb1-4c1b-8a2b-0c6b5dbd7098"
   },
   "outputs": [
    {
     "data": {
      "text/plain": [
       "<AxesSubplot:>"
      ]
     },
     "execution_count": 49,
     "metadata": {},
     "output_type": "execute_result"
    },
    {
     "data": {
      "image/png": "[encoded data removed]",
      "text/plain": [
       "<Figure size 432x288 with 1 Axes>"
      ]
     },
     "metadata": {
      "needs_background": "light"
     },
     "output_type": "display_data"
    }
   ],
   "source": [
    "#피처별 중요도 확인\n",
    "\n",
    "coef = pd.Series(lr_reg.coef_, index=X_features.columns)\n",
    "coef_sort = coef.sort_values(ascending=False)\n",
    "sns.barplot(x=coef_sort.values, y= coef_sort.index)\n",
    "\n",
    "#year, hour, month, season, holiday, workingday 피처들의 회귀 계수 영향도가 상대적으로 높음\n",
    "#year, hour, month 등은 숫자 값으로 표현 되었지만 개별 숫자값의 크기가 의미 있는것이 아님 -> 카테고리형 피처"
   ]
  },
  {
   "cell_type": "markdown",
   "id": "7ce05404",
   "metadata": {
    "id": "7ce05404"
   },
   "source": [
    "#### [과제_1011_5]. 상기 사례에 대하여 추가로 카테고리형 변수에 대하여 인코딩 적용 후 모델링 및 평가를 수행하세요."
   ]
  },
  {
   "cell_type": "code",
   "execution_count": null,
   "id": "5a597007",
   "metadata": {
    "id": "5a597007",
    "outputId": "e4796ba9-0c75-444e-c249-60d17afd089e"
   },
   "outputs": [
    {
     "name": "stdout",
     "output_type": "stream",
     "text": [
      "♡♡♡ LinearRegression ♡♡♡\n",
      "rmsle:0.5896, rmse:97.6878, mae:63.3821\n",
      "♡♡♡ Ridge ♡♡♡\n",
      "rmsle:0.5901, rmse:98.5286, mae:63.8934\n",
      "♡♡♡ Lasso ♡♡♡\n",
      "rmsle:0.6348, rmse:113.2188, mae:72.8027\n"
     ]
    }
   ],
   "source": [
    "from sklearn.linear_model import LinearRegression, Ridge, Lasso\n",
    "#원핫인코딩\n",
    "\n",
    "X_features_ohe = pd.get_dummies(X_features, columns=['year', 'month', 'day', 'hour', 'holiday', 'workingday', 'season', 'weather'])\n",
    "\n",
    "#원핫 인코딩이 적용된 피처 데이터 세트 기반으로 학습/예측 데이터 분할\n",
    "X_train, X_test, y_train, y_test = train_test_split(X_features_ohe, y_target_log, test_size=0.3, random_state=0)\n",
    "\n",
    "#모델과 학습/데이터 세트를 입력하면 성능 평가 수치를 반환\n",
    "def get_model_predict(model, X_train, X_test, y_train, y_test, is_expm1=False):\n",
    "    model.fit(X_train, y_train)\n",
    "    pred = model.predict(X_test)\n",
    "    \n",
    "    if is_expm1:\n",
    "        y_test = np.expm1(y_test)\n",
    "        pred = np.expm1(pred)\n",
    "    print('♡♡♡', model.__class__.__name__, '♡♡♡')\n",
    "    evaluate_regr(y_test, pred)\n",
    "    \n",
    "#모델별로 예측 수행 \n",
    "lr_reg = LinearRegression()\n",
    "ridge_reg = Ridge(alpha=10)\n",
    "lasso_reg = Lasso(alpha=0.01)\n",
    "\n",
    "for model in [lr_reg, ridge_reg, lasso_reg]:\n",
    "    get_model_predict(model, X_train, X_test, y_train, y_test, is_expm1=True)\n",
    "    \n",
    "#원핫 인코딩으로 선형 회귀 예측 성능이 좋아짐"
   ]
  },
  {
   "cell_type": "code",
   "execution_count": null,
   "id": "0e592257",
   "metadata": {
    "id": "0e592257",
    "outputId": "9558b842-ad51-473a-8553-e21bf2e34514"
   },
   "outputs": [
    {
     "data": {
      "text/plain": [
       "<AxesSubplot:>"
      ]
     },
     "execution_count": 53,
     "metadata": {},
     "output_type": "execute_result"
    },
    {
     "data": {
      "image/png": "[encoded data removed]",
      "text/plain": [
       "<Figure size 432x288 with 1 Axes>"
      ]
     },
     "metadata": {
      "needs_background": "light"
     },
     "output_type": "display_data"
    }
   ],
   "source": [
    "#원핫 인코딩 적용후 데이터 세트에서 회귀 계수가 높은 피처를 다시 시각화\n",
    "#원핫 인코딩으로 피처가 늘어났으니 회귀 계수 상위 25개 추출\n",
    "coef = pd.Series(lr_reg.coef_, index=X_features_ohe.columns)\n",
    "coef_sort = coef.sort_values(ascending=False)[:20]\n",
    "sns.barplot(x=coef_sort.values, y=coef_sort.index)"
   ]
  },
  {
   "cell_type": "markdown",
   "id": "a18f17b5",
   "metadata": {
    "id": "a18f17b5"
   },
   "source": [
    "#### [과제_1011_5]. 회귀 트리 모델들을 적용하여 모델링 및 평가를 수행하세요."
   ]
  },
  {
   "cell_type": "code",
   "execution_count": null,
   "id": "5ab99a38",
   "metadata": {
    "id": "5ab99a38",
    "outputId": "4ca3fe5d-9e9d-4ffe-c9d9-42daba657208"
   },
   "outputs": [
    {
     "name": "stdout",
     "output_type": "stream",
     "text": [
      "♡♡♡ RandomForestRegressor ♡♡♡\n",
      "rmsle:0.3544, rmse:50.2379, mae:31.1361\n",
      "♡♡♡ GradientBoostingRegressor ♡♡♡\n",
      "rmsle:0.3299, rmse:53.3307, mae:32.7376\n",
      "♡♡♡ XGBRegressor ♡♡♡\n",
      "rmsle:0.3422, rmse:51.7316, mae:31.2512\n",
      "♡♡♡ LGBMRegressor ♡♡♡\n",
      "rmsle:0.3188, rmse:47.2146, mae:29.0288\n"
     ]
    }
   ],
   "source": [
    "from sklearn.ensemble import RandomForestRegressor, GradientBoostingRegressor\n",
    "from xgboost import XGBRegressor\n",
    "from lightgbm import LGBMRegressor\n",
    "\n",
    "#랜덤 포레스트, GBM, XGBoost, LIGHTGBM model 별로 평가 수행\n",
    "rf_reg = RandomForestRegressor(n_estimators=500)\n",
    "gbm_reg = GradientBoostingRegressor(n_estimators=500)\n",
    "xgb_reg = XGBRegressor(n_estimators=500)\n",
    "lgbm_reg = LGBMRegressor(n_estimators=500)\n",
    "\n",
    "for model in [rf_reg,gbm_reg,xgb_reg,lgbm_reg]:\n",
    "    #XGBoost의 경우, DataFrame이 입력될 경우, 버전에 따라 오류 발생 가능, ndarray로 변환\n",
    "    get_model_predict(model, X_train.values, X_test.values, y_train.values, y_test.values, is_expm1=True)"
   ]
  }
 ],
 "metadata": {
  "colab": {
   "provenance": []
  },
  "kernelspec": {
   "display_name": "Python 3 (ipykernel)",
   "language": "python",
   "name": "python3"
  },
  "language_info": {
   "codemirror_mode": {
    "name": "ipython",
    "version": 3
   },
   "file_extension": ".py",
   "mimetype": "text/x-python",
   "name": "python",
   "nbconvert_exporter": "python",
   "pygments_lexer": "ipython3",
   "version": "3.9.7"
  },
  "toc": {
   "base_numbering": 1,
   "nav_menu": {},
   "number_sections": true,
   "sideBar": true,
   "skip_h1_title": false,
   "title_cell": "Table of Contents",
   "title_sidebar": "Contents",
   "toc_cell": false,
   "toc_position": {},
   "toc_section_display": true,
   "toc_window_display": false
  }
 },
 "nbformat": 4,
 "nbformat_minor": 5
}

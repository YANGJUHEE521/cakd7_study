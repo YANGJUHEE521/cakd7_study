{
 "cells": [
  {
   "cell_type": "code",
   "execution_count": 17,
   "id": "421eea3a",
   "metadata": {},
   "outputs": [
    {
     "name": "stdout",
     "output_type": "stream",
     "text": [
      "0.9894904057985534 \n",
      "\n",
      "4 \n",
      "\n",
      "14.596255417247836 \n",
      "\n",
      "4 \n",
      "\n",
      "4 \n",
      "\n",
      "[3, 1, 4] \n",
      "\n",
      "[3, 1, 4, 5, 2]\n"
     ]
    }
   ],
   "source": [
    "#여기는 python random\n",
    "import random\n",
    "print(random.random(), '\\n') #0.0 <= x < 1.0 사이 난수 리턴 \n",
    "print(random.randint(1, 10), '\\n') #1 <= x <= 10 사이의 정수중에서 난수 값 리턴\n",
    "print(random.uniform(10,20), '\\n') #min,max 사이 float 리턴 \n",
    "print(random.randrange(10), '\\n') #지정 범위 int 리턴 \n",
    "print(random.choice([1,2,3,4,5]), '\\n') #리스트 내부에 있는 요소를 랜덤하게 선택\n",
    "li = [1,2,3,4,5]\n",
    "print(random.sample(li,3), '\\n') #리스트 요소를 중복이 안 되게 리턴(리스트, 개수)  \n",
    "random.shuffle(li) #리스트 요소를 다시 섞어서 리턴\n",
    "#셔플은 섞고서 다시 리스트를 print 해야함 \n",
    "print(li)\n"
   ]
  },
  {
   "cell_type": "markdown",
   "id": "7c7402ca",
   "metadata": {},
   "source": [
    "## [numpy random 함수]\n",
    "\n",
    "- np.random.seed : seed를 통한 난수 생성\n",
    "- np.random.randint : 정수 난수 1개 생성\n",
    "- np.random.rand : 0부터 1사이의 균일분포에서 난수 매트릭스 배열 생성\n",
    "- np.random.randn : 가우시안 표준 정규분포에서 난수 매트릭스 배열 생성\n",
    "- np.random.shuffle : 기존의 데이터의 순서 바꾸기\n",
    "- np.random.choice : 기존 데이터에서 sampling\n"
   ]
  },
  {
   "cell_type": "code",
   "execution_count": 18,
   "id": "5e839318",
   "metadata": {},
   "outputs": [
    {
     "name": "stdout",
     "output_type": "stream",
     "text": [
      "[0.55209409 0.98708679 0.1247309  0.71934973 0.60074023 0.17233313]\n"
     ]
    },
    {
     "data": {
      "text/plain": [
       "0.5260558105022827"
      ]
     },
     "execution_count": 18,
     "metadata": {},
     "output_type": "execute_result"
    }
   ],
   "source": [
    "import numpy as np\n",
    "\n",
    "r = np.random.rand(6) #0 ~ 1 사이의 균일 분포\n",
    "print(r)\n",
    "r.mean()"
   ]
  },
  {
   "cell_type": "code",
   "execution_count": 19,
   "id": "7a63252a",
   "metadata": {},
   "outputs": [
    {
     "data": {
      "text/plain": [
       "0.5000291986940951"
      ]
     },
     "execution_count": 19,
     "metadata": {},
     "output_type": "execute_result"
    }
   ],
   "source": [
    "r = np.random.rand(100000000) #0 ~ 1 사이의 균일 분포\n",
    "# print(r)\n",
    "r.mean()"
   ]
  },
  {
   "cell_type": "code",
   "execution_count": 20,
   "id": "9bfc9fd6",
   "metadata": {},
   "outputs": [
    {
     "name": "stdout",
     "output_type": "stream",
     "text": [
      "[ 1.44380159 -0.49385765  0.04826893 ...  0.07194757 -2.05008279\n",
      " -0.19123334] \n",
      "\n"
     ]
    },
    {
     "data": {
      "text/plain": [
       "-0.018111030879437686"
      ]
     },
     "execution_count": 20,
     "metadata": {},
     "output_type": "execute_result"
    }
   ],
   "source": [
    "#표준 정규분포\n",
    "r = np.random.randn(10000)\n",
    "print(r, '\\n')\n",
    "r.mean()"
   ]
  },
  {
   "cell_type": "code",
   "execution_count": 21,
   "id": "247e8c8c",
   "metadata": {},
   "outputs": [
    {
     "data": {
      "text/plain": [
       "array([1.59752231, 1.75653543, 1.10130233, 1.6824003 , 1.73373252,\n",
       "       1.45493435, 1.81519976, 1.86531676, 1.04159133, 1.64359812])"
      ]
     },
     "execution_count": 21,
     "metadata": {},
     "output_type": "execute_result"
    }
   ],
   "source": [
    "np.random.uniform(1.0, 2.0, 10) #마지막 인자는 개수 "
   ]
  },
  {
   "cell_type": "code",
   "execution_count": 23,
   "id": "fbee6c08",
   "metadata": {},
   "outputs": [
    {
     "data": {
      "text/plain": [
       "array([[0.2920603 , 0.54984116, 0.22577071],\n",
       "       [0.67195046, 0.68344776, 0.69005685]])"
      ]
     },
     "execution_count": 23,
     "metadata": {},
     "output_type": "execute_result"
    }
   ],
   "source": [
    "np.random.uniform(0,1,(2,3)) #행렬로도 개수가 뽑아짐 2행 3열"
   ]
  },
  {
   "cell_type": "code",
   "execution_count": 24,
   "id": "5030a21c",
   "metadata": {},
   "outputs": [
    {
     "data": {
      "text/plain": [
       "array([[0.63412398, 0.29127715, 0.1571354 ],\n",
       "       [0.69897904, 0.30491476, 0.67612553]])"
      ]
     },
     "execution_count": 24,
     "metadata": {},
     "output_type": "execute_result"
    }
   ],
   "source": [
    "# 0 ~ 1 사이의 난수 실수값으로 행렬 생성\n",
    "#uniform 함수의 최소값, 최대값을 0,1로 지정한 것과 같음 \n",
    "np.random.random_sample((2,3)) "
   ]
  },
  {
   "cell_type": "code",
   "execution_count": 29,
   "id": "901432ee",
   "metadata": {},
   "outputs": [],
   "source": [
    "import pandas as pd\n",
    "ar = np.random.rand(4, 8)\n"
   ]
  },
  {
   "cell_type": "code",
   "execution_count": 46,
   "id": "e04589b9",
   "metadata": {},
   "outputs": [
    {
     "data": {
      "text/html": [
       "<div>\n",
       "<style scoped>\n",
       "    .dataframe tbody tr th:only-of-type {\n",
       "        vertical-align: middle;\n",
       "    }\n",
       "\n",
       "    .dataframe tbody tr th {\n",
       "        vertical-align: top;\n",
       "    }\n",
       "\n",
       "    .dataframe thead th {\n",
       "        text-align: right;\n",
       "    }\n",
       "</style>\n",
       "<table border=\"1\" class=\"dataframe\">\n",
       "  <thead>\n",
       "    <tr style=\"text-align: right;\">\n",
       "      <th></th>\n",
       "      <th>id</th>\n",
       "      <th>gender</th>\n",
       "      <th>age</th>\n",
       "      <th>region</th>\n",
       "      <th>product</th>\n",
       "      <th>price</th>\n",
       "      <th>qty</th>\n",
       "      <th>time</th>\n",
       "    </tr>\n",
       "  </thead>\n",
       "  <tbody>\n",
       "    <tr>\n",
       "      <th>0</th>\n",
       "      <td>0.431945</td>\n",
       "      <td>0.670850</td>\n",
       "      <td>0.889789</td>\n",
       "      <td>0.117539</td>\n",
       "      <td>0.605015</td>\n",
       "      <td>0.838399</td>\n",
       "      <td>0.550251</td>\n",
       "      <td>0.937367</td>\n",
       "    </tr>\n",
       "    <tr>\n",
       "      <th>1</th>\n",
       "      <td>0.522717</td>\n",
       "      <td>0.622931</td>\n",
       "      <td>0.344109</td>\n",
       "      <td>0.965066</td>\n",
       "      <td>0.252710</td>\n",
       "      <td>0.839775</td>\n",
       "      <td>0.057007</td>\n",
       "      <td>0.587330</td>\n",
       "    </tr>\n",
       "    <tr>\n",
       "      <th>2</th>\n",
       "      <td>0.195555</td>\n",
       "      <td>0.449390</td>\n",
       "      <td>0.436428</td>\n",
       "      <td>0.552256</td>\n",
       "      <td>0.383349</td>\n",
       "      <td>0.240885</td>\n",
       "      <td>0.629863</td>\n",
       "      <td>0.705455</td>\n",
       "    </tr>\n",
       "    <tr>\n",
       "      <th>3</th>\n",
       "      <td>0.192690</td>\n",
       "      <td>0.676939</td>\n",
       "      <td>0.691971</td>\n",
       "      <td>0.507255</td>\n",
       "      <td>0.216879</td>\n",
       "      <td>0.914737</td>\n",
       "      <td>0.892021</td>\n",
       "      <td>0.395973</td>\n",
       "    </tr>\n",
       "  </tbody>\n",
       "</table>\n",
       "</div>"
      ],
      "text/plain": [
       "         id    gender       age    region   product     price       qty  \\\n",
       "0  0.431945  0.670850  0.889789  0.117539  0.605015  0.838399  0.550251   \n",
       "1  0.522717  0.622931  0.344109  0.965066  0.252710  0.839775  0.057007   \n",
       "2  0.195555  0.449390  0.436428  0.552256  0.383349  0.240885  0.629863   \n",
       "3  0.192690  0.676939  0.691971  0.507255  0.216879  0.914737  0.892021   \n",
       "\n",
       "       time  \n",
       "0  0.937367  \n",
       "1  0.587330  \n",
       "2  0.705455  \n",
       "3  0.395973  "
      ]
     },
     "execution_count": 46,
     "metadata": {},
     "output_type": "execute_result"
    }
   ],
   "source": [
    "#배열을 df로 변환 \n",
    "df = pd.DataFrame(ar, columns = ['id','gender','age','region','product','price','qty','time'])   \n",
    "df"
   ]
  },
  {
   "cell_type": "code",
   "execution_count": 66,
   "id": "307d2f83",
   "metadata": {},
   "outputs": [
    {
     "data": {
      "text/html": [
       "<div>\n",
       "<style scoped>\n",
       "    .dataframe tbody tr th:only-of-type {\n",
       "        vertical-align: middle;\n",
       "    }\n",
       "\n",
       "    .dataframe tbody tr th {\n",
       "        vertical-align: top;\n",
       "    }\n",
       "\n",
       "    .dataframe thead th {\n",
       "        text-align: right;\n",
       "    }\n",
       "</style>\n",
       "<table border=\"1\" class=\"dataframe\">\n",
       "  <thead>\n",
       "    <tr style=\"text-align: right;\">\n",
       "      <th></th>\n",
       "      <th>id</th>\n",
       "      <th>gender</th>\n",
       "      <th>age</th>\n",
       "    </tr>\n",
       "  </thead>\n",
       "  <tbody>\n",
       "    <tr>\n",
       "      <th>0</th>\n",
       "      <td>77</td>\n",
       "      <td>male</td>\n",
       "      <td>88</td>\n",
       "    </tr>\n",
       "    <tr>\n",
       "      <th>1</th>\n",
       "      <td>19</td>\n",
       "      <td>male</td>\n",
       "      <td>88</td>\n",
       "    </tr>\n",
       "    <tr>\n",
       "      <th>2</th>\n",
       "      <td>93</td>\n",
       "      <td>female</td>\n",
       "      <td>12</td>\n",
       "    </tr>\n",
       "    <tr>\n",
       "      <th>3</th>\n",
       "      <td>31</td>\n",
       "      <td>male</td>\n",
       "      <td>58</td>\n",
       "    </tr>\n",
       "  </tbody>\n",
       "</table>\n",
       "</div>"
      ],
      "text/plain": [
       "   id  gender  age\n",
       "0  77    male   88\n",
       "1  19    male   88\n",
       "2  93  female   12\n",
       "3  31    male   58"
      ]
     },
     "execution_count": 66,
     "metadata": {},
     "output_type": "execute_result"
    }
   ],
   "source": [
    "#id, gender, age 컬럼에 대하여 의미있는 값으로 변환하여 3개의 컬럼으로 구성된 df3를 출력하세요. \n",
    "df.id = np.random.randint(10,99,4)\n",
    "df.gender = np.random.choice(['male','female'],4)\n",
    "df.age = np.random.randint(0,100,4)\n",
    "df[['id','gender','age']]"
   ]
  },
  {
   "cell_type": "code",
   "execution_count": 68,
   "id": "74ced80f",
   "metadata": {},
   "outputs": [],
   "source": [
    "#배열에서 정렬한 후 50%에 해당하는 원소만 출력\n",
    "large_ar = np.random.randn(1000)\n",
    "large_ar.sort() #ndarray.sort()는 원본 반영 됨 "
   ]
  },
  {
   "cell_type": "code",
   "execution_count": 69,
   "id": "4bef8cf9",
   "metadata": {},
   "outputs": [
    {
     "data": {
      "text/plain": [
       "0.018556526753355288"
      ]
     },
     "execution_count": 69,
     "metadata": {},
     "output_type": "execute_result"
    }
   ],
   "source": [
    "large_ar[int(0.5 * len(large_ar))]"
   ]
  },
  {
   "cell_type": "code",
   "execution_count": 70,
   "id": "69589df6",
   "metadata": {},
   "outputs": [
    {
     "data": {
      "text/plain": [
       "array(['Bob', 'Joe', 'Will'], dtype='<U4')"
      ]
     },
     "execution_count": 70,
     "metadata": {},
     "output_type": "execute_result"
    }
   ],
   "source": [
    "#배열 집합 연산\n",
    "names = np.array(['Bob', 'Joe', 'Will','Joe', 'Joe'])\n",
    "np.unique(names)"
   ]
  },
  {
   "cell_type": "code",
   "execution_count": 72,
   "id": "4862cff1",
   "metadata": {},
   "outputs": [
    {
     "data": {
      "text/plain": [
       "['Bob', 'Joe', 'Will']"
      ]
     },
     "execution_count": 72,
     "metadata": {},
     "output_type": "execute_result"
    }
   ],
   "source": [
    "names = np.array(['Bob', 'Joe', 'Will','Joe', 'Joe'])\n",
    "sorted(set(names)) #set으로 중복 없애준거지 집합으로"
   ]
  },
  {
   "cell_type": "code",
   "execution_count": 73,
   "id": "8c210a39",
   "metadata": {},
   "outputs": [
    {
     "data": {
      "text/plain": [
       "array([ True, False, False,  True,  True, False,  True])"
      ]
     },
     "execution_count": 73,
     "metadata": {},
     "output_type": "execute_result"
    }
   ],
   "source": [
    "#첫번째 배열의 원소가 두번째 배열의 원소를 포함하는지 알려주는 불리언 배열을 반환\n",
    "values = np.array([6, 0, 0, 3, 2, 5, 6])\n",
    "np.in1d(values, [2, 3, 6])"
   ]
  },
  {
   "cell_type": "code",
   "execution_count": 74,
   "id": "5f77460b",
   "metadata": {},
   "outputs": [],
   "source": [
    "#배열 데이터의 입출력\n",
    "ar = np.arange(10)\n",
    "np.save('some_ar', ar)  #(이름, 데이터)"
   ]
  },
  {
   "cell_type": "code",
   "execution_count": 75,
   "id": "b2948839",
   "metadata": {},
   "outputs": [
    {
     "data": {
      "text/plain": [
       "array([0, 1, 2, 3, 4, 5, 6, 7, 8, 9])"
      ]
     },
     "execution_count": 75,
     "metadata": {},
     "output_type": "execute_result"
    }
   ],
   "source": [
    "np.load('some_ar.npy')  #불러올 때 "
   ]
  },
  {
   "cell_type": "code",
   "execution_count": 76,
   "id": "0c7da5df",
   "metadata": {},
   "outputs": [],
   "source": [
    "#np.savez : 여러 개의 배열을 압축된 형식으로 저장\n",
    "np.savez('ar_archive.npz', a = ar, b = ar)"
   ]
  },
  {
   "cell_type": "code",
   "execution_count": 77,
   "id": "848417fd",
   "metadata": {},
   "outputs": [
    {
     "data": {
      "text/plain": [
       "array([0, 1, 2, 3, 4, 5, 6, 7, 8, 9])"
      ]
     },
     "execution_count": 77,
     "metadata": {},
     "output_type": "execute_result"
    }
   ],
   "source": [
    "arch = np.load('ar_archive.npz')\n",
    "arch['a'] #a만 불러오고싶을때"
   ]
  },
  {
   "cell_type": "code",
   "execution_count": 78,
   "id": "eb342b71",
   "metadata": {},
   "outputs": [
    {
     "data": {
      "text/plain": [
       "array([0, 1, 2, 3, 4, 5, 6, 7, 8, 9])"
      ]
     },
     "execution_count": 78,
     "metadata": {},
     "output_type": "execute_result"
    }
   ],
   "source": [
    "arch['b']"
   ]
  },
  {
   "cell_type": "code",
   "execution_count": 80,
   "id": "4d76b573",
   "metadata": {},
   "outputs": [
    {
     "name": "stdout",
     "output_type": "stream",
     "text": [
      "[1 2 3 4 5 6 7 8 9] \n",
      "\n"
     ]
    },
    {
     "data": {
      "text/plain": [
       "array([0, 1, 2, 3, 4, 5, 6, 7, 8], dtype=int64)"
      ]
     },
     "execution_count": 80,
     "metadata": {},
     "output_type": "execute_result"
    }
   ],
   "source": [
    "a = np.arange(1, 10)\n",
    "print(a, '\\n')\n",
    "np.argsort(a)"
   ]
  },
  {
   "cell_type": "code",
   "execution_count": 81,
   "id": "aad0c316",
   "metadata": {},
   "outputs": [
    {
     "data": {
      "text/plain": [
       "array([8, 7, 6, 5, 4, 3, 2, 1, 0], dtype=int64)"
      ]
     },
     "execution_count": 81,
     "metadata": {},
     "output_type": "execute_result"
    }
   ],
   "source": [
    "#인덱스 배열을 역순으로 출력\n",
    "np.argsort(a)[::-1]"
   ]
  },
  {
   "cell_type": "code",
   "execution_count": 91,
   "id": "d6ff1a4b",
   "metadata": {},
   "outputs": [
    {
     "name": "stdout",
     "output_type": "stream",
     "text": [
      "[[ 5  0  3  3  7]\n",
      " [ 9  3  5  2  4]\n",
      " [ 7  6  8  8 10]\n",
      " [ 1  6  7  7  8]\n",
      " [ 1  5  9  8  9]] \n",
      "\n",
      "[[-0.14402004  0.06199123 -0.0435191   0.19849718 -0.26768942]\n",
      " [ 0.02629931  0.13650595 -0.13118347 -0.02755166  0.09236068]\n",
      " [ 0.23794615 -0.14589856 -0.21070758 -0.15403882  0.81183469]\n",
      " [ 0.05385097 -0.1014402   0.20757671  0.03882279 -0.33469004]\n",
      " [-0.06700063  0.03318723  0.10801503 -0.02504696  0.03850971]] \n",
      "\n"
     ]
    },
    {
     "data": {
      "text/plain": [
       "array([[ 1.00000000e+00, -1.38777878e-17,  1.11022302e-16,\n",
       "        -1.11022302e-16, -3.05311332e-16],\n",
       "       [ 0.00000000e+00,  1.00000000e+00,  0.00000000e+00,\n",
       "         0.00000000e+00,  0.00000000e+00],\n",
       "       [-1.11022302e-16,  3.60822483e-16,  1.00000000e+00,\n",
       "         2.22044605e-16, -5.55111512e-17],\n",
       "       [ 0.00000000e+00,  1.11022302e-16,  0.00000000e+00,\n",
       "         1.00000000e+00,  2.22044605e-16],\n",
       "       [ 1.66533454e-16,  1.38777878e-17,  3.33066907e-16,\n",
       "         1.11022302e-16,  1.00000000e+00]])"
      ]
     },
     "execution_count": 91,
     "metadata": {},
     "output_type": "execute_result"
    }
   ],
   "source": [
    "#Q. 0~10 정수 (5,5) 행렬의 역행렬을 구한 후 두 행렬간의 행렬곱을 구하세요. \n",
    "np.random.seed(0)\n",
    "mt1 = np.random.randint(11, size = (5, 5))\n",
    "print(mt1, '\\n')\n",
    "mt2 = np.linalg.inv(mt1)\n",
    "print(arr2, '\\n')\n",
    "np.dot(mt1, mt2)"
   ]
  },
  {
   "cell_type": "markdown",
   "id": "fc14c7c8",
   "metadata": {},
   "source": [
    "## 도전 과제(7/6)\n",
    "- np.arange(336).reshape(6,7,8)에서 100번째 요소의 인덱스를 구하세요.\n",
    "- np.arange(4)을 이용해서 아래와 같이 출력하세요."
   ]
  },
  {
   "cell_type": "code",
   "execution_count": null,
   "id": "a59492e7",
   "metadata": {},
   "outputs": [],
   "source": [
    "array([[0, 0, 0, 0, 0],\n",
    "       [1, 0, 0, 0, 0],\n",
    "       [0, 2, 0, 0, 0],\n",
    "       [0, 0, 3, 0, 0],\n",
    "       [0, 0, 0, 4, 0]])"
   ]
  },
  {
   "cell_type": "markdown",
   "id": "e615ad4e",
   "metadata": {},
   "source": [
    "### 과제(7/6): 아래 가이드에 따라서 고객별 연간 구매데이터를 생성하고 아래사항을 수행하세요(관측치 1000개)\n",
    "\n",
    "#### Q1. 고객 속성(id, 성별, 연령, 거주지역) 데이터와 거래 데이터를 통합한 데이터 프레임 df를 생성하세요.\n",
    "\n",
    "거래 번호\n",
    "- id : 1 ~ 1000번 일련번호 - 개시 후 1천 건의 거래가 있었고 걍 거기에 넘버링한 거라고 이해해보자\n",
    "\n",
    "고객별 속성 데이터\n",
    "- cusno : 고객번호 1000개 랜덤\n",
    "- gender : 0,1 정수 난수 생성\n",
    "- age : 0 ~ 80사이 정수 난수 생성\n",
    "- region : 1 ~ 10 사이 정수 난수 생성\n",
    "\n",
    "거래 데이터\n",
    "\n",
    "- product_20 : 고가제품(10), 중가제품(20), 저가제품(30)로 구분제품코드 10,20,30\n",
    "- product_21 : 고가제품(10), 중가제품(20), 저가제품(30)로 구분제품코드 10,20,30\n",
    "- price_20 : 1000 ~ 50000 사이 실수 난수 생성\n",
    "- price_21 : 1000 ~ 50000 사이 실수 난수 생성\n",
    "- quantity_20 : 1 ~ 100 사이 정수 난수 생성\n",
    "- quantity_21 : 1 ~ 100 사이 정수 난수 생성\n",
    "- amount_20 : price_20 * quantity_20\n",
    "- amount_21 : price_21 * quantity_21\n",
    "- sales : 20년 대비 21년구매금액이 증가면 1, 감소면 0\n",
    "\n",
    "#### Q2. df를 수정하여 5가지 이상의 인사이트를 포함한 데이터 셋으로 변환하세요 ( 인사이트 내가 5개 정해서 df 수정하라는것 ) ex. 그룹핑을 해보든가 계산을 해서 새로운 칼럼을 만들든가 등등 .. ..\n",
    "\n",
    "#### Q3. df 를 탐색적 분석을 통하여 인사이트를 도출하세요.(내가 정한 인사이트를 다시 도출)\n",
    "\n",
    "  "
   ]
  },
  {
   "cell_type": "code",
   "execution_count": null,
   "id": "53733a9f",
   "metadata": {},
   "outputs": [],
   "source": []
  }
 ],
 "metadata": {
  "kernelspec": {
   "display_name": "Python 3 (ipykernel)",
   "language": "python",
   "name": "python3"
  },
  "language_info": {
   "codemirror_mode": {
    "name": "ipython",
    "version": 3
   },
   "file_extension": ".py",
   "mimetype": "text/x-python",
   "name": "python",
   "nbconvert_exporter": "python",
   "pygments_lexer": "ipython3",
   "version": "3.9.7"
  }
 },
 "nbformat": 4,
 "nbformat_minor": 5
}

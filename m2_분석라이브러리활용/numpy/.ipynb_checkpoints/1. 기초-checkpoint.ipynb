{
 "cells": [
  {
   "cell_type": "markdown",
   "id": "541ab889",
   "metadata": {},
   "source": [
    "#### NumPy는 “Numerical Python“의 약자로 대규모 다차원 배열과 행렬 연산에 필요한 다양한 함수를 제공\n",
    "* Numerical Python을 의미하는 NumPy는 파이썬에서 선형대수 기반의 프로그램을 쉽게 만들 수 있도록 지원하는 대표적인 패키지\n",
    "* 많은 머신러닝 알고리즘이 넘파이 기반으로 작성돼 있으며 알고리즘의 입출력 데이터를 '넘파이 배열 타입'으로 사용함\n",
    "* 넘파이의 기본 데이터 타입은 ndarray. ndarray를 이용해 넘파이에서 다차원 배열을 쉽게 생성하고 다양한 연산 수행\n",
    "\n",
    "NumPy 특징\n",
    "\n",
    "- 강력한 N 차원 배열 객체\n",
    "- 정교한 브로드케스팅(Broadcast) 기능\n",
    "- C/C ++ 및 포트란 코드 통합 도구\n",
    "- 유용한 선형 대수학, 푸리에 변환 및 난수 기능\n",
    "- 푸리에 변환(Fourier transform, FT)은 시간이나 공간에 대한 함수를 시간 또는 공간 주파수 성분으로 분해하는 변환\n",
    "- 범용적 데이터 처리에 사용 가능한 다차원 컨테이너\n",
    "\n",
    "Numpy Documentation  \n",
    "\n",
    "https://numpy.org/doc/1.21/index.html\n"
   ]
  },
  {
   "cell_type": "code",
   "execution_count": 1,
   "id": "c5dcccbd",
   "metadata": {},
   "outputs": [
    {
     "name": "stdout",
     "output_type": "stream",
     "text": [
      "40 bytes\n"
     ]
    }
   ],
   "source": [
    "import numpy as np\n",
    "z = np.arange(10) #0 ~9까지 배열 \n",
    "print(f'{z.size * z.itemsize} bytes')"
   ]
  },
  {
   "cell_type": "code",
   "execution_count": 2,
   "id": "fe15d817",
   "metadata": {},
   "outputs": [],
   "source": [
    "#Numpy는 내부적으로 데이터를 다른 내장 파이썬 객체와 구분된 연속된 메모리 블록에 저장 \n",
    "my_arr = np.arange(1000000)\n",
    "my_list = list(range(1000000))"
   ]
  },
  {
   "cell_type": "code",
   "execution_count": 3,
   "id": "f29a361b",
   "metadata": {},
   "outputs": [
    {
     "name": "stdout",
     "output_type": "stream",
     "text": [
      "CPU times: total: 15.6 ms\n",
      "Wall time: 14 ms\n"
     ]
    }
   ],
   "source": [
    "# '_'은 값을 무시하고 싶은 경우 사용(여기서는 인덱스 무시)\n",
    "%time for _ in range(10): my_array2 = my_arr * 2 #콜론 써서 한칸에 써도됨%\n"
   ]
  },
  {
   "cell_type": "code",
   "execution_count": 4,
   "id": "21136d32",
   "metadata": {},
   "outputs": [
    {
     "name": "stdout",
     "output_type": "stream",
     "text": [
      "CPU times: total: 719 ms\n",
      "Wall time: 718 ms\n"
     ]
    }
   ],
   "source": [
    "%time for _ in range(10): my_list2 = [x * 2 for x in my_list]\n",
    "#numpy랑 비교해서 시간 차이가 확 느껴짐"
   ]
  },
  {
   "cell_type": "code",
   "execution_count": 5,
   "id": "2a2d4411",
   "metadata": {},
   "outputs": [
    {
     "name": "stdout",
     "output_type": "stream",
     "text": [
      "[[-1.25564697 -0.8306662   0.62574709]\n",
      " [ 1.36449742 -2.81403481 -0.89606231]] \n",
      "\n",
      "[[-12.55646975  -8.30666199   6.25747089]\n",
      " [ 13.64497424 -28.1403481   -8.96062314]] \n",
      "\n",
      "[[-2.51129395 -1.6613324   1.25149418]\n",
      " [ 2.72899485 -5.62806962 -1.79212463]]\n"
     ]
    }
   ],
   "source": [
    "#배열 연산 # n - normal , 정규분포를 이루는 수 들로 2행 3열 \n",
    "data = np.random.randn(2, 3) \n",
    "print(data, '\\n')\n",
    "print(data * 10, '\\n')\n",
    "print(data + data) # 배열간 연산도 가능"
   ]
  },
  {
   "cell_type": "code",
   "execution_count": 6,
   "id": "e9479142",
   "metadata": {},
   "outputs": [
    {
     "name": "stdout",
     "output_type": "stream",
     "text": [
      "(2, 3)\n",
      "float64\n",
      "2\n"
     ]
    }
   ],
   "source": [
    "print(data.shape) #크기\n",
    "print(data.dtype) #자료형\n",
    "print(data.ndim) #차원"
   ]
  },
  {
   "cell_type": "markdown",
   "id": "a2fcad1c",
   "metadata": {},
   "source": [
    "다차원 배열 \n",
    "- 2차원은 행과 열 , matrix \n",
    "- 3차원은 행과 열이 있는데 깊이(depth) 있음 저 사진은 2행 2열이 3개가 있는거지\n",
    "<img src = 'numpy차원.jpg' STYLE = 'width:500px;'>"
   ]
  },
  {
   "cell_type": "code",
   "execution_count": 7,
   "id": "7cedd7ce",
   "metadata": {},
   "outputs": [
    {
     "data": {
      "text/plain": [
       "array([[1, 2, 3, 4],\n",
       "       [5, 6, 7, 8]])"
      ]
     },
     "execution_count": 7,
     "metadata": {},
     "output_type": "execute_result"
    }
   ],
   "source": [
    "#다차원 배열\n",
    "#2차원은 대괄호 안에 리스트\n",
    "data2 = [[1,2,3,4],[5,6,7,8]]\n",
    "arr2 = np.array(data2)\n",
    "arr2"
   ]
  },
  {
   "cell_type": "code",
   "execution_count": 8,
   "id": "a6c93aba",
   "metadata": {},
   "outputs": [
    {
     "name": "stdout",
     "output_type": "stream",
     "text": [
      "2 \n",
      "\n",
      "(2, 4)\n"
     ]
    }
   ],
   "source": [
    "print(arr2.ndim, '\\n')\n",
    "print(arr2.shape) #튜플 형태로 나오네 (행,열)"
   ]
  },
  {
   "cell_type": "code",
   "execution_count": 9,
   "id": "ba188981",
   "metadata": {},
   "outputs": [
    {
     "name": "stdout",
     "output_type": "stream",
     "text": [
      "[1 2 3] <class 'numpy.ndarray'>\n",
      "(3,)\n"
     ]
    }
   ],
   "source": [
    "#1차원 배열로 3개의 데이터\n",
    "arr1 = np.array([1,2,3])\n",
    "print(arr1, type(arr1))\n",
    "print(arr1.shape) #튜플인데 행은 하나고 열은 3개잖아. 근데 표현은 저렇게 해 \n",
    "                  #(원소의 개수,) 로 알자 ! \n"
   ]
  },
  {
   "cell_type": "markdown",
   "id": "1122b5d9",
   "metadata": {},
   "source": [
    "### 배열 생성 및 초기화\n",
    "- numpy는 원하는 shape로 배열을 설정하고, 각 요소를 특정 값으로 초기화하는 zeros, ones, full 함수 제공\n",
    "- 파라미터로 입력한 배열과 같은 shape의 배열을 만드는 zeros_like, ones_like, full_like 함수도 제공\n"
   ]
  },
  {
   "cell_type": "code",
   "execution_count": 10,
   "id": "255adcca",
   "metadata": {},
   "outputs": [
    {
     "name": "stdout",
     "output_type": "stream",
     "text": [
      "[0. 0. 0. 0. 0. 0. 0. 0. 0. 0.] \n",
      "\n",
      "[[0. 0. 0. 0. 0. 0.]\n",
      " [0. 0. 0. 0. 0. 0.]\n",
      " [0. 0. 0. 0. 0. 0.]] \n",
      "\n",
      "[[[0. 0.]\n",
      "  [0. 0.]\n",
      "  [0. 0.]]\n",
      "\n",
      " [[0. 0.]\n",
      "  [0. 0.]\n",
      "  [0. 0.]]]\n"
     ]
    }
   ],
   "source": [
    "print(np.zeros(10),'\\n')\n",
    "print(np.zeros((3,6)),'\\n')\n",
    "print(np.zeros((2,3,2))) #차원, 행, 열"
   ]
  },
  {
   "cell_type": "code",
   "execution_count": 11,
   "id": "39c2166c",
   "metadata": {},
   "outputs": [
    {
     "data": {
      "text/plain": [
       "array([[[1., 1., 1., 1.],\n",
       "        [1., 1., 1., 1.],\n",
       "        [1., 1., 1., 1.]],\n",
       "\n",
       "       [[1., 1., 1., 1.],\n",
       "        [1., 1., 1., 1.],\n",
       "        [1., 1., 1., 1.]]])"
      ]
     },
     "execution_count": 11,
     "metadata": {},
     "output_type": "execute_result"
    }
   ],
   "source": [
    "np.ones((2,3,4)) #차원, 행, 열 "
   ]
  },
  {
   "cell_type": "code",
   "execution_count": 12,
   "id": "c60910bc",
   "metadata": {},
   "outputs": [
    {
     "name": "stdout",
     "output_type": "stream",
     "text": [
      "[[0 0 0 0 0]\n",
      " [0 0 0 0 0]] \n",
      "\n",
      "[[1 1 1 1 1]\n",
      " [1 1 1 1 1]] \n",
      "\n",
      "[[5 5 5 5 5]\n",
      " [5 5 5 5 5]]\n"
     ]
    }
   ],
   "source": [
    "a = np.arange(10).reshape(2, 5)\n",
    "z = np.zeros_like(a) #a는 2행 5열 2차원이잖아, 이 원소를 다 zero로 하는데, a와 같이 shape해라\n",
    "o = np.ones_like(a)\n",
    "f = np.full_like(a, 5) #shape, 수 지정 \n",
    "\n",
    "print(z, '\\n')\n",
    "print(o, '\\n')\n",
    "print(f)"
   ]
  },
  {
   "cell_type": "code",
   "execution_count": 13,
   "id": "efbebb8d",
   "metadata": {},
   "outputs": [
    {
     "name": "stdout",
     "output_type": "stream",
     "text": [
      "[ 0  1  2  3  4  5  6  7  8  9 10 11 12 13 14 15 16 17 18 19 20 21 22 23\n",
      " 24 25 26 27 28 29] \n",
      "\n",
      "[[ 0  1  2  3  4  5]\n",
      " [ 6  7  8  9 10 11]\n",
      " [12 13 14 15 16 17]\n",
      " [18 19 20 21 22 23]\n",
      " [24 25 26 27 28 29]] \n",
      "\n",
      "[[[ 0  1  2  3  4]\n",
      "  [ 5  6  7  8  9]\n",
      "  [10 11 12 13 14]]\n",
      "\n",
      " [[15 16 17 18 19]\n",
      "  [20 21 22 23 24]\n",
      "  [25 26 27 28 29]]]\n"
     ]
    }
   ],
   "source": [
    "#차원 바꾸기 \n",
    "ar = np.arange(30)\n",
    "ar1 = ar\n",
    "ar2 = ar.reshape(5,6)\n",
    "ar3 = ar.reshape(2,3,5)\n",
    "print(ar1, '\\n') #1차원 \n",
    "print(ar2, '\\n') #2차원 \n",
    "print(ar3) #3차원 \n"
   ]
  },
  {
   "cell_type": "code",
   "execution_count": 14,
   "id": "64c8fbed",
   "metadata": {},
   "outputs": [
    {
     "name": "stdout",
     "output_type": "stream",
     "text": [
      "[ 0  1  2  3  4  5  6  7  8  9 10 11 12 13 14 15 16 17 18 19 20 21 22 23\n",
      " 24 25 26 27 28 29] \n",
      "\n",
      "[[ 0  1  2  3  4  5  6  7  8  9 10 11 12 13 14 15 16 17 18 19 20 21 22 23\n",
      "  24 25 26 27 28 29]] \n",
      "\n",
      "[[[ 0  1  2  3  4  5  6  7  8  9]\n",
      "  [10 11 12 13 14 15 16 17 18 19]\n",
      "  [20 21 22 23 24 25 26 27 28 29]]]\n"
     ]
    }
   ],
   "source": [
    "#reshape(-1, -1)이용, 차원 변경 , -1넣으면 알아서 차원 변경, 개수 맞춰줌 \n",
    "print(ar1, '\\n')\n",
    "\n",
    "ar2 = ar1.reshape(-1,30) #2 -> 1차원\n",
    "print(ar2, '\\n')\n",
    "ar3 = ar2.reshape(-1, 3, 10) #3차원 -> 2차원 \n",
    "print(ar3)\n"
   ]
  },
  {
   "cell_type": "markdown",
   "id": "c74fbcb3",
   "metadata": {},
   "source": [
    "### 과제(7/5)\n",
    "- 2차원을 1, 3 차원으로 변경하여 출력하세요. 데이터는 자유로 ㅇㅇ\n",
    "- 3차원을 1, 2 차원으로 변경하여 출력하세요. "
   ]
  },
  {
   "cell_type": "code",
   "execution_count": 15,
   "id": "9dd8d906",
   "metadata": {},
   "outputs": [
    {
     "name": "stdout",
     "output_type": "stream",
     "text": [
      "[[1 3 5 7]\n",
      " [2 4 6 8]] \n",
      "\n",
      "[[[ 1  2  3  4]\n",
      "  [ 5  6  7  8]]\n",
      "\n",
      " [[ 9 10 11 12]\n",
      "  [13 14 15 16]]] (2, 2, 4)\n"
     ]
    }
   ],
   "source": [
    "arr1 = np.array([[1, 3, 5, 7], [2, 4, 6, 8]])\n",
    "arr2 = np.array([[[1, 2, 3, 4], [5, 6, 7, 8]], [[9, 10, 11 ,12], [13, 14, 15, 16]]])\n",
    "print(arr1, '\\n')\n",
    "print(arr2, arr2.shape)"
   ]
  },
  {
   "cell_type": "code",
   "execution_count": 16,
   "id": "53198ba4",
   "metadata": {},
   "outputs": [
    {
     "name": "stdout",
     "output_type": "stream",
     "text": [
      "[1 3 5 7 2 4 6 8] \n",
      "\n",
      "[[[1 3]\n",
      "  [5 7]]\n",
      "\n",
      " [[2 4]\n",
      "  [6 8]]]\n"
     ]
    }
   ],
   "source": [
    "arr1_1 = arr1.reshape(-1)\n",
    "arr1_3 = arr1.reshape(-1, 2, 2)\n",
    "print(arr1_1, '\\n')\n",
    "print(arr1_3)"
   ]
  },
  {
   "cell_type": "code",
   "execution_count": 17,
   "id": "f619a32d",
   "metadata": {},
   "outputs": [
    {
     "name": "stdout",
     "output_type": "stream",
     "text": [
      "[ 1  2  3  4  5  6  7  8  9 10 11 12 13 14 15 16] \n",
      "\n",
      "[[ 1  2  3  4  5  6  7  8]\n",
      " [ 9 10 11 12 13 14 15 16]]\n"
     ]
    }
   ],
   "source": [
    "arr2_1 = arr2.reshape(-1)\n",
    "arr2_2 = arr2.reshape(-1, 8)\n",
    "print(arr2_1, '\\n')\n",
    "print(arr2_2)"
   ]
  },
  {
   "cell_type": "code",
   "execution_count": 18,
   "id": "8c735ed4",
   "metadata": {},
   "outputs": [
    {
     "data": {
      "text/plain": [
       "array([[[5, 5, 5, 5, 5],\n",
       "        [5, 5, 5, 5, 5],\n",
       "        [5, 5, 5, 5, 5]],\n",
       "\n",
       "       [[5, 5, 5, 5, 5],\n",
       "        [5, 5, 5, 5, 5],\n",
       "        [5, 5, 5, 5, 5]]])"
      ]
     },
     "execution_count": 18,
     "metadata": {},
     "output_type": "execute_result"
    }
   ],
   "source": [
    "np.full((2,3,5), 5)"
   ]
  },
  {
   "cell_type": "markdown",
   "id": "b1cf9db7",
   "metadata": {},
   "source": [
    "## 행렬의 종류\n",
    "-> 주소 들어가서 설명 읽고 이해하셈 \n",
    " -> https://math-development-geometry.tistory.com/52 \n",
    "\n",
    "- 정방행렬은 행과 열의 수가 같은 행렬\n",
    "- 대각행렬은 주대각선 원소를 제외한 모든 원소들이 0인 정방행렬\n",
    "- 삼각행렬은 주대각선 원소를 기준으로 위 또는 아래에 있는 성분이 모두 0인 정방행렬\n",
    "- 항등행렬은 행렬 곱셈 연산에 항등원으로 작용하는 행렬(대각 행렬에서 주 대각선 원소가 1인거)\n",
    "- 영행렬은 모든 원소가 0인 행렬로 곱셈 연산에서 영원으로 작용하는 행렬\n",
    "- 전치행렬은 주대각선 원소를 기준으로 행과 열을 바꿔주는 행렬\n",
    "- 직교행렬은 행렬 A의 역행렬이 A의 전치행렬이고 A의 전치행렬과 A 행렬을 곱하였을때 항등행렬이 나오는 행렬\n"
   ]
  },
  {
   "cell_type": "code",
   "execution_count": 19,
   "id": "f25d813f",
   "metadata": {},
   "outputs": [
    {
     "data": {
      "text/plain": [
       "array([[7, 7],\n",
       "       [7, 7]])"
      ]
     },
     "execution_count": 19,
     "metadata": {},
     "output_type": "execute_result"
    }
   ],
   "source": [
    "#정방행렬\n",
    "a = np.full((2,2), 7) # (행,열), 원소 숫자\n",
    "a"
   ]
  },
  {
   "cell_type": "code",
   "execution_count": 20,
   "id": "98b122b3",
   "metadata": {},
   "outputs": [
    {
     "data": {
      "text/plain": [
       "array([[1., 0., 0.],\n",
       "       [0., 1., 0.],\n",
       "       [0., 0., 1.]])"
      ]
     },
     "execution_count": 20,
     "metadata": {},
     "output_type": "execute_result"
    }
   ],
   "source": [
    "# 항등행렬, 단위행렬\n",
    "#3이 의미하는 것은 대각선의 1들을 합한거야 3행 3열 이겠지\n",
    "arr = np.eye(3) \n",
    "arr"
   ]
  },
  {
   "cell_type": "code",
   "execution_count": 21,
   "id": "82504c64",
   "metadata": {},
   "outputs": [
    {
     "data": {
      "text/plain": [
       "array([ 0.        ,  0.20408163,  0.40816327,  0.6122449 ,  0.81632653,\n",
       "        1.02040816,  1.2244898 ,  1.42857143,  1.63265306,  1.83673469,\n",
       "        2.04081633,  2.24489796,  2.44897959,  2.65306122,  2.85714286,\n",
       "        3.06122449,  3.26530612,  3.46938776,  3.67346939,  3.87755102,\n",
       "        4.08163265,  4.28571429,  4.48979592,  4.69387755,  4.89795918,\n",
       "        5.10204082,  5.30612245,  5.51020408,  5.71428571,  5.91836735,\n",
       "        6.12244898,  6.32653061,  6.53061224,  6.73469388,  6.93877551,\n",
       "        7.14285714,  7.34693878,  7.55102041,  7.75510204,  7.95918367,\n",
       "        8.16326531,  8.36734694,  8.57142857,  8.7755102 ,  8.97959184,\n",
       "        9.18367347,  9.3877551 ,  9.59183673,  9.79591837, 10.        ])"
      ]
     },
     "execution_count": 21,
     "metadata": {},
     "output_type": "execute_result"
    }
   ],
   "source": [
    "# 0~10을 균등하게 50개로 나누어줌 - linspace \n",
    "#나중에 x의 범위를 나눌 때 많이 쓰임 \n",
    "np.linspace(0,10) #나눠주는 수 default가 50이네"
   ]
  },
  {
   "cell_type": "code",
   "execution_count": 22,
   "id": "d529c351",
   "metadata": {},
   "outputs": [
    {
     "data": {
      "text/plain": [
       "(array([0.  , 0.25, 0.5 , 0.75, 1.  ]), 0.25)"
      ]
     },
     "execution_count": 22,
     "metadata": {},
     "output_type": "execute_result"
    }
   ],
   "source": [
    "np.linspace(0, 1, 5, retstep =True) #0~1 사이를 5개로 나누어줘\n",
    "#retstep =True , 간격도 보여줌 - 0.25래 "
   ]
  },
  {
   "cell_type": "code",
   "execution_count": 23,
   "id": "4edd518c",
   "metadata": {},
   "outputs": [
    {
     "data": {
      "text/plain": [
       "[<matplotlib.lines.Line2D at 0x1f92ca0e520>]"
      ]
     },
     "execution_count": 23,
     "metadata": {},
     "output_type": "execute_result"
    },
    {
     "data": {
      "image/png": "[encoded data removed]",
      "text/plain": [
       "<Figure size 432x288 with 1 Axes>"
      ]
     },
     "metadata": {
      "needs_background": "light"
     },
     "output_type": "display_data"
    }
   ],
   "source": [
    "#이런식으로 활용 예시 \n",
    "import matplotlib.pyplot as plt\n",
    "x = np.linspace(0, 1)\n",
    "y = np.linspace(0, 50)\n",
    "plt.plot(x, y, 'o') "
   ]
  },
  {
   "cell_type": "code",
   "execution_count": 24,
   "id": "9dd36477",
   "metadata": {},
   "outputs": [
    {
     "data": {
      "text/plain": [
       "[<matplotlib.lines.Line2D at 0x1f92d18e0d0>]"
      ]
     },
     "execution_count": 24,
     "metadata": {},
     "output_type": "execute_result"
    },
    {
     "data": {
      "image/png": "[encoded data removed]",
      "text/plain": [
       "<Figure size 432x288 with 1 Axes>"
      ]
     },
     "metadata": {
      "needs_background": "light"
     },
     "output_type": "display_data"
    }
   ],
   "source": [
    "x = np.linspace(0, 20, 20)\n",
    "y = np.linspace(0.1, 1, 20)\n",
    "plt.plot(x, y, 'o') "
   ]
  },
  {
   "cell_type": "code",
   "execution_count": 25,
   "id": "ce074901",
   "metadata": {},
   "outputs": [
    {
     "name": "stdout",
     "output_type": "stream",
     "text": [
      "0.0999999993810619\n",
      "1.0\n"
     ]
    },
    {
     "data": {
      "text/plain": [
       "array([ 1.25892541,  1.40400425,  1.565802  ,  1.74624535,  1.94748304,\n",
       "        2.1719114 ,  2.42220294,  2.70133812,  3.0126409 ,  3.35981829,\n",
       "        3.74700446,  4.17881006,  4.66037703,  5.19743987,  5.79639395,\n",
       "        6.46437163,  7.2093272 ,  8.04013161,  8.9666781 , 10.        ])"
      ]
     },
     "execution_count": 25,
     "metadata": {},
     "output_type": "execute_result"
    }
   ],
   "source": [
    "#잠깐 로그 맛보기\n",
    "print(np.log10(1.25892541))\n",
    "print(np.log10(10))\n",
    "np.logspace(0.1, 1, 20) #로그 기준으로 구간 나누기 가능 "
   ]
  },
  {
   "cell_type": "code",
   "execution_count": 26,
   "id": "992ff1ae",
   "metadata": {},
   "outputs": [
    {
     "data": {
      "text/plain": [
       "[<matplotlib.lines.Line2D at 0x1f92d1fc880>]"
      ]
     },
     "execution_count": 26,
     "metadata": {},
     "output_type": "execute_result"
    },
    {
     "data": {
      "image/png": "[encoded data removed]",
      "text/plain": [
       "<Figure size 432x288 with 1 Axes>"
      ]
     },
     "metadata": {
      "needs_background": "light"
     },
     "output_type": "display_data"
    }
   ],
   "source": [
    "#로그는 살짝 완만하게 해줘, 그래서 나중에 데이터간의 급격한 차이로 인해 인사이트 도출이 어려울 떄 로그 변환을 시켜줘서 좀 완만하게 해줄때가 있어 \n",
    "x = np.linspace(0, 20, 20) \n",
    "y = np.logspace(0.1, 1, 20)\n",
    "plt.plot(x, y, 'o')"
   ]
  },
  {
   "cell_type": "markdown",
   "id": "d0cc25ff",
   "metadata": {},
   "source": [
    "## ndarray 데이터 형태 지정 및 변경\n",
    "<img src = '데이터형태.jpg' STYLE = 'width:600px;'>"
   ]
  },
  {
   "cell_type": "code",
   "execution_count": 27,
   "id": "58a2f4ee",
   "metadata": {},
   "outputs": [
    {
     "name": "stdout",
     "output_type": "stream",
     "text": [
      "int32\n"
     ]
    },
    {
     "data": {
      "text/plain": [
       "dtype('float64')"
      ]
     },
     "execution_count": 27,
     "metadata": {},
     "output_type": "execute_result"
    }
   ],
   "source": [
    "arr = np.array([1,2,3,4,5])\n",
    "print(arr.dtype)\n",
    "float_arr = arr.astype(np.float64)\n",
    "float_arr.dtype"
   ]
  },
  {
   "cell_type": "code",
   "execution_count": 28,
   "id": "9b7ef669",
   "metadata": {},
   "outputs": [
    {
     "name": "stdout",
     "output_type": "stream",
     "text": [
      "[b'1' b'2' b'3' b'4' b'5'] |S1\n"
     ]
    }
   ],
   "source": [
    "#만들때부터 타입 지정 가능 #dtype 옵션 \n",
    "\n",
    "numeric_string = np.array([1,2,3,4,5], dtype = 'S') #S :바이트 문자열\n",
    "print(numeric_string, numeric_string.dtype) #b - 바이트 표시 "
   ]
  },
  {
   "cell_type": "code",
   "execution_count": 29,
   "id": "0fa5adce",
   "metadata": {},
   "outputs": [
    {
     "name": "stdout",
     "output_type": "stream",
     "text": [
      "[1 2 3 4 5] int32\n"
     ]
    }
   ],
   "source": [
    "#얘를 float로 바꿔보자\n",
    "num = numeric_string.astype(int) #int는 32가 default네\n",
    "print(num, num.dtype)"
   ]
  },
  {
   "cell_type": "code",
   "execution_count": 30,
   "id": "5f83c3a9",
   "metadata": {},
   "outputs": [
    {
     "name": "stdout",
     "output_type": "stream",
     "text": [
      "[1. 2. 3. 4. 5.] float64\n"
     ]
    }
   ],
   "source": [
    "num = numeric_string.astype(float) #float는 64가 default네\n",
    "print(num, num.dtype)"
   ]
  },
  {
   "cell_type": "markdown",
   "id": "a3df7adb",
   "metadata": {},
   "source": [
    "### 과제(7/5)\n",
    "- 두 개의 배열을 생성해서 사칙 연산을 수행하세요."
   ]
  },
  {
   "cell_type": "code",
   "execution_count": 31,
   "id": "22324527",
   "metadata": {},
   "outputs": [],
   "source": [
    "#ex) arr1 * arr2 -> 행렬의 곱이 아니라 단순 사칙 연산 결과로 나옴 "
   ]
  },
  {
   "cell_type": "code",
   "execution_count": 32,
   "id": "ccf48e21",
   "metadata": {},
   "outputs": [
    {
     "name": "stdout",
     "output_type": "stream",
     "text": [
      "[ 3  6  9 12 15 18 21 24 27 30] \n",
      "\n",
      "[ -1  -2  -3  -4  -5  -6  -7  -8  -9 -10] \n",
      "\n",
      "[  2   8  18  32  50  72  98 128 162 200] \n",
      "\n",
      "[0.5 0.5 0.5 0.5 0.5 0.5 0.5 0.5 0.5 0.5] \n",
      "\n"
     ]
    }
   ],
   "source": [
    "arr1 = np.arange(1, 11).astype(int)\n",
    "arr2 = np.array([2,4,6,8,10,12,14,16,18,20], dtype = 'int')\n",
    "print(arr1 + arr2, '\\n')\n",
    "print(arr1 - arr2, '\\n')\n",
    "print(arr1 * arr2, '\\n')\n",
    "print(arr1 / arr2, '\\n')"
   ]
  },
  {
   "cell_type": "markdown",
   "id": "8deca04e",
   "metadata": {},
   "source": [
    "## 뷰(view) \n",
    ": 넘파이의 ndarray(이하 배열)을 슬라이싱할 때 파이썬의 리스트(list)와 다르게 원본의 참조가 생성\n",
    "\n",
    "numpy는 대용량 데이터 처리를 염두에 두고 대용량 데이터의 슬라이싱이 빈번하게 일어나는 복잡한 코드를 실행시키는데 있어서 복사가 남발되면 메모리 문제를 일으킬 소지가 많기 때문에 이렇게 설계\n",
    "\n",
    "- 복사가 아니고 뷰(참조의 개념)이기 때문에 원본이 바뀌면 이 참조본도 따라서 바뀜(주소를 기억하고 있다가, 원본이 변경이 되면 참조하는 쪽도 같이 변경이 된다.)\n",
    "- 리스트의 슬라이싱에서는 복사본이 생성되는 것과는 다른 동작이기 때문에 주의\n",
    "- 슬라이싱의 복사본을 생성하고 싶다면 copy() 속성을 이용\n",
    "\n",
    "http://taewan.kim/post/numpy_cheat_sheet/\n"
   ]
  },
  {
   "cell_type": "code",
   "execution_count": 33,
   "id": "4d9b5e30",
   "metadata": {},
   "outputs": [
    {
     "name": "stdout",
     "output_type": "stream",
     "text": [
      "[1, 2, 3, 4, 5, 6, 7, 8, 9, 10] \n",
      "\n",
      "[1, 2, 3, 4, 5] \n",
      "\n",
      "[1, 0, 3, 4, 5] \n",
      "\n",
      "[1, 2, 3, 4, 5, 6, 7, 8, 9, 10]\n"
     ]
    }
   ],
   "source": [
    "#copy()본과 원본은 무관하다. 연동 x \n",
    "li = list(np.arange(1, 11))\n",
    "print(li, '\\n')\n",
    "\n",
    "li_slice = li[:5].copy()\n",
    "print(li_slice, '\\n')\n",
    "\n",
    "li_slice[1] = 0\n",
    "print(li_slice, '\\n')\n",
    "\n",
    "print(li)"
   ]
  },
  {
   "cell_type": "code",
   "execution_count": 34,
   "id": "f03af535",
   "metadata": {},
   "outputs": [
    {
     "name": "stdout",
     "output_type": "stream",
     "text": [
      "[0 1 2 3 4 5 6 7 8 9] \n",
      "\n",
      "[5 6 7] \n",
      "\n",
      "[12 12 12] \n",
      "\n",
      "[ 0  1  2  3  4 12 12 12  8  9]\n"
     ]
    }
   ],
   "source": [
    "# view는 어떤지 보자, 참조 했기때문에 원본도 바뀐겨 \n",
    "#뷰는 원본을 변경\n",
    "arr = np.arange(10)\n",
    "print(arr, '\\n')\n",
    "\n",
    "li_slice = arr[5:8]\n",
    "print(li_slice, '\\n')\n",
    "\n",
    "li_slice[:] = 12\n",
    "print(li_slice, '\\n')\n",
    "\n",
    "print(arr)"
   ]
  },
  {
   "cell_type": "markdown",
   "id": "d52142b5",
   "metadata": {},
   "source": [
    "## 과제(7/5)\n",
    "-  Q. array2d에서 슬라이싱을 사용해서 아래와 같이 출력하세요."
   ]
  },
  {
   "cell_type": "code",
   "execution_count": 35,
   "id": "ac95222d",
   "metadata": {},
   "outputs": [
    {
     "data": {
      "text/plain": [
       "array([[1, 2, 3],\n",
       "       [4, 5, 6],\n",
       "       [7, 8, 9]])"
      ]
     },
     "execution_count": 35,
     "metadata": {},
     "output_type": "execute_result"
    }
   ],
   "source": [
    "arr2d = np.arange(1,10).reshape(3,3)\n",
    "arr2d"
   ]
  },
  {
   "cell_type": "code",
   "execution_count": 36,
   "id": "0de5b00d",
   "metadata": {},
   "outputs": [
    {
     "data": {
      "text/plain": [
       "array([[1, 2],\n",
       "       [4, 5]])"
      ]
     },
     "execution_count": 36,
     "metadata": {},
     "output_type": "execute_result"
    }
   ],
   "source": [
    "#[[1 2]\n",
    "#[4 5]]\n",
    "arr2d[:2, :2]"
   ]
  },
  {
   "cell_type": "code",
   "execution_count": 37,
   "id": "dd2b37d7",
   "metadata": {},
   "outputs": [
    {
     "data": {
      "text/plain": [
       "array([[4, 5, 6],\n",
       "       [7, 8, 9]])"
      ]
     },
     "execution_count": 37,
     "metadata": {},
     "output_type": "execute_result"
    }
   ],
   "source": [
    "# (2가지 방법)\n",
    "# [[4 5 6]\n",
    "# [7 8 9]]\n",
    "arr2d[1:, :]"
   ]
  },
  {
   "cell_type": "code",
   "execution_count": 38,
   "id": "4a226b77",
   "metadata": {},
   "outputs": [
    {
     "data": {
      "text/plain": [
       "array([[4, 5, 6],\n",
       "       [7, 8, 9]])"
      ]
     },
     "execution_count": 38,
     "metadata": {},
     "output_type": "execute_result"
    }
   ],
   "source": [
    "arr2d[arr2d > 3].reshape(2,-1)"
   ]
  },
  {
   "cell_type": "code",
   "execution_count": 39,
   "id": "c4c69b5d",
   "metadata": {},
   "outputs": [
    {
     "data": {
      "text/plain": [
       "array([[1, 2, 3],\n",
       "       [4, 5, 6],\n",
       "       [7, 8, 9]])"
      ]
     },
     "execution_count": 39,
     "metadata": {},
     "output_type": "execute_result"
    }
   ],
   "source": [
    "# [[1 2 3]\n",
    "# [4 5 6]\n",
    "# [7 8 9]]\n",
    "\n",
    "arr2d[:]"
   ]
  },
  {
   "cell_type": "code",
   "execution_count": 40,
   "id": "3060489d",
   "metadata": {},
   "outputs": [
    {
     "data": {
      "text/plain": [
       "array([[2, 3],\n",
       "       [5, 6]])"
      ]
     },
     "execution_count": 40,
     "metadata": {},
     "output_type": "execute_result"
    }
   ],
   "source": [
    "# [[2 3]\n",
    "# [5 6]]\n",
    "\n",
    "arr2d[:2, 1:]"
   ]
  },
  {
   "cell_type": "code",
   "execution_count": 41,
   "id": "27fea665",
   "metadata": {},
   "outputs": [
    {
     "data": {
      "text/plain": [
       "array([1, 4])"
      ]
     },
     "execution_count": 41,
     "metadata": {},
     "output_type": "execute_result"
    }
   ],
   "source": [
    "# [1 4]\n",
    "arr2d[:2, 0]"
   ]
  },
  {
   "cell_type": "code",
   "execution_count": 42,
   "id": "408e2fdd",
   "metadata": {},
   "outputs": [
    {
     "ename": "SyntaxError",
     "evalue": "invalid syntax (2495501996.py, line 4)",
     "output_type": "error",
     "traceback": [
      "\u001b[1;36m  Input \u001b[1;32mIn [42]\u001b[1;36m\u001b[0m\n\u001b[1;33m    (2가지 방법)\u001b[0m\n\u001b[1;37m      ^\u001b[0m\n\u001b[1;31mSyntaxError\u001b[0m\u001b[1;31m:\u001b[0m invalid syntax\n"
     ]
    }
   ],
   "source": [
    "#출력\n",
    "\n",
    "\n",
    "(2가지 방법)\n",
    "[[4 5 6]\n",
    "[7 8 9]]\n",
    "\n",
    "[[1 2 3]\n",
    "[4 5 6]\n",
    "[7 8 9]]\n",
    "\n",
    "[[2 3]\n",
    "[5 6]]\n",
    "\n",
    "[1 4]"
   ]
  },
  {
   "cell_type": "code",
   "execution_count": null,
   "id": "f7927268",
   "metadata": {},
   "outputs": [],
   "source": [
    "#배열을 리스트로 변환\n",
    "print(arr2d.tolist(), type(arr2d.tolist()))"
   ]
  },
  {
   "cell_type": "code",
   "execution_count": null,
   "id": "d221e4c8",
   "metadata": {},
   "outputs": [],
   "source": [
    "import numpy as np"
   ]
  },
  {
   "cell_type": "code",
   "execution_count": null,
   "id": "5f17f5a2",
   "metadata": {},
   "outputs": [],
   "source": [
    "#boolean indexing\n",
    "arr1d = np.arange(1, 10)\n",
    "print(arr1d, '\\n')\n",
    "\n",
    "arr1 = arr1d[arr1d > 5]\n",
    "\n",
    "print(arr1, '\\n')\n",
    "print(arr1d > 5) "
   ]
  },
  {
   "cell_type": "code",
   "execution_count": null,
   "id": "eefe1c30",
   "metadata": {},
   "outputs": [],
   "source": [
    "#일반 인덱싱\n",
    "arr1d[5:]"
   ]
  },
  {
   "cell_type": "code",
   "execution_count": null,
   "id": "2917674f",
   "metadata": {},
   "outputs": [],
   "source": [
    "# Q. 1 ~ 100 까지 정수에서 3의 배수인 것만을 출력(for문과 배열 두가지 방식 )\n",
    "#배열\n",
    "arr3 = np.arange(1, 100)  \n",
    "arr4 = arr3[arr3 % 3 == 0]  #혹은 np.arange(3,101,3)\n",
    "print(arr4, '\\n')   \n",
    "\n",
    "#for 문 \n",
    "li = []\n",
    "for i in range(1, 100):\n",
    "    if i % 3 == 0:\n",
    "        li.append(i)\n",
    "print(li)"
   ]
  },
  {
   "cell_type": "code",
   "execution_count": null,
   "id": "6eb96cc8",
   "metadata": {},
   "outputs": [],
   "source": [
    "arr3 = np.arange(1, 100, 3)\n",
    "arr3"
   ]
  },
  {
   "cell_type": "markdown",
   "id": "db80924d",
   "metadata": {},
   "source": [
    "### 과제(7/5)\n",
    "- 1~100까지 정수에서 5의 배수이면서 2의 배수인 것만을 출력(for문과 배열 두가지 방식)\n",
    "- 표준정규분포로 구성된 5행 5열 다차원 배열을 생성하고, 함수를 이용하여 평균과 표준편차를 구하세요.\n",
    "- 인덱싱을 이용하여 np.arange(10)을 내림차순으로 정렬하세요.\n",
    "- [1, 2, 0, 0, 4, 0]에서 zero가 아닌 인덱스를 배열 형태로 출력하세요.\n",
    "- np.arange(10).reshape(3,5) 배열을 전치하여 출력하세요."
   ]
  },
  {
   "cell_type": "code",
   "execution_count": null,
   "id": "e65e3441",
   "metadata": {},
   "outputs": [],
   "source": [
    "#1번 문제 \n",
    "\n",
    "#배열 \n",
    "\n",
    "arr = np.arange(1, 101)\n",
    "arr = arr[(arr % 5 == 0) & (arr % 2 == 0)]\n",
    "\n",
    "print(arr, '\\n')\n",
    "\n",
    "#for 문 \n",
    "\n",
    "li = []\n",
    "\n",
    "for i in range(1, 101):\n",
    "    if i % 2 == 0:\n",
    "        if i % 5 == 0:\n",
    "            li.append(i)\n",
    "print(li)"
   ]
  },
  {
   "cell_type": "code",
   "execution_count": null,
   "id": "336b42a5",
   "metadata": {},
   "outputs": [],
   "source": [
    "#2번 \n",
    "\n",
    "arr = np.random.randn(5,5)\n",
    "print(arr.mean(), '\\n')\n",
    "print(arr.std())"
   ]
  },
  {
   "cell_type": "code",
   "execution_count": null,
   "id": "4792d62c",
   "metadata": {},
   "outputs": [],
   "source": [
    "#3번 인덱싱을 이용하여 np.arange(10)을 내림차순으로 정렬하세요.\n",
    "\n",
    "arr = np.arange(10)\n",
    "arr[::-1] # 처음부터 끝까지 -1칸 간격으로 ( == 역순으로)\n"
   ]
  },
  {
   "cell_type": "code",
   "execution_count": null,
   "id": "8fa17839",
   "metadata": {},
   "outputs": [],
   "source": [
    "# 4번 [1, 2, 0, 0, 4, 0]에서 zero가 아닌 인덱스를 배열 형태로 출력하세요.\n",
    "li = [1, 2, 0, 0, 4, 0]\n",
    "arr = np.array([i for i in li if i != 0])\n",
    "arr\n",
    "\n",
    "#np.nonzero(arr) # 0이 아닌 값의 인덱스를 배열 형태로 출력\n",
    "#https://codepractice.tistory.com/90 \n"
   ]
  },
  {
   "cell_type": "code",
   "execution_count": null,
   "id": "185e655b",
   "metadata": {},
   "outputs": [],
   "source": [
    "arr1 = np.array(li)\n",
    "np.nonzero(arr1)"
   ]
  },
  {
   "cell_type": "code",
   "execution_count": null,
   "id": "6684d56c",
   "metadata": {},
   "outputs": [],
   "source": [
    "# 5번 np.arange(10).reshape(3,5) 배열을 전치하여 출력하세요.\n",
    "\n",
    "arr = np.arange(10).reshape(2,5)\n",
    "print(arr, '\\n')\n",
    "\n",
    "arr_t = np.transpose(arr)\n",
    "print(arr_t)"
   ]
  },
  {
   "cell_type": "code",
   "execution_count": null,
   "id": "98ef5011",
   "metadata": {},
   "outputs": [],
   "source": [
    "# 여기부터 다시 수업 내용 "
   ]
  },
  {
   "cell_type": "code",
   "execution_count": null,
   "id": "cc777a48",
   "metadata": {},
   "outputs": [],
   "source": [
    "arr = np.random.randint(1, 10, size=(5,5))\n",
    "arr"
   ]
  },
  {
   "cell_type": "code",
   "execution_count": null,
   "id": "e6ed6c58",
   "metadata": {},
   "outputs": [],
   "source": [
    "# 전치 #행과 열이 바뀜 \n",
    "np.transpose(arr) #arr.T와 같음 "
   ]
  },
  {
   "cell_type": "code",
   "execution_count": null,
   "id": "03af8465",
   "metadata": {},
   "outputs": [],
   "source": [
    "np.dot(arr, arr.T) #행렬의 곱 \n",
    "#1번 행렬의 열과 2번 행렬의 행의 수가 같아야함\n",
    "#https://bskyvision.com/500"
   ]
  },
  {
   "cell_type": "code",
   "execution_count": null,
   "id": "64ccb8bf",
   "metadata": {},
   "outputs": [],
   "source": [
    "np.matmul(arr, arr.T)\n",
    "#https://jimmy-ai.tistory.com/104 이거 참고하자 "
   ]
  },
  {
   "cell_type": "code",
   "execution_count": null,
   "id": "8fc87e10",
   "metadata": {
    "scrolled": true
   },
   "outputs": [],
   "source": [
    "a = np.arange(6).reshape(2,3)\n",
    "print(a, a.shape, '\\n')\n",
    "\n",
    "#밑에 3개 다 같은 결과\n",
    "\n",
    "y = np.swapaxes(a, 0, 1) #2행 3열을 3행 2열로 스왑한다 \n",
    "print(y, y.shape, '\\n')\n",
    "y = np.transpose(a)  #스왑을 하덩가 transpose를 하덩가 \n",
    "print(y, y.shape, '\\n')\n",
    "y = a.T\n",
    "print(y, y.shape) #얘도 다 같음 "
   ]
  },
  {
   "cell_type": "markdown",
   "id": "41e786f0",
   "metadata": {},
   "source": [
    "- 역행렬 : 어떤 행렬 A와 곱했을 때 곱셈에 대한 항등원인 항등 행렬 E가 나오는 행렬을 행렬 A의 역행렬이라 함.\n",
    "(모든 행렬이 역행렬을 갖는건 아니다.)\n"
   ]
  },
  {
   "cell_type": "code",
   "execution_count": null,
   "id": "02e3f08c",
   "metadata": {},
   "outputs": [],
   "source": [
    "np.random.seed(0)\n",
    "mt1 = np.random.randint(1, 4, size = (3, 3))\n",
    "print(mt1, '\\n')\n",
    "mt2 = np.linalg.inv(mt1)    #역행렬 구하는 함수임\n",
    "print(mt2)"
   ]
  },
  {
   "cell_type": "code",
   "execution_count": null,
   "id": "2cdba298",
   "metadata": {},
   "outputs": [],
   "source": [
    "np.dot(mt1, mt2) #항등 행렬 나옴 ~! "
   ]
  },
  {
   "cell_type": "code",
   "execution_count": null,
   "id": "e7f46bfa",
   "metadata": {
    "scrolled": true
   },
   "outputs": [],
   "source": [
    "#3차원에 대해 \n",
    "a = np.arange(6).reshape(1, 2, 3) #2행 3열 3차원\n",
    "a"
   ]
  },
  {
   "cell_type": "code",
   "execution_count": null,
   "id": "de08bf62",
   "metadata": {},
   "outputs": [],
   "source": [
    "#3차원과 2차원을 바꾸라는 의미(1, 2, 3) -> (2, 1, 3)\n",
    "#(0, 1, 2) 맨 앞이 3차원, 2차원, 1차원 \n",
    "#3차원 2차원 바꾸는거니까 0, 1 자리 바꾸면 되는거지 \n",
    "y = np.transpose(a, (1, 0, 2))\n",
    "print(y, y.shape, '\\n')\n",
    "\n",
    "y = np.swapaxes(a , 0, 1)\n",
    "print(y, y.shape)"
   ]
  },
  {
   "cell_type": "markdown",
   "id": "b9f6dc7d",
   "metadata": {},
   "source": [
    "### 과제(7/5)\n",
    "- (1, 2, 3) -> (2, 3, 1)으로 차원을 변경하세요.(transpose, swapaxes 두 가지로)\n",
    "\n",
    "```\n",
    "a = np.arange(6).reshape(1,2,3)\n",
    "print(a, a.shape, '\\n')\n",
    "```"
   ]
  },
  {
   "cell_type": "code",
   "execution_count": null,
   "id": "69a116b9",
   "metadata": {},
   "outputs": [],
   "source": [
    "a = np.arange(6).reshape(1,2,3)\n",
    "print(a, a.shape, '\\n')"
   ]
  },
  {
   "cell_type": "code",
   "execution_count": null,
   "id": "f82ffaa8",
   "metadata": {},
   "outputs": [],
   "source": [
    "b = np.transpose(a, (1, 0, 2))\n",
    "print(b, b.shape, '\\n')\n",
    "\n",
    "c = np.swapaxes(a, 0, 1)\n",
    "print(c, c.shape)"
   ]
  },
  {
   "cell_type": "markdown",
   "id": "04bf13fd",
   "metadata": {},
   "source": [
    "### numpy 제공 함수"
   ]
  },
  {
   "cell_type": "code",
   "execution_count": null,
   "id": "a26ea00e",
   "metadata": {},
   "outputs": [],
   "source": [
    "arr = np.arange(1, 10).reshape(3,3)\n",
    "print(arr, '\\n')\n",
    "print(arr.cumsum(), '\\n')  #누적 합계"
   ]
  },
  {
   "cell_type": "code",
   "execution_count": null,
   "id": "a2562432",
   "metadata": {},
   "outputs": [],
   "source": [
    "print(arr.cumsum(axis = 0)) #행의 방향이니까 아래로다가 누적합계"
   ]
  },
  {
   "cell_type": "code",
   "execution_count": null,
   "id": "837b094c",
   "metadata": {},
   "outputs": [],
   "source": [
    "print(arr.prod(axis = 1)) \n",
    "#1 * 2*3 = 6\n",
    "# 4*5*6 = 120\n",
    "#7*8*9 = 504"
   ]
  },
  {
   "cell_type": "code",
   "execution_count": null,
   "id": "3704b43f",
   "metadata": {},
   "outputs": [],
   "source": [
    "#누적곱\n",
    "print(arr.cumprod(axis = 1))"
   ]
  },
  {
   "cell_type": "code",
   "execution_count": null,
   "id": "44fc3b7a",
   "metadata": {},
   "outputs": [],
   "source": [
    "#나머지 구해줌 (1. mod 2.remainder)\n",
    "v1 = np.array([15, 30, 45])\n",
    "v2 = np.array([2, 7, 9])\n",
    "print(np.mod(v1, v2),'\\n')\n",
    "print(np.remainder(v1, v2))"
   ]
  },
  {
   "cell_type": "code",
   "execution_count": null,
   "id": "6dfce30a",
   "metadata": {},
   "outputs": [],
   "source": [
    "#역수  #해당 숫자에서 1 나눈게 그 숫자의 역수잖아요 \n",
    "value = np.array([0.85, 1.85, 1, 100])\n",
    "print(np.reciprocal(value))"
   ]
  },
  {
   "cell_type": "code",
   "execution_count": null,
   "id": "8616caa7",
   "metadata": {},
   "outputs": [],
   "source": [
    "#승수 \n",
    "v1 = np.array([2, 10, 15])\n",
    "v2 = np.array([1, 2, 3])\n",
    "print(np.power(v1, 2), '\\n')\n",
    "print(np.power(v1, v2)) #이렇게 응용도 가능 "
   ]
  },
  {
   "cell_type": "code",
   "execution_count": null,
   "id": "dea10484",
   "metadata": {},
   "outputs": [],
   "source": [
    "arr = np.random.randn(10)\n",
    "arr"
   ]
  },
  {
   "cell_type": "code",
   "execution_count": null,
   "id": "a8a0ec5d",
   "metadata": {},
   "outputs": [],
   "source": [
    "#(조건).sum() - 조건에 해당하는 개수가 나옴 \n",
    "#양수인 원소의 개수\n",
    "(arr > 0).sum()"
   ]
  },
  {
   "cell_type": "code",
   "execution_count": null,
   "id": "169b7d20",
   "metadata": {},
   "outputs": [],
   "source": [
    "#any 메서드 \n",
    "bools = np.array([False, False, True, True])\n",
    "bools.any() #하나라도 True 면 True"
   ]
  },
  {
   "cell_type": "code",
   "execution_count": null,
   "id": "0d8864c2",
   "metadata": {},
   "outputs": [],
   "source": [
    "#all 메서드\n",
    "bools.all() #전부 True 여야 True\n"
   ]
  },
  {
   "cell_type": "code",
   "execution_count": null,
   "id": "a0b0f8a5",
   "metadata": {},
   "outputs": [],
   "source": [
    "#numpy.where 함수는 삼항식의 벡터화 버전\n",
    "arr = np.random.randn(4, 4) #4행 4열 정규분포\n",
    "print(arr, '\\n')\n",
    "np.where(arr > 0, 2, -2)  #np.where(조건, 만족시, 불만족시)"
   ]
  },
  {
   "cell_type": "code",
   "execution_count": null,
   "id": "dab543cd",
   "metadata": {},
   "outputs": [],
   "source": [
    "#Q .arr의 모든 양수를 2로 변경하세요.\n",
    "\n",
    "np.where(arr > 0, 2, arr)"
   ]
  },
  {
   "cell_type": "markdown",
   "id": "a07f922a",
   "metadata": {},
   "source": [
    "### meshgrid 함수 \n",
    ": 두 개의 1차원 배열을 받아서 가능한 모든 (x,y)짝을 만들 수 있는 2차원 배열 반환"
   ]
  },
  {
   "cell_type": "code",
   "execution_count": null,
   "id": "fd58f0c9",
   "metadata": {},
   "outputs": [],
   "source": [
    "x = np.arange(1, 4)\n",
    "y = np.arange(1, 4)\n",
    "xs, ys = np.meshgrid(x, y)\n",
    "print(xs)\n",
    "print(ys)"
   ]
  },
  {
   "cell_type": "markdown",
   "id": "b646561e",
   "metadata": {},
   "source": [
    "### np.sort() \n",
    ": 복사본을 반환하는게 특징"
   ]
  },
  {
   "cell_type": "code",
   "execution_count": null,
   "id": "40682dbd",
   "metadata": {},
   "outputs": [],
   "source": [
    "arr = np.random.randint(1, 100, size = 10)\n",
    "print(arr, '\\n')\n",
    "print(np.sort(arr), '\\n')\n",
    "print(arr) #원본은 바뀌지 x "
   ]
  },
  {
   "cell_type": "code",
   "execution_count": null,
   "id": "ce3188cf",
   "metadata": {},
   "outputs": [],
   "source": [
    "#유지하고 싶으면 ? 변수에 저장해야지 \n",
    "\n",
    "sorted = np.sort(arr)\n",
    "sorted"
   ]
  },
  {
   "cell_type": "code",
   "execution_count": null,
   "id": "ec3563b5",
   "metadata": {},
   "outputs": [],
   "source": [
    "arr2d = np.array([[8, 12], [7,1]]) #2차원 배열\n",
    "print(arr2d, '\\n')\n",
    "\n",
    "sort_arr2d_s0 = np.sort(arr2d, axis = 0) #행방향\n",
    "print(sort_arr2d_s0, '\\n')\n",
    "\n",
    "sort_arr2d_s1 = np.sort(arr2d, axis = 1)\n",
    "print(sort_arr2d_s1)\n"
   ]
  },
  {
   "cell_type": "markdown",
   "id": "609c0637",
   "metadata": {},
   "source": [
    "### ndarray.sort() : 원본 반영"
   ]
  },
  {
   "cell_type": "code",
   "execution_count": null,
   "id": "01ee2648",
   "metadata": {},
   "outputs": [],
   "source": [
    "\n",
    "arr = np.random.randn(6)\n",
    "print(arr, '\\n') #원본\n",
    "arr.sort()\n",
    "arr #원본에 반영됨 \n",
    "\n",
    "#sort함수에 인자로 배열을 넣으면 원본 반영 x , \n",
    "#내장함수 느낌으로다가 쓰면 원본 반영 "
   ]
  },
  {
   "cell_type": "code",
   "execution_count": 3,
   "id": "c70defec",
   "metadata": {},
   "outputs": [
    {
     "name": "stdout",
     "output_type": "stream",
     "text": [
      "[[ 0.58060397 -1.16485022  1.67899899]\n",
      " [ 0.71686548 -0.43149773  0.79503012]\n",
      " [ 0.11989352 -1.45880038 -0.98052758]\n",
      " [ 1.61235603 -0.79836253  1.74462276]\n",
      " [ 0.14480766  1.16596921 -0.7646726 ]] \n",
      "\n"
     ]
    },
    {
     "data": {
      "text/plain": [
       "array([[-1.16485022,  0.58060397,  1.67899899],\n",
       "       [-0.43149773,  0.71686548,  0.79503012],\n",
       "       [-1.45880038, -0.98052758,  0.11989352],\n",
       "       [-0.79836253,  1.61235603,  1.74462276],\n",
       "       [-0.7646726 ,  0.14480766,  1.16596921]])"
      ]
     },
     "execution_count": 3,
     "metadata": {},
     "output_type": "execute_result"
    }
   ],
   "source": [
    "#default는 열기준임 \n",
    "arr = np.random.randn(5, 3)\n",
    "print(arr, '\\n')\n",
    "arr.sort(axis = 1) # 1은 열방향  \n",
    "arr"
   ]
  },
  {
   "cell_type": "code",
   "execution_count": null,
   "id": "36c17858",
   "metadata": {
    "scrolled": true
   },
   "outputs": [],
   "source": [
    "arr = np.random.randn(5, 3)\n",
    "print(arr, '\\n')\n",
    "arr.sort(0) # 0은 행방향 \n",
    "arr"
   ]
  },
  {
   "cell_type": "markdown",
   "id": "fc5e5867",
   "metadata": {},
   "source": [
    "### 정렬된 행렬의 인덱스를 반환 \n",
    ": 기존 원본 행렬의 원소에 대한 인덱스를 필요로 할 때 "
   ]
  },
  {
   "cell_type": "code",
   "execution_count": null,
   "id": "4094e265",
   "metadata": {},
   "outputs": [],
   "source": [
    "org_array = np.array([3,1,9,5])\n",
    "print(org_array, '\\n')\n",
    "\n",
    "sort_indices = np.argsort(org_array)\n",
    "print(sort_indices) #정렬된 행렬의 기존 인덱스 반환 "
   ]
  },
  {
   "cell_type": "markdown",
   "id": "cc7391a1",
   "metadata": {},
   "source": [
    "### Q21. Q20의 df에서 drop_duplicates() 메소드를 사용하여 c2, c3열을 기준으로 중복 행을 제거한 후 df3에 저장하고 출력하세요.\n"
   ]
  },
  {
   "cell_type": "markdown",
   "id": "c3f049e2",
   "metadata": {},
   "source": [
    "### Q33. './dataset/stock-data.csv'를 데이터프레임으로 불러와서 datetime64 자료형으로 변환한 후에 년, 월, 일로 분리하고 year를 인덱스로 셋팅하여 출력하세요.\n"
   ]
  },
  {
   "cell_type": "markdown",
   "id": "4f27e513",
   "metadata": {},
   "source": [
    "### Q34. './dataset/stock-data.csv'를 데이터프레임으로 불러와서 datetime64 자료형으로 변환한 후에 Period로 변환하고 년월일 표기 변경하여 년월을 인데스로 셋팅하여 출력하세요.\n"
   ]
  },
  {
   "cell_type": "markdown",
   "id": "8382a81b",
   "metadata": {},
   "source": [
    "### 과제(7/5)\n",
    "Q. np.ones((10,10))을 아래와 같이 출력하세요.\n"
   ]
  },
  {
   "cell_type": "code",
   "execution_count": null,
   "id": "0afb8c96",
   "metadata": {},
   "outputs": [],
   "source": [
    "array([[1., 1., 1., 1., 1., 1., 1., 1., 1., 1.],\n",
    "       [1., 0., 0., 0., 0., 0., 0., 0., 0., 1.],\n",
    "       [1., 0., 0., 0., 0., 0., 0., 0., 0., 1.],\n",
    "       [1., 0., 0., 0., 0., 0., 0., 0., 0., 1.],\n",
    "       [1., 0., 0., 0., 0., 0., 0., 0., 0., 1.],\n",
    "       [1., 0., 0., 0., 0., 0., 0., 0., 0., 1.],\n",
    "       [1., 0., 0., 0., 0., 0., 0., 0., 0., 1.],\n",
    "       [1., 0., 0., 0., 0., 0., 0., 0., 0., 1.],\n",
    "       [1., 0., 0., 0., 0., 0., 0., 0., 0., 1.],\n",
    "       [1., 1., 1., 1., 1., 1., 1., 1., 1., 1.]])"
   ]
  },
  {
   "cell_type": "code",
   "execution_count": null,
   "id": "a996b8c1",
   "metadata": {},
   "outputs": [],
   "source": [
    "#np.zeros((8,8))을 이용해서 아래와 같이 출력하세요.\n",
    "\n",
    "array([[0, 1, 0, 1, 0, 1, 0, 1],\n",
    "       [1, 0, 1, 0, 1, 0, 1, 0],\n",
    "       [0, 1, 0, 1, 0, 1, 0, 1],\n",
    "       [1, 0, 1, 0, 1, 0, 1, 0],\n",
    "       [0, 1, 0, 1, 0, 1, 0, 1],\n",
    "       [1, 0, 1, 0, 1, 0, 1, 0],\n",
    "       [0, 1, 0, 1, 0, 1, 0, 1],\n",
    "       [1, 0, 1, 0, 1, 0, 1, 0]])\n"
   ]
  },
  {
   "cell_type": "code",
   "execution_count": null,
   "id": "20d35336",
   "metadata": {},
   "outputs": [],
   "source": [
    "#sol1\n",
    "z = np.tile(np.array([[0,1],[1,0]]), (4,4))\n",
    "z"
   ]
  },
  {
   "cell_type": "code",
   "execution_count": null,
   "id": "c0838619",
   "metadata": {},
   "outputs": [],
   "source": [
    "#sol2\n",
    "q = np.zeros((8,8))\n",
    "q[1::2,::2] = 1\n",
    "q[0::2,1::2] = 1\n",
    "q"
   ]
  },
  {
   "cell_type": "markdown",
   "id": "9b9ee939",
   "metadata": {},
   "source": [
    "### 과제(7/6)\n",
    "- 1~100을 아래와 같이 출력하세요."
   ]
  },
  {
   "cell_type": "code",
   "execution_count": null,
   "id": "558db816",
   "metadata": {},
   "outputs": [],
   "source": [
    "arr = np.arange(1, 101).reshape(-1,10)\n",
    "arr[1::2, :][:, ::-1]"
   ]
  },
  {
   "cell_type": "code",
   "execution_count": null,
   "id": "de94642f",
   "metadata": {},
   "outputs": [],
   "source": [
    "li = arr.tolist()\n",
    "li\n",
    "\n",
    "for i in range(9):\n",
    "    if i % 2 != 0:\n",
    "        li[i].sort(reverse = True)\n",
    "arr = np.array(li)\n",
    "arr"
   ]
  },
  {
   "cell_type": "code",
   "execution_count": null,
   "id": "5aa1110a",
   "metadata": {},
   "outputs": [],
   "source": [
    "[[  1   2   3   4   5   6   7   8   9  10]\n",
    " [ 20  19  18  17  16  15  14  13  12  11]\n",
    " [ 21  22  23  24  25  26  27  28  29  30]\n",
    " [ 40  39  38  37  36  35  34  33  32  31]\n",
    " [ 41  42  43  44  45  46  47  48  49  50]\n",
    " [ 60  59  58  57  56  55  54  53  52  51]\n",
    " [ 61  62  63  64  65  66  67  68  69  70]\n",
    " [ 80  79  78  77  76  75  74  73  72  71]\n",
    " [ 81  82  83  84  85  86  87  88  89  90]\n",
    " [100  99  98  97  96  95  94  93  92  91]] <class 'numpy.ndarray'>\n"
   ]
  },
  {
   "cell_type": "code",
   "execution_count": 43,
   "id": "9129fa24",
   "metadata": {},
   "outputs": [
    {
     "data": {
      "text/plain": [
       "array([[  1,   2,   3,   4,   5,   6,   7,   8,   9,  10],\n",
       "       [ 20,  19,  18,  17,  16,  15,  14,  13,  12,  11],\n",
       "       [ 21,  22,  23,  24,  25,  26,  27,  28,  29,  30],\n",
       "       [ 40,  39,  38,  37,  36,  35,  34,  33,  32,  31],\n",
       "       [ 41,  42,  43,  44,  45,  46,  47,  48,  49,  50],\n",
       "       [ 60,  59,  58,  57,  56,  55,  54,  53,  52,  51],\n",
       "       [ 61,  62,  63,  64,  65,  66,  67,  68,  69,  70],\n",
       "       [ 80,  79,  78,  77,  76,  75,  74,  73,  72,  71],\n",
       "       [ 81,  82,  83,  84,  85,  86,  87,  88,  89,  90],\n",
       "       [100,  99,  98,  97,  96,  95,  94,  93,  92,  91]])"
      ]
     },
     "execution_count": 43,
     "metadata": {},
     "output_type": "execute_result"
    }
   ],
   "source": [
    "ar = np.arange(1,101).reshape(10,10)\n",
    "ar[1::2] = ar[1::2,9::-1]\n",
    "ar\n"
   ]
  },
  {
   "cell_type": "code",
   "execution_count": null,
   "id": "25fc912a",
   "metadata": {},
   "outputs": [],
   "source": []
  }
 ],
 "metadata": {
  "kernelspec": {
   "display_name": "Python 3 (ipykernel)",
   "language": "python",
   "name": "python3"
  },
  "language_info": {
   "codemirror_mode": {
    "name": "ipython",
    "version": 3
   },
   "file_extension": ".py",
   "mimetype": "text/x-python",
   "name": "python",
   "nbconvert_exporter": "python",
   "pygments_lexer": "ipython3",
   "version": "3.9.7"
  }
 },
 "nbformat": 4,
 "nbformat_minor": 5
}

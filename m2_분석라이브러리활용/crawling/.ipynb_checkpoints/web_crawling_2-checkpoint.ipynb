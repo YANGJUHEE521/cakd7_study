{
 "cells": [
  {
   "cell_type": "markdown",
   "id": "dd857a91",
   "metadata": {},
   "source": [
    "BeautifulSoup 모듈\n",
    "- 홈페이지 내 데이터를 쉽게 추출할 수 있게 해주는 파이썬 외부 라이브러리\n",
    "- 웹 문서 내 수많은 HTML 태그들을 parser를 활용해 사용하기 편한 파이썬 객체로 만들어 제공\n",
    "- 웹 문서 구조를 알고 있다면 편하게 데이터를 뽑아 활용할 수 있음\n",
    "\n",
    "기존방식과의 차이점\n",
    "- 정규 표현식, 문자열 함수 등을 활용하여 홈페이지 텍스트 내 패턴을 분석하여 하나씩 원하는 데이터를 찾아가는 형식\n",
    "- BS는 HTML 문서를 태그를 기반으로 구조화하여 태그로 원하는 데이터를 찾아가는 형식\n"
   ]
  },
  {
   "cell_type": "markdown",
   "id": "a536d4f9",
   "metadata": {},
   "source": [
    "#html.parser vs lxml\n",
    "\n",
    "https://m.blog.naver.com/PostView.naver?isHttpsRedirect=true&blogId=hoon299&logNo=221970390146"
   ]
  },
  {
   "cell_type": "markdown",
   "id": "36223a76",
   "metadata": {},
   "source": [
    "### cf 사이트\n",
    "- https://mimah.tistory.com/entry/Python-BeautifulSoup%EB%A1%9C-%EC%A0%95%EC%A0%81-%EC%9B%B9-%EC%82%AC%EC%9D%B4%ED%8A%B8-%ED%8C%8C%EC%8B%B1%ED%95%98%EA%B8%B0\n",
    "- https://jennana.tistory.com/160\n",
    "- https://www.crummy.com/software/BeautifulSoup/bs4/doc/#differences-between-parsers\n",
    "- https://eunjin3786.tistory.com/146\n",
    "- https://easytoread.tistory.com/entry/BeautifulSoup-%ED%98%95%EC%A0%9C-%EC%9A%94%EC%86%8C-%EC%84%A0%ED%83%9D-nextsibling\n",
    "- https://goodthings4me.tistory.com/190"
   ]
  },
  {
   "cell_type": "code",
   "execution_count": 1,
   "id": "aa1765fc",
   "metadata": {},
   "outputs": [
    {
     "name": "stdout",
     "output_type": "stream",
     "text": [
      "Requirement already satisfied: beautifulsoup4 in c:\\users\\admin\\anaconda3\\envs\\cakd7\\lib\\site-packages (4.11.1)\n",
      "Requirement already satisfied: soupsieve>1.2 in c:\\users\\admin\\anaconda3\\envs\\cakd7\\lib\\site-packages (from beautifulsoup4) (2.3.1)\n",
      "Note: you may need to restart the kernel to use updated packages.\n"
     ]
    }
   ],
   "source": [
    "pip install beautifulsoup4"
   ]
  },
  {
   "cell_type": "code",
   "execution_count": 2,
   "id": "a9e0a129",
   "metadata": {},
   "outputs": [
    {
     "name": "stdout",
     "output_type": "stream",
     "text": [
      "<html lang=\"en\">\n",
      " <head>\n",
      "  <title>\n",
      "   crawl\n",
      "  </title>\n",
      " </head>\n",
      " <body>\n",
      "  <p align=\"center\" class=\"a\">\n",
      "   text1\n",
      "  </p>\n",
      "  <p align=\"center\" class=\"b\">\n",
      "   text2\n",
      "  </p>\n",
      "  <p align=\"center\" class=\"c\">\n",
      "   text3\n",
      "  </p>\n",
      "  <div>\n",
      "   <img height=\"200\" src=\"/source\" width=\"300\"/>\n",
      "  </div>\n",
      " </body>\n",
      "</html>\n",
      "\n"
     ]
    }
   ],
   "source": [
    "html_doc = \"\"\"\n",
    "<html lang=\"en\">\n",
    "<head><title>crawl</title></head>\n",
    "<body>\n",
    "<p class=\"a\" align=\"center\"> text1</p>\n",
    "<p class=\"b\" align=\"center\"> text2</p>\n",
    "<p class=\"c\" align=\"center\"> text3</p>\n",
    "<div><img src=\"/source\" width=\"300\" height=\"200\"></div>\n",
    "</body>\n",
    "</html>\n",
    "\"\"\"\n",
    "\n",
    "from bs4 import BeautifulSoup\n",
    "\n",
    "#html_doc 데이터를 html.parser로 파싱한 뒤 BeautifulSoup 객체를 생성해서 soup 변수에 넣음 \n",
    "soup = BeautifulSoup(html_doc, 'html.parser')\n",
    "print(soup.prettify()) # html 구조를 파악하기 쉽게 바꿔줍니다. 혹은 파싱 처리 후 트리형태로 반환해주는 함수 \n",
    "#prettify 하고 print까지 해줘야 칸 맞춰서 이쁘게 나옴 \n"
   ]
  },
  {
   "cell_type": "markdown",
   "id": "a4c15af1",
   "metadata": {},
   "source": [
    "### string vs text \n",
    "```\n",
    "https://www.inflearn.com/questions/3945  --> 참고 ! \n",
    "https://stackoverflow.com/questions/25327693/difference-between-string-and-text-beautifulsoup --> 참고 \n",
    "string은 밑에 get_text()랑 비교할 때도 이 내용이 이어져감 \n",
    "```\n",
    "```\n",
    "빨리 기억할 것은 \n",
    "태그 내에서 단일 문자열을 가져오기 위한 편의 속성입니다 .\n",
    "자식이 없거나 자식이 둘 이상인 경우 반환 값은 다음과 같습니다 -> None\n",
    "```"
   ]
  },
  {
   "cell_type": "code",
   "execution_count": 3,
   "id": "7c70d4c2",
   "metadata": {},
   "outputs": [
    {
     "name": "stdout",
     "output_type": "stream",
     "text": [
      "스크레이핑이란?\n"
     ]
    }
   ],
   "source": [
    "html = \"\"\"\n",
    "<html><body>\n",
    "  <h1>스크레이핑이란?</h1>\n",
    "  <p>웹 페이지를 분석하는 것</p>\n",
    "  <p>원하는 부분을 추출하는 것</p>\n",
    "</body></html>\n",
    "\"\"\"\n",
    "\n",
    "soup = BeautifulSoup(html, 'html.parser') #parser는 여러가지인데 html.parser를 가장 많이 쓴뎁\n",
    "h1 = soup.html.body.h1.text #이렇게 끝에 text 해도됨 ! \n",
    "\n",
    "print(h1)"
   ]
  },
  {
   "cell_type": "markdown",
   "id": "3760d7c6",
   "metadata": {},
   "source": [
    "#### next_sibling - 다음 형제 요소(트리 구조에서 동일 레벨 상의 요소) 선택 가능\n",
    "주의) 태그와 태그사이의 개행이나 콤마 등도 요소로 취급함 "
   ]
  },
  {
   "cell_type": "code",
   "execution_count": 4,
   "id": "e0c195e5",
   "metadata": {},
   "outputs": [
    {
     "name": "stdout",
     "output_type": "stream",
     "text": [
      "스크레이핑이란?\n",
      "웹 페이지를 분석하는 것\n",
      "원하는 부분을 추출하는 것\n"
     ]
    }
   ],
   "source": [
    "html = \"\"\"\n",
    "<html><body>\n",
    "  <h1>스크레이핑이란?</h1>\n",
    "  <p>웹 페이지를 분석하는 것</p>\n",
    "  <p>원하는 부분을 추출하는 것</p>\n",
    "</body></html>\n",
    "\"\"\"\n",
    "\n",
    "soup = BeautifulSoup(html, 'html.parser') #parser는 여러가지인데 html.parser를 가장 많이 쓴뎁\n",
    "h1 = soup.html.body.h1\n",
    "p1 = soup.html.body.p\n",
    "# p2 = p1.next_sibling\n",
    "p2 = p1.next_sibling.next_sibling #p1 다음에 공백이 하나 있는거라 2번 해주기!\n",
    "\n",
    "print(h1.string)\n",
    "print(p1.string)\n",
    "print(p2.string)"
   ]
  },
  {
   "cell_type": "markdown",
   "id": "3ef84b60",
   "metadata": {},
   "source": [
    "#### find(), findalll()\n",
    "find() : HTML의 해당 태그에 대한 첫 번째 정보를 가져옴\n",
    "- find(속성='값') : HTML 해당 속성과 일치하는 값에 대한 첫 번째 정보를 가져옴\n",
    "\n",
    "find_all() : \n",
    "- HTML의 해당 태그에 대한 모든 정보를 리스트 형식으로 가져옴. limit 옵션으로 개수 지정 가능\n",
    "- CSS 속성으로 필터링(class_로 클래스를 직접 사용 혹은 attrs에서 속성 = 값으로 필터링)\n",
    "- find_all : 해당 조건에 만족하는 모든 태그를 가지고 온다.ex> find_all('태그명',{'속성명':'값', ... })\n",
    "\n"
   ]
  },
  {
   "cell_type": "code",
   "execution_count": 5,
   "id": "900108aa",
   "metadata": {},
   "outputs": [
    {
     "name": "stdout",
     "output_type": "stream",
     "text": [
      "스크레이핑이란?\n",
      "웹 페이지를 분석하는 것\n",
      "스크레이핑이란?\n",
      "웹 페이지를 분석하는 것\n",
      "웹 페이지를 분석하는 것\n"
     ]
    }
   ],
   "source": [
    "from bs4 import BeautifulSoup\n",
    "\n",
    "html = \"\"\"\n",
    "<html><body>\n",
    "  <h1 id ='title'>스크레이핑이란?</h1>\n",
    "  <p id ='body'>웹 페이지를 분석하는 것</p>\n",
    "  <p>원하는 부분을 추출하는 것</p>\n",
    "</body></html>\n",
    "\"\"\"\n",
    "\n",
    "soup = BeautifulSoup(html, 'html.parser')\n",
    "title = soup.find(id='title')\n",
    "body = soup.find(id='body')\n",
    "\n",
    "print(title.string)\n",
    "print(body.string)\n",
    "print(title.text)\n",
    "print(body.text)\n",
    "print(body.get_text())\n",
    "#string 태그 하위에 문자열을 객체화 합니다. 문자열이 없으면 None 을 반환합니다. 즉, 하위태그에 텍스트까지 문자열로 파싱할 경우 . text를 사용하는 것이 좋습니다."
   ]
  },
  {
   "cell_type": "code",
   "execution_count": 6,
   "id": "12f2d0be",
   "metadata": {},
   "outputs": [
    {
     "name": "stdout",
     "output_type": "stream",
     "text": [
      "웹 페이지를 분석하는 것\n",
      "원하는 부분을 추출하는 것\n"
     ]
    }
   ],
   "source": [
    "# texts = soup.findAll('p')\n",
    "texts = soup.find_all('p') #뷰티풀숩에서 위에 findAll 이랑 find_all이랑 같음 \n",
    "for t in texts:\n",
    "    print(t.text)"
   ]
  },
  {
   "cell_type": "code",
   "execution_count": 7,
   "id": "f29bb517",
   "metadata": {},
   "outputs": [
    {
     "name": "stdout",
     "output_type": "stream",
     "text": [
      "기상청 육상 중기예보 \n",
      "\n",
      "○ (강수) 30일(토)은 전라권에 소나기가 오는 곳이 있겠고, 31일(일)~ 8월 2일(화)에는 제주도에 비가 오겠습니다. <br />○ (기온) 이번 예보기간 아침 기온은 24~26도, 낮 기온은 29~34도로 어제(26일, 아침최저기온 22~24도, 낮최고기온 28~35도)와 비슷하겠습니다.<br />○ (주말전망) 30일(토)은 가끔 구름많고 전라권에는 오후에 소나기가 오는 곳이 있겠고, 31일(일)은 가끔 구름많겠으나, 제주도에는 흐리고 비가 오겠습니다.<br />              아침 기온은 24~26도, 낮 기온은 29~34도가 되겠습니다.<br /><br />* 이번 예보기간에는 북태평양고기압의 확장 정도와 제10호 열대저압부(TD)의 이동경로에 따라 강수의 변동성이 크겠으니, 앞으로 발표되는 기상정보를 참고하기 바랍니다.\n"
     ]
    }
   ],
   "source": [
    "#urlopen()과 BeautifulSoup의 조합 \n",
    "import warnings\n",
    "warnings.filterwarnings('ignore')\n",
    "\n",
    "from bs4 import BeautifulSoup\n",
    "import urllib.request as req\n",
    "\n",
    "url = \"http://www.kma.go.kr/weather/forecast/mid-term-rss3.jsp\" #XML 형식의 데이터 \n",
    "res = req.urlopen(url)\n",
    "soup = BeautifulSoup(res, 'html.parser')\n",
    "title = soup.find('title').string\n",
    "#wf weather focasting의 약자로 날씨 알려주는 태그래 \n",
    "wf = soup.find('wf').string\n",
    "print(title, '\\n')\n",
    "print(wf)\n",
    "#나는 이걸 보자마자 둘다 string으로 뽑았으니까 title, wf 각각 첫번째 태그 안에는 단일 문자열이구나 None이 안나왔으니까 \n"
   ]
  },
  {
   "cell_type": "code",
   "execution_count": 8,
   "id": "7febd342",
   "metadata": {},
   "outputs": [
    {
     "data": {
      "text/plain": [
       "'   강수  30일 토 은 전라권에 소나기가 오는 곳이 있겠고  31일 일   8월 2일 화 에는 제주도에 비가 오겠습니다           기온  이번 예보기간 아침 기온은 24 26도  낮 기온은 29 34도로 어제 26일  아침최저기온 22 24도  낮최고기온 28 35도 와 비슷하겠습니다          주말전망  30일 토 은 가끔 구름많고 전라권에는 오후에 소나기가 오는 곳이 있겠고  31일 일 은 가끔 구름많겠으나  제주도에는 흐리고 비가 오겠습니다                     아침 기온은 24 26도  낮 기온은 29 34도가 되겠습니다               이번 예보기간에는 북태평양고기압의 확장 정도와 제10호 열대저압부    의 이동경로에 따라 강수의 변동성이 크겠으니  앞으로 발표되는 기상정보를 참고하기 바랍니다 '"
      ]
     },
     "execution_count": 8,
     "metadata": {},
     "output_type": "execute_result"
    }
   ],
   "source": [
    "# 위의 결과를 태그를 제거해서 깔끔하게 뽑아보자 \n",
    "#requests과 BeautifulSoup의 조합 \n",
    "import requests \n",
    "import re\n",
    "\n",
    "url = \"http://www.kma.go.kr/weather/forecast/mid-term-rss3.jsp\"\n",
    "data = requests.get(url).text\n",
    "soup = BeautifulSoup(data, 'html.parser')\n",
    "wf = soup.find('wf').string\n",
    "#여기 위까지는 위의 코드블럭이랑 똑같은 과정인겨 \n",
    "wf = re.sub('[^0-9가-힣]', ' ', wf) #한글이랑 숫자가 아닌애들은 공백 ! \n",
    "wf\n",
    "\n",
    "#re.sub(pattern, repl, string)\n",
    "# string에서 패턴과 매치하는 텍스트를 repl로 치환한다. "
   ]
  },
  {
   "cell_type": "markdown",
   "id": "8e534bb9",
   "metadata": {},
   "source": [
    "####  과제0722_2\n",
    "- wf를 다시 정렬하여 불필요한 부분을 제거해서 아래와 같은 형식으로 출력하세요.(글자 선으로 그어진거 무시)\n",
    "\n",
    "(강수) 23일(토) 오후부터 24일(일) 오전 사이 전국에 비가 오겠고, 강원영동은 24일(일) 오후까지 이어지는 곳이 있겠습니다. 27일(수)은 수도권과 강원영서에 비가 오겠습니다.(기온) 이번 예보기간 아침 기온은 22~26도로 어제(19일, 아침최저기온 20~24도)보다 조금 높겠고, 낮 기온은 28~34도로 어제(낮최고기온 27~34도)와 비슷하겠습니다.(주말전망) 23일(토) 오후부터 24일(일) 오전 사이 전국에 비가 오겠고, 강원영동은 24일(일) 오후까지 이어지는 곳이 있겠습니다.\n"
   ]
  },
  {
   "cell_type": "code",
   "execution_count": 9,
   "id": "bf09d11c",
   "metadata": {},
   "outputs": [
    {
     "data": {
      "text/plain": [
       "' (강수) 30일(토)은 전라권에 소나기가 오는 곳이 있겠고, 31일(일)~ 8월 2일(화)에는 제주도에 비가 오겠습니다. (기온) 이번 예보기간 아침 기온은 24~26도, 낮 기온은 29~34도로 어제(26일, 아침최저기온 22~24도, 낮최고기온 28~35도)와 비슷하겠습니다. (주말전망) 30일(토)은 가끔 구름많고 전라권에는 오후에 소나기가 오는 곳이 있겠고, 31일(일)은 가끔 구름많겠으나, 제주도에는 흐리고 비가 오겠습니다. 아침 기온은 24~26도, 낮 기온은 29~34도가 되겠습니다. 이번 예보기간에는 북태평양고기압의 확장 정도와 제10호 열대저압부( )의 이동경로에 따라 강수의 변동성이 크겠으니, 앞으로 발표되는 기상정보를 참고하기 바랍니다.'"
      ]
     },
     "execution_count": 9,
     "metadata": {},
     "output_type": "execute_result"
    }
   ],
   "source": [
    "import warnings\n",
    "warnings.filterwarnings('ignore')\n",
    "\n",
    "from bs4 import BeautifulSoup\n",
    "import urllib.request as req\n",
    "\n",
    "url = \"http://www.kma.go.kr/weather/forecast/mid-term-rss3.jsp\" \n",
    "res = req.urlopen(url)\n",
    "soup = BeautifulSoup(res, 'html.parser')\n",
    "text = soup.find('wf').string\n",
    "text = re.sub('[^,.~(0-9가-힣)]+', ' ', text) \n",
    "text"
   ]
  },
  {
   "cell_type": "markdown",
   "id": "ddc2c94b",
   "metadata": {},
   "source": [
    "### 다시 수업"
   ]
  },
  {
   "cell_type": "code",
   "execution_count": 10,
   "id": "3df69490",
   "metadata": {},
   "outputs": [
    {
     "name": "stdout",
     "output_type": "stream",
     "text": [
      "   강수  30일 토 은 전라권에 소나기가 오는 곳이 있겠고  31일 일   8월 2일 화 에는 제주도에 비가 오겠습니다           기온  이번 예보기간 아침 기온은 24 26도  낮 기온은 29 34도로 어제 26일  아침최저기온 22 24도  낮최고기온 28 35도 와 비슷하겠습니다          주말전망  30일 토 은 가끔 구름많고 전라권에는 오후에 소나기가 오는 곳이 있겠고  31일 일 은 가끔 구름많겠으나  제주도에는 흐리고 비가 오겠습니다                     아침 기온은 24 26도  낮 기온은 29 34도가 되겠습니다               이번 예보기간에는 북태평양고기압의 확장 정도와 제10호 열대저압부    의 이동경로에 따라 강수의 변동성이 크겠으니  앞으로 발표되는 기상정보를 참고하기 바랍니다  \n",
      "\n",
      "맑음 \n",
      "\n",
      "구름많음 \n",
      "\n",
      "흐림 \n",
      "\n",
      "흐림 \n",
      "\n",
      "흐림 \n",
      "\n",
      "흐림 \n",
      "\n",
      "흐림 \n",
      "\n",
      "흐림 \n",
      "\n",
      "흐림 \n",
      "\n",
      "흐림 \n",
      "\n",
      "흐림 \n",
      "\n",
      "흐림 \n",
      "\n",
      "흐림 \n",
      "\n",
      "맑음 \n",
      "\n",
      "구름많음 \n",
      "\n",
      "흐림 \n",
      "\n",
      "흐림 \n",
      "\n",
      "흐림 \n",
      "\n",
      "흐림 \n",
      "\n",
      "흐림 \n",
      "\n",
      "흐림 \n",
      "\n",
      "흐림 \n",
      "\n",
      "흐림 \n",
      "\n",
      "흐림 \n",
      "\n",
      "흐림 \n",
      "\n",
      "흐림 \n",
      "\n",
      "맑음 \n",
      "\n",
      "구름많음 \n",
      "\n",
      "흐림 \n",
      "\n",
      "흐림 \n",
      "\n",
      "흐림 \n",
      "\n",
      "흐림 \n",
      "\n",
      "흐림 \n",
      "\n",
      "흐림 \n",
      "\n",
      "흐림 \n",
      "\n",
      "흐림 \n",
      "\n",
      "흐림 \n",
      "\n",
      "흐림 \n",
      "\n",
      "흐림 \n",
      "\n",
      "맑음 \n",
      "\n",
      "구름많음 \n",
      "\n",
      "흐림 \n",
      "\n",
      "흐림 \n",
      "\n",
      "흐림 \n",
      "\n",
      "흐림 \n",
      "\n",
      "흐림 \n",
      "\n",
      "흐림 \n",
      "\n",
      "흐림 \n",
      "\n",
      "흐림 \n",
      "\n",
      "흐림 \n",
      "\n",
      "흐림 \n",
      "\n",
      "흐림 \n",
      "\n",
      "맑음 \n",
      "\n",
      "구름많음 \n",
      "\n",
      "흐림 \n",
      "\n",
      "흐림 \n",
      "\n",
      "흐림 \n",
      "\n",
      "흐림 \n",
      "\n",
      "흐림 \n",
      "\n",
      "흐림 \n",
      "\n",
      "흐림 \n",
      "\n",
      "흐림 \n",
      "\n",
      "흐림 \n",
      "\n",
      "흐림 \n",
      "\n",
      "흐림 \n",
      "\n",
      "맑음 \n",
      "\n",
      "구름많음 \n",
      "\n",
      "흐림 \n",
      "\n",
      "흐림 \n",
      "\n",
      "흐림 \n",
      "\n",
      "흐림 \n",
      "\n",
      "흐림 \n",
      "\n",
      "흐림 \n",
      "\n",
      "흐림 \n",
      "\n",
      "흐림 \n",
      "\n",
      "흐림 \n",
      "\n",
      "흐림 \n",
      "\n",
      "흐림 \n",
      "\n",
      "구름많음 \n",
      "\n",
      "구름많음 \n",
      "\n",
      "흐림 \n",
      "\n",
      "흐림 \n",
      "\n",
      "흐림 \n",
      "\n",
      "흐림 \n",
      "\n",
      "흐림 \n",
      "\n",
      "흐림 \n",
      "\n",
      "흐림 \n",
      "\n",
      "흐림 \n",
      "\n",
      "흐림 \n",
      "\n",
      "흐림 \n",
      "\n",
      "흐림 \n",
      "\n",
      "구름많음 \n",
      "\n",
      "구름많음 \n",
      "\n",
      "흐림 \n",
      "\n",
      "흐림 \n",
      "\n",
      "흐림 \n",
      "\n",
      "흐림 \n",
      "\n",
      "흐림 \n",
      "\n",
      "흐림 \n",
      "\n",
      "흐림 \n",
      "\n",
      "흐림 \n",
      "\n",
      "흐림 \n",
      "\n",
      "흐림 \n",
      "\n",
      "흐림 \n",
      "\n",
      "구름많음 \n",
      "\n",
      "흐림 \n",
      "\n",
      "흐림 \n",
      "\n",
      "흐림 \n",
      "\n",
      "흐림 \n",
      "\n",
      "흐림 \n",
      "\n",
      "흐림 \n",
      "\n",
      "흐림 \n",
      "\n",
      "구름많음 \n",
      "\n",
      "흐림 \n",
      "\n",
      "흐림 \n",
      "\n",
      "구름많음 \n",
      "\n",
      "구름많음 \n",
      "\n",
      "맑음 \n",
      "\n",
      "구름많음 \n",
      "\n",
      "구름많음 \n",
      "\n",
      "흐림 \n",
      "\n",
      "흐림 \n",
      "\n",
      "흐림 \n",
      "\n",
      "흐림 \n",
      "\n",
      "흐림 \n",
      "\n",
      "흐림 \n",
      "\n",
      "흐림 \n",
      "\n",
      "흐림 \n",
      "\n",
      "흐림 \n",
      "\n",
      "흐림 \n",
      "\n",
      "맑음 \n",
      "\n",
      "구름많음 \n",
      "\n",
      "구름많음 \n",
      "\n",
      "흐림 \n",
      "\n",
      "흐림 \n",
      "\n",
      "흐림 \n",
      "\n",
      "흐림 \n",
      "\n",
      "흐림 \n",
      "\n",
      "흐림 \n",
      "\n",
      "흐림 \n",
      "\n",
      "흐림 \n",
      "\n",
      "흐림 \n",
      "\n",
      "흐림 \n",
      "\n",
      "맑음 \n",
      "\n",
      "구름많음 \n",
      "\n",
      "구름많음 \n",
      "\n",
      "흐림 \n",
      "\n",
      "흐림 \n",
      "\n",
      "흐림 \n",
      "\n",
      "흐림 \n",
      "\n",
      "흐림 \n",
      "\n",
      "흐림 \n",
      "\n",
      "흐림 \n",
      "\n",
      "흐림 \n",
      "\n",
      "흐림 \n",
      "\n",
      "흐림 \n",
      "\n",
      "맑음 \n",
      "\n",
      "구름많음 \n",
      "\n",
      "구름많음 \n",
      "\n",
      "흐림 \n",
      "\n",
      "흐림 \n",
      "\n",
      "흐림 \n",
      "\n",
      "흐림 \n",
      "\n",
      "흐림 \n",
      "\n",
      "흐림 \n",
      "\n",
      "흐림 \n",
      "\n",
      "흐림 \n",
      "\n",
      "흐림 \n",
      "\n",
      "흐림 \n",
      "\n",
      "맑음 \n",
      "\n",
      "구름많음 \n",
      "\n",
      "구름많음 \n",
      "\n",
      "흐림 \n",
      "\n",
      "흐림 \n",
      "\n",
      "흐림 \n",
      "\n",
      "흐림 \n",
      "\n",
      "흐림 \n",
      "\n",
      "흐림 \n",
      "\n",
      "흐림 \n",
      "\n",
      "흐림 \n",
      "\n",
      "흐림 \n",
      "\n",
      "흐림 \n",
      "\n",
      "맑음 \n",
      "\n",
      "구름많음 \n",
      "\n",
      "구름많음 \n",
      "\n",
      "흐림 \n",
      "\n",
      "흐림 \n",
      "\n",
      "흐림 \n",
      "\n",
      "흐림 \n",
      "\n",
      "흐림 \n",
      "\n",
      "흐림 \n",
      "\n",
      "흐림 \n",
      "\n",
      "흐림 \n",
      "\n",
      "흐림 \n",
      "\n",
      "흐림 \n",
      "\n",
      "맑음 \n",
      "\n",
      "구름많고 소나기 \n",
      "\n",
      "흐림 \n",
      "\n",
      "흐림 \n",
      "\n",
      "흐림 \n",
      "\n",
      "흐림 \n",
      "\n",
      "흐림 \n",
      "\n",
      "흐림 \n",
      "\n",
      "흐림 \n",
      "\n",
      "흐림 \n",
      "\n",
      "흐림 \n",
      "\n",
      "흐림 \n",
      "\n",
      "흐림 \n",
      "\n",
      "맑음 \n",
      "\n",
      "구름많고 소나기 \n",
      "\n",
      "흐림 \n",
      "\n",
      "흐림 \n",
      "\n",
      "흐림 \n",
      "\n",
      "흐림 \n",
      "\n",
      "흐림 \n",
      "\n",
      "흐림 \n",
      "\n",
      "흐림 \n",
      "\n",
      "흐림 \n",
      "\n",
      "흐림 \n",
      "\n",
      "흐림 \n",
      "\n",
      "흐림 \n",
      "\n",
      "맑음 \n",
      "\n",
      "구름많고 소나기 \n",
      "\n",
      "흐림 \n",
      "\n",
      "흐림 \n",
      "\n",
      "흐림 \n",
      "\n",
      "흐림 \n",
      "\n",
      "흐림 \n",
      "\n",
      "흐림 \n",
      "\n",
      "흐림 \n",
      "\n",
      "흐림 \n",
      "\n",
      "흐림 \n",
      "\n",
      "흐림 \n",
      "\n",
      "흐림 \n",
      "\n",
      "맑음 \n",
      "\n",
      "구름많고 소나기 \n",
      "\n",
      "흐림 \n",
      "\n",
      "흐림 \n",
      "\n",
      "흐림 \n",
      "\n",
      "흐림 \n",
      "\n",
      "흐림 \n",
      "\n",
      "흐림 \n",
      "\n",
      "흐림 \n",
      "\n",
      "흐림 \n",
      "\n",
      "흐림 \n",
      "\n",
      "흐림 \n",
      "\n",
      "흐림 \n",
      "\n",
      "맑음 \n",
      "\n",
      "구름많고 소나기 \n",
      "\n",
      "흐림 \n",
      "\n",
      "흐림 \n",
      "\n",
      "흐림 \n",
      "\n",
      "흐림 \n",
      "\n",
      "흐림 \n",
      "\n",
      "흐림 \n",
      "\n",
      "흐림 \n",
      "\n",
      "흐림 \n",
      "\n",
      "흐림 \n",
      "\n",
      "흐림 \n",
      "\n",
      "흐림 \n",
      "\n",
      "맑음 \n",
      "\n",
      "구름많고 소나기 \n",
      "\n",
      "흐림 \n",
      "\n",
      "흐림 \n",
      "\n",
      "흐림 \n",
      "\n",
      "흐림 \n",
      "\n",
      "흐림 \n",
      "\n",
      "흐림 \n",
      "\n",
      "흐림 \n",
      "\n",
      "흐림 \n",
      "\n",
      "흐림 \n",
      "\n",
      "흐림 \n",
      "\n",
      "흐림 \n",
      "\n",
      "맑음 \n",
      "\n",
      "구름많고 소나기 \n",
      "\n",
      "흐림 \n",
      "\n",
      "흐림 \n",
      "\n",
      "흐림 \n",
      "\n",
      "흐림 \n",
      "\n",
      "흐림 \n",
      "\n",
      "흐림 \n",
      "\n",
      "흐림 \n",
      "\n",
      "흐림 \n",
      "\n",
      "흐림 \n",
      "\n",
      "흐림 \n",
      "\n",
      "흐림 \n",
      "\n",
      "맑음 \n",
      "\n",
      "구름많고 소나기 \n",
      "\n",
      "흐림 \n",
      "\n",
      "흐림 \n",
      "\n",
      "흐림 \n",
      "\n",
      "흐림 \n",
      "\n",
      "흐림 \n",
      "\n",
      "흐림 \n",
      "\n",
      "흐림 \n",
      "\n",
      "흐림 \n",
      "\n",
      "흐림 \n",
      "\n",
      "흐림 \n",
      "\n",
      "흐림 \n",
      "\n",
      "맑음 \n",
      "\n",
      "구름많고 소나기 \n",
      "\n",
      "흐림 \n",
      "\n",
      "흐림 \n",
      "\n",
      "흐림 \n",
      "\n",
      "흐림 \n",
      "\n",
      "흐림 \n",
      "\n",
      "흐림 \n",
      "\n",
      "흐림 \n",
      "\n",
      "흐림 \n",
      "\n",
      "흐림 \n",
      "\n",
      "흐림 \n",
      "\n",
      "흐림 \n",
      "\n",
      "맑음 \n",
      "\n",
      "구름많고 소나기 \n",
      "\n",
      "흐림 \n",
      "\n",
      "흐림 \n",
      "\n",
      "흐림 \n",
      "\n",
      "흐림 \n",
      "\n",
      "흐림 \n",
      "\n",
      "흐림 \n",
      "\n",
      "흐림 \n",
      "\n",
      "흐림 \n",
      "\n",
      "흐림 \n",
      "\n",
      "흐림 \n",
      "\n",
      "흐림 \n",
      "\n",
      "맑음 \n",
      "\n",
      "구름많고 소나기 \n",
      "\n",
      "흐림 \n",
      "\n",
      "흐림 \n",
      "\n",
      "흐림 \n",
      "\n",
      "흐림 \n",
      "\n",
      "흐림 \n",
      "\n",
      "흐림 \n",
      "\n",
      "흐림 \n",
      "\n",
      "흐림 \n",
      "\n",
      "흐림 \n",
      "\n",
      "흐림 \n",
      "\n",
      "흐림 \n",
      "\n",
      "맑음 \n",
      "\n",
      "구름많고 소나기 \n",
      "\n",
      "흐림 \n",
      "\n",
      "흐림 \n",
      "\n",
      "흐림 \n",
      "\n",
      "흐림 \n",
      "\n",
      "흐림 \n",
      "\n",
      "흐림 \n",
      "\n",
      "흐림 \n",
      "\n",
      "흐림 \n",
      "\n",
      "흐림 \n",
      "\n",
      "흐림 \n",
      "\n",
      "흐림 \n",
      "\n",
      "구름많음 \n",
      "\n",
      "구름많음 \n",
      "\n",
      "구름많음 \n",
      "\n",
      "흐림 \n",
      "\n",
      "흐림 \n",
      "\n",
      "흐림 \n",
      "\n",
      "흐림 \n",
      "\n",
      "흐림 \n",
      "\n",
      "흐림 \n",
      "\n",
      "구름많음 \n",
      "\n",
      "흐림 \n",
      "\n",
      "흐림 \n",
      "\n",
      "흐림 \n",
      "\n",
      "구름많음 \n",
      "\n",
      "구름많음 \n",
      "\n",
      "구름많음 \n",
      "\n",
      "흐림 \n",
      "\n",
      "흐림 \n",
      "\n",
      "흐림 \n",
      "\n",
      "흐림 \n",
      "\n",
      "흐림 \n",
      "\n",
      "흐림 \n",
      "\n",
      "구름많음 \n",
      "\n",
      "흐림 \n",
      "\n",
      "흐림 \n",
      "\n",
      "흐림 \n",
      "\n",
      "구름많음 \n",
      "\n",
      "구름많음 \n",
      "\n",
      "구름많음 \n",
      "\n",
      "흐림 \n",
      "\n",
      "흐림 \n",
      "\n",
      "흐림 \n",
      "\n",
      "흐림 \n",
      "\n",
      "흐림 \n",
      "\n",
      "흐림 \n",
      "\n",
      "구름많음 \n",
      "\n",
      "흐림 \n",
      "\n",
      "흐림 \n",
      "\n",
      "흐림 \n",
      "\n",
      "구름많음 \n",
      "\n",
      "구름많음 \n",
      "\n",
      "구름많음 \n",
      "\n",
      "흐림 \n",
      "\n",
      "흐림 \n",
      "\n",
      "흐림 \n",
      "\n",
      "흐림 \n",
      "\n",
      "흐림 \n",
      "\n",
      "흐림 \n",
      "\n",
      "구름많음 \n",
      "\n",
      "흐림 \n",
      "\n",
      "흐림 \n",
      "\n",
      "흐림 \n",
      "\n",
      "구름많음 \n",
      "\n",
      "구름많음 \n",
      "\n",
      "구름많음 \n",
      "\n",
      "흐림 \n",
      "\n",
      "흐림 \n",
      "\n",
      "흐림 \n",
      "\n",
      "흐림 \n",
      "\n",
      "흐림 \n",
      "\n",
      "흐림 \n",
      "\n",
      "구름많음 \n",
      "\n",
      "흐림 \n",
      "\n",
      "흐림 \n",
      "\n",
      "흐림 \n",
      "\n",
      "구름많음 \n",
      "\n",
      "구름많음 \n",
      "\n",
      "구름많음 \n",
      "\n",
      "흐림 \n",
      "\n",
      "흐림 \n",
      "\n",
      "흐림 \n",
      "\n",
      "흐림 \n",
      "\n",
      "흐림 \n",
      "\n",
      "흐림 \n",
      "\n",
      "구름많음 \n",
      "\n",
      "흐림 \n",
      "\n",
      "흐림 \n",
      "\n",
      "흐림 \n",
      "\n",
      "구름많음 \n",
      "\n",
      "구름많음 \n",
      "\n",
      "구름많음 \n",
      "\n",
      "흐림 \n",
      "\n",
      "흐림 \n",
      "\n",
      "흐림 \n",
      "\n",
      "흐림 \n",
      "\n",
      "흐림 \n",
      "\n",
      "흐림 \n",
      "\n",
      "흐림 \n",
      "\n",
      "흐림 \n",
      "\n",
      "흐림 \n",
      "\n",
      "흐림 \n",
      "\n",
      "구름많음 \n",
      "\n",
      "구름많음 \n",
      "\n",
      "구름많음 \n",
      "\n",
      "흐림 \n",
      "\n",
      "흐림 \n",
      "\n",
      "흐림 \n",
      "\n",
      "흐림 \n",
      "\n",
      "흐림 \n",
      "\n",
      "흐림 \n",
      "\n",
      "흐림 \n",
      "\n",
      "흐림 \n",
      "\n",
      "흐림 \n",
      "\n",
      "흐림 \n",
      "\n",
      "구름많음 \n",
      "\n",
      "구름많음 \n",
      "\n",
      "구름많음 \n",
      "\n",
      "흐림 \n",
      "\n",
      "흐림 \n",
      "\n",
      "흐림 \n",
      "\n",
      "흐림 \n",
      "\n",
      "흐림 \n",
      "\n",
      "흐림 \n",
      "\n",
      "흐림 \n",
      "\n",
      "흐림 \n",
      "\n",
      "흐림 \n",
      "\n",
      "흐림 \n",
      "\n",
      "구름많음 \n",
      "\n",
      "구름많음 \n",
      "\n",
      "구름많음 \n",
      "\n",
      "흐림 \n",
      "\n",
      "흐림 \n",
      "\n",
      "흐림 \n",
      "\n",
      "흐림 \n",
      "\n",
      "흐림 \n",
      "\n",
      "흐림 \n",
      "\n",
      "흐림 \n",
      "\n",
      "흐림 \n",
      "\n",
      "흐림 \n",
      "\n",
      "흐림 \n",
      "\n",
      "구름많음 \n",
      "\n",
      "구름많음 \n",
      "\n",
      "구름많음 \n",
      "\n",
      "흐림 \n",
      "\n",
      "흐림 \n",
      "\n",
      "흐림 \n",
      "\n",
      "흐림 \n",
      "\n",
      "흐림 \n",
      "\n",
      "흐림 \n",
      "\n",
      "흐림 \n",
      "\n",
      "흐림 \n",
      "\n",
      "흐림 \n",
      "\n",
      "흐림 \n",
      "\n",
      "구름많음 \n",
      "\n",
      "구름많음 \n",
      "\n",
      "구름많음 \n",
      "\n",
      "흐림 \n",
      "\n",
      "흐림 \n",
      "\n",
      "흐림 \n",
      "\n",
      "흐림 \n",
      "\n",
      "흐림 \n",
      "\n",
      "흐림 \n",
      "\n",
      "흐림 \n",
      "\n",
      "흐림 \n",
      "\n",
      "흐림 \n",
      "\n",
      "흐림 \n",
      "\n",
      "구름많음 \n",
      "\n",
      "흐림 \n",
      "\n",
      "흐리고 비 \n",
      "\n",
      "흐리고 비 \n",
      "\n",
      "흐리고 비 \n",
      "\n",
      "흐리고 비 \n",
      "\n",
      "흐리고 비 \n",
      "\n",
      "흐림 \n",
      "\n",
      "흐림 \n",
      "\n",
      "구름많음 \n",
      "\n",
      "흐림 \n",
      "\n",
      "흐림 \n",
      "\n",
      "흐림 \n",
      "\n",
      "구름많음 \n",
      "\n",
      "흐림 \n",
      "\n",
      "흐리고 비 \n",
      "\n",
      "흐리고 비 \n",
      "\n",
      "흐리고 비 \n",
      "\n",
      "흐리고 비 \n",
      "\n",
      "흐리고 비 \n",
      "\n",
      "흐림 \n",
      "\n",
      "흐림 \n",
      "\n",
      "구름많음 \n",
      "\n",
      "흐림 \n",
      "\n",
      "흐림 \n",
      "\n",
      "흐림 \n",
      "\n"
     ]
    }
   ],
   "source": [
    "texts = soup.find_all('wf')\n",
    "for t in texts:\n",
    "    t = t.text\n",
    "    t = re.sub('[^0-9가-힣]', ' ', t)\n",
    "    print(t, '\\n')"
   ]
  },
  {
   "cell_type": "code",
   "execution_count": 4,
   "id": "aa935018",
   "metadata": {},
   "outputs": [
    {
     "data": {
      "text/plain": [
       "[<span class=\"fix\"><span class=\"common_ico_kwd\"><i class=\"imsc ico_search\"></i></span><span>@txt@</span></span>,\n",
       " <span class=\"fix\"><span class=\"common_ico_kwd\"><i class=\"imsc ico_search\"></i></span>@txt@</span>,\n",
       " <span class=\"fix\"><span class=\"common_ico_kwd\"><i class=\"imsc ico_search\"></i></span>@txt@</span>,\n",
       " <span class=\"fix\"><span class=\"common_ico_kwd\"><i class=\"imsc ico_search\"></i></span>@query@ <span class=\"context\">@intend@</span></span>]"
      ]
     },
     "execution_count": 4,
     "metadata": {},
     "output_type": "execute_result"
    }
   ],
   "source": [
    "#findall로 태그에 속성까지 지정해서 파싱하기\n",
    "req = requests.get('http://naver.com')\n",
    "html = req.text\n",
    "# print(html)\n",
    "\n",
    "soup = BeautifulSoup(html, 'html.parser')\n",
    "# result = soup.find_all('span', class_='blind')[0] #태그와 클래스까지 주고 찾기\n",
    "# result = soup.find_all('span', class_='fix') #_를 써주는 이유는 class가 예약어라 그래\n",
    "result = soup.find_all('span', attrs= {'class':'fix'}) #딕셔너리 타입으로 속성 줄 수있음 #여기는 class를 ''로 묶어주니까 언더바 안 써도 됨.\n",
    "# result = soup.find_all('span')\n",
    "result"
   ]
  },
  {
   "cell_type": "code",
   "execution_count": 6,
   "id": "38b6aa31",
   "metadata": {},
   "outputs": [
    {
     "name": "stdout",
     "output_type": "stream",
     "text": [
      "['네이버']\n",
      "['네이버', '네이버를 시작페이지로', '쥬니어네이버', '언론사가 직접 편집한 뉴스들을 네이버 홈에서 바로 보실 수 있습니다.', '네이버스포츠', '네이버스포츠', '네이버스포츠', '네이버스포츠', '네이버스포츠', '네이버스포츠', '크보연구소_네이버스포츠', '크보연구소_네이버스포츠', '크보연구소_네이버스포츠', '네이버스포츠', '네이버스포츠', '네이버스포츠', '네이버스포츠', '네이버스포츠', '네이버 멤버십으로 MLB 주요 경기 프리패스!', '네이버스포츠', '크보연구소_네이버스포츠', '크보연구소_네이버스포츠', '크보연구소_네이버스포츠', '크보연구소_네이버스포츠', '네이버 개발자 센터', '네이버 D2', '네이버 D2SF', '네이버 랩스', '네이버 정책 및 약관', '네이버 정책']\n"
     ]
    }
   ],
   "source": [
    "import re\n",
    "import requests \n",
    "from bs4 import BeautifulSoup\n",
    "\n",
    "\n",
    "req = requests.get('https://naver.com')\n",
    "soup = BeautifulSoup(html, 'html.parser')\n",
    "soup\n",
    "print(soup.find_all(string = '네이버')) #문자열이 '네이버'인 것 찾는거임\n",
    "print(soup.find_all(string=re.compile('네이버'))) #문자열이 들어간 패턴 객체를 string에 반환 "
   ]
  },
  {
   "cell_type": "markdown",
   "id": "0c25b67e",
   "metadata": {},
   "source": [
    "select_one(), select()\n",
    "- CSS 선택자를 활용하여 원하는 정보를 가져옴(태그를 검색하는 find, find_all과 비슷함)\n",
    "- class는 .\n",
    "- id는 #로 표시\n",
    "\n",
    "- select_one()은 select된 첫 번째 element를 한 개 리턴\n",
    "-select()는 select된 모든 element들의 list를 리턴한다.\n",
    "만약 한 개도 select 되지 않았다면 비어있는 list를 리턴한다.\n",
    "이와 다르게 select_one()은 select 된 게 없다면 None을 리턴한다.\n",
    "-select()는 list로 받아오기 때문에 index 값을 사용해 값에 접근할 수 있다.\n",
    "\n"
   ]
  },
  {
   "cell_type": "code",
   "execution_count": 13,
   "id": "c5eb2573",
   "metadata": {},
   "outputs": [
    {
     "name": "stdout",
     "output_type": "stream",
     "text": [
      "usd/krw =  1,309.10\n"
     ]
    }
   ],
   "source": [
    "import urllib.request as req\n",
    "url = \"https://finance.naver.com/marketindex/\" #네이버 환율 사이트임 \n",
    "\n",
    "res = req.urlopen(url)\n",
    "soup = BeautifulSoup(res, 'html.parser')\n",
    "price = soup.select_one('div.head_info > span.value').string\n",
    "\n",
    "# 얘는 네이버> 시장지표에서 어떤 숫자 f12로 클릭하고\n",
    "#오른쪽버튼 하고 copy selector했음\n",
    "price = soup.select_one('#exchangeList > li.on > a.head.usd > div > span.value').string\n",
    "print('usd/krw = ', price)\n",
    "\n"
   ]
  },
  {
   "cell_type": "code",
   "execution_count": 14,
   "id": "6db65049",
   "metadata": {},
   "outputs": [],
   "source": [
    "html_doc = \"\"\"<html><head><title>The Dormouse's story</title></head>\n",
    "<body>\n",
    "<div></div>\n",
    "<p class=\"title\"><b>The Dormouse's story</b></p>\n",
    "\n",
    "<p class=\"story\">Once upon a time there were three little sisters; and their names were\n",
    "<a href=\"http://example.com/elsie\" class=\"sister\" id=\"link1\">Elsie</a>,\n",
    "<a href=\"http://example.com/lacie\" class=\"sister\" id=\"link2\">Lacie</a> and\n",
    "<a href=\"http://example.com/tillie\" class=\"sister\" id=\"link3\">Tillie</a>;\n",
    "and they lived at the bottom of a well.</p>\n",
    "\n",
    "<p class=\"story\">...</p>\n",
    "\"\"\"\n"
   ]
  },
  {
   "cell_type": "code",
   "execution_count": 15,
   "id": "1eda97f8",
   "metadata": {},
   "outputs": [
    {
     "name": "stdout",
     "output_type": "stream",
     "text": [
      "Requirement already satisfied: lxml in c:\\users\\admin\\anaconda3\\envs\\cakd7\\lib\\site-packages (4.9.1)\n"
     ]
    }
   ],
   "source": [
    "!pip install lxml"
   ]
  },
  {
   "cell_type": "code",
   "execution_count": 16,
   "id": "23c8d1aa",
   "metadata": {},
   "outputs": [
    {
     "name": "stdout",
     "output_type": "stream",
     "text": [
      "<html>\n",
      " <head>\n",
      "  <title>\n",
      "   The Dormouse's story\n",
      "  </title>\n",
      " </head>\n",
      " <body>\n",
      "  <div>\n",
      "  </div>\n",
      "  <p class=\"title\">\n",
      "   <b>\n",
      "    The Dormouse's story\n",
      "   </b>\n",
      "  </p>\n",
      "  <p class=\"story\">\n",
      "   Once upon a time there were three little sisters; and their names were\n",
      "   <a class=\"sister\" href=\"http://example.com/elsie\" id=\"link1\">\n",
      "    Elsie\n",
      "   </a>\n",
      "   ,\n",
      "   <a class=\"sister\" href=\"http://example.com/lacie\" id=\"link2\">\n",
      "    Lacie\n",
      "   </a>\n",
      "   and\n",
      "   <a class=\"sister\" href=\"http://example.com/tillie\" id=\"link3\">\n",
      "    Tillie\n",
      "   </a>\n",
      "   ;\n",
      "and they lived at the bottom of a well.\n",
      "  </p>\n",
      "  <p class=\"story\">\n",
      "   ...\n",
      "  </p>\n",
      " </body>\n",
      "</html>\n"
     ]
    }
   ],
   "source": [
    "from bs4 import BeautifulSoup\n",
    "\n",
    "bs = BeautifulSoup(html_doc, 'html.parser') #파싱하는 방법 중 html_parser도 많이 쓰지만 lxml 도 많이 쓴다 \n",
    "\n",
    "print(bs.prettify())"
   ]
  },
  {
   "cell_type": "code",
   "execution_count": 17,
   "id": "733c07e7",
   "metadata": {},
   "outputs": [
    {
     "data": {
      "text/plain": [
       "<title>The Dormouse's story</title>"
      ]
     },
     "execution_count": 17,
     "metadata": {},
     "output_type": "execute_result"
    }
   ],
   "source": [
    "bs.title"
   ]
  },
  {
   "cell_type": "code",
   "execution_count": 18,
   "id": "3d5be2e9",
   "metadata": {},
   "outputs": [
    {
     "data": {
      "text/plain": [
       "'title'"
      ]
     },
     "execution_count": 18,
     "metadata": {},
     "output_type": "execute_result"
    }
   ],
   "source": [
    "bs.title.name #태그명 뽑기 "
   ]
  },
  {
   "cell_type": "code",
   "execution_count": 19,
   "id": "86e5bc94",
   "metadata": {},
   "outputs": [
    {
     "data": {
      "text/plain": [
       "'head'"
      ]
     },
     "execution_count": 19,
     "metadata": {},
     "output_type": "execute_result"
    }
   ],
   "source": [
    "bs.title.parent.name"
   ]
  },
  {
   "cell_type": "code",
   "execution_count": 20,
   "id": "ea1f16e3",
   "metadata": {},
   "outputs": [
    {
     "data": {
      "text/plain": [
       "<p class=\"title\"><b>The Dormouse's story</b></p>"
      ]
     },
     "execution_count": 20,
     "metadata": {},
     "output_type": "execute_result"
    }
   ],
   "source": [
    "bs.p"
   ]
  },
  {
   "cell_type": "code",
   "execution_count": 21,
   "id": "9d566771",
   "metadata": {},
   "outputs": [
    {
     "data": {
      "text/plain": [
       "<a class=\"sister\" href=\"http://example.com/elsie\" id=\"link1\">Elsie</a>"
      ]
     },
     "execution_count": 21,
     "metadata": {},
     "output_type": "execute_result"
    }
   ],
   "source": [
    "bs.a #이렇게하면 처음 거만나와"
   ]
  },
  {
   "cell_type": "code",
   "execution_count": 22,
   "id": "77d60628",
   "metadata": {},
   "outputs": [
    {
     "data": {
      "text/plain": [
       "[<a class=\"sister\" href=\"http://example.com/elsie\" id=\"link1\">Elsie</a>,\n",
       " <a class=\"sister\" href=\"http://example.com/lacie\" id=\"link2\">Lacie</a>,\n",
       " <a class=\"sister\" href=\"http://example.com/tillie\" id=\"link3\">Tillie</a>]"
      ]
     },
     "execution_count": 22,
     "metadata": {},
     "output_type": "execute_result"
    }
   ],
   "source": [
    "bs.find_all('a') #이렇게하면 다 나오지 "
   ]
  },
  {
   "cell_type": "code",
   "execution_count": 23,
   "id": "a9376078",
   "metadata": {},
   "outputs": [
    {
     "data": {
      "text/plain": [
       "<a class=\"sister\" href=\"http://example.com/tillie\" id=\"link3\">Tillie</a>"
      ]
     },
     "execution_count": 23,
     "metadata": {},
     "output_type": "execute_result"
    }
   ],
   "source": [
    "bs.find(id='link3')"
   ]
  },
  {
   "cell_type": "code",
   "execution_count": 24,
   "id": "da8c4ad0",
   "metadata": {},
   "outputs": [
    {
     "data": {
      "text/plain": [
       "['sister']"
      ]
     },
     "execution_count": 24,
     "metadata": {},
     "output_type": "execute_result"
    }
   ],
   "source": [
    "#클래스 뽑는 방법\n",
    "bs.a['class']"
   ]
  },
  {
   "cell_type": "code",
   "execution_count": 25,
   "id": "2d766f58",
   "metadata": {},
   "outputs": [
    {
     "name": "stdout",
     "output_type": "stream",
     "text": [
      "http://example.com/elsie\n",
      "http://example.com/lacie\n",
      "http://example.com/tillie\n"
     ]
    }
   ],
   "source": [
    "for link in bs.find_all('a'):\n",
    "    print(link.get('href')) #속성 'href'의 값 얻기 "
   ]
  },
  {
   "cell_type": "code",
   "execution_count": 26,
   "id": "e13536c8",
   "metadata": {},
   "outputs": [
    {
     "data": {
      "text/plain": [
       "[<html><head><title>The Dormouse's story</title></head>\n",
       " <body>\n",
       " <div></div>\n",
       " <p class=\"title\"><b>The Dormouse's story</b></p>\n",
       " <p class=\"story\">Once upon a time there were three little sisters; and their names were\n",
       " <a class=\"sister\" href=\"http://example.com/elsie\" id=\"link1\">Elsie</a>,\n",
       " <a class=\"sister\" href=\"http://example.com/lacie\" id=\"link2\">Lacie</a> and\n",
       " <a class=\"sister\" href=\"http://example.com/tillie\" id=\"link3\">Tillie</a>;\n",
       " and they lived at the bottom of a well.</p>\n",
       " <p class=\"story\">...</p>\n",
       " </body></html>,\n",
       " <head><title>The Dormouse's story</title></head>,\n",
       " <title>The Dormouse's story</title>,\n",
       " <body>\n",
       " <div></div>\n",
       " <p class=\"title\"><b>The Dormouse's story</b></p>\n",
       " <p class=\"story\">Once upon a time there were three little sisters; and their names were\n",
       " <a class=\"sister\" href=\"http://example.com/elsie\" id=\"link1\">Elsie</a>,\n",
       " <a class=\"sister\" href=\"http://example.com/lacie\" id=\"link2\">Lacie</a> and\n",
       " <a class=\"sister\" href=\"http://example.com/tillie\" id=\"link3\">Tillie</a>;\n",
       " and they lived at the bottom of a well.</p>\n",
       " <p class=\"story\">...</p>\n",
       " </body>,\n",
       " <div></div>,\n",
       " <p class=\"title\"><b>The Dormouse's story</b></p>,\n",
       " <b>The Dormouse's story</b>,\n",
       " <p class=\"story\">Once upon a time there were three little sisters; and their names were\n",
       " <a class=\"sister\" href=\"http://example.com/elsie\" id=\"link1\">Elsie</a>,\n",
       " <a class=\"sister\" href=\"http://example.com/lacie\" id=\"link2\">Lacie</a> and\n",
       " <a class=\"sister\" href=\"http://example.com/tillie\" id=\"link3\">Tillie</a>;\n",
       " and they lived at the bottom of a well.</p>,\n",
       " <a class=\"sister\" href=\"http://example.com/elsie\" id=\"link1\">Elsie</a>,\n",
       " <a class=\"sister\" href=\"http://example.com/lacie\" id=\"link2\">Lacie</a>,\n",
       " <a class=\"sister\" href=\"http://example.com/tillie\" id=\"link3\">Tillie</a>,\n",
       " <p class=\"story\">...</p>]"
      ]
     },
     "execution_count": 26,
     "metadata": {},
     "output_type": "execute_result"
    }
   ],
   "source": [
    "bs.find_all()"
   ]
  },
  {
   "cell_type": "code",
   "execution_count": 27,
   "id": "cb380054",
   "metadata": {},
   "outputs": [
    {
     "data": {
      "text/plain": [
       "[<p class=\"title\"><b>The Dormouse's story</b></p>,\n",
       " <p class=\"story\">Once upon a time there were three little sisters; and their names were\n",
       " <a class=\"sister\" href=\"http://example.com/elsie\" id=\"link1\">Elsie</a>,\n",
       " <a class=\"sister\" href=\"http://example.com/lacie\" id=\"link2\">Lacie</a> and\n",
       " <a class=\"sister\" href=\"http://example.com/tillie\" id=\"link3\">Tillie</a>;\n",
       " and they lived at the bottom of a well.</p>,\n",
       " <p class=\"story\">...</p>]"
      ]
     },
     "execution_count": 27,
     "metadata": {},
     "output_type": "execute_result"
    }
   ],
   "source": [
    "bs.find_all('p') #a태그는 p태그 안에 있어서 나온거지 "
   ]
  },
  {
   "cell_type": "markdown",
   "id": "9d502da1",
   "metadata": {},
   "source": [
    "- 뷰티풀숩 쓰려면 string이랑 get_text()이랑 구분해서 써야돼\n",
    "#### string vs. get_text()\n",
    "- get_text()를 이용하면 한방에 현재 HTML 문서의 모든 텍스트를 추출할 수 있습니다. 조금 더 정확히 표현하면 get_text() 메서드는 현재 태그를 포함하여 모든 하위 태그를 제거하고 유니코드 텍스트만 들어있는 문자열을 반환\n",
    "- string의 경우 문자열이 없으면 None을 출력하지만, get_text()의 경우 유니코드 형식으로 텍스트까지 문자열로 반환하기 때문에  아무 정보도 출력되지 않는다.\n",
    "- string 속성은 태그(tag) 내 문자열을 반환. get_text()를 사용하더라도 정확하게 문자열을 추출하기 위해서는 항상 마지막 태그에 메서드를 사용\n"
   ]
  },
  {
   "cell_type": "code",
   "execution_count": 28,
   "id": "a3775f4b",
   "metadata": {},
   "outputs": [
    {
     "data": {
      "text/plain": [
       "<html><head><title>The Dormouse's story</title></head>\n",
       "<body>\n",
       "<div></div>\n",
       "<p class=\"title\"><b>The Dormouse's story</b></p>\n",
       "<p class=\"story\">Once upon a time there were three little sisters; and their names were\n",
       "<a class=\"sister\" href=\"http://example.com/elsie\" id=\"link1\">Elsie</a>,\n",
       "<a class=\"sister\" href=\"http://example.com/lacie\" id=\"link2\">Lacie</a> and\n",
       "<a class=\"sister\" href=\"http://example.com/tillie\" id=\"link3\">Tillie</a>;\n",
       "and they lived at the bottom of a well.</p>\n",
       "<p class=\"story\">...</p>\n",
       "</body></html>"
      ]
     },
     "execution_count": 28,
     "metadata": {},
     "output_type": "execute_result"
    }
   ],
   "source": [
    "bs = BeautifulSoup(html_doc, 'html.parser')\n",
    "bs"
   ]
  },
  {
   "cell_type": "code",
   "execution_count": 29,
   "id": "2a67ba7c",
   "metadata": {},
   "outputs": [
    {
     "name": "stdout",
     "output_type": "stream",
     "text": [
      "None\n"
     ]
    }
   ],
   "source": [
    "print(bs.string) #얘는 태그내 문자열을 반환해서 --> 단일 문자열만을 뽑는게 더 맞는표현 "
   ]
  },
  {
   "cell_type": "code",
   "execution_count": 30,
   "id": "13e68670",
   "metadata": {},
   "outputs": [
    {
     "name": "stdout",
     "output_type": "stream",
     "text": [
      "The Dormouse's story\n",
      "\n",
      "\n",
      "The Dormouse's story\n",
      "Once upon a time there were three little sisters; and their names were\n",
      "Elsie,\n",
      "Lacie and\n",
      "Tillie;\n",
      "and they lived at the bottom of a well.\n",
      "...\n",
      "\n"
     ]
    }
   ],
   "source": [
    "print(bs.get_text())"
   ]
  },
  {
   "cell_type": "code",
   "execution_count": 31,
   "id": "1588a58b",
   "metadata": {},
   "outputs": [
    {
     "name": "stdout",
     "output_type": "stream",
     "text": [
      "None\n"
     ]
    }
   ],
   "source": [
    "print(bs.find('div').string)"
   ]
  },
  {
   "cell_type": "code",
   "execution_count": 32,
   "id": "896fe880",
   "metadata": {},
   "outputs": [
    {
     "name": "stdout",
     "output_type": "stream",
     "text": [
      "\n"
     ]
    }
   ],
   "source": [
    "print(bs.find('div').get_text()) #None조차도 출력 안함"
   ]
  },
  {
   "cell_type": "code",
   "execution_count": 33,
   "id": "a6126f5b",
   "metadata": {},
   "outputs": [
    {
     "name": "stdout",
     "output_type": "stream",
     "text": [
      "None\n"
     ]
    }
   ],
   "source": [
    "print(bs.find('body').string)"
   ]
  },
  {
   "cell_type": "code",
   "execution_count": 34,
   "id": "52d09595",
   "metadata": {},
   "outputs": [
    {
     "name": "stdout",
     "output_type": "stream",
     "text": [
      "\n",
      "\n",
      "The Dormouse's story\n",
      "Once upon a time there were three little sisters; and their names were\n",
      "Elsie,\n",
      "Lacie and\n",
      "Tillie;\n",
      "and they lived at the bottom of a well.\n",
      "...\n",
      "\n"
     ]
    }
   ],
   "source": [
    "print(bs.find('body').get_text())"
   ]
  },
  {
   "cell_type": "code",
   "execution_count": 35,
   "id": "65024b13",
   "metadata": {},
   "outputs": [
    {
     "data": {
      "text/plain": [
       "\"\\n\\nThe Dormouse's story\\nOnce upon a time there were three little sisters; and their names were\\nElsie,\\nLacie and\\nTillie;\\nand they lived at the bottom of a well.\\n...\\n\""
      ]
     },
     "execution_count": 35,
     "metadata": {},
     "output_type": "execute_result"
    }
   ],
   "source": [
    "bs.find('body').get_text() #print 안 하면 개행까지 다 나옴 "
   ]
  },
  {
   "cell_type": "code",
   "execution_count": 36,
   "id": "40480095",
   "metadata": {},
   "outputs": [
    {
     "data": {
      "text/plain": [
       "'Elsie'"
      ]
     },
     "execution_count": 36,
     "metadata": {},
     "output_type": "execute_result"
    }
   ],
   "source": [
    "bs.a.string"
   ]
  },
  {
   "cell_type": "code",
   "execution_count": 37,
   "id": "adeda784",
   "metadata": {},
   "outputs": [
    {
     "data": {
      "text/plain": [
       "[<p class=\"title\"><b>The Dormouse's story</b></p>,\n",
       " <p class=\"story\">Once upon a time there were three little sisters; and their names were\n",
       " <a class=\"sister\" href=\"http://example.com/elsie\" id=\"link1\">Elsie</a>,\n",
       " <a class=\"sister\" href=\"http://example.com/lacie\" id=\"link2\">Lacie</a> and\n",
       " <a class=\"sister\" href=\"http://example.com/tillie\" id=\"link3\">Tillie</a>;\n",
       " and they lived at the bottom of a well.</p>,\n",
       " <p class=\"story\">...</p>]"
      ]
     },
     "execution_count": 37,
     "metadata": {},
     "output_type": "execute_result"
    }
   ],
   "source": [
    "li = bs.find_all('p')\n",
    "li"
   ]
  },
  {
   "cell_type": "code",
   "execution_count": 38,
   "id": "f74f0e45",
   "metadata": {},
   "outputs": [
    {
     "name": "stdout",
     "output_type": "stream",
     "text": [
      "The Dormouse's story\n",
      "None\n",
      "...\n"
     ]
    }
   ],
   "source": [
    "li = bs.find_all('p')\n",
    "for i in li:\n",
    "    print(i.string) #두번째 p는 또 텍스트가 여러개여서 None이 나올거임 , 마지막은 단일문자열 ...이라 나옴 "
   ]
  },
  {
   "cell_type": "code",
   "execution_count": 39,
   "id": "64685a92",
   "metadata": {},
   "outputs": [
    {
     "name": "stdout",
     "output_type": "stream",
     "text": [
      "The Dormouse's story\n",
      "Once upon a time there were three little sisters; and their names were\n",
      "Elsie,\n",
      "Lacie and\n",
      "Tillie;\n",
      "and they lived at the bottom of a well.\n",
      "...\n"
     ]
    }
   ],
   "source": [
    "for i in li:\n",
    "    print(i.get_text()) #string에서 None인 부분이 다 나옴"
   ]
  },
  {
   "cell_type": "markdown",
   "id": "e451d074",
   "metadata": {},
   "source": [
    "### urllib + bs\n",
    "(웹에서 데이터 가져오는 크롤링 + 우리가 원하는 데이터 긁어오기 스크래핑)"
   ]
  },
  {
   "cell_type": "code",
   "execution_count": 40,
   "id": "4a20752d",
   "metadata": {},
   "outputs": [
    {
     "name": "stdout",
     "output_type": "stream",
     "text": [
      "Requirement already satisfied: lxml in c:\\users\\admin\\anaconda3\\envs\\cakd7\\lib\\site-packages (4.9.1)\n",
      "Note: you may need to restart the kernel to use updated packages.\n"
     ]
    }
   ],
   "source": [
    "pip install lxml"
   ]
  },
  {
   "cell_type": "code",
   "execution_count": 80,
   "id": "984871f7",
   "metadata": {
    "scrolled": true
   },
   "outputs": [
    {
     "ename": "TypeError",
     "evalue": "urlopen() got an unexpected keyword argument 'headers'",
     "output_type": "error",
     "traceback": [
      "\u001b[1;31m---------------------------------------------------------------------------\u001b[0m",
      "\u001b[1;31mTypeError\u001b[0m                                 Traceback (most recent call last)",
      "Input \u001b[1;32mIn [80]\u001b[0m, in \u001b[0;36m<cell line: 5>\u001b[1;34m()\u001b[0m\n\u001b[0;32m      2\u001b[0m headers \u001b[38;5;241m=\u001b[39m {\u001b[38;5;124m\"\u001b[39m\u001b[38;5;124mUser-Agent\u001b[39m\u001b[38;5;124m\"\u001b[39m:\u001b[38;5;124m\"\u001b[39m\u001b[38;5;124mMozilla/5.0 (Windows NT 10.0; Win64; x64) AppleWebKit/537.36 (KHTML, like Gecko) Chrome/96.0.4664.45 Safari/537.36\u001b[39m\u001b[38;5;124m\"\u001b[39m}\n\u001b[0;32m      3\u001b[0m url \u001b[38;5;241m=\u001b[39m \u001b[38;5;124m'\u001b[39m\u001b[38;5;124mhttps://news.naver.com/main/main.naver?mode=LSD&mid=shm&sid1=100\u001b[39m\u001b[38;5;124m'\u001b[39m\n\u001b[1;32m----> 5\u001b[0m html \u001b[38;5;241m=\u001b[39m \u001b[43mrq\u001b[49m\u001b[38;5;241;43m.\u001b[39;49m\u001b[43murlopen\u001b[49m\u001b[43m(\u001b[49m\u001b[43murl\u001b[49m\u001b[43m,\u001b[49m\u001b[43m \u001b[49m\u001b[43mheaders\u001b[49m\u001b[38;5;241;43m=\u001b[39;49m\u001b[43mheaders\u001b[49m\u001b[43m)\u001b[49m\n\u001b[0;32m      6\u001b[0m bs \u001b[38;5;241m=\u001b[39m BeautifulSoup(html, \u001b[38;5;124m'\u001b[39m\u001b[38;5;124mlxml\u001b[39m\u001b[38;5;124m'\u001b[39m) \u001b[38;5;66;03m#이번에는 lxml얘로 파싱\u001b[39;00m\n\u001b[0;32m      8\u001b[0m text \u001b[38;5;241m=\u001b[39m bs\u001b[38;5;241m.\u001b[39mfind(\u001b[38;5;124m'\u001b[39m\u001b[38;5;124mp\u001b[39m\u001b[38;5;124m'\u001b[39m)\n",
      "\u001b[1;31mTypeError\u001b[0m: urlopen() got an unexpected keyword argument 'headers'"
     ]
    }
   ],
   "source": [
    "import urllib.request as rq\n",
    "\n",
    "url = 'https://news.naver.com/main/main.naver?mode=LSD&mid=shm&sid1=100'\n",
    "    \n",
    "html = rq.urlopen(url)\n",
    "bs = BeautifulSoup(html, 'lxml') #이번에는 lxml얘로 파싱\n",
    "\n",
    "text = bs.find('p')\n",
    "text = text.get_text()\n",
    "text"
   ]
  },
  {
   "cell_type": "code",
   "execution_count": 42,
   "id": "a52a7600",
   "metadata": {
    "scrolled": true
   },
   "outputs": [
    {
     "ename": "AttributeError",
     "evalue": "'NoneType' object has no attribute 'string'",
     "output_type": "error",
     "traceback": [
      "\u001b[1;31m---------------------------------------------------------------------------\u001b[0m",
      "\u001b[1;31mAttributeError\u001b[0m                            Traceback (most recent call last)",
      "Input \u001b[1;32mIn [42]\u001b[0m, in \u001b[0;36m<cell line: 1>\u001b[1;34m()\u001b[0m\n\u001b[1;32m----> 1\u001b[0m \u001b[43mbs\u001b[49m\u001b[38;5;241;43m.\u001b[39;49m\u001b[43mfind\u001b[49m\u001b[43m(\u001b[49m\u001b[38;5;124;43m'\u001b[39;49m\u001b[38;5;124;43mdiv\u001b[39;49m\u001b[38;5;124;43m'\u001b[39;49m\u001b[43m)\u001b[49m\u001b[38;5;241;43m.\u001b[39;49m\u001b[43mfind\u001b[49m\u001b[43m(\u001b[49m\u001b[38;5;124;43m'\u001b[39;49m\u001b[38;5;124;43ma\u001b[39;49m\u001b[38;5;124;43m'\u001b[39;49m\u001b[43m)\u001b[49m\u001b[38;5;241;43m.\u001b[39;49m\u001b[43mstring\u001b[49m\n",
      "\u001b[1;31mAttributeError\u001b[0m: 'NoneType' object has no attribute 'string'"
     ]
    }
   ],
   "source": [
    "bs.find('div').find('a').string"
   ]
  },
  {
   "cell_type": "code",
   "execution_count": 43,
   "id": "dac8e081",
   "metadata": {},
   "outputs": [
    {
     "data": {
      "text/plain": [
       "[]"
      ]
     },
     "execution_count": 43,
     "metadata": {},
     "output_type": "execute_result"
    }
   ],
   "source": [
    "items = bs.find('div').find_all('a')\n",
    "items #a링크가 엄청 나옴 -> get_text쓰기\n",
    "#find_all()을 쓰면 get_text를 못쓴다고 for문 쓰래"
   ]
  },
  {
   "cell_type": "code",
   "execution_count": null,
   "id": "1bcf4bcd",
   "metadata": {},
   "outputs": [],
   "source": [
    "for item in items:\n",
    "    print(item.get_text())\n",
    "    "
   ]
  },
  {
   "cell_type": "markdown",
   "id": "ef50be0b",
   "metadata": {},
   "source": [
    "#### 과제(0725_1)\n",
    "상기 출력물을 불필요한 공백없이 정렬하여 출력하세요."
   ]
  },
  {
   "cell_type": "code",
   "execution_count": null,
   "id": "467e8612",
   "metadata": {},
   "outputs": [],
   "source": [
    "for item in items:\n",
    "    text = item.get_text()\n",
    "    text = re.sub('[^\\S]+','', text)\n",
    "    text = re.sub('\\s{2,}', '',text)\n",
    "    print(text)\n",
    "    "
   ]
  },
  {
   "cell_type": "code",
   "execution_count": null,
   "id": "9286c361",
   "metadata": {},
   "outputs": [],
   "source": [
    "#div 태그에서 header 인것만 뽑기 \n",
    "items = bs.find('div', id='header').find_all('a') #이 애들만 찾아줌 \n",
    "for item in items:\n",
    "    print(item.get_text())\n"
   ]
  },
  {
   "cell_type": "code",
   "execution_count": null,
   "id": "9dab13cb",
   "metadata": {
    "scrolled": true
   },
   "outputs": [],
   "source": [
    "texts = bs.find_all('p')\n",
    "texts"
   ]
  },
  {
   "cell_type": "code",
   "execution_count": null,
   "id": "e3d810ce",
   "metadata": {},
   "outputs": [],
   "source": [
    "texts = bs.find_all('p')\n",
    "for t in texts:\n",
    "    print(t.string)\n",
    "#     print(t.get_text())"
   ]
  },
  {
   "cell_type": "code",
   "execution_count": 44,
   "id": "56df14ac",
   "metadata": {},
   "outputs": [
    {
     "data": {
      "text/plain": [
       "' 네이버 뉴스 본문 바로가기 뉴스 연예 스포츠 날씨 프리미엄 검색 언론사별 정치 경제 사회 생활 문화 과학 세계 랭킹 신문보기 오피니언 팩트체크 전체 언론사 뉴스스탠드 라이브러리 콘텐츠 수 전체 언론사 뉴스스탠드 라이브러리 언론사편집 기자 연재 구독설정 속보 정부 학원 원격수업 전환 단체활동 자제 권고 대전일보 정부 공직사회 휴가 복귀시 신속항원검사 가족돌봄휴가자 최대 만원 지원 중앙일보 위메이드 분기 영업손실 억원 적자전환 데일리안 확진 일만에 만명 돌파 학원 원격수업 전환 서울경제 정부 오늘 신규 확진자수 일만에 만명 넘어 디지털타임스 내용작성전 정부 오늘 신규 확진자수 일 만에 만 명 넘어 내용작성전 학원 원격수업 전환 단체활동 자제 적극 권고 한국경제 내용작성전 속보 닫기 대구 월 일 구독 동영상 재생시간 장마 끝 폭염 지속 탈진 열사병 온열질환 주의해야 장마가 끝나고 연일 폭염이 이어지면서 온열질환자가 크게 늘고 있습니다 고열에 실신하거나 탈진해서 병원을 찾는 경우가 많은데요 자칫 생명을 위협할 수도 있는 만큼 세심한 건강관리가 필요합니다 손은민 기자입니다 매일경제 월 일 구독 쓰레기 더미에 현금 억원이 아르헨 쓰레기장서 보물 찾기 소동 아르헨티나의 한 쓰레기처리장에 묻힌 달러 지폐 를 찾기 위해 전국에서 사람들이 몰려드는 소동이 발생했다 일 현지시간 현지 언론 등에 따르면 아르헨티나 중부 산타페주 라스파레하스에 있는 한 쓰레기장에서 최근 중앙일보 월 일 구독 아이스홍차 원샷뒤 피 리터 토했다 건강했던 남성 무슨일 최근 중국에서도 폭염이 기승을 부리고 있는 가운데 차가운 음료를 급하게 마신 남성이 다량의 피를 토하는 일이 발생했다 일 차이나 프레스 등 현지 언론 보도에 따르면 지난 일 오후 시쯤 하얼빈에 위치한 한 전주 월 일 구독 동영상 재생시간 무면허 뺑소니에 운전자 바꿔치기 파장 커지는 전직서장 조사 뺑소니 사고를 낸 뒤 운전자 바꿔치기 의혹을 받는 전직 경찰서장이 검찰에 넘겨진 가운데 관련 조사가 확대되고 있습니다 전북경찰청은 도주치상과 무면허 운전 범인도피 교사 혐의로 전직 전주 덕진경찰서장 이 모 씨를 연합뉴스 월 일 구독 가장 가고 싶은 나라 지만 실제 일본 여행수요는 시들 왜 국경통제 풀었지만 단체여행만 가능하고 비자 받아야 해 아베 암살로 혐한 정서 우려도 정상화되려면 시간 더 필요 서울 마포구에 사는 회사원 최모 여 씨는 올여름 일본 여행을 계획했다가 접었다 최 씨는 새로보기 조선비즈 월 일 구독 이번에도 삼성보다 빨랐다 마이크론 단 낸드플래시 세계 최초 양산 삼성전자 하이닉스도 기술 개발 끝내 올해 하반기 늦어도 내년 상반기 단 양산할 듯 효율 원가 경쟁력 집중 시장 상황 고려한 로드맵 미국 메모리 반도체 업체 마이크론이 세계 최초로 단 낸드플래시 양산 국제신문 월 일 구독 텔레그램 문자 파장 어디까지 여권 내홍 재점화되나 촉각 윤석열 대통령이 국민의힘 이준석 대표를 향해 내부 총질하던 당대표 라고 한 문자 메시지가 공개되면서 내홍이 재점화하는 것 아니냐는 전망이 나온다 윤 대통령은 이 대표에 대한 중앙윤리위원회의 징계 결정이 내려진 지 오마이뉴스 월 일 구독 갑자기 푹 동해안에서 일어난 무서운 변화 파리로 가는 길 심각한 해안 침식 동해안은 전국 어디서고 먼 길을 마다하지 않고 가고 싶은 여름 휴가지다 물이 맑고 모래가 풍부하며 조수간만의 차가 없어 항시 바닷물에 들어갈 수 있다 서해안에는 갯벌이 있지만 간조 시에는 광활한 매경이코노미 월 일 구독 당근마켓 중고나라 통한 탈세 내년부터 불가능 내년 월부터 중고거래 플랫폼 운영 사업자도 판매 중개 자료를 국세청에 제출해야 한다 이에 따라 과세 사각지대 라는 지적이 나왔던 반복적인 중고거래에 세금을 매길 수 있는 근거가 마련된다 기획재정부는 연합뉴스 월 일 구독 동영상 재생시간 내부 총질 하던 당대표 바뀌니 달라져 윤 대통령 문자 포착돼 윤석열 대통령과 국민의힘 권성동 당대표 직무대행이 주고받은 휴대전화 문자 메시지가 노출돼 정치권에 파장이 일고 있습니다 윤 대통령이 이준석 대표를 내부 총질이나 하던 당 대표 라고 표현한 것인데요 이같은 문자가 새로보기 주간동아 월 일 구독 부동산 고수 홍수시대 족집게 전문가 선별 방법 불확실한 변수도 짚어주는 여우형 전문가에 주목해야 행동경제학의 석학 대니얼 카너먼이 세계적인 예측 전문가로 꼽는 필립 테틀록 미국 펜실베이니아대 교수는 내로라하는 전문가들의 예측 실력을 원숭이가 다트를 명중시키는 확 신동아 월 일 구독 자치가 진보 라던 민형배의 이해 못할 순교자 정치 민주당 복당 애쓰지 말라 무소속이 축복이다 괴물 돼가는 운동권 선배님들 탈당했는데 민주당 광주시장 선대위원장 당권주자들은 선 긋기 처럼회는 옹호 구청장 민형배 가 쓴 세 권의 멋진 책 조선 월 일 구독 동영상 재생시간 세계 최강 아파치 등 헬기 대 초토화 훈련 공개 육군이 현존 최강의 공격 헬기인 아파치 가디언을 대 동원해 실제 사격 훈련을 했습니다 유사시 적이 매복한 지역을 헬기로 초토화한 뒤 우리 병력을 안전하게 투입하는 훈련입니다 군이 이번 훈련을 공개한 건 북한의 시사 월 일 구독 영상 권은희 의원이 경찰국 논란 핵심만 정리해 드림 정치왜그래 시사 이 만드는 유튜브 라이브 방송 정치왜그래 의 왜그래 콜센터 는 시청자 여러분이 남겨주신 질문으로 만들어집니다 왜그래 콜센터가 연락한 세 번째 정치인은 국민의힘 권은희 의원입니다 월 일 국무회의에서 데일리안 월 일 구독 최태원 선물 보따리에 바이든 땡큐 땡큐 땡큐 종합 최태원 그룹 회장이 그룹의 미래를 책임질 반도체 그린에너지 바이오 사업에서 억 달러 조원 에 달하는 대규모 투자를 진행한다 최근 발표한 전기차 배터리 분야 억 달러까지 감안하면 대미 투자 규모는 약 새로보기 여성신문 월 일 구독 행안부 경찰국 신설안 국무회의 의결 월 일 시행 행정안전부 내 경찰국 신설을 위한 행정안전부와 그 소속기관 직제 일부개정령안 이 일 국무회의를 통과했다 정부는 이날 정부서울청사에서 한덕수 국무총리 주재로 열린 제 회 국무회의에서 행안부 경찰국 신설 시행령 월 일 구독 동영상 재생시간 금리인상에도 집값 고공행진 월 전년대비 상승 미국의 집값 상승세가 좀처럼 꺾이지 않고 있습니다 금리인상에도 주택 가격이 오르면서 거래도 크게 줄고 있는데요 김정연 기자 연결해 자세한 상황 알아보겠습니다 미국 주택 가격이 고공행진을 이어가고 있다고요 미국 강원도민일보 월 일 구독 윤 대통령 문자 논란에 권성동 이유 막론 심려 끼쳐 죄송 국민의힘 권성동 당대표 직무대행 겸 원내대표가 윤석열 대통령과 주고 받은 문자 메시지가 언론에 노출된 것에 대해 이유를 막론하고 당원동지들과 국민들께 심려를 끼쳐드려 죄송하다 고 사과했다 권 대행은 일 자신의 비즈니스워치 월 일 구독 줘도 안 할래요 투자열기 싸늘히 식었다 국내외 증시가 날개 없는 추락을 거듭하는 가운데 이를 기초자산으로 삼는 주가연계증권 을 향한 투자자들의 관심이 싸늘하게 식고 있다 높은 수익률을 담보하고 있음에도 청약 신청 물량이 모집하기로 한 금액에 한참 채널 월 일 구독 권성동 대통령 문자보도에 전적으로 저의 잘못 권성동 국민의힘 당대표 직무대행 겸 원내대표가 윤석열 대통령과의 대화 내용 노출에 대해 공개 사과한 가운데 윤 대통령이 오늘 일 입장을 밝힐 지 주목됩니다 권 대행은 어젯밤 시 분쯤 페이스북을 통해 저 새로보기 한국일보 월 일 구독 윤핵관 끊임없는 소란 야기 국민의힘 당원 게시판 부글부글 윤석열 대통령과 권성동 국민의힘 원내대표 겸 당대표 직무대행이 나눈 사적 대화 내용이 공개돼 정치권 안팎으로 후폭풍이 거세다 권 직무대행은 전적으로 제 잘못 이라고 사과했지만 국민의힘 당원게시판에는 비판적인 글들 조선일보 월 일 구독 머스크 브린 사진 올리며 불륜설 반박 업계선 오보면 왜 소송 않나 절친이던 세르게이 브린 구글 공동 창업자의 아내와 불륜을 저질렀다는 의혹을 받는 일론 머스크 테슬라 가 연일 불륜설을 강하게 반박하고 있다 일론 머스크는 일 현지시각 자신의 트위터에 나에 대한 관심이 뉴스타파 월 일 구독 피지에 왕국 세운 이단교회 은혜로교회 신도 폭행 착취 남태평양 섬나라 피지가 지상낙원이라며 신도 명 가량을 집단 이주시킨 이단교회가 있다 바로 신옥주 목사 모자가 운영하는 은혜로교회 다 이 교회는 피지로 간 지 년도 안 돼 거대한 기업 집단을 일궜다 그 부산일보 월 일 구독 서산 머드맥스 그 광고 부산국제광고제 본선 진출 부산국제광고제 본선 진출작이 공개됐다 부산국제광고제는 올해 본선에 진출한 개국 편을 일 공개했다 편 중 전문가 작품은 편 일반인 작품은 편이다 부산국제광고제는 월 주간조선 월 일 구독 은퇴하고 농사나 년 전문가의 귀농 조언 들어보니 은퇴하면 고향에서 농사나 지을까 김옥두 전 목포농협 상무는 친구들에게 이런 말을 들으면 험한 말부터 나온다고 했다 지난 월 일 전라남도 목포시 고하도에 있는 무화과밭에서 만난 김씨는 지역의 농사 전문가 새로보기 노컷뉴스 월 일 구독 단독 평택항서 수익률 올린 사모님들 해피아 연루 의혹 영상 편집자 주 우리나라 경제의 해외 무역의존도는 를 넘고 수 출입 물동량은 를 차지한다 항만이 우리 경제에 차지하는 비중은 절대적이다 우리 정부는 년부터 항만 경쟁력 강화를 위한 항만 민자개발 동아사이언스 월 일 구독 안철수 과학방역이란 모든 결정권을 관료 아닌 전문가가 갖는 것 안철수 국민의힘 의원은 일 과학방역은 방역정책의 결정권을 관료나 정치인이 정무적인 판단에 의해 최종결정하는 것이 아니라 전문가가 과학적인 근거를 가지고 결정하는 것을 의미한다 고 말했다 안 의원은 이날 서울 서울경제 월 일 구독 아이스홍차 원샷하고 피토했다 건강했던 무슨일 최근 중국에서 차가운 음료를 급하게 마신 남성이 다량의 피를 토하는 일이 발생했다 폭염이 기승을 부리고 있는 가운데 차가운 음료를 급하게 마신 탓이었다 일 차이나 프레스 등 현지 언론 보도에 따르면 지난 뉴스 월 일 구독 중개업자 만 서울 부동산값 상승 매매전망지수 역대 최악 부동산은 분위기를 많이 탑니다 대출 부담도 세고 집값 떨어진단 얘기도 많은데 누가 아파트를 사겠습니까 이런 분위기에서 빠져나오려면 한참 걸릴 듯 싶습니다 서울 노원구 공인중개업소 부동산 시장 분위기를 한국경제 월 일 구독 한끼 가격 절반도 안되네 요즘 직장인 도시락족 최애 메뉴 외식물가가 고공행진하면서 주머니 부담을 덜기 위해 도시락을 찾는 소비자들이 늘어나고 있다 런치플레이션 런치 인플레이션 합성어 이란 신조어가 등장할 정도로 점심식사 비용 부담이 늘어나면서 직장인들이 도시락을 찾는 새로보기 블로터 월 일 구독 러시아 년 이후 국제우주정거장 탈퇴 재확인 러시아가 년 이후 국제우주정거장 프로젝트에서 완전히 탈퇴한 후 자체 우주정거장 구축을 시작할 계획이라고 밝혔다 일 현지시간 에 따르면 유리 보리소프 러시아 연방우주공사 로스코스모스 신임 사장 한경비즈니스 월 일 구독 무려 년간 이어온 코웨이 청호나이스 특허 전쟁 의 마지막 오현아의 판례 읽기 드라마 이상한 변호사 우영우 에서는 두 현금자동입출금기 업체가 기술을 두고 법정 싸움을 지속하는 장면이 나온다 한 업체에서는 자신들이 만든 독자적이고 진보한 기술이라고 주장하는 한편 다른 쪽에서는 이미 파이낸셜뉴스 월 일 구독 권성동 물러나라 에 실망 문자 노출에 국힘게시판 난리났다 윤석열 대통령이 이준석 국민의힘 대표에 대해 내부 총질이나 하던 당대표 라고 표현한 문자메시지를 권성동 국민의힘 당대표 직무대행 겸 원내대표에게 보낸 사실이 보도된 이후 국민의힘 당원 게시판에 비판 여론이 쇄도하고 월 일 구독 동영상 재생시간 제 의 로 확산될 수도 한미 어느 때보다 강력 앵커 북한이 다음달 한미 연합훈련을 앞두고 제 의 한국전으로 확산될 수도 있다 며 강한 경계심을 드러냈습니다 반면 미국은 한국전 정전협정일 주년을 맞아 한미동맹은 어느 때보다 강력하다 는 입장을 코리아중앙데일리 월 일 구독 새로보기 전자신문 월 일 구독 세계 반도체 장비 빅 인력 확보 총력전 세계 반도체 장비 매출 상위 개사가 올해 국내에서 명에 육박하는 인력을 채용한다 상반기 공개 채용에 이어 하반기도 수시 또는 추가 채용에 나서는 등 인력 확보 총력전을 펼친다 주요 고객사인 삼성전자와 월간산 월 일 구독 낭만야영 인플루언서의 설정 샷 이 쉽다고요 혼자 아웃도어 화보를 찍어보자 민미정님 계정에 올라온 사진을 보니 사진 구도나 콘셉트가 우리 브랜드 이번 캠페인인 하이킹라이프 와 잘 어울릴 것 같아요 혹시 저희 회사 제품을 착용하고 산에서 사진을 찍 지디넷코리아 월 일 구독 우즈벡 병원 여곳 한국 도움 받아 병원으로 탈바꿈 년 월 당시 문재인 대통령이 우즈베키스탄 우즈벡 을 국빈 방문해 보건복지 분야를 도와주기로해 이 프로젝트가 시작됐습니다 우즈벡 정부가 자국내 병원을 인공지능 과 데이터 등 신기술을 적용한 병원 한국경제 월 일 구독 흠뻑쇼 갔다가 코로나 걸렸다 우려가 현실로 코로나 신규 확진자가 약 개월 만에 다시 만명에 근접한 가운데 대규모 감염 우려가 큰 콘서트장 등에 대한 방역 우려가 커지고 있다 최근 인터넷 커뮤니티에는 흠뻑쇼에 다녀와서 확진됐다 는 경험담이 이어지고 매일신문 월 일 구독 권성동 사퇴해 실망 문자에 당원 게시판 부글부글 권성동 국민의힘 당대표 직무대행 겸 원내대표가 윤석열 대통령과 나눈 문자 메시지가 언론에 노출된 이후 국민의힘 당원 게시판에 비판 여론이 쏟아지고 있다 일 권 대행의 문자 메시지가 언론에 공개된 오후 시쯤부터 새로보기 동아일보 월 일 구독 내부총질 하던 당대표 바뀌니 달라져 권성동에 문자 파문 윤석열 대통령이 국민의힘 이준석 대표에 대해 내부 총질이나 하던 당 대표 라는 표현을 쓴 장면이 포착돼 파장이 일고 있다 그동안 윤 대통령은 당 문제는 지켜보는 게 맞는 것 같다 며 이 대표에 대한 직접적인 언 뉴시스 월 일 구독 갤 보라 퍼플 추가 출시 삼성의 시그니처 색상 기사내용 요약 영어의 퍼플 색 의미하는 한국어 보라 글로벌에도 동일 사용 다음달 일부터 한국 미국 유럽 등 글로벌 동시 출시 서울 뉴시스 이진영 기자 삼성전자가 슬림한 디자인과 형 문화일보 월 일 구독 최고위원 이 당대표 싫어했다는 소문의 방증 내부총질 논란 파장 이준석 측은 아직 반응 엔 울릉도 방문 소식만 김용태 특별한 입장 없을 듯 언급시 상황 커져 이준석 국민의힘 대표를 내부 총질 로 비유한 윤석열 대통령의 스마트폰 메시지가 언론에 포착된 것에 시사저널 월 일 구독 내부 총질 문자 한 통에 드러난 권성동 사과에도 논란 확산 권성동 전적으로 제 잘못 에선 이준석 팽 맞네 윤석열 대통령과 권성동 국민의힘 당 대표 직무대행이 주고받은 문자를 둘러싼 논란이 일파만파 확산되고 있다 윤 대통령이 이준석 국민의힘 대표에 대해 내부 기자협회보 월 일 구독 민주당 의원들 폐지 조례안 공영미디어 장악 출발점 더불어민주당 의원들이 서울시의회 국민의힘 의원들이 발의한 폐지 조례안을 두고 공영미디어 장악의 출발점이 될 것 이라고 규탄하며 국민의힘이 최근 자행하고 있는 모든 공영미디어 훼손 행위를 즉각 중단할 것 을 새로보기 머니투데이 월 일 구독 숨막히는 인파 잃어버린 가방 계속되는 연착 세계 공항은 지금 시간 공항서 뺑뺑이 지옥 같았다 여행 끝날때까지 못찾은 수하물 태반 히스로공항 항공권 팔지 말라 요구도 미국 뉴욕에 거주하는 마리비 라이트의 지옥 같은 휴가 는 공항에서 시작됐다 에어프 월 일 구독 방 더럽게 썼다며 고객 비방한 호텔 직원 결국 사과문 국내 수도권의 성급 호텔 직원이 고객 퇴실 후 어지러워진 객실 모습을 소셜미디어 에 올려 공개 비난했다가 강한 역풍을 맞고 있습니다 경기도 고양시 일산의 호텔에 근무하는 한 직원은 지난 일 자신의 월 일 구독 동영상 재생시간 싸이 흠뻑쇼 갔다가 코로나 감염 확진 단숨에 만 명 육박 코로나 신규 확진자가 단숨에 만 명에 육박했습니다 일 만에 역대 최다입니다 검출률도 로 사실상 우세종이 됐는데 변이까지 지역사회에 전파되고 있으니 다음 달 약 만 아시아경제 월 일 구독 르포 다음은 나겠구나 싶죠 늘어가는 셀프계산대 캐셔들 불안 최근에 일반계산대는 줄이고 셀프계산대를 몇 개 더 늘리더라고요 다음은 나겠구나 싶죠 일 오전 서울 한 대형마트에서 만난 캐셔 계산원 씨는 한숨을 쉬었다 최근 근무지에서 셀프계산대 운영이 늘어난 만큼 이코노미스트 월 일 구독 오딘 개발사 라이온하트 코스닥 상장 시동 원 게임 리스크 극복할까 모바일 오딘 으로 유명한 개발사 라이온하트 스튜디오가 코스닥 상장을 본격화했다 최근 책정된 기업가치만 약 조원에 달하는 만큼 향후 코스닥 대어 로 떠오를 전망이다 다만 흥행 게임이 오딘 새로보기 서울신문 월 일 구독 깔끔하게 정리 좀 고객 저격한 호텔 직원 결국 자필 사과문 고객 퇴실 후 객실 사진 찍어 공개 호텔 측 공식사과는 없어 고객이 사용한 방이 더럽다며 객실사진을 트위터에 올려 공개 비난한 호텔 직원이 자필 사과문을 올렸다 국내 수도권의 성급 호텔에서 일하는 직원은 지난 강원일보 월 일 구독 속보 김성종 경찰 전체가 사회적 비난 대상이 될 수 있다 만 전체경찰회의 철회 행정안전부 내 경찰국 신설에 반발해 일 열기로 했던 만 전체 경찰회의가 취소됐다 처음 전체 경찰회의 를 주도한 서울 광진경찰서 김성종 경감은 일 경찰 내부망에 전국 만 전체 경찰회의 자진철회 라는 코리아헤럴드 월 일 구독 광주방송 월 일 구독 동영상 재생시간 어긋난 성적 욕심 앞에 허술함 드러낸 학교 광주의 한 고등학교에서 제기된 답안 유출 의혹이 결국 사실로 드러났습니다 성적 욕심에 눈이 먼 고등학생들은 건물 외벽을 타고 층 교무실 창문을 넘는가 하면 교사들의 컴퓨터를 해킹해 답안지를 빼내기도 했습니다 주간경향 월 일 구독 긍정의 눈 떠야 공존의 길 열린다 한국사회가 본인 또는 부모가 외국으로부터 이주한 경험이 있는 이주배경 청년 과 공존하는 법을 모색할 때 가장 중요한 것은 관점의 근본적인 변화다 그간 한국사회의 이주민 세대에 대한 관점은 상대적으로 열악한 사회 새로보기 일다 월 일 구독 엄마 의 우울증과 모성 이데올로기 산후우울증에 관심을 처음 가진 건 여 년 전이다 지금보다 산후우울증이라는 말이 덜 흔하게 사용되었지만 출산 후에 시작된 정신적 고통을 호소하는 여성들은 많았다 그 고통의 이야기들은 죄책감이라는 결론으로 수렴 헬스조선 월 일 구독 헬스컷 폭염에 가로수가 저절로 불탔다 자연발화 주의 전 세계에서 기록적인 폭염이 계속되고 있습니다 영국에선 철로가 휘어 열차 운행이 중단되는가 하면 알프스 산맥의 어는 점이 높아지기도 했습니다 년 만의 기록적인 폭염을 겪고 있는 중국에선 가로수에서 불이 붙었 대전일보 월 일 구독 만 전체 경찰회의 철회 국회가 경찰국 시정해줄 거라 믿어 행정안전부 경찰국 신설에 반발해 오는 일에 열릴 예정인 만 전체 경찰회의가 철회됐다 전체 경찰 회의를 최초로 주도한 서울 광진경찰서 김성종 경감은 일 경찰 내부망에 전국 만 전체 경찰회의 자진철회 세계일보 월 일 구독 이준석 겨냥 본심 드러낸 징계 개입 가능성 논란 일어 대통령 초유의 대표 비난 파문 년 월 긴급 입당 서 악연 시작 대선 과정 충돌했다 임시 봉합 되풀이 취임 이후 관계 개선 못하고 돌아서 당혹감 노출 한심 그 자체 질타 권성동 더팩트 월 일 구독 이준석 징계 안타깝다 더니 내부 총질 당대표 본심 들통 권성동 원톱 체제 논란 불가피 내부 총질이나 하던 당 대표 윤석열 대통령이 당원권 정지 개월 징계를 받은 이준석 국민의힘 대표를 비난하는 문자메시지가 공개됐다 이 대표의 징계 과정에서 제기돼온 이른바 윤심 새로보기 코메디닷컴 월 일 구독 두경부암 위험 낮추는 예방법은 신체의 목과 머리에 해당하는 두경부는 가장 기본 기능인 숨쉬고 말하고 먹고 보고 듣는 기관을 포함하고 있는 중요한 영역이다 두경부 영역에 암이 발생하게 되면 위와 같은 호흡 발성 삼킴과 같은 정상 기능이 이데일리 월 일 구독 이준석 측근 내부총질 왜 권성동 사과 강기훈 대체 못해 이준석 국민의힘 대표 측근으로 분류되는 김용태 최고위원은 윤석열 대통령의 내부총질 문자 메시지에 대해 발화 주체가 대통령인데 왜 권성동 대표 직무대행께서 그 발언을 해석해서 사과문을 올린 건지 당황스럽다 라고 농민신문 월 일 구독 대형마트 의무휴업 년만에 폐지되나 농민 출하기회 확대 차원에서 논의해야 대통령실 선정 국민제안 포함 공정위도 새벽배송 규제 개선 대형마트만 금지는 차별 소지 소상공인 등 보호 취지 목소리 민주당 추가확대 움직임 이목 기업 이익 아닌 농업 고려 필요 올해로 꼭 년 된 대형마 아이뉴스 월 일 구독 잘 치워봐 편의점 어지르고 알바생 조롱한 대들 한 편의점 아르바이트생이 음식물 섭취 후 자리를 엉망으로 만들고 조롱글까지 남긴 진상 고객에 분통을 터뜨렸다 최근 한 온라인 커뮤니티에는 나 지금 손발이 다 떨리고 진정이 안 됨 이라는 제목의 글이 게재됐다 자 월 일 구독 동영상 재생시간 내부 총질 당대표 파장 노출 전적 제 잘못 권성동 사과 윤석열 대통령이 이준석 국민의힘 대표를 내부 총질이나 하던 당대표 라고 표현한 문자메시지가 공개됐습니다 파장이 커지자 메시지를 보인 권성동 원내대표는 전적으로 자신의 잘못 이라며 뒤늦게 사과했습니다 유미혜 새로보기 헤럴드경제 월 일 구독 시간만에 완판시켰다 삼성도 긴장한 세 놀라운 이 청년 삼성 애플도 긴장 세 중국계 칼 페이 가 설립한 영국 스마트폰 브랜드 낫싱 이 한국에서 나오자 마자 돌풍을 일으키고 있다 판매 개시 시간만에 완판됐다 삼성과 애플이 한겨레 월 일 구독 탁현민의 할아버지가 온다면 윤석열은 달라질까 신진욱의 질문 나토 북대서양조약기구 정상회의에 초청받아 다녀온 윤석열 대통령의 이미지컷들이 어색함과 작위성 때문에 빈축을 사고 있다 윤 대통령 주변에 문재인 전 대통령의 이미지 연출을 총괄했던 탁현민 전 한겨레 월 일 구독 역대 장관 명 중 여성 명뿐 기재 행안 통일부는 명 대한민국 정부 수립 뒤 역대 장관 가운데 여성이 차지하는 비율은 에 불과한 것으로 나타났다 여성 정책 주무 부처로 장관이 모두 여성이었던 여성가족부를 빼면 이 비율은 로 장관 명당 명은 청주방송 월 일 구독 충북 세종날씨 충북 전역 폭염주의보 낮 최고 도 충북과 세종지역은 오늘 일 가끔 구름 많은 가운데 한낮 도 안팎의 무더위가 계속되겠습니다 충북 전 지역에 폭염특보가 발효된 가운데 체감온도가 도까지 올라 매우 덥겠고 밤사이 열대야가 나타나는 곳도 있 월 일 구독 동영상 재생시간 추경 심사중 집행 공고 의회 무시하나 제주자치도가 제출한 추경 예산안 심사가 한창 진행되고 있습니다 그런데 심사가 끝나기도 전에 예산 집행 계획이 공고돼 물의를 빚고 있습니다 제주자치도가 의회를 무시한다는 지적까지 나왔습니다 하창훈 기잡니다 리 새로보기 머니 월 일 구독 돈 더 쓰고 일 는다 재택근무의 이면 점심값 전기세 부담에 잦은 초과근무까지 재택근무가 하나의 근무형태로 정착하면서 직장인들의 고민이 늘고 있다 집에서 일하며 보내는 시간이 늘어나면서 전기세 등의 생활비 부담도 증가하고 있기 때문이다 고용노동부가 프레시안 월 일 구독 이준석 추잡하고 환멸감 들어 법카 한도 으로 장난치더니 윤석열 권성동 메시지 공개 전 윤핵관 저격 글 올렸던 이준석 대표 윤석열 대통령이 국민의힘 대표권한 대행 권성동 원내대표에게 보낸 이준석 대표 비판 텔레그램 메시지가 공개된 후 당사자인 이 대표는 언급을 자제 디지털데일리 월 일 구독 무시했지만 소부장 삼성 나노 반도체 언성히어로 테크다이브 화성 라인 출하식 참여한 협력사 살펴보니 언성히어로 우리나라 말로는 보이지 않는 영웅 이라는 뜻입니다 눈에 띄지는 않지만 묵묵히 꼭 해야 할 일을 하는 이들을 지칭합니다 국내 미디어오늘 월 일 구독 윤석열 대통령 본심 딱 걸린 내부총질 메시지 일파만파 윤석열 대통령이 지난 일 이준석 국민의힘 대표를 향해 내부 총질이나 하던 당대표 라고 거론한 사실이 알려지면서 대통령의 당무 개입 여부가 논란이다 권성동 국민의힘 원내대표 당대표 직무대행 과 윤 대통령이 주고 경향신문 월 일 구독 민주당 서영교 국민의힘 권은희와도 이상민 탄핵 같이 논의 더불어민주당 경찰장악저지대책단장 서영교 의원은 일 이상민 행정안전부 장관 탄핵 추진에 대해 권은희 국민의힘 의원이 제게 연락도 왔고 충분히 같이 논의하고자 한다 고 말했다 서 의원은 이날 라디오 새로보기 월 일 구독 동영상 재생시간 곧 경기침체에 들어설 것 물가 잡는 게 최우선 국제통화기금 는 세계가 곧 경기침체에 들어갈 것이라고 전망했습니다 수석 이코노미스트는 긴축 정책을 시작했으면 물가를 잡을 때까지 진행해야 한다고 강조했습니다 김진호 기자의 보도입니다 기자 지난 디지털타임스 월 일 구독 전여옥 류삼영 차 저격 태어난 고향 안 밝혀 인터뷰 하는 이유는 뭘까 전여옥 전 국회의원 전날 이어 연이틀 류삼영 총경 저격글 남겨 요즘 총경쿠데타 지켜보면서 한 가지 사실 깨달아 제가 아는 경찰들은 모두 순경 으로 들어와 총경 달았던 사람들 경찰대학교 겨냥해서도 날선 월 일 구독 신규 조 포함 조 원 대미투자 반도체 소형원자로 등 그룹이 미국에서의 반도체와 소형 원자로 사업 등에 새로 조 원을 투자하기로 하는 등 대미 투자 규모를 조 원으로 늘렸습니다 미국을 방문 중인 최태원 그룹 회장은 한국시간으로 오늘 일 새벽 조 바 조세일보 월 일 구독 올해 한국 성장 국내외 전망 중 최저 국제통화기금 이 올해 한국의 경제성장률을 종전 전망치보다 낮은 로 제시했다 국내외 주요 기관이 내놓은 전망치 중 가장 낮은 수치다 고물가 전쟁 등 하방 리스크가 커질 수 있다는 우려가 나오면서 경 국민일보 월 일 구독 대통령 믿었는데 국힘 청년정치인들 등 돌렸다 윤석열 대통령이 권성동 국민의힘 원내대표에 보낸 텔레그램 메시지에서 이준석 대표를 내부 총질이나 하던 당대표 로 표현한 사실이 드러나 파문이 일자 당내 전현직 대변인들이 윤석열 대통령을 믿었다 추억이 새로보기 신문 면 모아보기 방송뉴스 도움말 오늘 언론사가 발행한종이신문에 실린 뉴스 면기사가 제공됩니다 닫기 법치에 먹칠한 윤석열 정부 위법적 경찰국 밀어붙이기 구독하기 불붙은 환율에 기름붓는 국민연금 구독하기 단독 신공항 특별법 새 국면 맞나 이재명 별도 특별법 준비하고 있다 구독하기 중대 국기문란 경찰에 옐로카드 구독하기 용산의 재도전 롯데월드타워 맞먹는 초고층 들어선다 용산국제업무지구 재시동 건다 구독하기 오세훈표 용산정비창 개발 시동 주택 줄이고 초고층빌딩 올린다 구독하기 대구 곳 대전은 곳 공연하고 싶어도 공연장이 없어요 구독하기 경찰 만 전체회의 반발 격화 류삼영 총경 자제 내부망에 글 구독하기 기획 또 주저앉은 성장률 로 하향조정 구독하기 용산을 아시아 실리콘밸리 로 롯데타워급 빌딩 들어선다 구독하기 단독 팬데믹 고용 한파 부산 여성에 더 잔혹했다 구독하기 분기 성장률 소비로 겨우 버텼다 구독하기 연내 도청사 신축부지 결정 춘천내 공 사유지 포함 검토 구독하기 단독 서울 아파트 월세 부담 년새 만원 껑충 구독하기 경찰국 띄운 윤 정부 다음은 경찰대 개혁 구독하기 구독하기 한국 성장률 전망 또 낮췄다 저성장 고착화 우려 구독하기 기업들 아세안 유럽 수출 리모델링 으로 의존도 낮춘다 구독하기 윤 대통령 국기문란 경찰 반발 직접 압박 구독하기 반발은 국기 문란 직접 경고장 날린 구독하기 구독하기 이전 다음 언론사별 심층기획 중국 의존도 낮춘다 조선일보 월 일 구독 기업들 아세안 유럽 수출 리모델링 으로 의존도 낮춘다 삼성은 베트남에 센터 현대차는 인도네시아에 공장 건설 화장품 초코파이 소비재로 시장 파고들어야 올해 한국 성장률 석달 만에 또 낮췄다 이전 다음 기름진 대한민국 세계일보 월 일 구독 석유 한 방울 안 나는데 기름진 사회 연중기획 지구의 미래 화석연료와의 결별은 가능할까 연중기획 지구의 미래 서민부담 앞세워 유류세 인하 땜질만 탈화석연료 역행 연중기획 지구의 미래 탄소중립 시계 늦춰라 글로벌 석유사들 몸부림 연중기획 지구의 미래 이전 다음 경찰국 신설 갈등 뉴시스 월 일 구독 행안부 경찰대 손본다 졸업하면 경위로 출발 불공정 종합 이상민에 경찰국서 인사 합리적 개선 경찰 지휘부와 소통하라 독재정권으로 돌아간 것 같다 경찰 일반 공무원들도 반발 경찰의 난 본격화 팀장급 회의 만 전체 경찰회의로 확대 이전 다음 새로보기 언론사별 심층기획 심층기획 월 일 구독 토론영상 어제 명 이인제 그룹에게 어대명 이란 단독 여년전 경찰 독립 직전 기록엔 장관 지휘에 중립성 문제 팩트체크 총경들이 위수지역 이탈 장관 발언 따져보니 이전 다음 허위스펙 네트워크 추적 뉴스타파 월 일 구독 주간 뉴스타파 조작으로 쌓아올린 한동훈 처가의 아이비 캐슬 한동훈 처조카 논문 데이터 위조 촛불집회에 다인종 참여 통계 뒤죽박죽 베낀 엉터리 논문 수두룩 한동훈 처조카 데이터 조작 미국 논문 쓰면서 브라질 주민 데이터 도용 한동훈 처조카 논문 데이터 위조 이전 다음 최신 여론조사 광주방송 월 일 구독 지지율 주째 대 긍정 부정 대통령 지지율 붕괴 눈앞 긍정 평가 대통령 잘못한다 보수층도 돌아서 사적채용 부적절 대 대 이전 다음 새로보기 언론사별 심층기획 정부 정책 아이뉴스 월 일 구독 정부 대 국정과제 확정 기득권 저항에도 개혁 꼭 필요 문체부 첫 업무보고 실종된 게임 주무부처 바꿔야 목소리도 돋보기 과기정통부 위원회 절반 없앤다 과기정통부 업무보고 월 범정부 디지털 국가전략 수립 이전 다음 사진이 더 팩트다 더팩트 월 일 구독 대통령 권성동과 문자 포착 내부 총질하던 당대표 바뀌니 달라졌다 포착 경찰국 신설 포함 행정안전부 새정부 업무보고 진행 사진관 해외 언론들도 앞다퉈 보도한 김연아 고우림 결혼 소식 사진관 힘차게 이륙하는 아파치 헬기 육군 대규모 항공 작전 훈련 사진관 이전 다음 경찰국 설치 논란 오마이뉴스 월 일 구독 근조화환으로 둘러싸인 경찰청 경찰은 죽었다 경찰국 설치 논란 경찰서장 쿠데타 라던 이상민 내란이라고 하진 않았다 경찰국 설치 논란 경찰에 경고한 경찰청장 후보자 집단 의사표시 마라 경찰국 설치 논란 쿠데타 발언 사과 거부 이상민 경찰국 신설 경찰관들과 공감할 문제 아냐 이전 다음 새로보기 언론사별 심층기획 경찰 집단반발 확산 서울신문 월 일 구독 일선 대기발령 같이 받겠다 장관 하나회처럼 특정 그룹이 주도 행안부 경찰청서 조치 경찰 장악 음모 경찰 쿠데타 징계 반발 누르는 정부 이전 다음 심층기획 월 일 구독 지방공항에 거는 기대 그리고 우려 문자 배경과 파장은 한심 그 자체 맹폭 조선업 고된 노동 낮은 임금 인력 돌아오지 않을 것 대정부질문 부자감세 경제위기 책임 놓고 공방 이전 다음 심층기획 연합뉴스 월 일 구독 년만에 부활 수사독립 훼손 수사업무 무관 경찰국 신설 반발 확산 만 경찰회의 추진 여 경찰 항명 용납못해 야 윤정부의 행정 쿠테타 졸업후 경위 임관 불공정 경찰대도 개혁 이전 다음 새로보기 언론사별 심층기획 사진잇슈 한국일보 월 일 구독 내부 총질 윤석열 문자를 대하는 민주당 의원들의 자세 사진잇슈 천 원이면 냉면 반 그릇 고물가 시대의 밥상 사진잇슈 대로변에서 육성으로 박지현의 힘겨운 출마선언 사진잇슈 아무리 귀를 갖다 대 봐도 말 없는 키오스크 사진잇슈 이전 다음 가상자산 거래소 어쩌나 머니 월 일 구독 국내 대 가상자산 거래소 어떻게 다를까 뭇매 맞는 가상자산 거래소 대체 왜 규제 찬바람 부는 가상자산 거래소 이전 다음 심층보도 조선 월 일 구독 소음 안전문제 불법 증축 파크골프장 곳곳 잡음 따져보니 총경 대기발령 논란 쟁점은 뉴스야 이재명도 기소되면 대표 박탈 포커스 대법원 헌재 잇단 충돌 최고 사법기관 힘겨루기 이전 다음 새로보기 언론사별 심층기획 심층기획 한국경제 월 일 구독 년 만에 현금배당 빚더미 에 눌렸던 회사의 부활 김익환의 컴퍼니워치 년차 실리콘밸리 엔지니어의 조언 이직을 즐겨라 실리콘밸리인사이드 영국 테스코가 남은 식료품을 나누자 벌어진 일들 기업 인권경영 리포트 무용한 작품 만드는 괴짜들이 왔다 한국의 내셔널지오그래픽 꿈꿔요 긱스 이전 다음 코로나 만 넘나 데일리안 월 일 구독 석 달 만에 만 명 오늘 자율방역 지침 발표 향후 주는 증가세 패션업계 코로나 인플레 공포에 소비심리 꺾일까 전전긍긍 코로나 에 무너진 취약계층 정부 지원 한계 왔다 주류업계 코로나 재확산에 파업까지 경영환경 최악 이전 다음 경찰국 국무회의 의결 동아일보 월 일 구독 이상민 경찰대 나왔다고 자동 급 불공정 항명처럼 책임 물어야 정권 경찰 장악 편법 이상민 탄핵 거론 전문가 경찰국 과거로 회귀 행정부 통제 불가피 대통령 이상민에 경찰국에서 인사 제도 합리적으로 개선하길 이전 다음 새로보기 언론사별 심층기획 용산 개발 청사진 헤럴드경제 월 일 구독 용산의 재도전 철길을 층 마천루 녹지 어우러진 미래 도시로 다시 용틀임 하는 용산 마천루 녹지 어우러진 미래도시로 년만의 용산국제업무지구 개발청사진 쫓기는 강남 급부상하는 용산 서울 부동산 대장 바뀔 수 있을까 부동산 이전 다음 먹거리 뉴스 농민신문 월 일 구독 향토밥상 달큼한 살 은은한 향 은어가 선사하는 여름맛 토마토를 건강식단 주인공으로 일본 올 상반기 요리 키워드는 오트밀 올 추석 과일 선물세트 기상도는 사과 배 줄고 샤인머스캣 인기예감 이전 다음 리셋 에너지 안보 국민일보 월 일 구독 고리원전 규모 강진 거뜬 완전 정전에도 전력공급 년간 사고 없지만 후쿠시마 반면교사 조심 또 조심 온실가스 걱정없고 가성비 좋은 원전 핵폐기물 처리 난제 이전 다음 새로보기 언론사별 심층기획 투벤저스 주간동아 월 일 구독 월 소비자물가 상승 년 만에 최고치 찍었다 만 원의 행복 돈값 하는 냉면 맛집 신형 항모 푸젠 스펙 뜯어보니 빛 좋은 개살구 리츠도 줄줄이 신저가 신규 진입자에겐 또 다른 기회 이전 다음 윤정부 세제개편안 디지털타임스 월 일 구독 기획 직장인 소득세 최대 만원 줄어든다 정부 세제개편안 과표 억 기업 법인세 만원 절감효과 통합고용세액공제 신설 정부 세제개편안 연금저축 퇴직연금 세액공제 확대 납입한도 만원 만원 정부 세제개편안 종부세 기본공제 억 다주택 중과 폐지 이전 다음 동영상 뉴스 국제신문 월 일 구독 영상 국비 발목 잡힌 오륙도 트램 년째 첫 삽 못 떠 영상 한일 갈등에 황금어장 잃었다 한숨 쉬는 수산업 초 뉴스 반도체 동맹 할까 말까 국내 반도체 업계 고심 갑작스러운 심장 두근거림 부정맥 신호 이전 다음 새로보기 언론사별 심층기획 한경 글로벌 마켓 한국경제 월 일 구독 리틀 버핏 빌 애크먼 경제 최대 위협은 금리인상 아닌 이것 전세계 긴축 불가피 경제성장률 전망 또 낮췄다 신인규의 글로벌마켓 러시아 우크라이나 전쟁 최대 패자 세계경제전망 발표 성장률 오른 국가는 한상춘의 지금세계는 반도체법 처리 임박 확실한 호재 반도체 경기 하강 이전 다음 정치왜그래 시사 월 일 구독 영상 폭락한 윤석열 지지율 끌어올리는 방법 알려드림 정치왜그래 영상 아베 피격 사망 평화 헌법 개헌된다고 정치왜그래 박지현 민주당은 고인 물 계속 돌 던지겠다 정치왜그래 이전 다음 용산시대 매일경제 월 일 구독 용산을 아시아 실리콘밸리 로 롯데타워급 빌딩 들어선다 띄우고 지하에 환승거점 미래교통 중심으로 뉴욕 허드슨야드처럼 용산 사업 녹지 주거 융합도시로 뜬다 여의도공원 배 면적 사업비 조 천억 이전 다음 새로보기 언론사별 심층기획 어썸머니 서울경제 월 일 구독 파월 월 가이드 많이 안 할 듯 시장 예상보다는 매파적일 수도 김영필의 분 월스트리트 주먹인사 안 통했다 대 악재 겹친 에너지 시장 윤홍우의 워싱턴 시 분기 광고 매출 전망치 웃돈 구글 인플레 회복력 보여줬다 평가 서학개미 리포트 강달러에 실적 부진 경기 침체 속 승자는 클라우드 시간외거래서 서학개미 리포트 이전 다음 신선한 경제 월 일 구독 신선한 경제 택시 승차난 에 음주 킥보드 자전거족 급증 신선한 경제 중고 거래 꼼수 탈세 막는다 소득 자료 제출 의무화 신선한 경제 자녀 양육비 한 달에 얼마나 들까 신선한 경제 내달 일부터 상생 임대인 년 거주 면제 이전 다음 이슈 피플 강원도민일보 월 일 구독 오대산 불교문화 헌신 만화스님 재평가 강원 미친로드 인제 투박해도 속 꽉찬 맛 엄마 밥상 생각나네 맛있수다 꾸밈없고 수수한 메밀 막국수 맛의 근본 맛있수다 칼칼 담백 절묘한 접점 깔끔한 뒷맛 일품 이전 다음 새로보기 언론사별 심층기획 경기 침체 우려 문화일보 월 일 구독 수출 투자 뒷걸음 분기 성장 반짝소비가 막은 경기하강 경제 이미 침체국면 들어서 국제기구들 한국 성장률 전망 줄줄이 하향 기업경기전망 급락 개월만에 아래로 이전 다음 심층기획 대전일보 월 일 구독 경찰국 신설 속전속결 후폭풍 우려 국회 개 상임위원장 한 자리도 못 차지한 충청권 수년째 셋방살이에 수십억 혈세 세종시 별관증축은 언제쯤 똘똘한 한 채 에 올인 대전 부동산 매도심리 년새 배나 이전 다음 심층기획 채널 월 일 구독 현장 카메라 시외버스 반토막 터미널 폐쇄 발 묶인 주민들 세계를 보다 에어컨 없는 런던이 도 펄펄 끓는 지구 현장 카메라 물고기 싹쓸이 골칫덩이 된 가마우지 세계를 가다 사룟값 폭등 서도 반려동물 포기 이전 다음 새로보기 언론사별 심층기획 경찰국 신설 반발 월 일 구독 경찰국 내달 일 시행 청와대 경찰 밀실 거래 없앤다 경찰 인사 개선 지시 이상민 경찰대 개혁 예고 한덕수 쿠데타 발언에 표현 과했지만 절실함 표현 경찰국 반발 확산에 경찰청 사흘간 현장 경찰관 의견 수렴 이전 다음 심층 기획 청주방송 월 일 구독 성진영의 푸드테라피 방학 동안 우리 아이 키 쑥 자라게 할 음식은 단양 휴양림 파헤치기 숲에서 즐기는 승마부터 돌산의 매력까지 영상 무더위 잊게 해 줄 제천의 가지 비경 소리로 맛보는 대를 이어온 올갱이 이전 다음 코리아중앙데일리 월 일 구독 이전 다음 새로보기 언론사별 심층기획 지수 편입의 명암 이코노미스트 월 일 구독 공매도만 쌓이네 코스피 편입 후 대차잔고 늘어난 종목은 코스피 선진지수 편입 실상은 빛 좋은 개살구 불확실성 지수와 변동성 지수 수치에 숨은 의미 조원경 글로벌 인사이드 이전 다음 친환경 물류 시대 온다 전자신문 월 일 구독 스페셜리포트 선택 아닌 필수 친환경 물류 시대 온다 스페셜리포트 전기비행기 물류터널 앞서가는 해외 친환경 물류 물류업계 친환경 운송수단 강화 전기차 전환 속도 이전 다음 기획보도 대구 월 일 구독 약손 물 비싼 외국 생수보다 더 좋은 물이 대구에 위클리 키워드 따뜻하게 안아주는 국가 뉴스 홍준표 시장의 일 위험천만하다 달려보니 대구 하중도 금호꽃섬 내일을 향해 달려가는 코스 이전 다음 새로보기 언론사별 심층기획 심층기획 월 일 구독 인터넷 와글와글 산중 용변 고속도로 불바다 뉴스추적 휴가지 감염도 비상 백경란 의미 전달 부족 뉴스추적 이상민 경찰대 임관 불공정 윤희근 리더십 시험대 김주하의 그런데 누구도 그럴 권리는 없다 이전 다음 파장 커지는 경찰국 부산일보 월 일 구독 윤 중대한 국가 기강 문란 쐐기 경찰 집단행동 분수령 부화뇌동식 집단행동 안 돼 졸속이자 국회 입법권 침해 국힘 그 어떤 항명도 용납할 수 없다 민주 윤 정부가 국기 문란 일으켰다 이전 다음 경찰국 갈등 확산 매일신문 월 일 구독 이상민 장관 취임 개월 만에 속전속결 경찰국 신설 일선 경찰 반발 격화 경찰국 내달 일 출범 여 집단항명 엄정 대응 야 국기문란 자초 정부 내달 일 경찰국 출범 강행 대통령 국기문란 질타에도 만 경찰 회의 맞불 이전 다음 새로보기 언론사별 심층기획 경찰 갈등 왜 한겨레 월 일 구독 경찰 갈등은 제 의 윤석열 싹 자르는 노림수 현직 경찰이 이상민 장관에게 보내는 편지 경찰 시위에 행안부 투명한 행정 위한 것 뉴스큐레이터 시위 막던 경찰 시위 이전 다음 로펌의 기술 조선비즈 월 일 구독 로펌의기술 기술 탈취한 대만 경쟁사 산업기술 침해 입증한 법무법인 율촌 로펌의기술 코오롱 인보사 희망 살렸다 국가 연구비 환수 막아낸 화우 로펌의기술 서울대병원도 수도권정비법 규제 대상 증축시 내야 법무법인 원 율촌 꺾고 판정승 로펌의기술 코웨이 정수기 중금속 알고도 숨겨 고지의무 위반 집중해 집단소송 이전 다음 심층기획 미디어오늘 월 일 구독 공매도와 증시 하락은 연관성 없다 는 언론에 대하여 내가 틀렸다 인정하지 않는 시대에 뉴욕타임스가 보인 파격 또 다시 밑바닥 보여준 인하대 성폭력 사망 사건 보도 프랑스 수신료 폐지 흐름 한국엔 어떤 영향 미칠까 이전 다음 새로보기 언론사별 심층기획 확 바뀌는 부동산세금 매경이코노미 월 일 구독 부동산 세금 어떻게 바뀌나 주택자 재산세 공시가격에 희비 엇갈려 국민 숨통 트인다 다주택자 폭탄 시대 끝났다 주택자 기존 주택 팔아 취득세 절약 자녀 부담부 증여 양도세 절세 효과 빠르면 년 만에 아파트 단지 뚝딱 모아타운 투자 가치는 이전 다음 세상을 보는 중앙의 눈 중앙일보 월 일 구독 사설 조원대 수상한 외환거래 철저히 밝혀야 중앙시평 때가 되었다 이제 한국전쟁 박물관을 김동호의 시시각각 윤 정부 지지율 회복이 필요한 이유 신성식의 레츠 고 문 케어 지우는 윤 정부 억원 약도 쓸 데는 쓴다 이전 다음 심층기획 월 일 구독 이슈분석 부자감세 기업 경쟁력 제고 경제정책 놓고 설전 김대호 박사의 오늘 기업 사람 월마트 테슬라 대우조선해양 김대호 박사의 오늘의 키워드 파월 가이던스 펠로시 대만행 칩 동맹 토니 최태원 한덕수 통화스와프 이전 다음 새로보기 언론사별 심층기획 경찰국 신설 논란 연합뉴스 월 일 구독 행안부 경찰국 신설 이어 이번엔 경찰대 개혁 추진 수사권 조정부터 쌓인 구원 총경회의로 타깃 된 경찰대 이번에도 국기 문란 경찰 질타한 반발에 쐐기 행안부 경찰국 국무회의 초스피드 통과 명 조직 일 출범 이전 다음 우영우 신드롬 디지털데일리 월 일 구독 디지털 권모술수 권민우 의 공정 과연 나는 다를까 우영우 제 의 오징어게임 될까 해외도 주목 클로즈업 우영우 도둑시청하며 호평 평점 에 팬계정까지 등장 우영우 도둑시청에 분노 중국 당국이 나서라 이전 다음 다시 만난 퀴퍼 프레시안 월 일 구독 년차 퀴퍼질 이 짓을 왜 하냐고 외롭지 않으려고 퀴어퍼레이드 고인물 레즈비언 바 사장이 만드는 공간 빗속에 핀 무지개 퀴어로 채운 서울광장 이전 다음 새로보기 언론사별 심층기획 사람 속으로 신동아 월 일 구독 정권 공직 기강 인체로 치면 뼈와 장기 다 망가진 수준 안철수 작심토로 블랙리스트 백현동 정치보복 소리 듣기 싫어 봐주는 게 최악 아베 신조는 정말 극우 였을까 아이들이 아빠가 왜 죽었는지는 알아야죠 이전 다음 심층기획 월 일 구독 뉴스쉽 코로나에 고환율에 해외여행 갈 수 있는 거야 그사람 에듀 를 꿈꾸는 사교육 총수 손주은 사실은 국회의원 토론 은 누구일까요 취재파일 구의원님 산하기관 생수 납품이 떳떳한가요 이전 다음 경찰국 신설 충돌 경향신문 월 일 구독 윤 대통령 국기문란 경찰 반발 직접 압박 이석연 전 법제처장 경찰국 신설 헌법적으로 용납 안 돼 법치 일방통행 이자 민주화의 퇴행 경감 경위급 이어 일선 경찰까지 불복종 운동 번지나 경찰국 신설이야말로 쿠데타 행위 닭 모가지를 비틀어도 새벽은 온다 이전 다음 새로보기 언론사별 심층기획 뜨거운 용산 비즈니스워치 월 일 구독 집잇슈 용산 서초 잠잠한 수주시장에 돌 던지는 정비사업 대어 용산정비창 만 가구 대신 국제업무지구로 용적률 이상 강남도 집값 상승 멈췄는데 용산은 용산하는중 이전 다음 딥뉴스 노컷체크 노컷뉴스 월 일 구독 손배소 안하면 배임 파업 피해 책임은 왜 노동자만 지나 노동 판 칩 동맹 논란의 기승전 결말은 베이징 노트 다시 크런치모드 노동자들 긴장하는 까닭 그래 픽 법정 컷 경찰수사 잘했더라면 엄마는 죽지 않았을까 국가 책임 인정 이전 다음 세 뇌건강 아시아경제 월 일 구독 세 뇌건강 당신의 뇌는 건강하십니까 세 뇌건강 세 이상 노인 명 중 명이 치매 세 뇌건강 치매 걸리면 등골이 휜다 환자 인당 관리비용 만원 세 뇌건강 근본 치료제 없어 예방이 중요 치매 일문일답 이전 다음 새로보기 언론사별 심층기획 경찰국 갈등 격화 머니투데이 월 일 구독 만 전국경찰회의 자진철회 국회가 시정할 것 믿어 경찰국 반대 총경회의 참석자 처벌될까 직무 관련성 여부가 관건 경찰 쿠데타 발언에 반발 확산 간부급 만 전국 경찰 회의로 경찰국 신설안 국무회의 통과 극렬하게 충돌하는 정치권 이전 다음 필즈상 동아사이언스 월 일 구독 필즈상 필즈상은 어떤 상인가 필즈상 사상 두 번째 여성 필즈상 수상자 배출 다른 세 명의 수상자들 한국계 첫 필즈상 수상 허준이 교수는 누구인가 한국계 첫 필즈상 수상 허준이 교수 수학은 자유로움 을 학습하는 일 얽매이지 않고 생각해야 이전 다음 이슈톡 월 일 구독 더위야 물렀거라 복날 더위 잡는 삼계탕 꿈나무 필름 아트캠프 년만에 재개 호텔 철거 후 잇따라 아파트 신축 마리나 호텔 철거 임박 전 도민 인당 만 원씩 예산안 의회 심사 중 재난지원금 공고 이전 다음 새로보기 언론사별 심층기획 경찰국 반발 확산 한겨레 월 일 구독 경찰 반발에 국기 문란 낙인 거듭 한계 드러낸 검찰 출신 대통령 류삼영 총경 윤 정부 법치국가 아닌 시행령 국가 만들 거냐 이상민 장관 연이은 경찰대 때리기 졸업생 경위 임관 불공정 민주 모든 힘 모아 경찰장악 저지 권한쟁의 심판 청구 추진 이전 다음 코로나 코메디닷컴 월 일 구독 과학방역에 과학 은 없었다 탈모 발기부전 다양한 롱코비드 증상 코로나 검사 진료 처방 원스톱 병원 쉽게 찾으려면 이전 다음 스포트라이트 파이낸셜뉴스 월 일 구독 싸잡아 비난 억울하다는 공기업 직원들 국민이 볼땐 특혜만 받는 사람들 입국 당일 검사 받아야 붐비는 인천공항 검사소 현장르포 알바 내려놓는 잡러들 흔들리는 초단기 고용시장 한국 새 길에 서다 빚투 탕감 도덕적 해이 부추겨 회생제도 취지 맞다 법조 인사이트 이전 다음 새로보기 언론사별 심층기획 우영우 읽기 한경비즈니스 월 일 구독 우영우 열풍에 웃는 로펌들 더 이상 어둠의 온상 이미지 편견을 걷어내면 보이는 다른 것 이상한 변호사 우영우 정의란 무엇인가 논쟁도 이전 다음 연료 떨어진 배민 블로터 월 일 구독 연료 떨어진 배민 글로벌 진출 오히려 독됐나 연료 떨어진 배민 줄어든 파이 성장세 유지할 수 있을까 연료 떨어진 배민 퀵커머스 먼저 열었지만 치고 나가지 못한 마트 왜 이전 다음 심층취재 전주 월 일 구독 장수군수 선거 여론 조작 정황 포착 전주 완주 통합 정치적 여론몰이 중단해야 반도체 인력 수도권 집중 전북도내 대학 총장 우려 해고자 디지털 포렌식 남은 직원 뒷조사 이전 다음 새로보기 언론사별 심층기획 심층기획 코리아헤럴드 월 일 구독 이전 다음 심층기획 강원일보 월 일 구독 다양성 갖춘 새로운 시도들그동안 없었던 클래식 무대 이혜연 농구선수 출신 고졸여성이 은행 지점장까지 된 비결요 버텨야 한다는 간절함 때문 나를 믿어야 얻을 수 있더군요 메트로폴리탄 뉴욕 중세풍 유리램프 만들고백악관 인테리어 도맡아명품 주얼리 티파니 뜻밖의 도전 우울감 스트레스 심리치료 시스템 우선 이전 다음 헬스조선 심층기획 헬스조선 월 일 구독 밀당 혈당 급상승 막는 마법의 탄수화물 이 있다 밀당 부추와 오리가 만났다 고단백 콜라보 에 당뇨가 멈칫 밀당 똑같은 운동하고도 효과 더 보는 방법 없을까 밀당 식사 전 이것 먹으면 식후혈당 완만히 오릅니다 이전 다음 새로보기 언론사별 심층기획 우리 곁의 우영우 이데일리 월 일 구독 우영우 현실선 존재 어려워 팽나무 처럼 관심으로 자라 우영우 신드롬 무엇을 남길 것인가 우영우처럼 자폐성 장애 있지만 이곳에선 베테랑 이죠 자폐 장애라도 직장서 치료 사회 훈련 가능 직업 교육 확대되길 이전 다음 자폐인이 본 우영우 여성신문 월 일 구독 이렇게 생각한다 나는 우영우가 불편하다 일본 여성 자폐인 우영우 살아도 된다는 용기 준 작품 편견 커질까 우려 이런 작품 갈망했다 자폐당사자 가족이 본 우영우 이전 다음 택시 대란 왜 뉴스 월 일 구독 택시의 나라 모빌리티 잔혹사 요금 올리면 끝 갈등 피하면 혁신없다 택시의 나라 모빌리티 잔혹사 택시는 공공영역일까 요금 현실화 불가피 택시의 나라 모빌리티 잔혹사 표심에 눈먼 정치권 기사들 삶 나아졌나요 택시의 나라 모빌리티 잔혹사 해외는 택시난제 어떻게 풀고 있나 이전 다음 새로보기 관심있는 언론사를 더 구독해보세요 전체추가 종합지 서울신문 한겨레 중앙일보 국민일보 경향신문 한국일보 세계일보 문화일보 동아일보 조선일보 인터넷 지 지디넷코리아 프레시안 데일리안 아이뉴스 디지털데일리 오마이뉴스 전자신문 블로터 노컷뉴스 더팩트 디지털타임스 머니 미디어오늘 방송 통신사 뉴스 채널 한국경제 연합뉴스 조선 뉴시스 연합뉴스 지역지 국제신문 대전일보 전주 부산일보 대구 광주방송 강원도민일보 매일신문 강원일보 청주방송 전문지 일다 여성신문 동아사이언스 헬스조선 코리아중앙데일리 코메디닷컴 뉴스타파 기자협회보 농민신문 코리아헤럴드 경제지 한국경제 헤럴드경제 비즈니스워치 조세일보 조선비즈 이데일리 아시아경제 매일경제 머니투데이 서울경제 파이낸셜뉴스 매거진 매경이코노미 시사 이코노미스트 시사저널 한경비즈니스 신동아 주간경향 월간산 주간동아 주간조선 한겨레 새로보기 기자 구독 구독설정 김보람 기자 구독중 구독 김보람 세 미만 자녀 둔 부모 코로나 백신 절대 안 맞혀 임정환 기자 구독중 구독 임정환 우여곡절 용산정비창 다시 개발 청사진 이번엔 순항할까 이재은 기자 구독중 구독 이재은 만 전체 경찰 회의로 변경 반발 격화 이유경 기자 구독중 구독 이유경 경찰국 국무회의 통과 경찰 반발 국기문란 신수아 기자 구독중 구독 신수아 도 조기 게양해 기리는데 우리에겐 잊힌 휴전일 이소현 기자 구독중 구독 이소현 월 기대인플레이션율 역대 최고 수준 김화영 기자 구독중 구독 김화영 비료 사료 유류비 급등 생산비 절감방안 시급하다 홍경진 기자 구독중 구독 홍경진 금융위 경제 위기로 돈 부족해진 금융사 금융안정계정 으로 선제 지원 김지아 기자 구독중 구독 김지아 박용진 중도 확장성에 자신 가 두려워 할 당대표 될 것 전범진 기자 구독중 구독 전범진 업무 중 휴게시간 무조건 유급 아니다 오현아 기자 구독중 구독 오현아 현대두산인프라코어 봉쇄 원가 부담 악재에 영업익 김민성 기자 구독중 구독 김민성 연재 구독 구독설정 월 일 미증시 특징주 글로벌 시황 이슈 글로벌 시황 이슈 구독중 구독 글로벌 시황 이슈 방금 화장실 다녀왔는데 또 메디칼럼 메디칼럼 구독중 구독 메디칼럼 너무 멀리 나간 탈 중국 수출 발언 이희옥 칼럼 구독중 구독 이희옥 칼럼 학생부종합 자기소개서 자소설 안 되려면 오종운의 입시 컨설팅 구독중 구독 오종운의 입시 컨설팅 인제 투박해도 속 꽉찬 맛 엄마 밥상 생각나네 강원 미친로드 구독중 구독 강원 미친로드 내 안의 고귀한 나 매경춘추 구독중 구독 매경춘추 윤이나 규정 위반 뒤늦은 신고의 씁쓸한 뒷맛 취재파일 구독중 구독 취재파일 조종사 마음을 읽어 나르는 전투기 구독중 구독 중국의 년 전 마법 거울 발견 빛 받으면 부처 형상이 핵잼 사이언스 구독중 구독 핵잼 사이언스 전장의 사신 아파치 대 동시에 떴다 요즘군대 구독중 구독 요즘군대 행안부장관 쿠데타 발언에 불난 집 기름 궤변 아침신문 솎아보기 구독중 구독 아침신문 솎아보기 여군 부사관은 왜 죽었나 군대 움직임이 수상하다 김형남의 갑을 병정 김형남의 갑을 병정 구독중 구독 김형남의 갑을 병정 구독 공지 뉴스판 기자 추천 카드 오픈 안내 맨위로 전체서비스 이용약관 개인정보처리방침 청소년 보호 책임자 이희만 서비스안내 각 언론사가 직접 콘텐츠를 편집합니다 '"
      ]
     },
     "execution_count": 44,
     "metadata": {},
     "output_type": "execute_result"
    }
   ],
   "source": [
    "import urllib.request as rq\n",
    "import re\n",
    "url = 'https://news.naver.com'\n",
    "html = rq.urlopen(url)\n",
    "bs = BeautifulSoup(html, 'lxml')\n",
    "bs\n",
    "#\n",
    "#한글만 뽑아보자 -> 정규 표현식 \n",
    "bs = bs.text\n",
    "# bs\n",
    "p = re.sub('[^가-힣]',' ',bs)\n",
    "p = re.sub('\\s{2,}',' ',p)\n",
    "p\n",
    "\n"
   ]
  },
  {
   "cell_type": "code",
   "execution_count": 45,
   "id": "450c8b1a",
   "metadata": {},
   "outputs": [
    {
     "data": {
      "text/plain": [
       "'네이버 뉴스 본문 바로가기 뉴스 연예 스포츠 날씨 프리미엄 검색 언론사별 정치 경제 사회 생활 문화 과학 세계 랭킹 신문보기 오피니언 팩트체크 전체 언론사 뉴스스탠드 라이브러리 콘텐츠 수 전체 언론사 뉴스스탠드 라이브러리 언론사편집 기자 연재 구독설정 속보 정부 학원 원격수업 전환 단체활동 자제 권고 대전일보 정부 공직사회 휴가 복귀시 신속항원검사 가족돌봄휴가자 최대 만원 지원 중앙일보 위메이드 분기 영업손실 억원 적자전환 데일리안 확진 일만에 만명 돌파 학원 원격수업 전환 서울경제 정부 오늘 신규 확진자수 일만에 만명 넘어 디지털타임스 내용작성전 정부 오늘 신규 확진자수 일 만에 만 명 넘어 내용작성전 학원 원격수업 전환 단체활동 자제 적극 권고 한국경제 내용작성전 속보 닫기 월 일 구독 동영상 재생시간 금리인상에도 집값 고공행진 월 전년대비 상승 미국의 집값 상승세가 좀처럼 꺾이지 않고 있습니다 금리인상에도 주택 가격이 오르면서 거래도 크게 줄고 있는데요 김정연 기자 연결해 자세한 상황 알아보겠습니다 미국 주택 가격이 고공행진을 이어가고 있다고요 미국 아시아경제 월 일 구독 르포 다음은 나겠구나 싶죠 늘어가는 셀프계산대 캐셔들 불안 최근에 일반계산대는 줄이고 셀프계산대를 몇 개 더 늘리더라고요 다음은 나겠구나 싶죠 일 오전 서울 한 대형마트에서 만난 캐셔 계산원 씨는 한숨을 쉬었다 최근 근무지에서 셀프계산대 운영이 늘어난 만큼 일다 월 일 구독 엄마 의 우울증과 모성 이데올로기 산후우울증에 관심을 처음 가진 건 여 년 전이다 지금보다 산후우울증이라는 말이 덜 흔하게 사용되었지만 출산 후에 시작된 정신적 고통을 호소하는 여성들은 많았다 그 고통의 이야기들은 죄책감이라는 결론으로 수렴 신동아 월 일 구독 자치가 진보 라던 민형배의 이해 못할 순교자 정치 민주당 복당 애쓰지 말라 무소속이 축복이다 괴물 돼가는 운동권 선배님들 탈당했는데 민주당 광주시장 선대위원장 당권주자들은 선 긋기 처럼회는 옹호 구청장 민형배 가 쓴 세 권의 멋진 책 광주방송 월 일 구독 동영상 재생시간 어긋난 성적 욕심 앞에 허술함 드러낸 학교 광주의 한 고등학교에서 제기된 답안 유출 의혹이 결국 사실로 드러났습니다 성적 욕심에 눈이 먼 고등학생들은 건물 외벽을 타고 층 교무실 창문을 넘는가 하면 교사들의 컴퓨터를 해킹해 답안지를 빼내기도 했습니다 새로보기 주간동아 월 일 구독 부동산 고수 홍수시대 족집게 전문가 선별 방법 불확실한 변수도 짚어주는 여우형 전문가에 주목해야 행동경제학의 석학 대니얼 카너먼이 세계적인 예측 전문가로 꼽는 필립 테틀록 미국 펜실베이니아대 교수는 내로라하는 전문가들의 예측 실력을 원숭이가 다트를 명중시키는 확 머니 월 일 구독 돈 더 쓰고 일 는다 재택근무의 이면 점심값 전기세 부담에 잦은 초과근무까지 재택근무가 하나의 근무형태로 정착하면서 직장인들의 고민이 늘고 있다 집에서 일하며 보내는 시간이 늘어나면서 전기세 등의 생활비 부담도 증가하고 있기 때문이다 고용노동부가 월 일 구독 동영상 재생시간 내부 총질 당대표 파장 노출 전적 제 잘못 권성동 사과 윤석열 대통령이 이준석 국민의힘 대표를 내부 총질이나 하던 당대표 라고 표현한 문자메시지가 공개됐습니다 파장이 커지자 메시지를 보인 권성동 원내대표는 전적으로 자신의 잘못 이라며 뒤늦게 사과했습니다 유미혜 코리아헤럴드 월 일 구독 매일경제 월 일 구독 쓰레기 더미에 현금 억원이 아르헨 쓰레기장서 보물 찾기 소동 아르헨티나의 한 쓰레기처리장에 묻힌 달러 지폐 를 찾기 위해 전국에서 사람들이 몰려드는 소동이 발생했다 일 현지시간 현지 언론 등에 따르면 아르헨티나 중부 산타페주 라스파레하스에 있는 한 쓰레기장에서 최근 새로보기 동아일보 월 일 구독 내부총질 하던 당대표 바뀌니 달라져 권성동에 문자 파문 윤석열 대통령이 국민의힘 이준석 대표에 대해 내부 총질이나 하던 당 대표 라는 표현을 쓴 장면이 포착돼 파장이 일고 있다 그동안 윤 대통령은 당 문제는 지켜보는 게 맞는 것 같다 며 이 대표에 대한 직접적인 언 헤럴드경제 월 일 구독 시간만에 완판시켰다 삼성도 긴장한 세 놀라운 이 청년 삼성 애플도 긴장 세 중국계 칼 페이 가 설립한 영국 스마트폰 브랜드 낫싱 이 한국에서 나오자 마자 돌풍을 일으키고 있다 판매 개시 시간만에 완판됐다 삼성과 애플이 연합뉴스 월 일 구독 가장 가고 싶은 나라 지만 실제 일본 여행수요는 시들 왜 국경통제 풀었지만 단체여행만 가능하고 비자 받아야 해 아베 암살로 혐한 정서 우려도 정상화되려면 시간 더 필요 서울 마포구에 사는 회사원 최모 여 씨는 올여름 일본 여행을 계획했다가 접었다 최 씨는 부산일보 월 일 구독 서산 머드맥스 그 광고 부산국제광고제 본선 진출 부산국제광고제 본선 진출작이 공개됐다 부산국제광고제는 올해 본선에 진출한 개국 편을 일 공개했다 편 중 전문가 작품은 편 일반인 작품은 편이다 부산국제광고제는 월 이코노미스트 월 일 구독 오딘 개발사 라이온하트 코스닥 상장 시동 원 게임 리스크 극복할까 모바일 오딘 으로 유명한 개발사 라이온하트 스튜디오가 코스닥 상장을 본격화했다 최근 책정된 기업가치만 약 조원에 달하는 만큼 향후 코스닥 대어 로 떠오를 전망이다 다만 흥행 게임이 오딘 새로보기 대전일보 월 일 구독 만 전체 경찰회의 철회 국회가 경찰국 시정해줄 거라 믿어 행정안전부 경찰국 신설에 반발해 오는 일에 열릴 예정인 만 전체 경찰회의가 철회됐다 전체 경찰 회의를 최초로 주도한 서울 광진경찰서 김성종 경감은 일 경찰 내부망에 전국 만 전체 경찰회의 자진철회 월 일 구독 동영상 재생시간 추경 심사중 집행 공고 의회 무시하나 제주자치도가 제출한 추경 예산안 심사가 한창 진행되고 있습니다 그런데 심사가 끝나기도 전에 예산 집행 계획이 공고돼 물의를 빚고 있습니다 제주자치도가 의회를 무시한다는 지적까지 나왔습니다 하창훈 기잡니다 리 이데일리 월 일 구독 이준석 측근 내부총질 왜 권성동 사과 강기훈 대체 못해 이준석 국민의힘 대표 측근으로 분류되는 김용태 최고위원은 윤석열 대통령의 내부총질 문자 메시지에 대해 발화 주체가 대통령인데 왜 권성동 대표 직무대행께서 그 발언을 해석해서 사과문을 올린 건지 당황스럽다 라고 한경비즈니스 월 일 구독 무려 년간 이어온 코웨이 청호나이스 특허 전쟁 의 마지막 오현아의 판례 읽기 드라마 이상한 변호사 우영우 에서는 두 현금자동입출금기 업체가 기술을 두고 법정 싸움을 지속하는 장면이 나온다 한 업체에서는 자신들이 만든 독자적이고 진보한 기술이라고 주장하는 한편 다른 쪽에서는 이미 한겨레 월 일 구독 탁현민의 할아버지가 온다면 윤석열은 달라질까 신진욱의 질문 나토 북대서양조약기구 정상회의에 초청받아 다녀온 윤석열 대통령의 이미지컷들이 어색함과 작위성 때문에 빈축을 사고 있다 윤 대통령 주변에 문재인 전 대통령의 이미지 연출을 총괄했던 탁현민 전 새로보기 뉴스타파 월 일 구독 피지에 왕국 세운 이단교회 은혜로교회 신도 폭행 착취 남태평양 섬나라 피지가 지상낙원이라며 신도 명 가량을 집단 이주시킨 이단교회가 있다 바로 신옥주 목사 모자가 운영하는 은혜로교회 다 이 교회는 피지로 간 지 년도 안 돼 거대한 기업 집단을 일궜다 그 프레시안 월 일 구독 이준석 추잡하고 환멸감 들어 법카 한도 으로 장난치더니 윤석열 권성동 메시지 공개 전 윤핵관 저격 글 올렸던 이준석 대표 윤석열 대통령이 국민의힘 대표권한 대행 권성동 원내대표에게 보낸 이준석 대표 비판 텔레그램 메시지가 공개된 후 당사자인 이 대표는 언급을 자제 문화일보 월 일 구독 최고위원 이 당대표 싫어했다는 소문의 방증 내부총질 논란 파장 이준석 측은 아직 반응 엔 울릉도 방문 소식만 김용태 특별한 입장 없을 듯 언급시 상황 커져 이준석 국민의힘 대표를 내부 총질 로 비유한 윤석열 대통령의 스마트폰 메시지가 언론에 포착된 것에 한겨레 월 일 구독 역대 장관 명 중 여성 명뿐 기재 행안 통일부는 명 대한민국 정부 수립 뒤 역대 장관 가운데 여성이 차지하는 비율은 에 불과한 것으로 나타났다 여성 정책 주무 부처로 장관이 모두 여성이었던 여성가족부를 빼면 이 비율은 로 장관 명당 명은 데일리안 월 일 구독 최태원 선물 보따리에 바이든 땡큐 땡큐 땡큐 종합 최태원 그룹 회장이 그룹의 미래를 책임질 반도체 그린에너지 바이오 사업에서 억 달러 조원 에 달하는 대규모 투자를 진행한다 최근 발표한 전기차 배터리 분야 억 달러까지 감안하면 대미 투자 규모는 약 새로보기 비즈니스워치 월 일 구독 줘도 안 할래요 투자열기 싸늘히 식었다 국내외 증시가 날개 없는 추락을 거듭하는 가운데 이를 기초자산으로 삼는 주가연계증권 을 향한 투자자들의 관심이 싸늘하게 식고 있다 높은 수익률을 담보하고 있음에도 청약 신청 물량이 모집하기로 한 금액에 한참 주간경향 월 일 구독 긍정의 눈 떠야 공존의 길 열린다 한국사회가 본인 또는 부모가 외국으로부터 이주한 경험이 있는 이주배경 청년 과 공존하는 법을 모색할 때 가장 중요한 것은 관점의 근본적인 변화다 그간 한국사회의 이주민 세대에 대한 관점은 상대적으로 열악한 사회 뉴스 월 일 구독 중개업자 만 서울 부동산값 상승 매매전망지수 역대 최악 부동산은 분위기를 많이 탑니다 대출 부담도 세고 집값 떨어진단 얘기도 많은데 누가 아파트를 사겠습니까 이런 분위기에서 빠져나오려면 한참 걸릴 듯 싶습니다 서울 노원구 공인중개업소 부동산 시장 분위기를 코메디닷컴 월 일 구독 두경부암 위험 낮추는 예방법은 신체의 목과 머리에 해당하는 두경부는 가장 기본 기능인 숨쉬고 말하고 먹고 보고 듣는 기관을 포함하고 있는 중요한 영역이다 두경부 영역에 암이 발생하게 되면 위와 같은 호흡 발성 삼킴과 같은 정상 기능이 중앙일보 월 일 구독 아이스홍차 원샷뒤 피 리터 토했다 건강했던 남성 무슨일 최근 중국에서도 폭염이 기승을 부리고 있는 가운데 차가운 음료를 급하게 마신 남성이 다량의 피를 토하는 일이 발생했다 일 차이나 프레스 등 현지 언론 보도에 따르면 지난 일 오후 시쯤 하얼빈에 위치한 한 새로보기 지디넷코리아 월 일 구독 우즈벡 병원 여곳 한국 도움 받아 병원으로 탈바꿈 년 월 당시 문재인 대통령이 우즈베키스탄 우즈벡 을 국빈 방문해 보건복지 분야를 도와주기로해 이 프로젝트가 시작됐습니다 우즈벡 정부가 자국내 병원을 인공지능 과 데이터 등 신기술을 적용한 병원 매경이코노미 월 일 구독 당근마켓 중고나라 통한 탈세 내년부터 불가능 내년 월부터 중고거래 플랫폼 운영 사업자도 판매 중개 자료를 국세청에 제출해야 한다 이에 따라 과세 사각지대 라는 지적이 나왔던 반복적인 중고거래에 세금을 매길 수 있는 근거가 마련된다 기획재정부는 연합뉴스 월 일 구독 동영상 재생시간 내부 총질 하던 당대표 바뀌니 달라져 윤 대통령 문자 포착돼 윤석열 대통령과 국민의힘 권성동 당대표 직무대행이 주고받은 휴대전화 문자 메시지가 노출돼 정치권에 파장이 일고 있습니다 윤 대통령이 이준석 대표를 내부 총질이나 하던 당 대표 라고 표현한 것인데요 이같은 문자가 서울경제 월 일 구독 아이스홍차 원샷하고 피토했다 건강했던 무슨일 최근 중국에서 차가운 음료를 급하게 마신 남성이 다량의 피를 토하는 일이 발생했다 폭염이 기승을 부리고 있는 가운데 차가운 음료를 급하게 마신 탓이었다 일 차이나 프레스 등 현지 언론 보도에 따르면 지난 아이뉴스 월 일 구독 잘 치워봐 편의점 어지르고 알바생 조롱한 대들 한 편의점 아르바이트생이 음식물 섭취 후 자리를 엉망으로 만들고 조롱글까지 남긴 진상 고객에 분통을 터뜨렸다 최근 한 온라인 커뮤니티에는 나 지금 손발이 다 떨리고 진정이 안 됨 이라는 제목의 글이 게재됐다 자 새로보기 농민신문 월 일 구독 대형마트 의무휴업 년만에 폐지되나 농민 출하기회 확대 차원에서 논의해야 대통령실 선정 국민제안 포함 공정위도 새벽배송 규제 개선 대형마트만 금지는 차별 소지 소상공인 등 보호 취지 목소리 민주당 추가확대 움직임 이목 기업 이익 아닌 농업 고려 필요 올해로 꼭 년 된 대형마 기자협회보 월 일 구독 민주당 의원들 폐지 조례안 공영미디어 장악 출발점 더불어민주당 의원들이 서울시의회 국민의힘 의원들이 발의한 폐지 조례안을 두고 공영미디어 장악의 출발점이 될 것 이라고 규탄하며 국민의힘이 최근 자행하고 있는 모든 공영미디어 훼손 행위를 즉각 중단할 것 을 조선 월 일 구독 동영상 재생시간 세계 최강 아파치 등 헬기 대 초토화 훈련 공개 육군이 현존 최강의 공격 헬기인 아파치 가디언을 대 동원해 실제 사격 훈련을 했습니다 유사시 적이 매복한 지역을 헬기로 초토화한 뒤 우리 병력을 안전하게 투입하는 훈련입니다 군이 이번 훈련을 공개한 건 북한의 시사저널 월 일 구독 내부 총질 문자 한 통에 드러난 권성동 사과에도 논란 확산 권성동 전적으로 제 잘못 에선 이준석 팽 맞네 윤석열 대통령과 권성동 국민의힘 당 대표 직무대행이 주고받은 문자를 둘러싼 논란이 일파만파 확산되고 있다 윤 대통령이 이준석 국민의힘 대표에 대해 내부 강원일보 월 일 구독 속보 김성종 경찰 전체가 사회적 비난 대상이 될 수 있다 만 전체경찰회의 철회 행정안전부 내 경찰국 신설에 반발해 일 열기로 했던 만 전체 경찰회의가 취소됐다 처음 전체 경찰회의 를 주도한 서울 광진경찰서 김성종 경감은 일 경찰 내부망에 전국 만 전체 경찰회의 자진철회 라는 새로보기 월 일 구독 동영상 재생시간 싸이 흠뻑쇼 갔다가 코로나 감염 확진 단숨에 만 명 육박 코로나 신규 확진자가 단숨에 만 명에 육박했습니다 일 만에 역대 최다입니다 검출률도 로 사실상 우세종이 됐는데 변이까지 지역사회에 전파되고 있으니 다음 달 약 만 동아사이언스 월 일 구독 안철수 과학방역이란 모든 결정권을 관료 아닌 전문가가 갖는 것 안철수 국민의힘 의원은 일 과학방역은 방역정책의 결정권을 관료나 정치인이 정무적인 판단에 의해 최종결정하는 것이 아니라 전문가가 과학적인 근거를 가지고 결정하는 것을 의미한다 고 말했다 안 의원은 이날 서울 여성신문 월 일 구독 행안부 경찰국 신설안 국무회의 의결 월 일 시행 행정안전부 내 경찰국 신설을 위한 행정안전부와 그 소속기관 직제 일부개정령안 이 일 국무회의를 통과했다 정부는 이날 정부서울청사에서 한덕수 국무총리 주재로 열린 제 회 국무회의에서 행안부 경찰국 신설 시행령 매일신문 월 일 구독 권성동 사퇴해 실망 문자에 당원 게시판 부글부글 권성동 국민의힘 당대표 직무대행 겸 원내대표가 윤석열 대통령과 나눈 문자 메시지가 언론에 노출된 이후 국민의힘 당원 게시판에 비판 여론이 쏟아지고 있다 일 권 대행의 문자 메시지가 언론에 공개된 오후 시쯤부터 대구 월 일 구독 동영상 재생시간 장마 끝 폭염 지속 탈진 열사병 온열질환 주의해야 장마가 끝나고 연일 폭염이 이어지면서 온열질환자가 크게 늘고 있습니다 고열에 실신하거나 탈진해서 병원을 찾는 경우가 많은데요 자칫 생명을 위협할 수도 있는 만큼 세심한 건강관리가 필요합니다 손은민 기자입니다 새로보기 국민일보 월 일 구독 대통령 믿었는데 국힘 청년정치인들 등 돌렸다 윤석열 대통령이 권성동 국민의힘 원내대표에 보낸 텔레그램 메시지에서 이준석 대표를 내부 총질이나 하던 당대표 로 표현한 사실이 드러나 파문이 일자 당내 전현직 대변인들이 윤석열 대통령을 믿었다 추억이 경향신문 월 일 구독 민주당 서영교 국민의힘 권은희와도 이상민 탄핵 같이 논의 더불어민주당 경찰장악저지대책단장 서영교 의원은 일 이상민 행정안전부 장관 탄핵 추진에 대해 권은희 국민의힘 의원이 제게 연락도 왔고 충분히 같이 논의하고자 한다 고 말했다 서 의원은 이날 라디오 월 일 구독 방 더럽게 썼다며 고객 비방한 호텔 직원 결국 사과문 국내 수도권의 성급 호텔 직원이 고객 퇴실 후 어지러워진 객실 모습을 소셜미디어 에 올려 공개 비난했다가 강한 역풍을 맞고 있습니다 경기도 고양시 일산의 호텔에 근무하는 한 직원은 지난 일 자신의 시사 월 일 구독 영상 권은희 의원이 경찰국 논란 핵심만 정리해 드림 정치왜그래 시사 이 만드는 유튜브 라이브 방송 정치왜그래 의 왜그래 콜센터 는 시청자 여러분이 남겨주신 질문으로 만들어집니다 왜그래 콜센터가 연락한 세 번째 정치인은 국민의힘 권은희 의원입니다 월 일 국무회의에서 코리아중앙데일리 월 일 구독 새로보기 미디어오늘 월 일 구독 윤석열 대통령 본심 딱 걸린 내부총질 메시지 일파만파 윤석열 대통령이 지난 일 이준석 국민의힘 대표를 향해 내부 총질이나 하던 당대표 라고 거론한 사실이 알려지면서 대통령의 당무 개입 여부가 논란이다 권성동 국민의힘 원내대표 당대표 직무대행 과 윤 대통령이 주고 월간산 월 일 구독 낭만야영 인플루언서의 설정 샷 이 쉽다고요 혼자 아웃도어 화보를 찍어보자 민미정님 계정에 올라온 사진을 보니 사진 구도나 콘셉트가 우리 브랜드 이번 캠페인인 하이킹라이프 와 잘 어울릴 것 같아요 혹시 저희 회사 제품을 착용하고 산에서 사진을 찍 조선일보 월 일 구독 머스크 브린 사진 올리며 불륜설 반박 업계선 오보면 왜 소송 않나 절친이던 세르게이 브린 구글 공동 창업자의 아내와 불륜을 저질렀다는 의혹을 받는 일론 머스크 테슬라 가 연일 불륜설을 강하게 반박하고 있다 일론 머스크는 일 현지시각 자신의 트위터에 나에 대한 관심이 강원도민일보 월 일 구독 윤 대통령 문자 논란에 권성동 이유 막론 심려 끼쳐 죄송 국민의힘 권성동 당대표 직무대행 겸 원내대표가 윤석열 대통령과 주고 받은 문자 메시지가 언론에 노출된 것에 대해 이유를 막론하고 당원동지들과 국민들께 심려를 끼쳐드려 죄송하다 고 사과했다 권 대행은 일 자신의 노컷뉴스 월 일 구독 단독 평택항서 수익률 올린 사모님들 해피아 연루 의혹 영상 편집자 주 우리나라 경제의 해외 무역의존도는 를 넘고 수 출입 물동량은 를 차지한다 항만이 우리 경제에 차지하는 비중은 절대적이다 우리 정부는 년부터 항만 경쟁력 강화를 위한 항만 민자개발 새로보기 헬스조선 월 일 구독 헬스컷 폭염에 가로수가 저절로 불탔다 자연발화 주의 전 세계에서 기록적인 폭염이 계속되고 있습니다 영국에선 철로가 휘어 열차 운행이 중단되는가 하면 알프스 산맥의 어는 점이 높아지기도 했습니다 년 만의 기록적인 폭염을 겪고 있는 중국에선 가로수에서 불이 붙었 청주방송 월 일 구독 충북 세종날씨 충북 전역 폭염주의보 낮 최고 도 충북과 세종지역은 오늘 일 가끔 구름 많은 가운데 한낮 도 안팎의 무더위가 계속되겠습니다 충북 전 지역에 폭염특보가 발효된 가운데 체감온도가 도까지 올라 매우 덥겠고 밤사이 열대야가 나타나는 곳도 있 디지털타임스 월 일 구독 전여옥 류삼영 차 저격 태어난 고향 안 밝혀 인터뷰 하는 이유는 뭘까 전여옥 전 국회의원 전날 이어 연이틀 류삼영 총경 저격글 남겨 요즘 총경쿠데타 지켜보면서 한 가지 사실 깨달아 제가 아는 경찰들은 모두 순경 으로 들어와 총경 달았던 사람들 경찰대학교 겨냥해서도 날선 파이낸셜뉴스 월 일 구독 권성동 물러나라 에 실망 문자 노출에 국힘게시판 난리났다 윤석열 대통령이 이준석 국민의힘 대표에 대해 내부 총질이나 하던 당대표 라고 표현한 문자메시지를 권성동 국민의힘 당대표 직무대행 겸 원내대표에게 보낸 사실이 보도된 이후 국민의힘 당원 게시판에 비판 여론이 쇄도하고 전주 월 일 구독 동영상 재생시간 무면허 뺑소니에 운전자 바꿔치기 파장 커지는 전직서장 조사 뺑소니 사고를 낸 뒤 운전자 바꿔치기 의혹을 받는 전직 경찰서장이 검찰에 넘겨진 가운데 관련 조사가 확대되고 있습니다 전북경찰청은 도주치상과 무면허 운전 범인도피 교사 혐의로 전직 전주 덕진경찰서장 이 모 씨를 새로보기 채널 월 일 구독 권성동 대통령 문자보도에 전적으로 저의 잘못 권성동 국민의힘 당대표 직무대행 겸 원내대표가 윤석열 대통령과의 대화 내용 노출에 대해 공개 사과한 가운데 윤 대통령이 오늘 일 입장을 밝힐 지 주목됩니다 권 대행은 어젯밤 시 분쯤 페이스북을 통해 저 월 일 구독 동영상 재생시간 곧 경기침체에 들어설 것 물가 잡는 게 최우선 국제통화기금 는 세계가 곧 경기침체에 들어갈 것이라고 전망했습니다 수석 이코노미스트는 긴축 정책을 시작했으면 물가를 잡을 때까지 진행해야 한다고 강조했습니다 김진호 기자의 보도입니다 기자 지난 뉴시스 월 일 구독 갤 보라 퍼플 추가 출시 삼성의 시그니처 색상 기사내용 요약 영어의 퍼플 색 의미하는 한국어 보라 글로벌에도 동일 사용 다음달 일부터 한국 미국 유럽 등 글로벌 동시 출시 서울 뉴시스 이진영 기자 삼성전자가 슬림한 디자인과 형 월 일 구독 신규 조 포함 조 원 대미투자 반도체 소형원자로 등 그룹이 미국에서의 반도체와 소형 원자로 사업 등에 새로 조 원을 투자하기로 하는 등 대미 투자 규모를 조 원으로 늘렸습니다 미국을 방문 중인 최태원 그룹 회장은 한국시간으로 오늘 일 새벽 조 바 더팩트 월 일 구독 이준석 징계 안타깝다 더니 내부 총질 당대표 본심 들통 권성동 원톱 체제 논란 불가피 내부 총질이나 하던 당 대표 윤석열 대통령이 당원권 정지 개월 징계를 받은 이준석 국민의힘 대표를 비난하는 문자메시지가 공개됐다 이 대표의 징계 과정에서 제기돼온 이른바 윤심 새로보기 한국경제 월 일 구독 흠뻑쇼 갔다가 코로나 걸렸다 우려가 현실로 코로나 신규 확진자가 약 개월 만에 다시 만명에 근접한 가운데 대규모 감염 우려가 큰 콘서트장 등에 대한 방역 우려가 커지고 있다 최근 인터넷 커뮤니티에는 흠뻑쇼에 다녀와서 확진됐다 는 경험담이 이어지고 전자신문 월 일 구독 세계 반도체 장비 빅 인력 확보 총력전 세계 반도체 장비 매출 상위 개사가 올해 국내에서 명에 육박하는 인력을 채용한다 상반기 공개 채용에 이어 하반기도 수시 또는 추가 채용에 나서는 등 인력 확보 총력전을 펼친다 주요 고객사인 삼성전자와 머니투데이 월 일 구독 숨막히는 인파 잃어버린 가방 계속되는 연착 세계 공항은 지금 시간 공항서 뺑뺑이 지옥 같았다 여행 끝날때까지 못찾은 수하물 태반 히스로공항 항공권 팔지 말라 요구도 미국 뉴욕에 거주하는 마리비 라이트의 지옥 같은 휴가 는 공항에서 시작됐다 에어프 월 일 구독 동영상 재생시간 제 의 로 확산될 수도 한미 어느 때보다 강력 앵커 북한이 다음달 한미 연합훈련을 앞두고 제 의 한국전으로 확산될 수도 있다 며 강한 경계심을 드러냈습니다 반면 미국은 한국전 정전협정일 주년을 맞아 한미동맹은 어느 때보다 강력하다 는 입장을 한국일보 월 일 구독 윤핵관 끊임없는 소란 야기 국민의힘 당원 게시판 부글부글 윤석열 대통령과 권성동 국민의힘 원내대표 겸 당대표 직무대행이 나눈 사적 대화 내용이 공개돼 정치권 안팎으로 후폭풍이 거세다 권 직무대행은 전적으로 제 잘못 이라고 사과했지만 국민의힘 당원게시판에는 비판적인 글들 새로보기 디지털데일리 월 일 구독 무시했지만 소부장 삼성 나노 반도체 언성히어로 테크다이브 화성 라인 출하식 참여한 협력사 살펴보니 언성히어로 우리나라 말로는 보이지 않는 영웅 이라는 뜻입니다 눈에 띄지는 않지만 묵묵히 꼭 해야 할 일을 하는 이들을 지칭합니다 국내 오마이뉴스 월 일 구독 갑자기 푹 동해안에서 일어난 무서운 변화 파리로 가는 길 심각한 해안 침식 동해안은 전국 어디서고 먼 길을 마다하지 않고 가고 싶은 여름 휴가지다 물이 맑고 모래가 풍부하며 조수간만의 차가 없어 항시 바닷물에 들어갈 수 있다 서해안에는 갯벌이 있지만 간조 시에는 광활한 주간조선 월 일 구독 은퇴하고 농사나 년 전문가의 귀농 조언 들어보니 은퇴하면 고향에서 농사나 지을까 김옥두 전 목포농협 상무는 친구들에게 이런 말을 들으면 험한 말부터 나온다고 했다 지난 월 일 전라남도 목포시 고하도에 있는 무화과밭에서 만난 김씨는 지역의 농사 전문가 세계일보 월 일 구독 이준석 겨냥 본심 드러낸 징계 개입 가능성 논란 일어 대통령 초유의 대표 비난 파문 년 월 긴급 입당 서 악연 시작 대선 과정 충돌했다 임시 봉합 되풀이 취임 이후 관계 개선 못하고 돌아서 당혹감 노출 한심 그 자체 질타 권성동 조세일보 월 일 구독 올해 한국 성장 국내외 전망 중 최저 국제통화기금 이 올해 한국의 경제성장률을 종전 전망치보다 낮은 로 제시했다 국내외 주요 기관이 내놓은 전망치 중 가장 낮은 수치다 고물가 전쟁 등 하방 리스크가 커질 수 있다는 우려가 나오면서 경 새로보기 국제신문 월 일 구독 텔레그램 문자 파장 어디까지 여권 내홍 재점화되나 촉각 윤석열 대통령이 국민의힘 이준석 대표를 향해 내부 총질하던 당대표 라고 한 문자 메시지가 공개되면서 내홍이 재점화하는 것 아니냐는 전망이 나온다 윤 대통령은 이 대표에 대한 중앙윤리위원회의 징계 결정이 내려진 지 한국경제 월 일 구독 한끼 가격 절반도 안되네 요즘 직장인 도시락족 최애 메뉴 외식물가가 고공행진하면서 주머니 부담을 덜기 위해 도시락을 찾는 소비자들이 늘어나고 있다 런치플레이션 런치 인플레이션 합성어 이란 신조어가 등장할 정도로 점심식사 비용 부담이 늘어나면서 직장인들이 도시락을 찾는 조선비즈 월 일 구독 이번에도 삼성보다 빨랐다 마이크론 단 낸드플래시 세계 최초 양산 삼성전자 하이닉스도 기술 개발 끝내 올해 하반기 늦어도 내년 상반기 단 양산할 듯 효율 원가 경쟁력 집중 시장 상황 고려한 로드맵 미국 메모리 반도체 업체 마이크론이 세계 최초로 단 낸드플래시 양산 서울신문 월 일 구독 깔끔하게 정리 좀 고객 저격한 호텔 직원 결국 자필 사과문 고객 퇴실 후 객실 사진 찍어 공개 호텔 측 공식사과는 없어 고객이 사용한 방이 더럽다며 객실사진을 트위터에 올려 공개 비난한 호텔 직원이 자필 사과문을 올렸다 국내 수도권의 성급 호텔에서 일하는 직원은 지난 블로터 월 일 구독 러시아 년 이후 국제우주정거장 탈퇴 재확인 러시아가 년 이후 국제우주정거장 프로젝트에서 완전히 탈퇴한 후 자체 우주정거장 구축을 시작할 계획이라고 밝혔다 일 현지시간 에 따르면 유리 보리소프 러시아 연방우주공사 로스코스모스 신임 사장 새로보기 신문 면 모아보기 방송뉴스 도움말 오늘 언론사가 발행한종이신문에 실린 뉴스 면기사가 제공됩니다 닫기 경찰국 내달 일 설치 만 경찰회의 거센 저항 구독하기 경찰 만 전체회의 반발 격화 류삼영 총경 자제 내부망에 글 구독하기 법치에 먹칠한 윤석열 정부 위법적 경찰국 밀어붙이기 구독하기 용산을 아시아 실리콘밸리 로 롯데타워급 빌딩 들어선다 구독하기 단독 팬데믹 고용 한파 부산 여성에 더 잔혹했다 구독하기 대구 곳 대전은 곳 공연하고 싶어도 공연장이 없어요 구독하기 반발은 국기 문란 직접 경고장 날린 구독하기 오세훈표 용산정비창 개발 시동 주택 줄이고 초고층빌딩 올린다 구독하기 불붙은 환율에 기름붓는 국민연금 구독하기 단독 신공항 특별법 새 국면 맞나 이재명 별도 특별법 준비하고 있다 구독하기 윤 대통령 국기문란 경찰 반발 직접 압박 구독하기 구독하기 세계 반도체 장비 빅 인력 확보 총력전 구독하기 경찰국 띄운 윤 정부 다음은 경찰대 개혁 구독하기 중대 국기문란 경찰에 옐로카드 구독하기 한국 성장률 전망 또 낮췄다 저성장 고착화 우려 구독하기 기업들 아세안 유럽 수출 리모델링 으로 의존도 낮춘다 구독하기 우영우 현실선 존재 어려워 팽나무 처럼 관심으로 자라 구독하기 연내 도청사 신축부지 결정 춘천내 공 사유지 포함 검토 구독하기 분기 성장률 소비로 겨우 버텼다 구독하기 기획 또 주저앉은 성장률 로 하향조정 구독하기 이전 다음 언론사별 심층기획 지수 편입의 명암 이코노미스트 월 일 구독 공매도만 쌓이네 코스피 편입 후 대차잔고 늘어난 종목은 코스피 선진지수 편입 실상은 빛 좋은 개살구 불확실성 지수와 변동성 지수 수치에 숨은 의미 조원경 글로벌 인사이드 이전 다음 윤정부 세제개편안 디지털타임스 월 일 구독 기획 직장인 소득세 최대 만원 줄어든다 정부 세제개편안 과표 억 기업 법인세 만원 절감효과 통합고용세액공제 신설 정부 세제개편안 연금저축 퇴직연금 세액공제 확대 납입한도 만원 만원 정부 세제개편안 종부세 기본공제 억 다주택 중과 폐지 이전 다음 심층기획 채널 월 일 구독 현장 카메라 시외버스 반토막 터미널 폐쇄 발 묶인 주민들 세계를 보다 에어컨 없는 런던이 도 펄펄 끓는 지구 현장 카메라 물고기 싹쓸이 골칫덩이 된 가마우지 세계를 가다 사룟값 폭등 서도 반려동물 포기 이전 다음 새로보기 언론사별 심층기획 택시 대란 왜 뉴스 월 일 구독 택시의 나라 모빌리티 잔혹사 요금 올리면 끝 갈등 피하면 혁신없다 택시의 나라 모빌리티 잔혹사 택시는 공공영역일까 요금 현실화 불가피 택시의 나라 모빌리티 잔혹사 표심에 눈먼 정치권 기사들 삶 나아졌나요 택시의 나라 모빌리티 잔혹사 해외는 택시난제 어떻게 풀고 있나 이전 다음 심층취재 전주 월 일 구독 장수군수 선거 여론 조작 정황 포착 전주 완주 통합 정치적 여론몰이 중단해야 반도체 인력 수도권 집중 전북도내 대학 총장 우려 해고자 디지털 포렌식 남은 직원 뒷조사 이전 다음 우리 곁의 우영우 이데일리 월 일 구독 우영우 현실선 존재 어려워 팽나무 처럼 관심으로 자라 우영우 신드롬 무엇을 남길 것인가 우영우처럼 자폐성 장애 있지만 이곳에선 베테랑 이죠 자폐 장애라도 직장서 치료 사회 훈련 가능 직업 교육 확대되길 이전 다음 새로보기 언론사별 심층기획 심층기획 월 일 구독 뉴스쉽 코로나에 고환율에 해외여행 갈 수 있는 거야 그사람 에듀 를 꿈꾸는 사교육 총수 손주은 사실은 국회의원 토론 은 누구일까요 취재파일 구의원님 산하기관 생수 납품이 떳떳한가요 이전 다음 중국 의존도 낮춘다 조선일보 월 일 구독 기업들 아세안 유럽 수출 리모델링 으로 의존도 낮춘다 삼성은 베트남에 센터 현대차는 인도네시아에 공장 건설 화장품 초코파이 소비재로 시장 파고들어야 올해 한국 성장률 석달 만에 또 낮췄다 이전 다음 확 바뀌는 부동산세금 매경이코노미 월 일 구독 부동산 세금 어떻게 바뀌나 주택자 재산세 공시가격에 희비 엇갈려 국민 숨통 트인다 다주택자 폭탄 시대 끝났다 주택자 기존 주택 팔아 취득세 절약 자녀 부담부 증여 양도세 절세 효과 빠르면 년 만에 아파트 단지 뚝딱 모아타운 투자 가치는 이전 다음 새로보기 언론사별 심층기획 스포트라이트 파이낸셜뉴스 월 일 구독 싸잡아 비난 억울하다는 공기업 직원들 국민이 볼땐 특혜만 받는 사람들 입국 당일 검사 받아야 붐비는 인천공항 검사소 현장르포 알바 내려놓는 잡러들 흔들리는 초단기 고용시장 한국 새 길에 서다 빚투 탕감 도덕적 해이 부추겨 회생제도 취지 맞다 법조 인사이트 이전 다음 한경 글로벌 마켓 한국경제 월 일 구독 리틀 버핏 빌 애크먼 경제 최대 위협은 금리인상 아닌 이것 전세계 긴축 불가피 경제성장률 전망 또 낮췄다 신인규의 글로벌마켓 러시아 우크라이나 전쟁 최대 패자 세계경제전망 발표 성장률 오른 국가는 한상춘의 지금세계는 반도체법 처리 임박 확실한 호재 반도체 경기 하강 이전 다음 기름진 대한민국 세계일보 월 일 구독 석유 한 방울 안 나는데 기름진 사회 연중기획 지구의 미래 화석연료와의 결별은 가능할까 연중기획 지구의 미래 서민부담 앞세워 유류세 인하 땜질만 탈화석연료 역행 연중기획 지구의 미래 탄소중립 시계 늦춰라 글로벌 석유사들 몸부림 연중기획 지구의 미래 이전 다음 새로보기 언론사별 심층기획 심층보도 조선 월 일 구독 소음 안전문제 불법 증축 파크골프장 곳곳 잡음 따져보니 총경 대기발령 논란 쟁점은 뉴스야 이재명도 기소되면 대표 박탈 포커스 대법원 헌재 잇단 충돌 최고 사법기관 힘겨루기 이전 다음 용산시대 매일경제 월 일 구독 용산을 아시아 실리콘밸리 로 롯데타워급 빌딩 들어선다 띄우고 지하에 환승거점 미래교통 중심으로 뉴욕 허드슨야드처럼 용산 사업 녹지 주거 융합도시로 뜬다 여의도공원 배 면적 사업비 조 천억 이전 다음 먹거리 뉴스 농민신문 월 일 구독 향토밥상 달큼한 살 은은한 향 은어가 선사하는 여름맛 토마토를 건강식단 주인공으로 일본 올 상반기 요리 키워드는 오트밀 올 추석 과일 선물세트 기상도는 사과 배 줄고 샤인머스캣 인기예감 이전 다음 새로보기 언론사별 심층기획 뜨거운 용산 비즈니스워치 월 일 구독 집잇슈 용산 서초 잠잠한 수주시장에 돌 던지는 정비사업 대어 용산정비창 만 가구 대신 국제업무지구로 용적률 이상 강남도 집값 상승 멈췄는데 용산은 용산하는중 이전 다음 경찰국 갈등 격화 머니투데이 월 일 구독 만 전국경찰회의 자진철회 국회가 시정할 것 믿어 경찰국 반대 총경회의 참석자 처벌될까 직무 관련성 여부가 관건 경찰 쿠데타 발언에 반발 확산 간부급 만 전국 경찰 회의로 경찰국 신설안 국무회의 통과 극렬하게 충돌하는 정치권 이전 다음 연료 떨어진 배민 블로터 월 일 구독 연료 떨어진 배민 글로벌 진출 오히려 독됐나 연료 떨어진 배민 줄어든 파이 성장세 유지할 수 있을까 연료 떨어진 배민 퀵커머스 먼저 열었지만 치고 나가지 못한 마트 왜 이전 다음 새로보기 언론사별 심층기획 사진잇슈 한국일보 월 일 구독 내부 총질 윤석열 문자를 대하는 민주당 의원들의 자세 사진잇슈 천 원이면 냉면 반 그릇 고물가 시대의 밥상 사진잇슈 대로변에서 육성으로 박지현의 힘겨운 출마선언 사진잇슈 아무리 귀를 갖다 대 봐도 말 없는 키오스크 사진잇슈 이전 다음 이슈 피플 강원도민일보 월 일 구독 오대산 불교문화 헌신 만화스님 재평가 강원 미친로드 인제 투박해도 속 꽉찬 맛 엄마 밥상 생각나네 맛있수다 꾸밈없고 수수한 메밀 막국수 맛의 근본 맛있수다 칼칼 담백 절묘한 접점 깔끔한 뒷맛 일품 이전 다음 신선한 경제 월 일 구독 신선한 경제 택시 승차난 에 음주 킥보드 자전거족 급증 신선한 경제 중고 거래 꼼수 탈세 막는다 소득 자료 제출 의무화 신선한 경제 자녀 양육비 한 달에 얼마나 들까 신선한 경제 내달 일부터 상생 임대인 년 거주 면제 이전 다음 새로보기 언론사별 심층기획 경찰국 신설 반발 월 일 구독 경찰국 내달 일 시행 청와대 경찰 밀실 거래 없앤다 경찰 인사 개선 지시 이상민 경찰대 개혁 예고 한덕수 쿠데타 발언에 표현 과했지만 절실함 표현 경찰국 반발 확산에 경찰청 사흘간 현장 경찰관 의견 수렴 이전 다음 동영상 뉴스 국제신문 월 일 구독 영상 국비 발목 잡힌 오륙도 트램 년째 첫 삽 못 떠 영상 한일 갈등에 황금어장 잃었다 한숨 쉬는 수산업 초 뉴스 반도체 동맹 할까 말까 국내 반도체 업계 고심 갑작스러운 심장 두근거림 부정맥 신호 이전 다음 용산 개발 청사진 헤럴드경제 월 일 구독 용산의 재도전 철길을 층 마천루 녹지 어우러진 미래 도시로 다시 용틀임 하는 용산 마천루 녹지 어우러진 미래도시로 년만의 용산국제업무지구 개발청사진 쫓기는 강남 급부상하는 용산 서울 부동산 대장 바뀔 수 있을까 부동산 이전 다음 새로보기 언론사별 심층기획 경찰국 신설 충돌 경향신문 월 일 구독 윤 대통령 국기문란 경찰 반발 직접 압박 이석연 전 법제처장 경찰국 신설 헌법적으로 용납 안 돼 법치 일방통행 이자 민주화의 퇴행 경감 경위급 이어 일선 경찰까지 불복종 운동 번지나 경찰국 신설이야말로 쿠데타 행위 닭 모가지를 비틀어도 새벽은 온다 이전 다음 심층기획 월 일 구독 토론영상 어제 명 이인제 그룹에게 어대명 이란 단독 여년전 경찰 독립 직전 기록엔 장관 지휘에 중립성 문제 팩트체크 총경들이 위수지역 이탈 장관 발언 따져보니 이전 다음 경찰국 갈등 확산 매일신문 월 일 구독 이상민 장관 취임 개월 만에 속전속결 경찰국 신설 일선 경찰 반발 격화 경찰국 내달 일 출범 여 집단항명 엄정 대응 야 국기문란 자초 정부 내달 일 경찰국 출범 강행 대통령 국기문란 질타에도 만 경찰 회의 맞불 이전 다음 새로보기 언론사별 심층기획 정부 정책 아이뉴스 월 일 구독 정부 대 국정과제 확정 기득권 저항에도 개혁 꼭 필요 문체부 첫 업무보고 실종된 게임 주무부처 바꿔야 목소리도 돋보기 과기정통부 위원회 절반 없앤다 과기정통부 업무보고 월 범정부 디지털 국가전략 수립 이전 다음 심층기획 월 일 구독 지방공항에 거는 기대 그리고 우려 문자 배경과 파장은 한심 그 자체 맹폭 조선업 고된 노동 낮은 임금 인력 돌아오지 않을 것 대정부질문 부자감세 경제위기 책임 놓고 공방 이전 다음 이슈톡 월 일 구독 더위야 물렀거라 복날 더위 잡는 삼계탕 꿈나무 필름 아트캠프 년만에 재개 호텔 철거 후 잇따라 아파트 신축 마리나 호텔 철거 임박 전 도민 인당 만 원씩 예산안 의회 심사 중 재난지원금 공고 이전 다음 새로보기 언론사별 심층기획 우영우 읽기 한경비즈니스 월 일 구독 우영우 열풍에 웃는 로펌들 더 이상 어둠의 온상 이미지 편견을 걷어내면 보이는 다른 것 이상한 변호사 우영우 정의란 무엇인가 논쟁도 이전 다음 경찰국 신설 갈등 뉴시스 월 일 구독 행안부 경찰대 손본다 졸업하면 경위로 출발 불공정 종합 이상민에 경찰국서 인사 합리적 개선 경찰 지휘부와 소통하라 독재정권으로 돌아간 것 같다 경찰 일반 공무원들도 반발 경찰의 난 본격화 팀장급 회의 만 전체 경찰회의로 확대 이전 다음 경기 침체 우려 문화일보 월 일 구독 수출 투자 뒷걸음 분기 성장 반짝소비가 막은 경기하강 경제 이미 침체국면 들어서 국제기구들 한국 성장률 전망 줄줄이 하향 기업경기전망 급락 개월만에 아래로 이전 다음 새로보기 언론사별 심층기획 파장 커지는 경찰국 부산일보 월 일 구독 윤 중대한 국가 기강 문란 쐐기 경찰 집단행동 분수령 부화뇌동식 집단행동 안 돼 졸속이자 국회 입법권 침해 국힘 그 어떤 항명도 용납할 수 없다 민주 윤 정부가 국기 문란 일으켰다 이전 다음 심층기획 대전일보 월 일 구독 경찰국 신설 속전속결 후폭풍 우려 국회 개 상임위원장 한 자리도 못 차지한 충청권 수년째 셋방살이에 수십억 혈세 세종시 별관증축은 언제쯤 똘똘한 한 채 에 올인 대전 부동산 매도심리 년새 배나 이전 다음 경찰국 신설 논란 연합뉴스 월 일 구독 행안부 경찰국 신설 이어 이번엔 경찰대 개혁 추진 수사권 조정부터 쌓인 구원 총경회의로 타깃 된 경찰대 이번에도 국기 문란 경찰 질타한 반발에 쐐기 행안부 경찰국 국무회의 초스피드 통과 명 조직 일 출범 이전 다음 새로보기 언론사별 심층기획 경찰 갈등 왜 한겨레 월 일 구독 경찰 갈등은 제 의 윤석열 싹 자르는 노림수 현직 경찰이 이상민 장관에게 보내는 편지 경찰 시위에 행안부 투명한 행정 위한 것 뉴스큐레이터 시위 막던 경찰 시위 이전 다음 심층기획 미디어오늘 월 일 구독 공매도와 증시 하락은 연관성 없다 는 언론에 대하여 내가 틀렸다 인정하지 않는 시대에 뉴욕타임스가 보인 파격 또 다시 밑바닥 보여준 인하대 성폭력 사망 사건 보도 프랑스 수신료 폐지 흐름 한국엔 어떤 영향 미칠까 이전 다음 세상을 보는 중앙의 눈 중앙일보 월 일 구독 사설 조원대 수상한 외환거래 철저히 밝혀야 중앙시평 때가 되었다 이제 한국전쟁 박물관을 김동호의 시시각각 윤 정부 지지율 회복이 필요한 이유 신성식의 레츠 고 문 케어 지우는 윤 정부 억원 약도 쓸 데는 쓴다 이전 다음 새로보기 언론사별 심층기획 경찰국 국무회의 의결 동아일보 월 일 구독 이상민 경찰대 나왔다고 자동 급 불공정 항명처럼 책임 물어야 정권 경찰 장악 편법 이상민 탄핵 거론 전문가 경찰국 과거로 회귀 행정부 통제 불가피 대통령 이상민에 경찰국에서 인사 제도 합리적으로 개선하길 이전 다음 심층 기획 청주방송 월 일 구독 성진영의 푸드테라피 방학 동안 우리 아이 키 쑥 자라게 할 음식은 단양 휴양림 파헤치기 숲에서 즐기는 승마부터 돌산의 매력까지 영상 무더위 잊게 해 줄 제천의 가지 비경 소리로 맛보는 대를 이어온 올갱이 이전 다음 우영우 신드롬 디지털데일리 월 일 구독 디지털 권모술수 권민우 의 공정 과연 나는 다를까 우영우 제 의 오징어게임 될까 해외도 주목 클로즈업 우영우 도둑시청하며 호평 평점 에 팬계정까지 등장 우영우 도둑시청에 분노 중국 당국이 나서라 이전 다음 새로보기 언론사별 심층기획 친환경 물류 시대 온다 전자신문 월 일 구독 스페셜리포트 선택 아닌 필수 친환경 물류 시대 온다 스페셜리포트 전기비행기 물류터널 앞서가는 해외 친환경 물류 물류업계 친환경 운송수단 강화 전기차 전환 속도 이전 다음 코리아중앙데일리 월 일 구독 이전 다음 다시 만난 퀴퍼 프레시안 월 일 구독 년차 퀴퍼질 이 짓을 왜 하냐고 외롭지 않으려고 퀴어퍼레이드 고인물 레즈비언 바 사장이 만드는 공간 빗속에 핀 무지개 퀴어로 채운 서울광장 이전 다음 새로보기 언론사별 심층기획 최신 여론조사 광주방송 월 일 구독 지지율 주째 대 긍정 부정 대통령 지지율 붕괴 눈앞 긍정 평가 대통령 잘못한다 보수층도 돌아서 사적채용 부적절 대 대 이전 다음 심층기획 연합뉴스 월 일 구독 년만에 부활 수사독립 훼손 수사업무 무관 경찰국 신설 반발 확산 만 경찰회의 추진 여 경찰 항명 용납못해 야 윤정부의 행정 쿠테타 졸업후 경위 임관 불공정 경찰대도 개혁 이전 다음 심층기획 월 일 구독 이슈분석 부자감세 기업 경쟁력 제고 경제정책 놓고 설전 김대호 박사의 오늘 기업 사람 월마트 테슬라 대우조선해양 김대호 박사의 오늘의 키워드 파월 가이던스 펠로시 대만행 칩 동맹 토니 최태원 한덕수 통화스와프 이전 다음 새로보기 언론사별 심층기획 심층기획 월 일 구독 인터넷 와글와글 산중 용변 고속도로 불바다 뉴스추적 휴가지 감염도 비상 백경란 의미 전달 부족 뉴스추적 이상민 경찰대 임관 불공정 윤희근 리더십 시험대 김주하의 그런데 누구도 그럴 권리는 없다 이전 다음 리셋 에너지 안보 국민일보 월 일 구독 고리원전 규모 강진 거뜬 완전 정전에도 전력공급 년간 사고 없지만 후쿠시마 반면교사 조심 또 조심 온실가스 걱정없고 가성비 좋은 원전 핵폐기물 처리 난제 이전 다음 정치왜그래 시사 월 일 구독 영상 폭락한 윤석열 지지율 끌어올리는 방법 알려드림 정치왜그래 영상 아베 피격 사망 평화 헌법 개헌된다고 정치왜그래 박지현 민주당은 고인 물 계속 돌 던지겠다 정치왜그래 이전 다음 새로보기 언론사별 심층기획 심층기획 한국경제 월 일 구독 년 만에 현금배당 빚더미 에 눌렸던 회사의 부활 김익환의 컴퍼니워치 년차 실리콘밸리 엔지니어의 조언 이직을 즐겨라 실리콘밸리인사이드 영국 테스코가 남은 식료품을 나누자 벌어진 일들 기업 인권경영 리포트 무용한 작품 만드는 괴짜들이 왔다 한국의 내셔널지오그래픽 꿈꿔요 긱스 이전 다음 필즈상 동아사이언스 월 일 구독 필즈상 필즈상은 어떤 상인가 필즈상 사상 두 번째 여성 필즈상 수상자 배출 다른 세 명의 수상자들 한국계 첫 필즈상 수상 허준이 교수는 누구인가 한국계 첫 필즈상 수상 허준이 교수 수학은 자유로움 을 학습하는 일 얽매이지 않고 생각해야 이전 다음 딥뉴스 노컷체크 노컷뉴스 월 일 구독 손배소 안하면 배임 파업 피해 책임은 왜 노동자만 지나 노동 판 칩 동맹 논란의 기승전 결말은 베이징 노트 다시 크런치모드 노동자들 긴장하는 까닭 그래 픽 법정 컷 경찰수사 잘했더라면 엄마는 죽지 않았을까 국가 책임 인정 이전 다음 새로보기 언론사별 심층기획 심층기획 코리아헤럴드 월 일 구독 이전 다음 가상자산 거래소 어쩌나 머니 월 일 구독 국내 대 가상자산 거래소 어떻게 다를까 뭇매 맞는 가상자산 거래소 대체 왜 규제 찬바람 부는 가상자산 거래소 이전 다음 헬스조선 심층기획 헬스조선 월 일 구독 밀당 혈당 급상승 막는 마법의 탄수화물 이 있다 밀당 부추와 오리가 만났다 고단백 콜라보 에 당뇨가 멈칫 밀당 똑같은 운동하고도 효과 더 보는 방법 없을까 밀당 식사 전 이것 먹으면 식후혈당 완만히 오릅니다 이전 다음 새로보기 언론사별 심층기획 경찰국 반발 확산 한겨레 월 일 구독 경찰 반발에 국기 문란 낙인 거듭 한계 드러낸 검찰 출신 대통령 류삼영 총경 윤 정부 법치국가 아닌 시행령 국가 만들 거냐 이상민 장관 연이은 경찰대 때리기 졸업생 경위 임관 불공정 민주 모든 힘 모아 경찰장악 저지 권한쟁의 심판 청구 추진 이전 다음 코로나 만 넘나 데일리안 월 일 구독 석 달 만에 만 명 오늘 자율방역 지침 발표 향후 주는 증가세 패션업계 코로나 인플레 공포에 소비심리 꺾일까 전전긍긍 코로나 에 무너진 취약계층 정부 지원 한계 왔다 주류업계 코로나 재확산에 파업까지 경영환경 최악 이전 다음 로펌의 기술 조선비즈 월 일 구독 로펌의기술 기술 탈취한 대만 경쟁사 산업기술 침해 입증한 법무법인 율촌 로펌의기술 코오롱 인보사 희망 살렸다 국가 연구비 환수 막아낸 화우 로펌의기술 서울대병원도 수도권정비법 규제 대상 증축시 내야 법무법인 원 율촌 꺾고 판정승 로펌의기술 코웨이 정수기 중금속 알고도 숨겨 고지의무 위반 집중해 집단소송 이전 다음 새로보기 언론사별 심층기획 자폐인이 본 우영우 여성신문 월 일 구독 이렇게 생각한다 나는 우영우가 불편하다 일본 여성 자폐인 우영우 살아도 된다는 용기 준 작품 편견 커질까 우려 이런 작품 갈망했다 자폐당사자 가족이 본 우영우 이전 다음 세 뇌건강 아시아경제 월 일 구독 세 뇌건강 당신의 뇌는 건강하십니까 세 뇌건강 세 이상 노인 명 중 명이 치매 세 뇌건강 치매 걸리면 등골이 휜다 환자 인당 관리비용 만원 세 뇌건강 근본 치료제 없어 예방이 중요 치매 일문일답 이전 다음 심층기획 강원일보 월 일 구독 다양성 갖춘 새로운 시도들그동안 없었던 클래식 무대 이혜연 농구선수 출신 고졸여성이 은행 지점장까지 된 비결요 버텨야 한다는 간절함 때문 나를 믿어야 얻을 수 있더군요 메트로폴리탄 뉴욕 중세풍 유리램프 만들고백악관 인테리어 도맡아명품 주얼리 티파니 뜻밖의 도전 우울감 스트레스 심리치료 시스템 우선 이전 다음 새로보기 언론사별 심층기획 투벤저스 주간동아 월 일 구독 월 소비자물가 상승 년 만에 최고치 찍었다 만 원의 행복 돈값 하는 냉면 맛집 신형 항모 푸젠 스펙 뜯어보니 빛 좋은 개살구 리츠도 줄줄이 신저가 신규 진입자에겐 또 다른 기회 이전 다음 사진이 더 팩트다 더팩트 월 일 구독 대통령 권성동과 문자 포착 내부 총질하던 당대표 바뀌니 달라졌다 포착 경찰국 신설 포함 행정안전부 새정부 업무보고 진행 사진관 해외 언론들도 앞다퉈 보도한 김연아 고우림 결혼 소식 사진관 힘차게 이륙하는 아파치 헬기 육군 대규모 항공 작전 훈련 사진관 이전 다음 경찰국 설치 논란 오마이뉴스 월 일 구독 근조화환으로 둘러싸인 경찰청 경찰은 죽었다 경찰국 설치 논란 경찰서장 쿠데타 라던 이상민 내란이라고 하진 않았다 경찰국 설치 논란 경찰에 경고한 경찰청장 후보자 집단 의사표시 마라 경찰국 설치 논란 쿠데타 발언 사과 거부 이상민 경찰국 신설 경찰관들과 공감할 문제 아냐 이전 다음 새로보기 언론사별 심층기획 어썸머니 서울경제 월 일 구독 파월 월 가이드 많이 안 할 듯 시장 예상보다는 매파적일 수도 김영필의 분 월스트리트 주먹인사 안 통했다 대 악재 겹친 에너지 시장 윤홍우의 워싱턴 시 분기 광고 매출 전망치 웃돈 구글 인플레 회복력 보여줬다 평가 서학개미 리포트 강달러에 실적 부진 경기 침체 속 승자는 클라우드 시간외거래서 서학개미 리포트 이전 다음 허위스펙 네트워크 추적 뉴스타파 월 일 구독 주간 뉴스타파 조작으로 쌓아올린 한동훈 처가의 아이비 캐슬 한동훈 처조카 논문 데이터 위조 촛불집회에 다인종 참여 통계 뒤죽박죽 베낀 엉터리 논문 수두룩 한동훈 처조카 데이터 조작 미국 논문 쓰면서 브라질 주민 데이터 도용 한동훈 처조카 논문 데이터 위조 이전 다음 사람 속으로 신동아 월 일 구독 정권 공직 기강 인체로 치면 뼈와 장기 다 망가진 수준 안철수 작심토로 블랙리스트 백현동 정치보복 소리 듣기 싫어 봐주는 게 최악 아베 신조는 정말 극우 였을까 아이들이 아빠가 왜 죽었는지는 알아야죠 이전 다음 새로보기 언론사별 심층기획 기획보도 대구 월 일 구독 약손 물 비싼 외국 생수보다 더 좋은 물이 대구에 위클리 키워드 따뜻하게 안아주는 국가 뉴스 홍준표 시장의 일 위험천만하다 달려보니 대구 하중도 금호꽃섬 내일을 향해 달려가는 코스 이전 다음 코로나 코메디닷컴 월 일 구독 과학방역에 과학 은 없었다 탈모 발기부전 다양한 롱코비드 증상 코로나 검사 진료 처방 원스톱 병원 쉽게 찾으려면 이전 다음 경찰 집단반발 확산 서울신문 월 일 구독 일선 대기발령 같이 받겠다 장관 하나회처럼 특정 그룹이 주도 행안부 경찰청서 조치 경찰 장악 음모 경찰 쿠데타 징계 반발 누르는 정부 이전 다음 새로보기 관심있는 언론사를 더 구독해보세요 전체추가 지역지 청주방송 국제신문 전주 대전일보 강원일보 광주방송 부산일보 대구 강원도민일보 매일신문 매거진 이코노미스트 한경비즈니스 주간경향 매경이코노미 월간산 신동아 주간조선 시사저널 시사 한겨레 주간동아 전문지 코메디닷컴 기자협회보 코리아헤럴드 코리아중앙데일리 농민신문 헬스조선 일다 동아사이언스 뉴스타파 여성신문 경제지 비즈니스워치 파이낸셜뉴스 조선비즈 아시아경제 서울경제 조세일보 머니투데이 이데일리 헤럴드경제 매일경제 한국경제 인터넷 지 디지털타임스 오마이뉴스 더팩트 노컷뉴스 전자신문 지디넷코리아 미디어오늘 데일리안 디지털데일리 머니 프레시안 블로터 아이뉴스 방송 통신사 채널 한국경제 뉴스 연합뉴스 조선 뉴시스 연합뉴스 종합지 한국일보 서울신문 문화일보 세계일보 한겨레 동아일보 조선일보 경향신문 국민일보 중앙일보 새로보기 기자 구독 구독설정 김보람 기자 구독중 구독 김보람 세 미만 자녀 둔 부모 코로나 백신 절대 안 맞혀 임정환 기자 구독중 구독 임정환 우여곡절 용산정비창 다시 개발 청사진 이번엔 순항할까 이재은 기자 구독중 구독 이재은 만 전체 경찰 회의로 변경 반발 격화 이유경 기자 구독중 구독 이유경 경찰국 국무회의 통과 경찰 반발 국기문란 신수아 기자 구독중 구독 신수아 도 조기 게양해 기리는데 우리에겐 잊힌 휴전일 이소현 기자 구독중 구독 이소현 월 기대인플레이션율 역대 최고 수준 김화영 기자 구독중 구독 김화영 비료 사료 유류비 급등 생산비 절감방안 시급하다 홍경진 기자 구독중 구독 홍경진 금융위 경제 위기로 돈 부족해진 금융사 금융안정계정 으로 선제 지원 김지아 기자 구독중 구독 김지아 박용진 중도 확장성에 자신 가 두려워 할 당대표 될 것 전범진 기자 구독중 구독 전범진 업무 중 휴게시간 무조건 유급 아니다 오현아 기자 구독중 구독 오현아 현대두산인프라코어 봉쇄 원가 부담 악재에 영업익 김민성 기자 구독중 구독 김민성 연재 구독 구독설정 월 일 미증시 특징주 글로벌 시황 이슈 글로벌 시황 이슈 구독중 구독 글로벌 시황 이슈 방금 화장실 다녀왔는데 또 메디칼럼 메디칼럼 구독중 구독 메디칼럼 너무 멀리 나간 탈 중국 수출 발언 이희옥 칼럼 구독중 구독 이희옥 칼럼 학생부종합 자기소개서 자소설 안 되려면 오종운의 입시 컨설팅 구독중 구독 오종운의 입시 컨설팅 인제 투박해도 속 꽉찬 맛 엄마 밥상 생각나네 강원 미친로드 구독중 구독 강원 미친로드 내 안의 고귀한 나 매경춘추 구독중 구독 매경춘추 윤이나 규정 위반 뒤늦은 신고의 씁쓸한 뒷맛 취재파일 구독중 구독 취재파일 조종사 마음을 읽어 나르는 전투기 구독중 구독 중국의 년 전 마법 거울 발견 빛 받으면 부처 형상이 핵잼 사이언스 구독중 구독 핵잼 사이언스 전장의 사신 아파치 대 동시에 떴다 요즘군대 구독중 구독 요즘군대 행안부장관 쿠데타 발언에 불난 집 기름 궤변 아침신문 솎아보기 구독중 구독 아침신문 솎아보기 여군 부사관은 왜 죽었나 군대 움직임이 수상하다 김형남의 갑을 병정 김형남의 갑을 병정 구독중 구독 김형남의 갑을 병정 구독 공지 뉴스판 기자 추천 카드 오픈 안내 맨위로 전체서비스 이용약관 개인정보처리방침 청소년 보호 책임자 이희만 서비스안내 각 언론사가 직접 콘텐츠를 편집합니다'"
      ]
     },
     "execution_count": 45,
     "metadata": {},
     "output_type": "execute_result"
    }
   ],
   "source": [
    "#위에랑 같은 방법\n",
    "import urllib.request as rq\n",
    "import re\n",
    "\n",
    "url= 'https://news.naver.com'\n",
    "html = rq.urlopen(url)\n",
    "bs= BeautifulSoup(html,'lxml')\n",
    "# text = str(bs) -> 얘랑 밑에 get_text()랑 결과가 달라 str은 안에 있는 걸 전부 str로 바꾸는거고 get_text()는 태그에 있는 text를 뽑아주는거니까 다르다.\n",
    "bs = bs.get_text()\n",
    "\n",
    "result = re.findall('[가-힣]+', bs)\n",
    "result = ' '.join(result)\n",
    "result\n"
   ]
  },
  {
   "cell_type": "code",
   "execution_count": 46,
   "id": "b2187e65",
   "metadata": {},
   "outputs": [
    {
     "name": "stdout",
     "output_type": "stream",
     "text": [
      "As the days are getting long in summer and the weather is getting hotter outside, Nicole, a former bandmate of the now-d \n",
      "\n",
      "러시아가 2024년 이후 국제우주정거장(ISS) 프로젝트에서 완전히 탈퇴한 후 자체 우주정거장 구축을 시작할 계획이라고 밝혔다. 26일(현지시간) 에 따르면 유리 보리소프 러시아 연방우주공사(로스코스모스) 신임 사장 \n",
      "\n",
      "국내외 증시가 날개 없는 추락을 거듭하는 가운데 이를 기초자산으로 삼는 주가연계증권(ELS)을 향한 투자자들의 관심이 싸늘하게 식고 있다. 높은 수익률을 담보하고 있음에도 청약 신청 물량이 모집하기로 한 금액에 한참 \n",
      "\n",
      "안철수 국민의힘 의원은 26일 \"과학방역은 방역정책의 결정권을 관료나 정치인이 정무적인 판단에 의해 최종결정하는 것이 아니라, 전문가가 과학적인 근거를 가지고 결정하는 것을 의미한다”고 말했다. 안 의원은 이날 서울 \n",
      "\n",
      "SK그룹이 미국에서의 반도체와 소형 원자로 사업 등에 새로 29조 원을 투자하기로 하는 등 대미 투자 규모를 38조 원으로 늘렸습니다. 미국을 방문 중인 최태원 SK그룹 회장은 한국시간으로 오늘(27일) 새벽 조 바 \n",
      "\n",
      "최태원 SK그룹 회장이 그룹의 미래를 책임질 반도체·그린에너지·바이오 사업에서 220억 달러(29조원)에 달하는 대규모 투자를 진행한다. 최근 발표한 전기차 배터리 분야 70억 달러까지 감안하면 대미 투자 규모는 약 \n",
      "\n",
      "대통령실 선정 ‘국민제안’ 포함 공정위도 “새벽배송 규제 개선 대형마트만 금지는 차별 소지” 소상공인 등 보호 취지 목소리 민주당 추가확대 움직임 ‘이목’ 기업 이익 아닌 농업 고려 필요 올해로 꼭 10년 된 대형마 \n",
      "\n",
      "민주당 복당 애쓰지 말라, 무소속이 축복이다 ● “괴물 돼가는 586 운동권 선배님들” ● 탈당했는데 민주당 광주시장 선대위원장? ● 당권주자들은 선 긋기, 처럼회는 옹호 ● ‘구청장 민형배’가 쓴 세 권의 멋진 책 \n",
      "\n",
      "코로나19 신규 확진자가 약 3개월 만에 다시 10만명에 근접한 가운데 대규모 감염 우려가 큰 콘서트장 등에 대한 방역 우려가 커지고 있다. 최근 인터넷 커뮤니티에는 \"흠뻑쇼에 다녀와서 확진됐다\"는 경험담이 이어지고 \n",
      "\n",
      "국제통화기금, IMF는 세계가 곧 경기침체에 들어갈 것이라고 전망했습니다. IMF 수석 이코노미스트는 긴축 정책을 시작했으면 물가를 잡을 때까지 진행해야 한다고 강조했습니다. 김진호 기자의 보도입니다. [기자] 지난 \n",
      "\n",
      "전 세계에서 기록적인 폭염이 계속되고 있습니다. 영국에선 철로가 휘어 열차 운행이 중단되는가 하면 알프스 산맥의 어는 점이 높아지기도 했습니다. 149년 만의 기록적인 폭염을 겪고 있는 중국에선 가로수에서 불이 붙었 \n",
      "\n",
      "For more than a decade, Tesla has reigned supreme in electric vehicle (EV) land. That is changing fast as it loses its N \n",
      "\n",
      "한국사회가 본인 또는 부모가 외국으로부터 이주한 경험이 있는 ‘이주배경 청년’과 공존하는 법을 모색할 때 가장 중요한 것은 관점의 근본적인 변화다. 그간 한국사회의 이주민 2세대에 대한 관점은 상대적으로 열악한 사회 \n",
      "\n",
      "편집자 주 우리나라 경제의 해외 무역의존도는 70%를 넘고, 수·출입 물동량은 99.7%를 차지한다. 항만이 우리 경제에 차지하는 비중은 절대적이다. 우리 정부는 2003년부터 항만 경쟁력 강화를 위한 항만 민자개발 \n",
      "\n",
      "외식물가가 고공행진하면서 주머니 부담을 덜기 위해 도시락을 찾는 소비자들이 늘어나고 있다. '런치플레이션'(런치+인플레이션 합성어)이란 신조어가 등장할 정도로 점심식사 비용 부담이 늘어나면서 직장인들이 도시락을 찾는 \n",
      "\n",
      "뺑소니 사고를 낸 뒤 운전자 바꿔치기 의혹을 받는 전직 경찰서장이 검찰에 넘겨진 가운데 관련 조사가 확대되고 있습니다. 전북경찰청은 도주치상과 무면허 운전, 범인도피 교사 혐의로 전직 전주 덕진경찰서장 이 모 씨를  \n",
      "\n",
      "- 화성 V1 라인 출하식 참여한 협력사 살펴보니 언성히어로(Unsung Hero). 우리나라 말로는 ‘보이지 않는 영웅’이라는 뜻입니다. 눈에 띄지는 않지만 묵묵히 꼭 해야 할 일을 하는 이들을 지칭합니다. 국내  \n",
      "\n",
      "日 국경통제 풀었지만 단체여행만 가능하고 비자 받아야 해 아베 암살로 혐한 정서 우려도…\"정상화되려면 시간 더 필요\" 서울 마포구에 사는 회사원 최모(33·여) 씨는 올여름 일본 여행을 계획했다가 접었다. 최 씨는  \n",
      "\n",
      "불확실한 변수도 짚어주는 여우형 전문가에 주목해야 행동경제학의 석학 대니얼 카너먼이 세계적인 예측 전문가로 꼽는 필립 테틀록 미국 펜실베이니아대 교수는 내로라하는 전문가들의 예측 실력을 원숭이가 다트를 명중시키는 확 \n",
      "\n",
      "권성동 국민의힘 당대표 직무대행 겸 원내대표가 윤석열 대통령과 나눈 문자 메시지가 언론에 노출된 이후 국민의힘 당원 게시판에 비판 여론이 쏟아지고 있다. 26일 권 대행의 문자 메시지가 언론에 공개된 오후 6시쯤부터 \n",
      "\n",
      "광주의 한 고등학교에서 제기된 '답안 유출' 의혹이 결국 사실로 드러났습니다. 성적 욕심에 눈이 먼 고등학생들은 건물 외벽을 타고 4층 교무실 창문을 넘는가 하면 교사들의 컴퓨터를 해킹해 답안지를 빼내기도 했습니다. \n",
      "\n",
      "윤석열 대통령과 권성동 국민의힘 원내대표 겸 당대표 직무대행이 나눈 사적 대화 내용이 공개돼 정치권 안팎으로 후폭풍이 거세다. 권 직무대행은 \"전적으로 제 잘못\"이라고 사과했지만 국민의힘 당원게시판에는 비판적인 글들 \n",
      "\n",
      "행정안전부 경찰국 신설에 반발해 오는 30일에 열릴 예정인 14만 전체 경찰회의가 철회됐다. 전체 경찰 회의를 최초로 주도한 서울 광진경찰서 김성종 경감은 27일 경찰 내부망에 '전국 14만 전체 경찰회의 자진철회' \n",
      "\n",
      "최근 중국에서도 폭염이 기승을 부리고 있는 가운데, 차가운 음료를 급하게 마신 남성이 다량의 피를 토하는 일이 발생했다. 26일 차이나 프레스 등 현지 언론 보도에 따르면 지난 19일 오후 2시쯤 하얼빈에 위치한 한 \n",
      "\n",
      "최근 중국에서 차가운 음료를 급하게 마신 남성이 다량의 피를 토하는 일이 발생했다. 폭염이 기승을 부리고 있는 가운데 차가운 음료를 급하게 마신 탓이었다. 27일 차이나 프레스 등 현지 언론 보도에 따르면 지난 19 \n",
      "\n",
      "더불어민주당 의원들이 서울시의회 국민의힘 의원들이 발의한 TBS 폐지 조례안을 두고 “공영미디어 장악의 출발점이 될 것”이라고 규탄하며 “국민의힘이 최근 자행하고 있는 모든 공영미디어 훼손 행위를 즉각 중단할 것”을 \n",
      "\n",
      "드라마 ‘이상한 변호사 우영우’에서는 두 현금자동입출금기(ATM) 업체가 기술을 두고 법정 싸움을 지속하는 장면이 나온다. 한 업체에서는 자신들이 만든 독자적이고 진보한 기술이라고 주장하는 한편 다른 쪽에서는 이미  \n",
      "\n",
      "\"최근에 일반계산대는 줄이고 셀프계산대를 몇 개 더 늘리더라고요. 다음은 나겠구나 싶죠.\" 26일 오전 서울 한 대형마트에서 만난 캐셔(계산원) A씨는 한숨을 쉬었다. 최근 근무지에서 셀프계산대 운영이 늘어난 만큼  \n",
      "\n",
      "“삼성, 애플도 긴장?” 33세 중국계 칼 페이(Carl Pei)가 설립한 영국 스마트폰 브랜드 ‘낫싱’(Nothing)이 한국에서 나오자 마자 돌풍을 일으키고 있다. 판매 개시 2시간만에 완판됐다. 삼성과 애플이  \n",
      "\n",
      "전여옥 전 국회의원, 전날 이어 연이틀 류삼영 총경 저격글 남겨 “요즘 ‘총경쿠데타’ 지켜보면서 한 가지 사실 깨달아…제가 아는 경찰들은 모두 ‘순경’으로 들어와 ‘총경’ 달았던 사람들” 경찰대학교 겨냥해서도 날선  \n",
      "\n",
      "코로나19 신규 확진자가 단숨에 10만 명에 육박했습니다. 97일 만에 역대 최다입니다. BA.5 검출률도 49.1%로 사실상 우세종이 됐는데, BA.2.75 변이까지 지역사회에 전파되고 있으니 다음 달 약 30만  \n",
      "\n",
      "\"부동산은 분위기를 많이 탑니다. 대출 부담도 세고, 집값 떨어진단 얘기도 많은데 누가 아파트를 사겠습니까? 이런 분위기에서 빠져나오려면 한참 걸릴 듯 싶습니다.\"(서울 노원구 A 공인중개업소) 부동산 시장 분위기를 \n",
      "\n",
      "산후우울증에 관심을 처음 가진 건 10여 년 전이다. 지금보다 산후우울증이라는 말이 덜 흔하게 사용되었지만, 출산 후에 시작된 정신적 고통을 호소하는 여성들은 많았다. 그 고통의 이야기들은 죄책감이라는 결론으로 수렴 \n",
      "\n",
      "◀ 앵커 ▶ 북한이 다음달 한미 연합훈련을 앞두고, \"제2의 한국전으로 확산될 수도 있다\"며 강한 경계심을 드러냈습니다. 반면, 미국은 한국전 정전협정일 69주년을 맞아 \"한미동맹은 어느 때보다 강력하다\"는 입장을  \n",
      "\n",
      "행정안전부 내 경찰국 신설을 위한 '행정안전부와 그 소속기관 직제 일부개정령안'이 26일 국무회의를 통과했다. 정부는 이날 정부서울청사에서 한덕수 국무총리 주재로 열린 제33회 국무회의에서 행안부 경찰국 신설 시행령 \n",
      "\n",
      "윤석열 대통령이 지난 26일 이준석 국민의힘 대표를 향해 \"내부 총질이나 하던 당대표\"라고 거론한 사실이 알려지면서 대통령의 당무 개입 여부가 논란이다. 권성동 국민의힘 원내대표(당대표 직무대행)과 윤 대통령이 주고 \n",
      "\n",
      "혼자 아웃도어 화보를 찍어보자! \"민미정님 SNS 계정에 올라온 사진을 보니 사진 구도나 콘셉트가 우리 브랜드 이번 캠페인인 '하이킹라이프'와 잘 어울릴 것 같아요. 혹시 저희 회사 제품을 착용하고 산에서 사진을 찍 \n",
      "\n",
      "신진욱의 질문 나토(NATO·북대서양조약기구) 정상회의에 초청받아 다녀온 윤석열 대통령의 이미지컷들이 어색함과 작위성 때문에 빈축을 사고 있다. 윤 대통령 주변에 문재인 전 대통령의 이미지 연출을 총괄했던 탁현민 전 \n",
      "\n",
      "행정안전부 내 경찰국 신설에 반발해 30일 열기로 했던 14만 전체 경찰회의가 취소됐다. 처음 '전체 경찰회의'를 주도한 서울 광진경찰서 김성종 경감은 27일 경찰 내부망에 '전국 14만 전체 경찰회의 자진철회'라는 \n",
      "\n",
      "고객 퇴실 후 객실 사진 찍어 공개 호텔 측, 공식사과는 없어 고객이 사용한 방이 더럽다며 객실사진을 트위터에 올려 공개 비난한 호텔 직원이 자필 사과문을 올렸다. 국내 수도권의 4성급 호텔에서 일하는 직원은 지난  \n",
      "\n",
      "윤석열 대통령이 국민의힘 이준석 대표에 대해 “내부 총질이나 하던 당 대표”라는 표현을 쓴 장면이 포착돼 파장이 일고 있다. 그동안 윤 대통령은 “당 문제는 지켜보는 게 맞는 것 같다”며 이 대표에 대한 직접적인 언 \n",
      "\n",
      "신체의 목과 머리에 해당하는 두경부는 가장 기본 기능인 숨쉬고, 말하고, 먹고, 보고 듣는 기관을 포함하고 있는 중요한 영역이다. 두경부 영역에 암이 발생하게 되면 위와 같은 호흡, 발성, 삼킴과 같은 정상 기능이  \n",
      "\n",
      "장마가 끝나고 연일 폭염이 이어지면서 온열질환자가 크게 늘고 있습니다. 고열에 실신하거나 탈진해서 병원을 찾는 경우가 많은데요, 자칫 생명을 위협할 수도 있는 만큼 세심한 건강관리가 필요합니다. 손은민 기자입니다.  \n",
      "\n",
      "한 편의점 아르바이트생이 음식물 섭취 후 자리를 엉망으로 만들고 조롱글까지 남긴 진상 고객에 분통을 터뜨렸다. 최근 한 온라인 커뮤니티에는 '나 지금 손발이 다 떨리고 진정이 안 됨'이라는 제목의 글이 게재됐다. 자 \n",
      "\n",
      "심각한 해안 침식 동해안은 전국 어디서고 먼 길을 마다하지 않고 가고 싶은 여름 휴가지다. 물이 맑고 모래가 풍부하며 조수간만의 차가 없어 항시 바닷물에 들어갈 수 있다. 서해안에는 갯벌이 있지만 간조 시에는 광활한 \n",
      "\n",
      "미국의 집값 상승세가 좀처럼 꺾이지 않고 있습니다. 금리인상에도 주택 가격이 오르면서 거래도 크게 줄고 있는데요. 김정연 기자 연결해 자세한 상황 알아보겠습니다. 미국 주택 가격이 고공행진을 이어가고 있다고요? 미국 \n",
      "\n",
      "더불어민주당 경찰장악저지대책단장 서영교 의원은 27일 이상민 행정안전부 장관 탄핵 추진에 대해 “권은희 (국민의힘) 의원이 제게 연락도 왔고 충분히 같이 논의하고자 한다”고 말했다. 서 의원은 이날 CBS 라디오 < \n",
      "\n",
      "육군이 현존 최강의 공격 헬기인 아파치 가디언을 16대 동원해 실제 사격 훈련을 했습니다. 유사시 적이 매복한 지역을 헬기로 초토화한 뒤 우리 병력을 안전하게 투입하는 훈련입니다. 군이 이번 훈련을 공개한 건 북한의 \n",
      "\n",
      "시사IN이 만드는 유튜브 라이브 방송, 정치왜그래?의 '왜그래 콜센터'는 시청자 여러분이 남겨주신 질문으로 만들어집니다. 왜그래 콜센터가 연락한 세 번째 정치인은 국민의힘 권은희 의원입니다. 7월26일 국무회의에서  \n",
      "\n",
      "권성동 \"전적으로 제 잘못\"…野에선 \"이준석 '팽' 맞네\" 윤석열 대통령과 권성동 국민의힘 당 대표 직무대행이 주고받은 문자를 둘러싼 논란이 일파만파 확산되고 있다. 윤 대통령이 이준석 국민의힘 대표에 대해 \"내부  \n",
      "\n",
      "국민의힘 권성동 당대표 직무대행 겸 원내대표가 윤석열 대통령과 주고 받은 문자 메시지가 언론에 노출된 것에 대해 \"이유를 막론하고 당원동지들과 국민들께 심려를 끼쳐드려 죄송하다\"고 사과했다. 권 대행은 26일 자신의 \n",
      "\n",
      "세계 반도체 장비 매출 상위 5개사가 올해 국내에서 1000명에 육박하는 인력을 채용한다. 상반기 공개 채용에 이어 하반기도 수시 또는 추가 채용에 나서는 등 인력 확보 총력전을 펼친다. 주요 고객사인 삼성전자와 S \n",
      "\n",
      "모바일 MMORPG ‘오딘’으로 유명한 개발사 라이온하트 스튜디오가 코스닥 상장을 본격화했다. 최근 책정된 기업가치만 약 4조원에 달하는 만큼 향후 ‘코스닥 IPO 대어’로 떠오를 전망이다. 다만 흥행 게임이 ‘오딘 \n",
      "\n",
      "윤석열 대통령이 권성동 국민의힘 원내대표에 보낸 텔레그램 메시지에서 이준석 대표를 ‘내부 총질이나 하던 당대표’로 표현한 사실이 드러나 파문이 일자 당내 2030 전현직 대변인들이 “윤석열 대통령을 믿었다” “추억이 \n",
      "\n",
      "남태평양 섬나라 피지가 지상낙원이라며 신도 400명 가량을 집단 이주시킨 이단교회가 있다. 바로 신옥주 목사 모자가 운영하는 ‘은혜로교회’다. 이 교회는 피지로 간 지 10년도 안 돼 거대한 기업 집단을 일궜다. 그 \n",
      "\n",
      "\"은퇴하면 고향에서 농사나 지을까?\" 김옥두 전 목포농협 상무는 친구들에게 이런 말을 들으면 험한 말부터 나온다고 했다. 지난 7월 20일 전라남도 목포시 고하도에 있는 무화과밭에서 만난 김씨는 지역의 '농사 전문가 \n",
      "\n",
      "대통령, 초유의 與 대표 비난 파문 尹, 2021년 7월 ‘긴급 입당’서 악연 시작 대선 과정 충돌했다 ‘임시 봉합’ 되풀이 尹 취임 이후 관계 개선 못하고 돌아서 與 당혹감 노출… 野 “한심 그 자체” 질타 권성동 \n",
      "\n",
      "삼성전자·SK하이닉스도 기술 개발 끝내 올해 하반기, 늦어도 내년 상반기 232단 양산할 듯 효율·원가 경쟁력 집중, 시장 상황 고려한 로드맵 미국 메모리 반도체 업체 마이크론이 세계 최초로 232단 낸드플래시 양산 \n",
      "\n",
      "아르헨티나의 한 쓰레기처리장에 묻힌 '달러 지폐'를 찾기 위해 전국에서 사람들이 몰려드는 소동이 발생했다. 26일 (현지시간) 현지 언론 등에 따르면 아르헨티나 중부 산타페주 라스파레하스에 있는 한 쓰레기장에서 최근 \n",
      "\n",
      "윤석열 대통령이 이준석 국민의힘 대표에 대해 '내부 총질이나 하던 당대표'라고 표현한 문자메시지를 권성동 국민의힘 당대표 직무대행 겸 원내대표에게 보낸 사실이 보도된 이후 국민의힘 당원 게시판에 비판 여론이 쇄도하고 \n",
      "\n",
      "충북과 세종지역은 오늘(27일) 가끔 구름 많은 가운데, 한낮 31도 안팎의 무더위가 계속되겠습니다. 충북 전 지역에 폭염특보가 발효된 가운데 체감온도가 35도까지 올라 매우 덥겠고 밤사이 열대야가 나타나는 곳도 있 \n",
      "\n",
      "① 점심값·전기세 부담에 잦은 초과근무까지 재택근무가 하나의 근무형태로 정착하면서 직장인들의 고민이 늘고 있다. 집에서 일하며 보내는 시간이 늘어나면서 전기세 등의 생활비 부담도 증가하고 있기 때문이다. 고용노동부가 \n",
      "\n",
      "절친이던 세르게이 브린 구글 공동 창업자의 아내와 불륜을 저질렀다는 의혹을 받는 일론 머스크 테슬라 CEO가 연일 불륜설을 강하게 반박하고 있다. 일론 머스크는 26일(현지시각) 자신의 트위터에 “나에 대한 관심이  \n",
      "\n",
      "윤석열-권성동 메시지 공개 전 '윤핵관' 저격 글 올렸던 이준석 대표 윤석열 대통령이 국민의힘 대표권한 대행 권성동 원내대표에게 보낸 '이준석 대표 비판' 텔레그램 메시지가 공개된 후 당사자인 이 대표는 언급을 자제 \n",
      "\n",
      "윤석열 대통령과 국민의힘 권성동 당대표 직무대행이 주고받은 휴대전화 문자 메시지가 노출돼 정치권에 파장이 일고 있습니다. 윤 대통령이 이준석 대표를 '내부 총질이나 하던 당 대표'라고 표현한 것인데요. 이같은 문자가 \n",
      "\n",
      "권성동 국민의힘 당대표 직무대행 겸 원내대표가 윤석열 대통령과의 대화 내용 노출에 대해 공개 사과한 가운데 윤 대통령이 오늘(27일) 입장을 밝힐 지 주목됩니다. 권 대행은 어젯밤 8시 15분쯤 페이스북을 통해 \"저 \n",
      "\n",
      "윤석열 대통령이 국민의힘 이준석 대표를 향해 “내부 총질하던 당대표”라고 한 문자 메시지가 공개되면서 내홍이 재점화하는 것 아니냐는 전망이 나온다. 윤 대통령은 이 대표에 대한 중앙윤리위원회의 징계 결정이 내려진 지 \n",
      "\n",
      "[\"12시간 공항서 뺑뺑이, 지옥 같았다\"… 여행 끝날때까지 못찾은 수하물 태반… 英 히스로공항 \"항공권 팔지 말라\" 요구도] # 미국 뉴욕에 거주하는 마리비 라이트의 '지옥 같은 휴가'는 공항에서 시작됐다. 에어프 \n",
      "\n",
      "2022 부산국제광고제 본선 진출작이 공개됐다. 부산국제광고제는 올해 본선에 진출한 58개국 1745편을 26일 공개했다. 1745편 중 전문가 작품은 1582편, 일반인 작품은 163편이다. 부산국제광고제는 6월  \n",
      "\n",
      "윤석열 대통령이 이준석 국민의힘 대표를 '내부 총질이나 하던 당대표'라고 표현한 문자메시지가 공개됐습니다. 파장이 커지자, 메시지를 보인 권성동 원내대표는 '전적으로 자신의 잘못'이라며 뒤늦게 사과했습니다. 유미혜  \n",
      "\n",
      "대한민국 정부 수립 뒤 역대 장관 가운데 여성이 차지하는 비율은 6.36%에 불과한 것으로 나타났다. 여성 정책 주무 부처로 장관이 모두 여성이었던 여성가족부를 빼면, 이 비율은 3.76%로 장관 100명당 96명은 \n",
      "\n",
      "\"2019년 4월 당시 문재인 대통령이 우즈베키스탄(우즈벡)을 국빈 방문해 보건복지 분야를 도와주기로해 이 프로젝트가 시작됐습니다.\" 우즈벡 정부가 자국내 병원을 인공지능(AI)과 데이터 등 신기술을 적용한 IT병원 \n",
      "\n",
      "국내 수도권의 4성급 호텔 직원이 고객 퇴실 후 어지러워진 객실 모습을 소셜미디어(SNS)에 올려 공개 비난했다가 강한 역풍을 맞고 있습니다. 경기도 고양시 일산의 K 호텔에 근무하는 한 직원은 지난 24일 자신의  \n",
      "\n",
      "제주자치도가 제출한 추경 예산안 심사가 한창 진행되고 있습니다. 그런데 심사가 끝나기도 전에 예산 집행 계획이 공고돼 물의를 빚고 있습니다. 제주자치도가 의회를 무시한다는 지적까지 나왔습니다. 하창훈 기잡니다. (리 \n",
      "\n",
      "기사내용 요약 영어의 '퍼플'색 의미하는 한국어 '보라', 글로벌에도 동일 사용 다음달 10일부터 한국, 미국, 유럽 등 글로벌 동시 출시 [서울=뉴시스]이진영 기자 = 삼성전자가 슬림한 디자인과 6.1형(153.9 \n",
      "\n",
      "국제통화기금(IMF)이 올해 한국의 경제성장률을 종전 전망치보다 낮은 2.3%로 제시했다. 국내외 주요 기관이 내놓은 전망치 중 가장 낮은 수치다. 고물가·전쟁 등 하방 리스크가 커질 수 있다는 우려가 나오면서, 경 \n",
      "\n",
      "이준석 측은 아직 無반응, SNS엔 울릉도 방문 소식만 김용태 “李, 특별한 입장 없을 듯...언급시 상황 커져” 이준석 국민의힘 대표를 ‘내부 총질’로 비유한 윤석열 대통령의 스마트폰 메시지가 언론에 포착된 것에  \n",
      "\n",
      "이준석 국민의힘 대표 측근으로 분류되는 김용태 최고위원은 윤석열 대통령의 ‘내부총질’ 문자 메시지에 대해 “발화 주체가 대통령인데 왜 권성동 대표 직무대행께서 그 발언을 해석해서 사과문을 올린 건지 당황스럽다”라고  \n",
      "\n",
      "권성동 원톱 체제 논란 불가피 \"내부 총질이나 하던 당 대표.\" 윤석열 대통령이 당원권 정지 6개월 징계를 받은 이준석 국민의힘 대표를 비난하는 문자메시지가 공개됐다. 이 대표의 징계 과정에서 제기돼온 이른바 '윤심 \n",
      "\n",
      "내년 7월부터 중고거래 플랫폼 운영 사업자도 판매, 중개 자료를 국세청에 제출해야 한다. 이에 따라 ‘과세 사각지대’라는 지적이 나왔던 반복적인 중고거래에 세금을 매길 수 있는 근거가 마련된다. 기획재정부는 ‘202 \n",
      "\n",
      "\n",
      "                        \n",
      "                            \n",
      "                                오늘 언론사가 발행한종이신문에 실린 뉴스 1면기사가 제공됩니다.\n",
      "                            \n",
      "                            \n",
      "                        \n",
      "                     \n",
      "\n",
      "[인터넷 와글와글]'산중 용변'/고속도로 불바다 \n",
      "\n",
      "[뉴스추적] 휴가지 감염도 비상…백경란 \"의미 전달 부족\" \n",
      "\n",
      "[뉴스추적] 이상민 \"경찰대 임관 불공정\"…윤희근 리더십 시험대 \n",
      "\n",
      "[김주하의 '그런데'] '누구도 그럴 권리는 없다' \n",
      "\n",
      "“우영우, 현실선 존재 어려워…‘팽나무’처럼 관심으로 자라” \n",
      "\n",
      "우영우 신드롬, 무엇을 남길 것인가 \n",
      "\n",
      "우영우처럼 자폐성 장애 있지만…“이곳에선 ‘베테랑’이죠” \n",
      "\n",
      "“자폐 장애라도 직장서 치료·사회 훈련 가능…직업 교육 확대되길” \n",
      "\n",
      "[이렇게 생각한다] 나는 우영우가 불편하다 \n",
      "\n",
      "일본 여성 자폐인 \"'우영우', 살아도 된다는 용기 준 작품\" \n",
      "\n",
      "\"편견 커질까 우려\" \"이런 작품 갈망했다\" 자폐당사자·가족이 본 '우영우' \n",
      "\n",
      "[신선한 경제] '택시 승차난'에 '음주 킥보드·자전거족' 급증 \n",
      "\n",
      "[신선한 경제] 중고 거래 '꼼수 탈세' 막는다‥소득 자료 제출 의무화 \n",
      "\n",
      "[신선한 경제] 자녀 양육비, 한 달에 얼마나 들까? \n",
      "\n",
      "[신선한 경제] 내달 2일부터 상생 임대인 '2년 거주' 면제 \n",
      "\n",
      "“文 정권 공직 기강, 인체로 치면 뼈와 장기 다 망가진 수준” \n",
      "\n",
      "안철수 작심토로 “블랙리스트, 백현동? 정치보복 소리 듣기 싫어 봐주는 게 최악” \n",
      "\n",
      "아베 신조는 정말 ‘극우’였을까 \n",
      "\n",
      "“아이들이 아빠가 왜 죽었는지는 알아야죠” \n",
      "\n",
      "[향토밥상] 달큼한 살·은은한 향…은어가 선사하는 ‘여름맛’ \n",
      "\n",
      "“토마토를 건강식단 주인공으로” \n",
      "\n",
      "일본, 올 상반기 요리 키워드는 ‘오트밀’ \n",
      "\n",
      "올 추석 과일 선물세트 기상도는?…사과·배 줄고 ‘샤인머스캣’ 인기예감 \n",
      "\n",
      "'리틀 버핏' 빌 애크먼 \"美경제 최대 위협은 금리인상 아닌 이것\" \n",
      "\n",
      "IMF \"전세계 긴축 불가피\"…경제성장률 전망 또 낮췄다 [신인규의 글로벌마켓 A/S] \n",
      "\n",
      "러시아-우크라이나 전쟁, 최대 패자 `美` IMF, 세계경제전망 발표…성장률 오른 국가는? [한상춘의 지금세계는] \n",
      "\n",
      "美 반도체법 처리 임박...\"확실한 호재\" vs \"반도체 경기 하강\" [GO WEST] \n",
      "\n",
      "이상민 “경찰대 나왔다고 자동 7급, 불공정” \n",
      "\n",
      "與 “軍 항명처럼 책임 물어야”… 野 “尹정권, 경찰 장악 편법” 이상민 탄핵 거론 \n",
      "\n",
      "전문가 “경찰국, 과거로 회귀” vs “행정부 통제 불가피” \n",
      "\n",
      "尹대통령, 이상민에 “경찰국에서 인사·제도 합리적으로 개선하길” \n",
      "\n",
      "[2022 필즈상] 필즈상은 어떤 상인가 \n",
      "\n",
      "[2022 필즈상]사상 두 번째 여성 필즈상 수상자 배출…다른 세 명의 수상자들 \n",
      "\n",
      "[한국계 첫 필즈상 수상] 허준이 교수는 누구인가 \n",
      "\n",
      "[한국계 첫 필즈상 수상] 허준이 교수 \"수학은 '자유로움'을 학습하는 일…얽매이지 않고 생각해야\" \n",
      "\n",
      "부동산 세금 어떻게 바뀌나…1주택자 재산세 공시가격에 희비 엇갈려 \n",
      "\n",
      "국민 숨통 트인다…다주택자 稅 폭탄 시대 끝났다 \n",
      "\n",
      "2주택자 기존 주택 팔아 취득세 절약…자녀 ‘부담부 증여’ 양도세 절세 효과 \n",
      "\n",
      "빠르면 4년 만에 아파트 단지 뚝딱…모아타운 투자 가치는? \n",
      "\n",
      "행안부, 경찰대 손본다…\"졸업하면 경위로 출발, 불공정\"(종합) \n",
      "\n",
      "尹, 이상민에 \"경찰국서 인사 합리적 개선…경찰 지휘부와 소통하라\" \n",
      "\n",
      "\"독재정권으로 돌아간 것 같다\"…경찰內 일반 공무원들도 반발 \n",
      "\n",
      "'경찰의 난' 본격화…팀장급 회의, 14만 전체 경찰회의로 확대 \n",
      "\n",
      "경찰 갈등은 ‘제2의 윤석열’ 싹 자르는 노림수? \n",
      "\n",
      "현직 경찰이 이상민 장관에게 보내는 편지 \n",
      "\n",
      "경찰 시위에 행안부 “투명한 행정 위한 것”? [뉴스큐레이터] \n",
      "\n",
      "시위 막던 경찰 시위 \n",
      "\n",
      "[연료 떨어진 배민]①'글로벌 진출' 오히려 독됐나 \n",
      "\n",
      "[연료 떨어진 배민]②줄어든 파이, 성장세 유지할 수 있을까 \n",
      "\n",
      "[연료 떨어진 배민]③퀵커머스 먼저 열었지만 치고 나가지 못한 B마트…왜? \n",
      "\n",
      "석 달 만에 10만 명, 오늘 자율방역 지침 발표…\"향후 2~3주는 증가세\" \n",
      "\n",
      "패션업계, 코로나·인플레 공포에 소비심리 꺾일까 ‘전전긍긍’ \n",
      "\n",
      "코로나19에 무너진 취약계층, 정부 지원 한계 왔다 \n",
      "\n",
      "주류업계, 코로나 재확산에 파업까지…“경영환경 최악” \n",
      "\n",
      "경찰 반발에 “국기 문란” 낙인…거듭 한계 드러낸 ‘검찰 출신 대통령’ \n",
      "\n",
      "류삼영 총경 “윤 정부, 법치국가 아닌 시행령 국가 만들 거냐” \n",
      "\n",
      "이상민 장관 연이은 경찰대 때리기 “졸업생, 경위 임관 불공정” \n",
      "\n",
      "민주 “모든 힘 모아 경찰장악 저지”…권한쟁의 심판 청구 추진 \n",
      "\n",
      "尹 지지율 3주째 30%대..긍정 33.3%·부정 63.4% \n",
      "\n",
      "尹 대통령 지지율 30% 붕괴 '눈앞'.. 긍정 평가 30.4% \n",
      "\n",
      "\"尹대통령 잘못한다\" 64.2%..보수층도 돌아서 \n",
      "\n",
      "尹, 사적채용 '부적절 65.5%..40대男·20대女 80%↑' \n",
      "\n",
      "'14만 전국경찰회의' 자진철회…\"국회가 시정할 것 믿어\" \n",
      "\n",
      "'경찰국 반대' 총경회의 참석자 처벌될까…'직무 관련성' 여부가 관건 \n",
      "\n",
      "'경찰 쿠데타' 발언에 반발 확산…간부급→14만 전국 경찰 회의로 \n",
      "\n",
      "'경찰국 신설안' 국무회의 통과… 극렬하게 충돌하는 정치권 \n",
      "\n",
      "[밀당365] 혈당 급상승 막는 ‘마법의 탄수화물’이 있다? \n",
      "\n",
      "[밀당365] 부추와 오리가 만났다… 고단백 '콜라보'에 당뇨가 멈칫 \n",
      "\n",
      "[밀당365] 똑같은 운동하고도 효과 더 보는 방법 없을까? \n",
      "\n",
      "[밀당365] 식사 전 ‘이것’ 먹으면 식후혈당 완만히 오릅니다 \n",
      "\n",
      "[현장 카메라]시외버스 반토막, 터미널 폐쇄…발 묶인 주민들 \n",
      "\n",
      "[세계를 보다]에어컨 없는 런던이 40도…펄펄 끓는 지구 \n",
      "\n",
      "[현장 카메라]물고기 싹쓸이…골칫덩이 된 가마우지 \n",
      "\n",
      "[세계를 가다]사룟값 폭등…美서도 “반려동물 포기” \n",
      "\n",
      "[택시의 나라, 모빌리티 잔혹사]⑥요금 올리면 끝?…\"갈등 피하면 혁신없다\" \n",
      "\n",
      "[택시의 나라, 모빌리티 잔혹사]⑤택시는 공공영역일까?…요금 현실화 불가피 \n",
      "\n",
      "[택시의 나라, 모빌리티 잔혹사]④표심에 눈먼 정치권…기사들 삶 나아졌나요? \n",
      "\n",
      "[택시의 나라, 모빌리티 잔혹사]③ 해외는 '택시난제' 어떻게 풀고 있나 \n",
      "\n",
      "[성진영의 푸드테라피] 방학 동안 우리 아이 키 쑥 자라게 할 음식은? \n",
      "\n",
      "[단양 휴양림 파헤치기] 숲에서 즐기는 승마부터 돌산의 매력까지 \n",
      "\n",
      "[영상] 무더위 잊게 해 줄 제천의 2가지 비경 \n",
      "\n",
      "[ASMR] 소리로 맛보는 2대를 이어온 올갱이 \n",
      "\n",
      "[토론영상] \"어제,명\" \"이인제\"…97그룹에게 '어대명'이란? \n",
      "\n",
      "[단독] 30여년전 경찰 독립 직전 기록엔 \"장관 지휘에 중립성 문제\" \n",
      "\n",
      "[팩트체크] 총경들이 '위수지역' 이탈? 장관 발언 따져보니 \n",
      "\n",
      "[100세 뇌건강] 당신의 뇌는 건강하십니까? \n",
      "\n",
      "[100세 뇌건강①]80세 이상 노인 10명 중 3명이 치매 \n",
      "\n",
      "[100세 뇌건강①]치매 걸리면 등골이 휜다…환자 1인당 관리비용 年 2061만원 \n",
      "\n",
      "[100세 뇌건강①]근본 치료제 없어 예방이 중요…치매 일문일답 \n",
      "\n",
      "기업들, 아세안·유럽行…‘수출 리모델링’으로 中 의존도 낮춘다 \n",
      "\n",
      "삼성은 베트남에 R&D센터, 현대차는 인도네시아에 공장 건설 \n",
      "\n",
      "화장품·초코파이… 소비재로 中시장 파고들어야 \n",
      "\n",
      "IMF “올해 한국 성장률 2.3%”… 석달 만에 또 낮췄다 \n",
      "\n",
      "경찰국 신설 '속전속결'… 후폭풍 우려 \n",
      "\n",
      "국회 18개 상임위원장 한 자리도 못 차지한 충청권 \n",
      "\n",
      "수년째 셋방살이에 수십억 혈세… 세종시 별관증축은 언제쯤 \n",
      "\n",
      "'똘똘한 한 채'에 올인… 대전 부동산 매도심리 1년새 9배나 \n",
      "\n",
      "\"싸잡아 비난\" 억울하다는 공기업 직원들... 국민이 볼땐 \"특혜만 받는 사람들\" \n",
      "\n",
      "입국 당일 PCR 검사 받아야… 붐비는 인천공항 검사소 [현장르포] \n",
      "\n",
      "알바 내려놓는 N잡러들… 흔들리는 초단기 고용시장 [한국, 새 길에 서다] \n",
      "\n",
      "빚투 탕감… \"도덕적 해이 부추겨\" vs \"회생제도 취지 맞다\" [법조 인사이트] \n",
      "\n",
      "\"과학방역에 '과학'은 없었다\" \n",
      "\n",
      "탈모· 발기부전... 다양한 롱코비드 증상 \n",
      "\n",
      "코로나 검사·진료·처방 원스톱 병원 쉽게 찾으려면? \n",
      "\n",
      "오대산 불교문화 헌신 만화스님 재평가 \n",
      "\n",
      "[강원 미친로드] 23. '인제' 투박해도 속 꽉찬 맛 엄마 밥상 생각나네 \n",
      "\n",
      "[맛있수다] 꾸밈없고 수수한 메밀 막국수 맛의 '근본' \n",
      "\n",
      "[맛있수다]  칼칼 담백 절묘한 접점 깔끔한 뒷맛 일품 \n",
      "\n",
      "장수군수 선거.. \"여론 조작 정황 포착\" \n",
      "\n",
      "전주 완주 통합, \"정치적 여론몰이 중단해야\" \n",
      "\n",
      "\"반도체 인력 수도권 집중\".. 전북도내 대학 총장 '우려' \n",
      "\n",
      "해고자 PC 디지털 포렌식.. \"남은 직원 뒷조사\" \n",
      "\n",
      "‘내부 총질’ 윤석열 문자를 대하는 민주당 의원들의 자세 [사진잇슈] \n",
      "\n",
      "5천 원이면 냉면 반 그릇... 고물가 시대의 밥상 [사진잇슈] \n",
      "\n",
      "대로변에서 육성으로... 박지현의 힘겨운 출마선언 [사진잇슈] \n",
      "\n",
      "아무리 귀를 갖다 대 봐도... '말 없는' 키오스크 [사진잇슈] \n",
      "\n",
      "근조화환으로 둘러싸인 경찰청... \"경찰은 죽었다\"  [경찰국 설치 논란] \n",
      "\n",
      "'경찰서장 쿠데타'라던 이상민 \"내란이라고 하진 않았다\" [경찰국 설치 논란] \n",
      "\n",
      "경찰에 경고한 경찰청장 후보자 \"집단 의사표시 마라\"  [경찰국 설치 논란] \n",
      "\n",
      "'쿠데타' 발언 사과 거부 이상민 \"경찰국 신설, 경찰관들과 공감할 문제 아냐\" \n",
      "\n",
      "美 6월 소비자물가 9.1% 상승,  41년 만에 최고치 찍었다 \n",
      "\n",
      "‘1만3000원의 행복’ 돈값 하는 냉면 맛집 \n",
      "\n",
      "中 신형 항모 ‘푸젠’, 스펙 뜯어보니 ‘빛 좋은 개살구’ \n",
      "\n",
      "리츠도 줄줄이 신저가, 신규 진입자에겐 또 다른 기회 \n",
      "\n",
      "[WHY] No reservation needed at Korea's hottest dining spot — the convenience store \n",
      "\n",
      "[WHY] Jeonse, and the reason behind so many Koreans' choice to forgo monthly rent \n",
      "\n",
      "[WHY] Koreans' love-hate relationship with Samsung \n",
      "\n",
      "[스페셜리포트]'선택 아닌 필수' 친환경 물류 시대 온다 \n",
      "\n",
      "[스페셜리포트]전기비행기·물류터널…앞서가는 해외 친환경 물류 \n",
      "\n",
      "물류업계, 친환경 운송수단 강화…전기차 전환 속도 \n",
      "\n",
      "“파월, 9월 가이드 많이 안 할 듯”…“시장 예상보다는 매파적일 수도” [김영필의 3분 월스트리트] \n",
      "\n",
      "'주먹인사' 안 통했다…5대 악재 겹친 에너지 시장[윤홍우의 워싱턴24시] \n",
      "\n",
      "2분기 광고 매출 전망치 웃돈 구글 \"인플레 회복력 보여줬다\"평가 [서학개미 리포트] \n",
      "\n",
      "강달러에 실적 부진 MS \"경기 침체 속 승자는 클라우드\"…시간외거래서 5%↑ [서학개미 리포트] \n",
      "\n",
      "고리원전, 규모 7.0 강진 거뜬… 완전 정전에도 전력공급 OK \n",
      "\n",
      "10년간 사고 없지만… 후쿠시마 반면교사 조심 또 조심 \n",
      "\n",
      "온실가스 걱정없고 가성비 좋은 원전… 핵폐기물 처리 ‘난제’ \n",
      "\n",
      "손배소 안하면 배임? 파업 피해 책임은 왜 노동자만 지나[노동:판] \n",
      "\n",
      "'칩4 동맹' 논란의 기승전…결말은?[베이징 노트] \n",
      "\n",
      "다시 크런치모드? IT노동자들 긴장하는 까닭[그래?픽!] \n",
      "\n",
      "[법정B컷]경찰수사 잘했더라면 엄마는 죽지 않았을까…大法, 국가 책임 인정 \n",
      "\n",
      "일선 “대기발령 같이 받겠다”… 장관 “하나회처럼 특정 그룹이 주도” \n",
      "\n",
      "尹 “행안부·경찰청서 조치”… 野 “경찰 장악 음모” \n",
      "\n",
      "“경찰 쿠데타 징계”… 반발 누르는 정부 \n",
      "\n",
      "윤 “중대한 국가 기강 문란” 쐐기… 경찰 집단행동 ‘분수령’ \n",
      "\n",
      "“부화뇌동식 집단행동 안 돼” \n",
      "\n",
      "“졸속이자, 국회 입법권 침해” \n",
      "\n",
      "국힘 “그 어떤 항명도 용납할 수 없다”  민주 “윤 정부가 국기 문란 일으켰다” \n",
      "\n",
      "수출·투자 뒷걸음 2분기 0.7% 성장 \n",
      "\n",
      "반짝소비가 막은 ‘경기하강’…“韓경제 이미 침체국면 들어서” \n",
      "\n",
      "국제기구들, 한국 성장률 전망 줄줄이 하향 \n",
      "\n",
      "기업경기전망 급락… 22개월만에 90 아래로 \n",
      "\n",
      "국내 5대 가상자산 거래소, 어떻게 다를까 \n",
      "\n",
      "뭇매 맞는 가상자산 거래소…대체 왜? \n",
      "\n",
      "규제 찬바람 부는 가상자산 거래소 \n",
      "\n",
      "[디지털in生] ‘권모술수 권민우’의 공정… 과연 나는 다를까 \n",
      "\n",
      "‘우영우’, 제2의 오징어게임 될까…해외도 주목 [IT클로즈업] \n",
      "\n",
      "中 '우영우' 도둑시청하며 호평?…평점 9.3에 팬계정까지 등장 \n",
      "\n",
      "中 '우영우' 도둑시청에 분노…\"중국 당국이 나서라\" \n",
      "\n",
      "[로펌의기술](72) 韓 LED 기술 탈취한 대만 경쟁사… ‘산업기술 침해’ 입증한 법무법인 율촌 \n",
      "\n",
      "[로펌의기술](71) 코오롱 ‘인보사’ 희망 살렸다... 국가 연구비 환수 막아낸 화우 \n",
      "\n",
      "[로펌의기술](70) “서울대병원도 수도권정비법 규제 대상, 증축시  내야”... 법무법인 원, 율촌 꺾고 ‘판정승’ \n",
      "\n",
      "[로펌의기술](69) “코웨이, 정수기 중금속 알고도 숨겨”... ‘고지의무 위반’ 집중해 집단소송 勝 \n",
      "\n",
      "[사설] 3조원대 수상한 외환거래 철저히 밝혀야 \n",
      "\n",
      "[중앙시평] 때가 되었다:이제 한국전쟁 박물관을! \n",
      "\n",
      "[김동호의 시시각각] 윤 정부 지지율 회복이 필요한 이유 \n",
      "\n",
      "[신성식의 레츠 고 9988] 문 케어 지우는 윤 정부, 20억원 약도 쓸 데는 쓴다 \n",
      "\n",
      "행안부, 경찰국 신설 이어 이번엔 '경찰대 개혁' 추진 \n",
      "\n",
      "수사권 조정부터 쌓인 구원…총경회의로 타깃 된 경찰대 \n",
      "\n",
      "이번에도 \"국기 문란\" 경찰 질타한 尹…반발에 '쐐기' \n",
      "\n",
      "'행안부 경찰국' 국무회의 초스피드 통과…16명 조직 2일 출범 \n",
      "\n",
      "다양성 갖춘 새로운 시도들그동안 없었던 클래식 무대 \n",
      "\n",
      "이혜연 \"농구선수 출신 고졸여성이 은행 지점장까지 된 비결요? ...버텨야 한다는 간절함 때문 ... 나를 믿어야 얻을 수 있더군요\" \n",
      "\n",
      "[메트로폴리탄 뉴욕]중세풍 유리램프 만들고백악관 인테리어 도맡아명품 주얼리 ‘티파니’ 뜻밖의 도전史 \n",
      "\n",
      "“우울감·스트레스 심리치료 시스템 우선” \n",
      "\n",
      "[CSI] 소음·안전문제·불법 증축…파크골프장 곳곳 잡음 \n",
      "\n",
      "[따져보니] 총경 '대기발령' 논란…쟁점은? \n",
      "\n",
      "[뉴스야?!] 이재명도 기소되면 대표 박탈? \n",
      "\n",
      "[포커스] 대법원·헌재, 잇단 '충돌'…최고 사법기관 힘겨루기? \n",
      "\n",
      "용산을 '아시아 실리콘밸리'로…롯데타워급 빌딩 들어선다 \n",
      "\n",
      "UAM 띄우고 지하에 환승거점…미래교통 중심으로 \n",
      "\n",
      "뉴욕 허드슨야드처럼…용산, 사업·녹지·주거 융합도시로 뜬다 \n",
      "\n",
      "여의도공원 2배 면적…사업비 12조5천억 \n",
      "\n",
      "[뉴스쉽] 코로나에 고환율에…해외여행 갈 수 있는 거야? \n",
      "\n",
      "[그사람] 'K-에듀'를 꿈꾸는 사교육 총수, 손주은 \n",
      "\n",
      "[사실은] 국회의원 토론王은 누구일까요? \n",
      "\n",
      "[취재파일] 구의원님, 산하기관 생수 납품이 떳떳한가요? \n",
      "\n",
      "윤 대통령 “국기문란”…경찰 반발 직접 압박 \n",
      "\n",
      "이석연 전 법제처장 “경찰국 신설, 헌법적으로 용납 안 돼…‘법치 일방통행’이자 민주화의 퇴행” \n",
      "\n",
      "경감·경위급 이어 일선 경찰까지…‘불복종 운동’ 번지나 \n",
      "\n",
      "“경찰국 신설이야말로 쿠데타 행위…닭 모가지를 비틀어도 새벽은 온다” \n",
      "\n",
      "[이슈분석] 부자감세 vs 기업 경쟁력 제고…경제정책 놓고 설전 \n",
      "\n",
      "[김대호 박사의 오늘 기업·사람] 월마트·SK·테슬라·대우조선해양 \n",
      "\n",
      "[김대호 박사의 오늘의 키워드] 파월 가이던스·펠로시 대만행·칩4 동맹·토니 최태원·한덕수 통화스와프 \n",
      "\n",
      "이상민 장관 취임 3개월 만에 '속전속결' 경찰국 신설…일선 경찰 반발 격화 \n",
      "\n",
      "경찰국 내달 2일 출범…여 \"집단항명 엄정 대응\"-야 \"국기문란 자초\" \n",
      "\n",
      "정부, 내달 2일 경찰국 출범 강행…대통령 '국기문란' 질타에도 '14만 경찰 회의' 맞불 \n",
      "\n",
      "석유 한 방울 안 나는데… ‘기름진 사회’ [연중기획 - 지구의 미래] \n",
      "\n",
      "화석연료와의 결별은 가능할까 [연중기획 - 지구의 미래] \n",
      "\n",
      "서민부담 앞세워 ‘유류세 인하’ 땜질만… 탈화석연료 역행 [연중기획-지구의 미래] \n",
      "\n",
      "“탄소중립 시계 늦춰라”… 글로벌 석유사들 몸부림 [연중기획-지구의 미래] \n",
      "\n",
      "‘우영우’ 열풍에 웃는 로펌들…“더 이상 ‘어둠의 온상’ 이미지 No” \n",
      "\n",
      "[EDITOR's LETTER] 편견을 걷어내면 보이는 다른 것 \n",
      "\n",
      "‘이상한 변호사 우영우’ 정의란 무엇인가 논쟁도… \n",
      "\n",
      "[약손+] 물⑧ 비싼 외국 생수보다 더 좋은 물이 대구에··· \n",
      "\n",
      "[위클리 키워드] 따뜻하게 안아주는 국가 \n",
      "\n",
      "[뉴스+] \"홍준표 시장의 20일, 위험천만하다\" \n",
      "\n",
      "[달려보니] ⑥대구 하중도(금호꽃섬)-내일을 향해 달려가는 코스 \n",
      "\n",
      "Over half of foreign seasonal workers left workplace in violation of contract: report \n",
      "\n",
      "Feud over ‘police bureau’ escalates \n",
      "\n",
      "Aging South Korea turns to immigration \n",
      "\n",
      "31년만에 부활…\"수사독립 훼손\"vs\"수사업무 무관\" \n",
      "\n",
      "'경찰국 신설' 반발 확산…'14만 경찰회의' 추진 \n",
      "\n",
      "여 \"경찰 항명 용납못해\"…야 \"윤정부의 행정 쿠테타\" \n",
      "\n",
      "\"졸업후 경위 임관 불공정…경찰대도 개혁\" \n",
      "\n",
      "[집잇슈]'용산·서초' 잠잠한 수주시장에 돌 던지는 '정비사업 대어' \n",
      "\n",
      "용산정비창, '1만 가구' 대신 국제업무지구로…'용적률 1500% 이상' \n",
      "\n",
      "강남도 집값 상승 멈췄는데 '용산은 용산하는중' \n",
      "\n",
      "[주간 뉴스타파] 조작으로 쌓아올린 한동훈 처가의 '아이비 캐슬' \n",
      "\n",
      "한동훈 처조카 논문 데이터 위조... 촛불집회에 다인종 참여? \n",
      "\n",
      "통계 뒤죽박죽 베낀 엉터리 논문 수두룩... 한동훈 처조카 데이터 조작 \n",
      "\n",
      "미국 논문 쓰면서 '브라질 주민 데이터' 도용...한동훈 처조카 논문 데이터 위조 \n",
      "\n",
      "“공매도만 쌓이네” 코스피200 편입 후 대차잔고 늘어난 종목은? \n",
      "\n",
      "코스피200·MSCI 선진지수 편입, 실상은 빛 좋은 개살구? \n",
      "\n",
      "불확실성 지수와 변동성 지수 수치에 숨은 의미 [조원경 글로벌 인사이드] \n",
      "\n",
      "'공매도와 증시 하락은 연관성 없다'는 언론에 대하여 \n",
      "\n",
      "'내가 틀렸다' 인정하지 않는 시대에 뉴욕타임스가 보인 '파격' \n",
      "\n",
      "또 다시 밑바닥 보여준 인하대 성폭력·사망 사건 보도 \n",
      "\n",
      "프랑스 수신료 폐지 흐름, 한국엔 어떤 영향 미칠까 \n",
      "\n",
      "22년차 '퀴퍼질'…\"이 짓을 왜 하냐고? 외롭지 않으려고\" \n",
      "\n",
      "'퀴어퍼레이드 고인물' 레즈비언 바 사장이 만드는 '공간' \n",
      "\n",
      "빗속에 핀 무지개…퀴어로 채운 서울광장 \n",
      "\n",
      "[기획] 직장인 소득세 최대 80만원 줄어든다 \n",
      "\n",
      "[2022 尹정부 세제개편안] 과표 5억 기업 법인세 3000만원 절감효과… 통합고용세액공제 신설 \n",
      "\n",
      "[2022 尹정부 세제개편안] 연금저축·퇴직연금 세액공제 확대… 납입한도 700만원→900만원 \n",
      "\n",
      "[2022 尹정부 세제개편안] 종부세 기본공제 9억… 다주택 중과 폐지 \n",
      "\n",
      "\"14년 만에 현금배당\"…'빚더미'에 눌렸던 회사의 부활 [김익환의 컴퍼니워치] \n",
      "\n",
      "26년차 실리콘밸리 엔지니어의 조언 \"이직을 즐겨라\" [실리콘밸리인사이드] \n",
      "\n",
      "영국 테스코가 남은 식료품을 나누자 벌어진 일들 [기업 인권경영 리포트⑧] \n",
      "\n",
      "'무용한 작품' 만드는 괴짜들이 왔다…\"한국의 내셔널지오그래픽 꿈꿔요\" [긱스] \n",
      "\n",
      "[영상] 국비 발목 잡힌 오륙도 트램…4년째 첫 삽 못 떠 \n",
      "\n",
      "[영상] 한일 갈등에 EEZ 황금어장 잃었다…한숨 쉬는 수산업 \n",
      "\n",
      "[60초 뉴스]‘반도체 동맹’ 할까 말까? 국내 반도체 업계 고심 \n",
      "\n",
      "갑작스러운 심장 두근거림... 부정맥 신호? \n",
      "\n",
      "지방공항에 거는 기대, 그리고 우려 \n",
      "\n",
      "尹 문자 배경과 파장은?…野 “한심, 그 자체” 맹폭 \n",
      "\n",
      "조선업 고된 노동·낮은 임금…88% “인력 돌아오지 않을 것” \n",
      "\n",
      "대정부질문…‘부자감세·경제위기 책임’ 놓고 공방 \n",
      "\n",
      "'경찰국' 내달 2일 시행...\"청와대-경찰 밀실 거래 없앤다\" \n",
      "\n",
      "尹, 경찰 인사 개선 지시...이상민, 경찰대 개혁 예고 \n",
      "\n",
      "한덕수, 쿠데타 발언에 \"표현 과했지만...절실함 표현\" \n",
      "\n",
      "경찰국 반발 확산에...경찰청 \"사흘간 현장 경찰관 의견 수렴\" \n",
      "\n",
      "尹정부, '120대 국정과제' 확정 \"기득권 저항에도 개혁 꼭 필요\" \n",
      "\n",
      "문체부 첫 업무보고 실종된 '게임'…\"주무부처 바꿔야\" 목소리도 [IT돋보기] \n",
      "\n",
      "과기정통부, 위원회 절반 없앤다 \n",
      "\n",
      "[과기정통부 업무보고] 8월 범정부 '디지털 국가전략' 수립 \n",
      "\n",
      "용산의 재도전…철길을 100층 마천루·녹지 어우러진 미래 도시로 \n",
      "\n",
      "다시 ‘용틀임’하는 용산...마천루·녹지 어우러진 미래도시로 [10년만의 용산국제업무지구 개발청사진] \n",
      "\n",
      "쫓기는 강남, 급부상하는 용산…서울 부동산 대장 바뀔 수 있을까 [부동산360] \n",
      "\n",
      "尹 대통령, 권성동과 문자 포착 \"與, 내부 총질하던 당대표 바뀌니 달라졌다\" [TF포착] \n",
      "\n",
      "'경찰국 신설'포함...행정안전부, 새정부 업무보고 진행 [TF사진관] \n",
      "\n",
      "해외 언론들도 앞다퉈 보도한 '김연아-고우림' 결혼 소식 [TF사진관] \n",
      "\n",
      "'힘차게 이륙하는 아파치 헬기'…육군, 대규모 항공 작전 훈련 [TF사진관] \n",
      "\n",
      "[영상] 폭락한 윤석열 지지율 끌어올리는 방법 알려드림 [정치왜그래?] \n",
      "\n",
      "[영상] 아베 피격 사망, 평화 헌법 개헌된다고? [정치왜그래?] \n",
      "\n",
      "박지현  “민주당은 고인 물, 계속 돌 던지겠다” [정치왜그래?] \n",
      "\n",
      "'더위야 물렀거라!'...복날 더위 잡는 '삼계탕' \n",
      "\n",
      "꿈나무 필름 아트캠프 4년만에  재개 \n",
      "\n",
      "호텔 철거 후 잇따라 아파트 신축..마리나 호텔 철거 임박 \n",
      "\n",
      "전 도민 '1인당 10만 원씩' 예산안 의회 심사 중 재난지원금 '공고' \n",
      "\n",
      "MY뉴스판 '기자 추천 카드' 오픈 안내 \n",
      "\n",
      "\n",
      "전체서비스\n",
      " \n",
      "\n",
      "\n",
      "\n",
      "이용약관\n",
      "개인정보처리방침\n",
      "청소년 보호 책임자 : 이희만\n",
      "서비스안내\n",
      "\n",
      "각 언론사가 직접 콘텐츠를 편집합니다.\n",
      " \n",
      "\n"
     ]
    }
   ],
   "source": [
    "#p태그인것만 골라보자\n",
    "import urllib.request as rq\n",
    "import re\n",
    "\n",
    "url= 'https://news.naver.com'\n",
    "html = rq.urlopen(url)\n",
    "bs= BeautifulSoup(html,'lxml')\n",
    "\n",
    "texts = bs.find_all('p')\n",
    "\n",
    "for t in texts:\n",
    "#     print(t.string, '\\n')\n",
    "    print(t.get_text(), '\\n') "
   ]
  },
  {
   "cell_type": "markdown",
   "id": "772185e4",
   "metadata": {},
   "source": [
    "### requests + bs"
   ]
  },
  {
   "cell_type": "code",
   "execution_count": 47,
   "id": "9024125f",
   "metadata": {},
   "outputs": [
    {
     "data": {
      "text/plain": [
       "'윤석열 대통령이 권성동 국민의힘 원내대표에 보낸 텔레그램 메시지에서 이준석 대표를 ‘내부 총질이나 하던 당대표’로 표현한 사실이 드러나 파문이 일자 당내 2030 전현직 대변인들이 “윤석열 대통령을 믿었다” “추억이'"
      ]
     },
     "execution_count": 47,
     "metadata": {},
     "output_type": "execute_result"
    }
   ],
   "source": [
    "from bs4 import BeautifulSoup\n",
    "import requests as rq\n",
    "\n",
    "url = 'https://news.naver.com'\n",
    "r = rq.get(url)\n",
    "html = r.text\n",
    "bs = BeautifulSoup(html, 'lxml')\n",
    "text = bs.find('p').get_text()\n",
    "text"
   ]
  },
  {
   "cell_type": "markdown",
   "id": "84067733",
   "metadata": {},
   "source": [
    "#### 과제0725_2\n",
    "기상청 육상 정보에서 강원도의 지역번호는 105이다. 강원도의 날씨 예보를 불필요한 공백을 제거한 후  출력하세요."
   ]
  },
  {
   "cell_type": "code",
   "execution_count": 48,
   "id": "0ccfdf57",
   "metadata": {},
   "outputs": [
    {
     "data": {
      "text/plain": [
       "' 오늘 ~ 모레 날씨 요약 오늘( 07월 27일) ~ 모레( 07월 29일) (종합) 무더위 유의, 오늘과 모레 오후 강원영서 소나기 곳, 돌풍과 천둥.번개 유의 (오늘) 대체로 흐림, 강원영서 오후(15~18시) 소나기 곳 (내일) 대체로 흐림 (모레) 오전 대체로 흐림, 오후 구름많음, 강원영서 오후(12~18시) 소나기 곳 소나기에 의한 예상 강수량 (27일)강원영서 5~20mm 평년, 어제, 오늘, 내일, 모레 기온 최저 최고, 파고 정보 예보요소 평년(오늘) 어제(26일) 오늘(27일) 내일(28일) 모레(29일) 기온(℃) 최저 18.0 ~ 23.0 16.3 ~ 22.3 18 ~ 23 19 ~ 24 최고 24.1 ~ 30.7 25.1 ~ 34.4 25 ~ 33 24 ~ 33 28 ~ 33 파고(m) 강원북부앞바다 0.5~1.0 0.5~1.0 0.5~1.0 강원중부앞바다 0.5~1.0 0.5~1.0 0.5~1.0 강원남부앞바다 0.5~1.0 0.5~1.0 0.5~1.0 '"
      ]
     },
     "execution_count": 48,
     "metadata": {},
     "output_type": "execute_result"
    }
   ],
   "source": [
    "import urllib.request as req\n",
    "from bs4 import BeautifulSoup\n",
    "import re \n",
    "\n",
    "url = 'https://www.weather.go.kr/plus/land/forecast/summary.jsp?stnId=105&x=39&y=6'\n",
    "URL = req.urlopen(url)\n",
    "bs = BeautifulSoup(URL, 'html.parser')\n",
    "text = bs.find('table', attrs= {'class':'table_announcementtime'}).get_text()\n",
    "text = re.sub('[^,.~℃(0-9가-힣a-zA-Z)]+', ' ', text) \n",
    "text\n",
    "#- , +기호, 숫자, 한글 등 필요한 정보들 잘 추출해서 하셈 "
   ]
  },
  {
   "cell_type": "markdown",
   "id": "e0fdf140",
   "metadata": {},
   "source": [
    "#### 과제0725_3\n",
    "\"http://www.naver.com\" 사이트에서 span 태그에 연결된 한글만을 불필요한 공백을 제거한 후 출력하세요.\n"
   ]
  },
  {
   "cell_type": "code",
   "execution_count": 10,
   "id": "c0263790",
   "metadata": {},
   "outputs": [
    {
     "name": "stdout",
     "output_type": "stream",
     "text": [
      "<span>뉴스스탠드 바로가기</span> <span>주제별캐스트 바로가기</span> <span>타임스퀘어 바로가기</span> <span>쇼핑캐스트 바로가기</span> <span>로그인 바로가기</span> <span class=\"_1syGnXOL _3VkgqBXB\" data-clk=\"dropbanner1b\" style=\"padding-right: 20px; font-size: 17px; color: black\"><span>매일 쓰는 브라우저 보안이 걱정된다면, </span><strong>안전하고 빠른 최신 브라우저 웨일로 업데이트 하세요.</strong></span> <span>매일 쓰는 브라우저 보안이 걱정된다면, </span> <span style=\"background-color: #0436c7\">다운로드</span> <span class=\"blind\">네이버</span> <span class=\"blind\">쥬니어네이버</span> <span class=\"blind\">해피빈</span> <span class=\"blind\">검색</span> <span class=\"ico_search_submit\"></span> <span class=\"blind\">한글 입력기</span> <span class=\"ico_keyboard\"></span> <span class=\"blind\">자동완성 레이어</span> <span class=\"ico_arr\"></span> <span class=\"fix\"><span class=\"common_ico_kwd\"><i class=\"imsc ico_search\"></i></span><span>@txt@</span></span> <span class=\"common_ico_kwd\"><i class=\"imsc ico_search\"></i></span> <span>@txt@</span> <span class=\"etc\">\n",
      "<em class=\"date\">@date@.</em>\n",
      "<!-- [AU] _del 클래스를 추가해주세요. -->\n",
      "<a aria-pressed=\"false\" class=\"bt_item _del\" href=\"#\" role=\"button\"><i class=\"imsc ico_del\">삭제</i></a>\n",
      "</span> <span class=\"kwd_dsc\">설정이 초기화 된다면 <a class=\"kwd_help\" data-clk=\"sly.help\" href=\"https://help.naver.com/support/alias/search/word/word_29.naver\" target=\"_blank\">도움말</a>을 확인해주세요.</span> <span class=\"kwd_dsc\">설정이 초기화 된다면 <a class=\"kwd_help\" data-clk=\"sly.help\" href=\"https://help.naver.com/support/alias/search/word/word_29.naver\" target=\"_blank\">도움말</a>을 확인해주세요.</span> <span class=\"side_opt_area\">\n",
      "<span class=\"opt_item\"><a data-clk=\"sly.help\" href=\"https://help.naver.com/support/service/main.help?serviceNo=605&amp;categoryNo=1991\" target=\"_blank\">도움말</a></span>\n",
      "</span> <span class=\"opt_item\"><a data-clk=\"sly.help\" href=\"https://help.naver.com/support/service/main.help?serviceNo=605&amp;categoryNo=1991\" target=\"_blank\">도움말</a></span> <span class=\"rside_opt_area\">\n",
      "<span class=\"opt_item\">\n",
      "<!-- [AU] _keywordOnOff 클래스를 추가해주세요. -->\n",
      "<a class=\"close _keywordOnOff\" href=\"#\">자동저장 끄기</a>\n",
      "</span>\n",
      "</span> <span class=\"opt_item\">\n",
      "<!-- [AU] _keywordOnOff 클래스를 추가해주세요. -->\n",
      "<a class=\"close _keywordOnOff\" href=\"#\">자동저장 끄기</a>\n",
      "</span> <span class=\"common_ico_kwd\"><i class=\"imsc ico_search\"></i></span> <span class=\"tit\">@5@회차 당첨번호</span> <span class=\"dsc\">\n",
      "<span class=\"item\">추첨 @13@.</span><span class=\"item\">지급기한 1년</span>\n",
      "</span> <span class=\"item\">추첨 @13@.</span> <span class=\"item\">지급기한 1년</span> <span class=\"etc_area\">\n",
      "<span class=\"etc lotto\">\n",
      "<em class=\"n@6@\">@6@</em><em class=\"n@7@\">@7@</em><em class=\"n@8@\">@8@</em><em class=\"n@9@\">@9@</em><em class=\"n@10@\">@10@</em><em class=\"n@11@\">@11@</em><em class=\"imsc_bf bonus n@12@\">@12@</em>\n",
      "</span>\n",
      "</span> <span class=\"etc lotto\">\n",
      "<em class=\"n@6@\">@6@</em><em class=\"n@7@\">@7@</em><em class=\"n@8@\">@8@</em><em class=\"n@9@\">@9@</em><em class=\"n@10@\">@10@</em><em class=\"n@11@\">@11@</em><em class=\"imsc_bf bonus n@12@\">@12@</em>\n",
      "</span> <span class=\"common_ico_kwd\"><i class=\"imsc ico @12@\">@14@</i></span> <span class=\"tit\">@txt@<span class=\"sub\">@currency@</span></span> <span class=\"sub\">@currency@</span> <span class=\"dsc\">\n",
      "<span class=\"item\"><i class=\"imsc ico_arr\"></i>@8@(@9@%)</span>\n",
      "</span> <span class=\"item\"><i class=\"imsc ico_arr\"></i>@8@(@9@%)</span> <span class=\"etc_area\">\n",
      "<span class=\"etc\"><em class=\"num\">@6@</em>원</span>\n",
      "</span> <span class=\"etc\"><em class=\"num\">@6@</em>원</span> <span class=\"common_ico_kwd\"><i class=\"imsc ico_search\"></i></span> <span class=\"tit\">@txt@</span> <span class=\"dsc\">\n",
      "<span class=\"item\">@7@, @message@</span>\n",
      "</span> <span class=\"item\">@7@, @message@</span> <span class=\"etc_area\">\n",
      "<span class=\"etc\">\n",
      "<!-- [D] 날씨별 class\n",
      "ico1 맑음(낮)\n",
      "ico2 맑음(밤)\n",
      "ico3 구름조금(낮)\n",
      "ico4 구름조금(밤)\n",
      "ico5 구름많음(낮)\n",
      "ico6 구름많음(밤)\n",
      "ico7 흐림\n",
      "ico8 약한비\n",
      "ico9 비\n",
      "ico10 강한비\n",
      "ico11 약한눈\n",
      "ico12 눈\n",
      "ico13 강한눈\n",
      "ico14 진눈깨비\n",
      "ico15 소나기\n",
      "ico16 안개\n",
      "ico17 소낙눈\n",
      "ico18 번개뇌우\n",
      "ico19 우박\n",
      "ico20 황사\n",
      "ico21 비또는눈\n",
      "ico22 가끔비\n",
      "ico23 가끔눈\n",
      "ico24 가끔비또는눈\n",
      "ico25 흐린후갬\n",
      "ico26 뇌우후갬\n",
      "ico27 비후갬\n",
      "ico28 눈후갬\n",
      "ico29 흐려져비\n",
      "ico30 흐려져눈\n",
      "-->\n",
      "<span class=\"ico_weather\"><i class=\"imsc ico ico@iconNo@\">@7@</i></span>\n",
      "<em class=\"degree\">@8@<sup class=\"celsius\">°</sup></em>\n",
      "</span>\n",
      "</span> <span class=\"etc\">\n",
      "<!-- [D] 날씨별 class\n",
      "ico1 맑음(낮)\n",
      "ico2 맑음(밤)\n",
      "ico3 구름조금(낮)\n",
      "ico4 구름조금(밤)\n",
      "ico5 구름많음(낮)\n",
      "ico6 구름많음(밤)\n",
      "ico7 흐림\n",
      "ico8 약한비\n",
      "ico9 비\n",
      "ico10 강한비\n",
      "ico11 약한눈\n",
      "ico12 눈\n",
      "ico13 강한눈\n",
      "ico14 진눈깨비\n",
      "ico15 소나기\n",
      "ico16 안개\n",
      "ico17 소낙눈\n",
      "ico18 번개뇌우\n",
      "ico19 우박\n",
      "ico20 황사\n",
      "ico21 비또는눈\n",
      "ico22 가끔비\n",
      "ico23 가끔눈\n",
      "ico24 가끔비또는눈\n",
      "ico25 흐린후갬\n",
      "ico26 뇌우후갬\n",
      "ico27 비후갬\n",
      "ico28 눈후갬\n",
      "ico29 흐려져비\n",
      "ico30 흐려져눈\n",
      "-->\n",
      "<span class=\"ico_weather\"><i class=\"imsc ico ico@iconNo@\">@7@</i></span>\n",
      "<em class=\"degree\">@8@<sup class=\"celsius\">°</sup></em>\n",
      "</span> <span class=\"ico_weather\"><i class=\"imsc ico ico@iconNo@\">@7@</i></span> <span class=\"common_ico_kwd\"><i class=\"imsc ico_url\"></i></span> <span class=\"tit\">@txt@</span> <span class=\"dsc\">\n",
      "<span class=\"item\">@5@</span>\n",
      "</span> <span class=\"item\">@5@</span> <span class=\"etc_area\">\n",
      "<span class=\"etc\">바로가기</span>\n",
      "</span> <span class=\"etc\">바로가기</span> <span class=\"fix\"><span class=\"common_ico_kwd\"><i class=\"imsc ico_search\"></i></span>@txt@</span> <span class=\"common_ico_kwd\"><i class=\"imsc ico_search\"></i></span> <span class=\"etc\">\n",
      "<a aria-pressed=\"false\" class=\"bt_item _add\" href=\"#\" role=\"button\"><i class=\"imsc ico_insert\">추가</i></a>\n",
      "</span> <span class=\"fix\"><span class=\"common_ico_kwd\"><i class=\"imsc ico_search\"></i></span>@txt@</span> <span class=\"common_ico_kwd\"><i class=\"imsc ico_search\"></i></span> <span class=\"etc\">\n",
      "<!-- 최근검색어 있으면 날짜 표시 -->\n",
      "<em class=\"date\">@date@.</em>\n",
      "<a aria-pressed=\"false\" class=\"bt_item _add\" href=\"#\" role=\"button\"><i class=\"imsc ico_insert\">추가</i></a>\n",
      "</span> <span class=\"fix\"><span class=\"common_ico_kwd\"><i class=\"imsc ico_search\"></i></span>@query@ <span class=\"context\">@intend@</span></span> <span class=\"common_ico_kwd\"><i class=\"imsc ico_search\"></i></span> <span class=\"context\">@intend@</span> <span class=\"etc\">\n",
      "<a aria-pressed=\"false\" class=\"bt_item _add\" href=\"#\" role=\"button\"><i class=\"imsc ico_insert\">추가</i></a>\n",
      "</span> <span class=\"_alert_passage\"></span> <span class=\"dsc_inner\">\n",
      "<!-- [AU] _alert_passage2 클래스를 추가해주세요. -->\n",
      "<span class=\"_alert_passage2\"></span>\n",
      "<!-- [AU] _alert_link 클래스를 추가해주세요. -->\n",
      "<a class=\"link _alert_link\" href=\"#\" target=\"_blank\">자세히보기</a>\n",
      "</span> <span class=\"_alert_passage2\"></span> <span class=\"side_opt_area\">\n",
      "<span class=\"opt_item\"><a data-clk=\"sug.help\" href=\"https://help.naver.com/support/service/main.help?serviceNo=605&amp;categoryNo=1987\" target=\"_blank\">도움말</a></span>\n",
      "<span class=\"opt_item\"><a class=\"report\" data-clk=\"sug.report\" href=\"https://help.naver.com/support/contents/contents.help?serviceNo=605&amp;categoryNo=18215\" target=\"_blank\">신고</a></span>\n",
      "</span> <span class=\"opt_item\"><a data-clk=\"sug.help\" href=\"https://help.naver.com/support/service/main.help?serviceNo=605&amp;categoryNo=1987\" target=\"_blank\">도움말</a></span> <span class=\"opt_item\"><a class=\"report\" data-clk=\"sug.report\" href=\"https://help.naver.com/support/contents/contents.help?serviceNo=605&amp;categoryNo=18215\" target=\"_blank\">신고</a></span> <span class=\"rside_opt_area\">\n",
      "<span class=\"opt_item\">\n",
      "<!-- [AU] _suggestOnOff 클래스를 추가해주세요. -->\n",
      "<a class=\"close _suggestOnOff\" href=\"#\">자동완성 끄기</a>\n",
      "</span>\n",
      "</span> <span class=\"opt_item\">\n",
      "<!-- [AU] _suggestOnOff 클래스를 추가해주세요. -->\n",
      "<a class=\"close _suggestOnOff\" href=\"#\">자동완성 끄기</a>\n",
      "</span> <span class=\"blind\">쇼핑</span> <span class=\"blind\">쇼핑LIVE</span> <span aria-label=\"최저기온\" class=\"min\">26.0°</span> <span aria-label=\"최고기온\" class=\"max\">32.0°</span> <span class=\"location\">이태원동</span> <span class=\"location\">이태원동</span> <span class=\"veta_bd_t\"></span> <span class=\"veta_bd_b\"></span> <span class=\"veta_bd_l\"></span> <span class=\"veta_bd_r\"></span> <span class=\"blind\">리스트형</span> <span class=\"blind\">썸네일형</span> <span class=\"blind\">설정</span> <span class=\"blind\">이전</span> <span class=\"blind\">다음</span> <span class=\"blind\">닫기</span> <span class=\"blind\">닫기</span> <span class=\"blind\">이전</span> <span class=\"blind\">다음</span> <span class=\"thumb_dim\"></span> <span class=\"thumb_dim\"></span> <span class=\"thumb_dim\"></span> <span class=\"thumb_dim\"></span> <span class=\"thumb_dim\"></span> <span class=\"thumb_dim\"></span> <span class=\"thumb_dim\"></span> <span class=\"thumb_dim\"></span> <span class=\"thumb_dim\"></span> <span class=\"thumb_dim\"></span> <span class=\"thumb_dim\"></span> <span class=\"thumb_dim\"></span> <span class=\"thumb_dim\"></span> <span class=\"thumb_dim\"></span> <span class=\"thumb_dim\"></span> <span class=\"thumb_dim\"></span> <span class=\"thumb_dim\"></span> <span class=\"thumb_dim\"></span> <span class=\"thumb_dim\"></span> <span class=\"thumb_dim\"></span> <span class=\"thumb_dim\"></span> <span class=\"thumb_dim\"></span> <span class=\"thumb_dim\"></span> <span class=\"thumb_dim\"></span> <span class=\"blind\">닫기</span> <span class=\"blind\">닫기</span> <span class=\"blind\">이전</span> <span class=\"blind\">다음</span> <span class=\"blind\">다음</span> <span class=\"blind\">닫기</span> <span class=\"blind\">닫기</span> <span class=\"blind\">이전</span> <span class=\"blind\">다음</span> <span class=\"blind\">닫기</span> <span class=\"blind\">닫기</span> <span class=\"dsc\">주제별로 분류된 다양한 글 모음</span> <span class=\"info\"><strong class=\"new\">676</strong> 개의 글</span> <span class=\"blind\">이전</span> <span class=\"blind\">다음</span> <span class=\"ico_middot\"></span> <span class=\"thumb_bd\"></span> <span class=\"date\">1개월 전</span> <span class=\"source\">\n",
      "<span class=\"source_inner\">한경BP</span>\n",
      "</span> <span class=\"source_inner\">한경BP</span> <span class=\"thumb_bd\"></span> <span class=\"date\">1개월 전</span> <span class=\"source\">\n",
      "<span class=\"source_inner\">문학수첩</span>\n",
      "</span> <span class=\"source_inner\">문학수첩</span> <span class=\"thumb_bd\"></span> <span class=\"date\">1개월 전</span> <span class=\"source\">\n",
      "<span class=\"source_inner\">알에이치코리아</span>\n",
      "</span> <span class=\"source_inner\">알에이치코리아</span> <span class=\"thumb_bd\"></span> <span class=\"date\">1개월 전</span> <span class=\"source\">\n",
      "<span class=\"source_inner\">동양북스</span>\n",
      "</span> <span class=\"source_inner\">동양북스</span> <span class=\"thumb_bd\"></span> <span class=\"date\">1개월 전</span> <span class=\"source\">\n",
      "<span class=\"source_inner\">문예춘추사</span>\n",
      "</span> <span class=\"source_inner\">문예춘추사</span> <span class=\"dsc\">집계기간 2022.07.18 ~ 2022.07.24</span> <span class=\"dsc\">제공</span> <span class=\"dsc\">인터넷 교보문고</span> <span class=\"blind\">이전</span> <span class=\"blind\">다음</span> <span class=\"thumb_bd\"></span> <span class=\"rank\">1<span class=\"blind\">위</span></span> <span class=\"blind\">위</span> <span class=\"thumb_bd\"></span> <span class=\"rank\">2<span class=\"blind\">위</span></span> <span class=\"blind\">위</span> <span class=\"thumb_bd\"></span> <span class=\"rank\">3<span class=\"blind\">위</span></span> <span class=\"blind\">위</span> <span class=\"thumb_bd\"></span> <span class=\"rank\">4<span class=\"blind\">위</span></span> <span class=\"blind\">위</span> <span class=\"thumb_bd\"></span> <span class=\"rank\">5<span class=\"blind\">위</span></span> <span class=\"blind\">위</span> <span class=\"thumb_bd\"></span> <span class=\"rank\">6<span class=\"blind\">위</span></span> <span class=\"blind\">위</span> <span class=\"thumb_bd\"></span> <span class=\"rank\">7<span class=\"blind\">위</span></span> <span class=\"blind\">위</span> <span class=\"thumb_bd\"></span> <span class=\"rank\">8<span class=\"blind\">위</span></span> <span class=\"blind\">위</span> <span class=\"thumb_bd\"></span> <span class=\"rank\">9<span class=\"blind\">위</span></span> <span class=\"blind\">위</span> <span class=\"thumb_bd\"></span> <span class=\"rank\">10<span class=\"blind\">위</span></span> <span class=\"blind\">위</span> <span class=\"thumb_bd\"></span> <span class=\"rank\">11<span class=\"blind\">위</span></span> <span class=\"blind\">위</span> <span class=\"thumb_bd\"></span> <span class=\"rank\">12<span class=\"blind\">위</span></span> <span class=\"blind\">위</span> <span class=\"thumb_bd\"></span> <span class=\"rank\">13<span class=\"blind\">위</span></span> <span class=\"blind\">위</span> <span class=\"thumb_bd\"></span> <span class=\"rank\">14<span class=\"blind\">위</span></span> <span class=\"blind\">위</span> <span class=\"thumb_bd\"></span> <span class=\"rank\">15<span class=\"blind\">위</span></span> <span class=\"blind\">위</span> <span class=\"thumb_bd\"></span> <span class=\"rank\">16<span class=\"blind\">위</span></span> <span class=\"blind\">위</span> <span class=\"thumb_bd\"></span> <span class=\"rank\">17<span class=\"blind\">위</span></span> <span class=\"blind\">위</span> <span class=\"thumb_bd\"></span> <span class=\"rank\">18<span class=\"blind\">위</span></span> <span class=\"blind\">위</span> <span class=\"thumb_bd\"></span> <span class=\"rank\">19<span class=\"blind\">위</span></span> <span class=\"blind\">위</span> <span class=\"thumb_bd\"></span> <span class=\"rank\">20<span class=\"blind\">위</span></span> <span class=\"blind\">위</span> <span class=\"thumb_bd\"></span> <span class=\"date\">1개월 전</span> <span class=\"source\">\n",
      "<span class=\"source_inner\">한겨레출판</span>\n",
      "</span> <span class=\"source_inner\">한겨레출판</span> <span class=\"thumb_bd\"></span> <span class=\"date\">1개월 전</span> <span class=\"source\">\n",
      "<span class=\"source_inner\">청림출판</span>\n",
      "</span> <span class=\"source_inner\">청림출판</span> <span class=\"thumb_bd\"></span> <span class=\"date\">3주일 전</span> <span class=\"source\">\n",
      "<span class=\"source_inner\">컬처블룸</span>\n",
      "</span> <span class=\"source_inner\">컬처블룸</span> <span class=\"thumb_bd\"></span> <span class=\"date\">1개월 전</span> <span class=\"source\">\n",
      "<span class=\"source_inner\">북라이프</span>\n",
      "</span> <span class=\"source_inner\">북라이프</span> <span class=\"thumb_bd\"></span> <span class=\"date\">1개월 전</span> <span class=\"source\">\n",
      "<span class=\"source_inner\">프네우마</span>\n",
      "</span> <span class=\"source_inner\">프네우마</span> <span class=\"blind\">NAVER</span> <span class=\"blind\">이전</span> <span class=\"blind\">다음</span> <span class=\"news\">코로나바이러스감염증-19 현황</span> <span class=\"rate rate_up\"><span class=\"blind\">상승</span>1.14 +0.05%</span> <span class=\"blind\">상승</span> <span class=\"rate rate_up\"><span class=\"blind\">상승</span>5.80 +0.73%</span> <span class=\"blind\">상승</span> <span class=\"rate rate_up\"><span class=\"blind\">상승</span>2.70 +0.21%</span> <span class=\"blind\">상승</span> <span class=\"blind\"> <script id=\"veta_service_check\"></script> </span> <span class=\"veta_bd_t\"></span> <span class=\"veta_bd_b\"></span> <span class=\"veta_bd_l\"></span> <span class=\"veta_bd_r\"></span> <span class=\"blind\">TOP</span> <span class=\"blind\">라이트 모드로 보기</span> "
     ]
    }
   ],
   "source": [
    "import urllib.request as req\n",
    "from bs4 import BeautifulSoup\n",
    "import re \n",
    "\n",
    "url = \"http://www.naver.com\" \n",
    "URL = req.urlopen(url)\n",
    "bs = BeautifulSoup(URL, 'html.parser')\n",
    "texts = bs.find_all('span')\n",
    "\n",
    "for t in texts:\n",
    "    \n",
    "    print(t, end=' ')"
   ]
  },
  {
   "cell_type": "code",
   "execution_count": 11,
   "id": "651f6aa9",
   "metadata": {
    "scrolled": true
   },
   "outputs": [
    {
     "name": "stdout",
     "output_type": "stream",
     "text": [
      "뉴스스탠드 바로가기 주제별캐스트 바로가기 타임스퀘어 바로가기 쇼핑캐스트 바로가기 로그인 바로가기 매일 쓰는 브라우저 보안이 걱정된다면 안전하고 빠른 최신 브라우저 웨일로 업데이트 하세요  매일 쓰는 브라우저 보안이 걱정된다면  다운로드 네이버 쥬니어네이버 해피빈 검색  한글 입력기  자동완성 레이어        삭제  설정이 초기화 된다면 도움말을 확인해주세요  설정이 초기화 된다면 도움말을 확인해주세요   도움말  도움말  자동저장 끄기   자동저장 끄기    회차 당첨번호  추첨 지급기한 년  추첨  지급기한 년                원   원                      바로가기  바로가기     추가      추가        추가    자세히보기    도움말 신고  도움말 신고  자동완성 끄기   자동완성 끄기  쇼핑 쇼핑      이태원동 이태원동     리스트형 썸네일형 설정 이전 다음 닫기 닫기 이전 다음                         닫기 닫기 이전 다음 다음 닫기 닫기 이전 다음 닫기 닫기 주제별로 분류된 다양한 글 모음  개의 글 이전 다음   어제  데이트저스트  데이트저스트   시간 전  한국경제  한국경제   주일 전  땅집고  땅집고  어제  투벤저스  투벤저스   시간 전  어피티   어피티   재생 재생시간 재생시간  주일 전  한국경제 신속한 경제 증권 채널  한국경제 신속한 경제 증권 채널   재생 재생시간 재생시간  주일 전  한국경제 신속한 경제 증권 채널  한국경제 신속한 경제 증권 채널   재생 재생시간 재생시간  개월 전  머니투데이 경기본부  머니투데이 경기본부   일 전  트래블노트  트래블노트  어제  국민일보  국민일보   시간 전  북극성주  북극성주  어제  아시아경제  아시아경제   시간 전  뉴스  뉴스    재생 재생시간 재생시간  주일 전  서울경제 어썸머니  서울경제 어썸머니   재생 재생시간 재생시간  주일 전  매일경제 영상  매일경제 영상   재생 재생시간 재생시간  일 전  일하며 여행하는  일하며 여행하는    일 전  부자비즈  부자비즈   일 전  차이나랩  차이나랩   일 전  차이나랩  차이나랩  어제  비즈한국  비즈한국   일 전  자이  자이   재생 재생시간 재생시간  개월 전  후랭이  후랭이    재생 재생시간 재생시간  주일 전  리얼투데이  리얼투데이    재생 재생시간 재생시간  주일 전  집코노미  집코노미    시간 전  유안타증권  유안타증권  어제       일 전  다방 공식 포스트  다방 공식 포스트   시간 전  뉴스웨이  뉴스웨이   일 전  직방  직방   재생 재생시간 재생시간  주일 전  투자와연금 미래에셋  투자와연금 미래에셋    재생 재생시간 재생시간  개월 전  후랭이  후랭이    재생 재생시간 재생시간  개월 전  서울경제 어썸머니  서울경제 어썸머니   주일 전  이데일리  이데일리   일 전  부자동  부자동   시간 전       일 전  스마트북스  스마트북스   주일 전  중앙일보  중앙일보   재생 재생시간 재생시간  개월 전  후랭이  후랭이    재생 재생시간 재생시간  시간 전  일하며 여행하는  일하며 여행하는    재생 재생시간 재생시간  개월 전  투자와연금 미래에셋  투자와연금 미래에셋    일 전  에스테이트   에스테이트   일 전  리얼투데이  리얼투데이   주일 전  연예톡톡  연예톡톡  어제  월급쟁이부자들  월급쟁이부자들  어제  키움증권  키움증권   재생 재생시간 재생시간  개월 전  리얼투데이  리얼투데이    재생 재생시간 재생시간  주일 전  키움증권 세상의 모든 투자정보   키움증권 세상의 모든 투자정보   재생 재생시간 재생시간  주일 전  사이다경제  사이다경제   일 전  경제만랩  경제만랩   일 전  집코노미  집코노미  어제  브릿지경제  브릿지경제   시간 전  비즈니스워치  비즈니스워치   일 전  비즈한국  비즈한국   재생 재생시간 재생시간  주일 전  자이  자이   재생 재생시간 재생시간  주일 전  한경 글로벌마켓   한경 글로벌마켓   재생 재생시간 재생시간  일 전  피셔인베스트  피셔인베스트  어제  데이트저스트  데이트저스트  어제  바삭한경제  바삭한경제  어제  메트로신문  메트로신문   일 전  서울경제신문  서울경제신문   일 전  분양   분양   재생 재생시간 재생시간  주일 전  부릿지 부자되는 길을 잇다  부릿지 부자되는 길을 잇다   재생 재생시간 재생시간  일 전  직방  직방   재생 재생시간 재생시간  일 전  한국경제 신속한 경제 증권 채널  한국경제 신속한 경제 증권 채널  어제  머니투데이  머니투데이  어제  한국포스증권  한국포스증권  어제  대한경제   대한경제   주일 전  살구뉴스  살구뉴스  어제  투벤저스  투벤저스   주일 전  카시오페아  카시오페아   개월 전  부자비즈  부자비즈   일 전  한국포스증권  한국포스증권  어제  송정목  송정목  어제  한경  한경    주일 전  부자비즈  부자비즈   일 전  시장경제 메콘뉴스  시장경제 메콘뉴스  어제  부동산  부동산    시간 전  한국경제  한국경제    일 전  부동산   부동산   일 전  토스  토스   일 전  국민연금공단  국민연금공단   주일 전  파리바 카디프생명   파리바 카디프생명   주일 전  이데일리  이데일리   일 전  블라블라  블라블라   이전 다음 코로나바이러스감염증 현황 상승  상승 상승  상승 상승  상승         라이트 모드로 보기 "
     ]
    }
   ],
   "source": [
    "\n",
    "url = \"http://www.naver.com\" \n",
    "URL = req.urlopen(url)\n",
    "bs = BeautifulSoup(URL, 'html.parser')\n",
    "texts = bs.find_all('span')\n",
    "\n",
    "for t in texts:\n",
    "    text = t.get_text()\n",
    "    text = re.sub('[^가-힣]+', ' ', text)\n",
    "    \n",
    "\n",
    "    print(text, end=' ')"
   ]
  },
  {
   "cell_type": "code",
   "execution_count": 49,
   "id": "940a6e64",
   "metadata": {},
   "outputs": [
    {
     "name": "stdout",
     "output_type": "stream",
     "text": [
      "뉴스스탠드 바로가기 주제별캐스트 바로가기 타임스퀘어 바로가기 쇼핑캐스트 바로가기 로그인 바로가기 매일 쓰는 브라우저 보안이 걱정된다면 안전하고 빠른 최신 브라우저 웨일로 업데이트 하세요  매일 쓰는 브라우저 보안이 걱정된다면  다운로드 네이버 쥬니어네이버 해피빈 검색  한글 입력기  자동완성 레이어        삭제  설정이 초기화 된다면 도움말을 확인해주세요  설정이 초기화 된다면 도움말을 확인해주세요   도움말  도움말  자동저장 끄기   자동저장 끄기    회차 당첨번호  추첨 지급기한 년  추첨  지급기한 년                원   원                      바로가기  바로가기     추가      추가        추가    자세히보기    도움말 신고  도움말 신고  자동완성 끄기   자동완성 끄기  쇼핑 쇼핑      이태원동 이태원동     리스트형 썸네일형 설정 이전 다음 닫기 닫기 이전 다음                         닫기 닫기 이전 다음 다음 닫기 닫기 이전 다음 닫기 닫기 주제별로 분류된 다양한 글 모음  개의 글 이전 다음    개월 전  한경  한경    개월 전  문학수첩  문학수첩   개월 전  알에이치코리아  알에이치코리아   개월 전  동양북스  동양북스   개월 전  문예춘추사  문예춘추사 집계기간  제공 인터넷 교보문고 이전 다음   위 위   위 위   위 위   위 위   위 위   위 위   위 위   위 위   위 위   위 위   위 위   위 위   위 위   위 위   위 위   위 위   위 위   위 위   위 위   위 위   개월 전  한겨레출판  한겨레출판   개월 전  청림출판  청림출판   주일 전  컬처블룸  컬처블룸   개월 전  북라이프  북라이프   개월 전  프네우마  프네우마   이전 다음 언론사 헤드라인 보기 코로나바이러스감염증 현황 하락  하락 상승  상승 하락  하락         라이트 모드로 보기 "
     ]
    }
   ],
   "source": [
    "\n",
    "url = \"http://www.naver.com\" \n",
    "URL = req.urlopen(url)\n",
    "bs = BeautifulSoup(URL, 'html.parser')\n",
    "texts = bs.find_all('span')\n",
    "\n",
    "for t in texts:\n",
    "    text = t.get_text()\n",
    "    text = re.sub('[^가-힣]+', ' ', text)\n",
    "    text = re.sub('\\s{2,}', '', text)\n",
    "#     li.append(text)\n",
    "# print(li)\n",
    "    print(text, end=' ')"
   ]
  },
  {
   "cell_type": "code",
   "execution_count": 50,
   "id": "3b50f793",
   "metadata": {},
   "outputs": [
    {
     "data": {
      "text/plain": [
       "'뉴스스탠드 바로가기 주제별캐스트 바로가기 타임스퀘어 바로가기 쇼핑캐스트 바로가기 로그인 바로가기 매일 쓰는 브라우저 보안이 걱정된다면 안전하고 빠른 최신 브라우저 웨일로 업데이트 하세요 매일 쓰는 브라우저 보안이 걱정된다면 다운로드 네이버 쥬니어네이버 해피빈 검색 한글 입력기 자동완성 레이어 삭제 설정이 초기화 된다면 도움말을 확인해주세요 설정이 초기화 된다면 도움말을 확인해주세요 도움말 도움말 자동저장 끄기 자동저장 끄기 회차 당첨번호 추첨 지급기한 년 추첨 지급기한 년 원 원 바로가기 바로가기 추가 추가 추가 자세히보기 도움말 신고 도움말 신고 자동완성 끄기 자동완성 끄기 쇼핑 쇼핑 이태원동 이태원동 리스트형 썸네일형 설정 이전 다음 닫기 닫기 이전 다음 닫기 닫기 이전 다음 다음 닫기 닫기 이전 다음 닫기 닫기 주제별로 분류된 다양한 글 모음 개의 글 이전 다음 개월 전 한경 한경 개월 전 문학수첩 문학수첩 개월 전 알에이치코리아 알에이치코리아 개월 전 동양북스 동양북스 개월 전 문예춘추사 문예춘추사 집계기간 제공 인터넷 교보문고 이전 다음 위 위 위 위 위 위 위 위 위 위 위 위 위 위 위 위 위 위 위 위 위 위 위 위 위 위 위 위 위 위 위 위 위 위 위 위 위 위 위 위 개월 전 한겨레출판 한겨레출판 개월 전 청림출판 청림출판 주일 전 컬처블룸 컬처블룸 개월 전 북라이프 북라이프 개월 전 프네우마 프네우마 이전 다음 언론사 헤드라인 보기 코로나바이러스감염증 현황 하락 하락 상승 상승 하락 하락 라이트 모드로 보기'"
      ]
     },
     "execution_count": 50,
     "metadata": {},
     "output_type": "execute_result"
    }
   ],
   "source": [
    "#이 풀이가 가장 이상적인 거 같음 \n",
    "\n",
    "import urllib.request as req\n",
    "url = \"http://www.naver.com\" \n",
    "URL = req.urlopen(url)\n",
    "bs = BeautifulSoup(URL, 'html.parser')\n",
    "texts = bs.find_all('span')\n",
    "texts\n",
    "\n",
    "li = []\n",
    "for t in texts:\n",
    "    text = t.get_text()\n",
    "    text = re.sub('[^가-힣]+',' ', text)\n",
    "\n",
    "    li.append(text)\n",
    "\n",
    "li = ' '.join(li)\n",
    "result = re.sub('\\s{2,}', ' ', li)\n",
    "result"
   ]
  },
  {
   "cell_type": "markdown",
   "id": "2b329ec8",
   "metadata": {},
   "source": [
    "#### 0725_4 \"http://www.naver.com\" 사이트에서 span 태그에 연결된 문자 + 숫자를 불필요한 공백을 제거한 후 출력하세요.\n"
   ]
  },
  {
   "cell_type": "code",
   "execution_count": 53,
   "id": "a69f0a9c",
   "metadata": {},
   "outputs": [
    {
     "name": "stdout",
     "output_type": "stream",
     "text": [
      "뉴스스탠드 바로가기주제별캐스트 바로가기타임스퀘어 바로가기쇼핑캐스트 바로가기로그인 바로가기매일 쓰는 브라우저 보안이 걱정된다면 안전하고 빠른 최신 브라우저 웨일로 업데이트 하세요 매일 쓰는 브라우저 보안이 걱정된다면 다운로드네이버쥬니어네이버해피빈검색한글 입력기자동완성 레이어   삭제 설정이 초기화 된다면 도움말을 확인해주세요 설정이 초기화 된다면 도움말을 확인해주세요  도움말 도움말 자동저장 끄기  자동저장 끄기  5 회차 당첨번호 추첨 13 지급기한 1년 추첨 13 지급기한 1년 6 7 8 9 10 11 12  6 7 8 9 10 11 12  14    8 9  8 9  6 원  6 원  7  7  7 8  7 8  7   5  5  바로가기 바로가기  추가   추가    추가  자세히보기  도움말 신고 도움말신고 자동완성 끄기  자동완성 끄기 쇼핑쇼핑 26 0 32 0 이태원동이태원동리스트형썸네일형설정이전다음닫기닫기이전다음닫기닫기이전다음다음닫기닫기이전다음닫기닫기주제별로 분류된 다양한 글 모음676 개의 글이전다음1개월 전 한경 한경 1개월 전 문학수첩 문학수첩1개월 전 알에이치코리아 알에이치코리아1개월 전 동양북스 동양북스1개월 전 문예춘추사 문예춘추사집계기간 2022 07 18 2022 07 24제공인터넷 교보문고이전다음1위위2위위3위위4위위5위위6위위7위위8위위9위위10위위11위위12위위13위위14위위15위위16위위17위위18위위19위위20위위1개월 전 한겨레출판 한겨레출판1개월 전 청림출판 청림출판3주일 전 컬처블룸 컬처블룸1개월 전 북라이프 북라이프1개월 전 프네우마 프네우마 이전다음언론사 헤드라인 보기코로나바이러스감염증 19 현황하락4 63 0 19 하락상승2 93 0 37 상승하락2 30 0 18 하락  라이트 모드로 보기"
     ]
    }
   ],
   "source": [
    "url = \"http://www.naver.com\" \n",
    "URL = req.urlopen(url)\n",
    "bs = BeautifulSoup(URL, 'html.parser')\n",
    "texts = bs.find_all('span')\n",
    "\n",
    "for t in texts:\n",
    "    text = t.get_text()\n",
    "    text = re.sub('[^0-9가-힣]+', ' ', text)\n",
    "    text = re.sub('\\s{2,}', '', text)\n",
    "    print(text, end='')"
   ]
  },
  {
   "cell_type": "markdown",
   "id": "a58a2448",
   "metadata": {},
   "source": [
    "#### 0725_5 \"http://www.naver.com\" 사이트에서 a 태그에 id가 있는 경우에 대하여 연결된 문자 + 숫자를 불필요한 공백을 제거한 후 한줄에 출력하세요.\n"
   ]
  },
  {
   "cell_type": "code",
   "execution_count": 54,
   "id": "49629243",
   "metadata": {},
   "outputs": [
    {
     "name": "stdout",
     "output_type": "stream",
     "text": [
      "다운로드 네이버를 시작페이지로 한글 입력기 자동완성 레이어 관심주제 설정 TOP "
     ]
    }
   ],
   "source": [
    "import urllib.request as req\n",
    "\n",
    "url = \"http://www.naver.com\" \n",
    "URL = req.urlopen(url)\n",
    "bs = BeautifulSoup(URL, 'html.parser')\n",
    "texts = bs.find_all('a', id = True) #id=True\n",
    "texts\n",
    "for t in texts:\n",
    "    \n",
    "    text = t.get_text()\n",
    "    text = re.sub('[^\\w]+', ' ', text)\n",
    "    text = re.sub('\\s{2,}', '', text)\n",
    "    print(text, end=' ')"
   ]
  },
  {
   "cell_type": "code",
   "execution_count": 55,
   "id": "b4412b61",
   "metadata": {},
   "outputs": [
    {
     "name": "stdout",
     "output_type": "stream",
     "text": [
      " 다운로드 네이버를 시작페이지로 한글 입력기 자동완성 레이어 관심주제 설정 TOP \n"
     ]
    }
   ],
   "source": [
    "#다른 풀이\n",
    "from bs4 import BeautifulSoup\n",
    "import requests as rq\n",
    "\n",
    "url = 'https://www.naver.com'\n",
    "r = rq.get(url)\n",
    "html = r.text\n",
    "bs = BeautifulSoup(html, 'lxml')\n",
    "\n",
    "texts = bs.select('a[id]')\n",
    "# print(texts)\n",
    "\n",
    "li = []\n",
    "for t in texts:\n",
    "    li.append(t.get_text())\n",
    "\n",
    "\n",
    "p = re.sub('[^\\w+\\d+]',' ', str(li))\n",
    "p = re.sub('\\s+',' ', p)\n",
    "print(p)\n"
   ]
  },
  {
   "cell_type": "markdown",
   "id": "b49a7116",
   "metadata": {},
   "source": [
    "#### 0725_6\n",
    "\n",
    "url = 'https://news.naver.com/' 사이트 p태크에서 class가 cjs_ht인 데이터를 한글만을 불필요한 공백을 제거한 후  출력하세요.\n"
   ]
  },
  {
   "cell_type": "code",
   "execution_count": 20,
   "id": "e8747d1c",
   "metadata": {},
   "outputs": [
    {
     "data": {
      "text/plain": [
       "' 방송 모아보기 클릭 시 해당 방송사 뉴스를 볼 수 있으며 표시가 된 경우 생중계로 시청 가능합니다 '"
      ]
     },
     "execution_count": 20,
     "metadata": {},
     "output_type": "execute_result"
    }
   ],
   "source": [
    "import urllib.request as req\n",
    "\n",
    "url = 'https://news.naver.com/'\n",
    "\n",
    "URL = req.urlopen(url)\n",
    "bs = BeautifulSoup(URL, 'html.parser')\n",
    "texts = bs.find_all('p', attrs={'class':'cjs_ht'})\n",
    "texts\n",
    "    \n",
    "\n",
    "texts = re.sub('[^가-힣]+', ' ', str(texts)) #차피 문자열 하나라 for문 안 돌리는 것\n",
    "texts = re.sub('\\s+', \" \", texts)\n",
    "texts = texts[:]\n",
    "texts #내 정답은 양 끝 공백을 고려하지않았어 "
   ]
  },
  {
   "cell_type": "code",
   "execution_count": 17,
   "id": "6d69dbfa",
   "metadata": {},
   "outputs": [
    {
     "data": {
      "text/plain": [
       "'방송 모아보기 클릭 시 해당 방송사 뉴스를 볼 수 있으며 표시가 된 경우 생중계로 시청 가능합니다'"
      ]
     },
     "execution_count": 17,
     "metadata": {},
     "output_type": "execute_result"
    }
   ],
   "source": [
    "#이게 옳은 풀이\n",
    "from bs4 import BeautifulSoup as bsoup\n",
    "import re\n",
    "import requests\n",
    "url = 'https://news.naver.com/'\n",
    "req = requests.get(url)\n",
    "html = req.text\n",
    "\n",
    "soup = bsoup(html, 'html.parser')\n",
    "result = soup.find_all('p', attrs={'class':\"cjs_ht\"}) # p class = \"cjs_ht\" 찾기\n",
    "result\n",
    "\n",
    "q = re.sub('[^가-힣]', ' ', str(result))  # 다시 문자화시켜서 re.sub\n",
    "words = re.sub('\\s+', \" \", q)\n",
    "words = words[1:-1]# 처음 시작과 끝 공백을 없애는 역할 (시작위치, 종류위치 생각해봐)\n",
    "words\n"
   ]
  },
  {
   "cell_type": "code",
   "execution_count": 58,
   "id": "58fd2cd3",
   "metadata": {},
   "outputs": [
    {
     "name": "stdout",
     "output_type": "stream",
     "text": [
      "[<p class=\"dsc\">\n",
      "<i class=\"imsc ico_election\"></i><span class=\"_alert_passage\"></span>\n",
      "</p>] \n",
      "\n",
      "[<p class=\"dsc\">\n",
      "<i class=\"imsc ico_election\"></i><span class=\"_alert_passage\"></span>\n",
      "</p>, <p class=\"dsc\">ON/OFF 설정은<br/>해당기기(브라우저)에 저장됩니다.</p>] \n",
      "\n",
      "[<p class=\"dsc\">\n",
      "<i class=\"imsc ico_election\"></i><span class=\"_alert_passage\"></span>\n",
      "</p>, <p class=\"dsc\">ON/OFF 설정은<br/>해당기기(브라우저)에 저장됩니다.</p>, <p class=\"dsc\"><em class=\"txt\">동일한 시간대/연령/남녀별</em> 사용자 그룹의<br/>관심사에 맞춰 자동완성을 제공합니다.</p>]\n"
     ]
    }
   ],
   "source": [
    "from bs4 import BeautifulSoup\n",
    "import urllib.request as rq\n",
    "\n",
    "url = 'https://naver.com'\n",
    "html = rq.urlopen(url)\n",
    "bs = BeautifulSoup(html, 'lxml')\n",
    "\n",
    "# print(bs.find('p')) \n",
    "print(bs.find_all('p', limit = 1), '\\n') #limit 옵션으로 개수지정가능\n",
    "print(bs.find_all('p', limit = 2), '\\n')\n",
    "print(bs.find_all('p', limit = 3))"
   ]
  },
  {
   "cell_type": "code",
   "execution_count": 59,
   "id": "75afc9ec",
   "metadata": {},
   "outputs": [
    {
     "data": {
      "text/plain": [
       "'정치'"
      ]
     },
     "execution_count": 59,
     "metadata": {},
     "output_type": "execute_result"
    }
   ],
   "source": [
    "from bs4 import BeautifulSoup\n",
    "import requests as rq\n",
    "\n",
    "url = 'https://news.daum.net/politics/'\n",
    "html = rq.get(url)\n",
    "html = html.text\n",
    "bs = BeautifulSoup(html, 'lxml')\n",
    "title = bs.find('h2', id = 'mainContent').text\n",
    "title\n"
   ]
  },
  {
   "cell_type": "code",
   "execution_count": 60,
   "id": "150eb78d",
   "metadata": {},
   "outputs": [
    {
     "data": {
      "text/plain": [
       "'정치'"
      ]
     },
     "execution_count": 60,
     "metadata": {},
     "output_type": "execute_result"
    }
   ],
   "source": [
    "from bs4 import BeautifulSoup\n",
    "import requests as rq\n",
    "\n",
    "url = 'https://news.daum.net/politics/'\n",
    "html = rq.get(url)\n",
    "html = html.text\n",
    "bs = BeautifulSoup(html, 'lxml')\n",
    "title = bs.select_one('#gnbContent > div > ul > li.on > a > span').text\n",
    "title\n",
    "\n",
    "#'홈'이 나오니까 난 '정치'를 보고싶은데 copy selector로 가져오자 \n",
    "#gnbContent > div > ul > li.on > a > span\n",
    "#select_one 으로 뽑기 \n"
   ]
  },
  {
   "cell_type": "code",
   "execution_count": 28,
   "id": "454e62d7",
   "metadata": {},
   "outputs": [
    {
     "ename": "TypeError",
     "evalue": "'NoneType' object is not subscriptable",
     "output_type": "error",
     "traceback": [
      "\u001b[1;31m---------------------------------------------------------------------------\u001b[0m",
      "\u001b[1;31mTypeError\u001b[0m                                 Traceback (most recent call last)",
      "Input \u001b[1;32mIn [28]\u001b[0m, in \u001b[0;36m<cell line: 9>\u001b[1;34m()\u001b[0m\n\u001b[0;32m      7\u001b[0m bs \u001b[38;5;241m=\u001b[39m BeautifulSoup(html, \u001b[38;5;124m'\u001b[39m\u001b[38;5;124mlxml\u001b[39m\u001b[38;5;124m'\u001b[39m) \n\u001b[0;32m      8\u001b[0m bs \n\u001b[1;32m----> 9\u001b[0m title \u001b[38;5;241m=\u001b[39m \u001b[43mbs\u001b[49m\u001b[38;5;241;43m.\u001b[39;49m\u001b[43mselect_one\u001b[49m\u001b[43m(\u001b[49m\u001b[38;5;124;43m'\u001b[39;49m\u001b[38;5;124;43m#flick0 > li.item1 > div.obj_off.tab4 > a > img\u001b[39;49m\u001b[38;5;124;43m'\u001b[39;49m\u001b[43m)\u001b[49m\u001b[43m[\u001b[49m\u001b[38;5;124;43m'\u001b[39;49m\u001b[38;5;124;43malt\u001b[39;49m\u001b[38;5;124;43m'\u001b[39;49m\u001b[43m]\u001b[49m\n\u001b[0;32m     10\u001b[0m title\n",
      "\u001b[1;31mTypeError\u001b[0m: 'NoneType' object is not subscriptable"
     ]
    }
   ],
   "source": [
    "# https://yensr.tistory.com/14  -> 여기서는 내 방법대로 alt로 뽑던데 .. \n",
    "\n",
    "from bs4 import BeautifulSoup\n",
    "import requests as rq\n",
    "\n",
    "url = 'https://movie.naver.com/'\n",
    "html = rq.get(url)\n",
    "html = html.text \n",
    "bs = BeautifulSoup(html, 'lxml') \n",
    "bs \n",
    "title = bs.select_one('#flick0 > li.item1 > div.obj_off.tab4 > a > img')['alt']\n",
    "title"
   ]
  },
  {
   "cell_type": "code",
   "execution_count": 62,
   "id": "cc20967f",
   "metadata": {},
   "outputs": [
    {
     "name": "stdout",
     "output_type": "stream",
     "text": [
      "외계+인 1부\n"
     ]
    }
   ],
   "source": [
    "from bs4 import BeautifulSoup\n",
    "import requests as rq\n",
    "\n",
    "url = 'https://movie.naver.com/movie/sdb/rank/rmovie.naver'\n",
    "html = rq.get(url)\n",
    "html = html.text \n",
    "bs = BeautifulSoup(html)\n",
    "\n",
    "title = bs.select_one('#old_content > table > tbody > tr:nth-child(2) > td.title > div > a').text\n",
    "print(title)"
   ]
  },
  {
   "cell_type": "code",
   "execution_count": 63,
   "id": "3aa09df7",
   "metadata": {},
   "outputs": [
    {
     "name": "stdout",
     "output_type": "stream",
     "text": [
      "\n",
      "외계+인 1부\n",
      "\n"
     ]
    }
   ],
   "source": [
    "# Q. 네이버 영화 랭킹 가져와서 첫번째 영화제목을 출력하세요\n",
    "from bs4 import BeautifulSoup\n",
    "import requests as rq\n",
    "\n",
    "url = 'https://movie.naver.com/movie/sdb/rank/rmovie.naver'\n",
    "html = rq.get(url)\n",
    "html = html.text\n",
    "\n",
    "bs = BeautifulSoup(html,'lxml')\n",
    "title = bs.find_all('div',class_='tit3')\n",
    "# for t in title:\n",
    "#     print(t.text)\n",
    "print(title[0].text)\n"
   ]
  },
  {
   "cell_type": "markdown",
   "id": "c3196869",
   "metadata": {},
   "source": [
    "#### 과제0726_1\n",
    "네이버 영화 랭킹 가져와서 조회순 전체 영화제목을 출력하세요 출력방식 ex(1위: 외계인+ 1부)"
   ]
  },
  {
   "cell_type": "code",
   "execution_count": 64,
   "id": "39426b58",
   "metadata": {},
   "outputs": [
    {
     "name": "stdout",
     "output_type": "stream",
     "text": [
      "1위: 외계+인 1부\n",
      "2위: 탑건: 매버릭\n",
      "3위: 한산: 용의 출현\n",
      "4위: 헤어질 결심\n",
      "5위: 범죄도시2\n",
      "6위: 그레이 맨\n",
      "7위: 토르: 러브 앤 썬더\n",
      "8위: 미니언즈2\n",
      "9위: 마녀(魔女) Part2. The Other One\n",
      "10위: 비상선언\n",
      "11위: 더 킬러: 죽어도 되는 아이\n",
      "12위: 명탐정 코난: 할로윈의 신부\n",
      "13위: 엘비스\n",
      "14위: 뒤틀린 집\n",
      "15위: 헌트\n",
      "16위: 썸머 필름을 타고!\n",
      "17위: 아이를 위한 아이\n",
      "18위: 멘\n",
      "19위: 브로커\n",
      "20위: 놉\n",
      "21위: 쥬라기 월드: 도미니언\n",
      "22위: 뽀로로 극장판 드래곤캐슬 대모험\n",
      "23위: 메모리\n",
      "24위: 닥터 스트레인지: 대혼돈의 멀티버스\n",
      "25위: 임파서블 러브\n",
      "26위: 범죄도시\n",
      "27위: 핸썸\n",
      "28위: 오싹한 동거\n",
      "29위: 스파이형 모델\n",
      "30위: 굿 럭 투 유, 리오 그랜드\n",
      "31위: 극장판 주술회전 0\n",
      "32위: 로스트 도터\n",
      "33위: 섹스 앤 퓨리\n",
      "34위: 탑건\n",
      "35위: 군다\n",
      "36위: 명량\n",
      "37위: 버즈 라이트이어\n",
      "38위: 큐어\n",
      "39위: 니얼굴\n",
      "40위: VR 파이터\n",
      "41위: 리미트\n",
      "42위: 특송\n",
      "43위: 불릿 트레인\n",
      "44위: 마녀\n",
      "45위: 귀멸의 칼날: 아사쿠사 편\n",
      "46위: 보스 베이비 2\n",
      "47위: 감동주의보\n",
      "48위: DC 리그 오브 슈퍼-펫\n",
      "49위: 클라우스\n",
      "50위: 극장판 도라에몽: 진구의 우주소전쟁 리틀스타워즈 2021\n"
     ]
    }
   ],
   "source": [
    "import urllib.request as req\n",
    "from bs4 import BeautifulSoup\n",
    "\n",
    "url = 'https://movie.naver.com/movie/sdb/rank/rmovie.naver'\n",
    "res = req.urlopen(url)\n",
    "bs = BeautifulSoup(res, 'html.parser')\n",
    "text = bs.select('#old_content > table > tbody > tr > td> div > a')\n",
    "\n",
    "\n",
    "for i, m in enumerate(text):\n",
    "    print(f'{i + 1}위: {m.text}') #근데 보이는 순서대로 안나온다고 하셨는데 왜 보이는 순서대로 나오지 "
   ]
  },
  {
   "cell_type": "code",
   "execution_count": 65,
   "id": "2277268e",
   "metadata": {},
   "outputs": [
    {
     "name": "stdout",
     "output_type": "stream",
     "text": [
      "https://example.com/fuga\n",
      "https://example.com/foo\n"
     ]
    }
   ],
   "source": [
    "# http://example.com/aaa 이렇게만 출력할 것\n",
    "import re\n",
    "\n",
    "html = \"\"\"\n",
    "<ul>\n",
    "  <li><a href=\"hoge.html\">hoge</li>\n",
    "  <li><a href=\"https://example.com/fuga\">fuga*</li>\n",
    "  <li><a href=\"https://example.com/foo\">foo*</li>\n",
    "  <li><a href=\"http://example.com/aaa\">aaa</li>\n",
    "</ul>\n",
    "\"\"\"\n",
    "\n",
    "bs = BeautifulSoup(html, 'html.parser')\n",
    "li = bs.find_all(href = re.compile('^https://')) #여기서 ^는 시작의 의미\n",
    "\n",
    "for e in li:\n",
    "    print(e.attrs['href']) #맨끝에가 안나온 이유는 맨끝에 주소는 http임 그냥 "
   ]
  },
  {
   "cell_type": "markdown",
   "id": "d2144b85",
   "metadata": {},
   "source": [
    "### CSS 선택자\n",
    "- 원하는 정보만 선별하여 수집하고 싶을 때 css선택자를 활용할 수 있음\n",
    "- (CSS 선택자 설명 추가)\n",
    "- F12 >> 수집하고 싶은 부분 클릭 >> 태그 선택 >> copy Selector\n",
    "- BeautifulSoup의 select_one, select 활용\n"
   ]
  },
  {
   "cell_type": "code",
   "execution_count": 66,
   "id": "2388119a",
   "metadata": {},
   "outputs": [],
   "source": [
    "import requests as rq\n",
    "from bs4 import BeautifulSoup\n",
    "\n",
    "url = 'https://news.daum.net/politics#1/'\n",
    "r = rq.get(url)\n",
    "html = r.text\n",
    "bs = BeautifulSoup(html,'lxml')\n",
    "#select 하려면 선택자 뒤에 붙은 긴 것들을 지워야함 \n",
    "lines = bs.select('body > div > main > section > div > div > ul > li > strong > a')"
   ]
  },
  {
   "cell_type": "code",
   "execution_count": 67,
   "id": "fe719c3c",
   "metadata": {
    "scrolled": false
   },
   "outputs": [
    {
     "name": "stdout",
     "output_type": "stream",
     "text": [
      "[시선집중] 김용태 \"이준석, 피땀 갈아 대선 도왔는데.. 싫어했다는 소문 방증\"\n",
      "의원 40여명 집결 김기현의 새미래..\"文정부, 말로만 인권\"\n",
      "최재형 \"대선·지선 승리는 文정부 덕분..당 혁신해야 총선 승리\"[만났습니다①]\n",
      "[뉴스라이더] 尹 \"내부 총질이나 하던 당 대표\" 파장..이준석은 '침묵'\n",
      "\"감사원은 항상 외풍 있어..스스로 중립 지키는 게 중요\"[만났습니다②]\n",
      "최형두 \"尹-권성동 문자? 억측 말라..이준석과는 원팀\" [한판승부]\n",
      "\"윤핵관 끊임없는 소란 야기\" 국민의힘 당원 게시판 부글부글\n",
      "박용진 \"내부총질 문자 尹, 이준석 떠도니 이제 속편한가?\" [한판승부]\n",
      "'내부총질 대표' 尹 메시지 일파만파..與 당권경쟁 부추길까\n",
      "'거침없는' 한동훈, 실명 브리핑..\"前 정부 때 '흘리기' 없었나\"\n"
     ]
    }
   ],
   "source": [
    "body = '\\n'.join([line.text for line in lines])\n",
    "print(body) #순서는 홈페이지에 보이는대로 안 나옴 "
   ]
  },
  {
   "cell_type": "code",
   "execution_count": 68,
   "id": "b31e0b6f",
   "metadata": {},
   "outputs": [
    {
     "data": {
      "text/plain": [
       "'[시선집중] 김용태 \"이준석, 피땀 갈아 대선 도왔는데.. 싫어했다는 소문 방증\"'"
      ]
     },
     "execution_count": 68,
     "metadata": {},
     "output_type": "execute_result"
    }
   ],
   "source": [
    "import requests as rq\n",
    "from bs4 import BeautifulSoup\n",
    "\n",
    "url = 'https://news.daum.net/politics#1/'\n",
    "r = rq.get(url)\n",
    "html = r.text\n",
    "bs = BeautifulSoup(html,'lxml')\n",
    "line = bs.select_one('body > div.container-doc.cont-category > main > section > div.main-sub > div.box_g.box_news_major > ul > li:nth-child(1) > strong > a')\n",
    "line.text"
   ]
  },
  {
   "cell_type": "code",
   "execution_count": 69,
   "id": "c98b713d",
   "metadata": {},
   "outputs": [
    {
     "name": "stdout",
     "output_type": "stream",
     "text": [
      "\n",
      "            교무실 ※ 기사와 직접 관계가 없습니다. [연합뉴스TV 화면 캡처]\n",
      "           \n",
      "(광주=연합뉴스) 박철홍 정회성 기자 = 모두가 잠든 늦은 밤, 검은 그림자 2명이 광주 대동고등학교에 나타났다.\n",
      "4층까지 계단을 걸어 올라간 그림자들은 건물 외벽 난간을 위태롭게 타고 가며 건물 4층 교무실로 향해 다가갔다.\n",
      "잠겨 있지 않은 교무실 외벽 창문에 다다르자 그들은 몸을 들이밀어 조용하고 신속하게 내부로 침입했다. \n",
      "이윽고 어둠 속에서 교무실 내 교사들의 노트북이 환한 불빛을 내고 하나씩 켜졌다. \n",
      "검은 그림자는 컴퓨터에 USB 저장장치를 꽂았고, 실행 버튼을 누르자 정체를 알 수 없는 프로그램이 교사들의 컴퓨터에 차례대로 심어지고, 곧바로 흔적을 감췄다.\n",
      "다른 한 명은 교무실 입구에 서서 누가 오는지 망을 봤다. \n",
      "2명의 그림자는 사나흘 뒤 다시 교무실에 등장했다. \n",
      "이들은 이번에도 교사들의 노트북을 차례로 켜고 USB를 꽂았다. \n",
      "그러나 이번에는 프로그램이 설치되는 대신, 컴퓨터 안에 저장된 무수히 많은 화면 갈무리(캡처) 파일이 USB 안으로 옮겨졌다. \n",
      "광주 대동고등학교에서 지난 11~13일 치러진 2학년 1학기 기말고사에서 답안 유출 의혹이 제기돼 경찰이 수사를 진행하고 있다.\n",
      "A군이 지구과학, 한국사, 수학 Ⅱ, 생명과학 등 4과목에서 만점을 받았다가, 이후 답안이 정정되면서 지구과학과 수학Ⅱ 각 100점, 한국사 93점, 생명과학 86점을 받았다.\n",
      "A군은 기말고사 당시 4과목 시험지 모퉁이에 작은 글씨로 답을 적고, 시험시간 끝날 때마다 답안을 적은 부분을 찢어 쓰레기통에 버렸다.\n",
      "같은 반 친구들은 A군의 이 같은 행동을 목격하고, 그가 버린 종이를 쓰레기통을 뒤져 다시 이어 붙였다.\n",
      "이어 붙은 종이에는 정답과 일치한 답안이 선명하게 적혀있었다.\n",
      "동급생들은 이 같은 사실을 부모에게 알렸고, 일부 학부모가 이를 광주시 교육청에 신고하면서 답안 유출 의혹이 수면 위로 드러나게 됐다.\n",
      "            '비뚤어진 성적 욕심' 악성코드 심어 시험문제 빼낸 고교생들(CG) ※ 기사와 직접 관계가 없습니다. [연합뉴스TV 제공]\n",
      "           \n",
      "경찰은 서둘러 A군의 컴퓨터를 압수해 분석하고, A군을 소환 조사했다.\n",
      "A군의 입에서는 친구 B군과 함께 시험 전 교무실에 숨어 들어가 교사들의 노트북에 악성코드를 심었다는 충격적인 자백이 쏟아졌다.\n",
      "이들이 직접 만든 악성코드는 일정 시간마다 컴퓨터 화면을 갈무리해 컴퓨터 내에 저장하는 프로그램이었다.\n",
      "코딩 등 프로그래밍을 능숙하게 하는 B군이 시중에 나도는 악성코드를 직접 수정해 컴퓨터 화면을 일정 시간 간격으로 캡처해 저장하는 악성코드를 만들었다. \n",
      "교사들이 시험문제를 각자의 노트북으로 출제한다는 것을 알고 시험 문제 출제 시기에 악성코드를 교무실에 몰래 침입해 심었다.\n",
      "그리고 며칠 뒤 각 교사 노트북 깊숙한 곳에 저장된 캡처 파일을 다시 빼내 시험 문제와 답안을 미리 알 수 있었던 것으로 경찰은 보고 있다.\n",
      "경찰이 교사들의 노트북을 확인했더니 B군이 심은 악성코드는 아직도 그대로 남아있었다.\n",
      "답안을 외우지 못해 적어가 흔적이 친구들에게 발견된 A군과 달리 B군은 답안을 모두 외워가 시험을 치렀다. \n",
      "해당 학교에서는 4년 전에도 시험지가 통째로 유출되는 사건이 발생해 행정실장과 학부모가 구속된 전력이 있는 곳이다.\n",
      "이후 재발 방지 약속도 있었지만, 시험문제가 출제되는 교무실 창문 등의 잠금장치는 허술했고 보안경보는 울리지 않았다.\n",
      "미완성 시험문제가 담긴 노트북은 교사들이 퇴근한 교무실 책상에 그대로 놓여있었다.\n",
      "경찰은 시험문제를 유출한 학생 2명을 건조물침입, 업무방해 등 혐의로 일단 불구속 입건해 자백을 토대로 정확한 사건 경위를 추가 확인하고 있다.\n",
      "또 시험 문제를 유출한 4과목 외에도 다른 과목 시험 문제와 답안도 빼내려 시도했는지 확인하고 있다. \n",
      "이들 학생에게는 악성 코드를 만들고 심은 행위에 대해 향후 정보통신망법 위반 혐의 적용도 검토될 전망이다.\n",
      "평소에도 준수한 성적을 기록했던 이들 학생은 경찰 조사에서 \"공부를 더 잘하고 싶어서 그랬다\"고 진술했다.\n",
      "            악성코드 [연합뉴스TV 제공]\n",
      "           \n",
      "pch80@yna.co.kr\n",
      "▶제보는 카톡 okjebo\n",
      "\n"
     ]
    }
   ],
   "source": [
    "# 기사 본문 가져오기\n",
    "from bs4 import BeautifulSoup\n",
    "import requests as rq\n",
    "\n",
    "url = 'https://news.v.daum.net/v/20220726165351116'\n",
    "r = rq.get(url)\n",
    "html = r.text\n",
    "soup = BeautifulSoup(html, 'lxml')\n",
    "lines = soup.select('#harmonyContainer > section')  #harmonyContainer > section\n",
    "article = [line.text for line in lines]\n",
    "article = ' '.join(article)\n",
    "\n",
    "print(re.sub('\\n{2,}','\\n',article))"
   ]
  },
  {
   "cell_type": "code",
   "execution_count": 70,
   "id": "ecdba811",
   "metadata": {},
   "outputs": [
    {
     "name": "stdout",
     "output_type": "stream",
     "text": [
      " 교무실 ※ 기사와 직접 관계가 없습니다. [연합뉴스TV 화면 캡처] (광주=연합뉴스) 박철홍 정회성 기자 = 모두가 잠든 늦은 밤, 검은 그림자 2명이 광주 대동고등학교에 나타났다. 4층까지 계단을 걸어 올라간 그림자들은 건물 외벽 난간을 위태롭게 타고 가며 건물 4층 교무실로 향해 다가갔다. 잠겨 있지 않은 교무실 외벽 창문에 다다르자 그들은 몸을 들이밀어 조용하고 신속하게 내부로 침입했다. 이윽고 어둠 속에서 교무실 내 교사들의 노트북이 환한 불빛을 내고 하나씩 켜졌다. 검은 그림자는 컴퓨터에 USB 저장장치를 꽂았고, 실행 버튼을 누르자 정체를 알 수 없는 프로그램이 교사들의 컴퓨터에 차례대로 심어지고, 곧바로 흔적을 감췄다. 다른 한 명은 교무실 입구에 서서 누가 오는지 망을 봤다. 2명의 그림자는 사나흘 뒤 다시 교무실에 등장했다. 이들은 이번에도 교사들의 노트북을 차례로 켜고 USB를 꽂았다. 그러나 이번에는 프로그램이 설치되는 대신, 컴퓨터 안에 저장된 무수히 많은 화면 갈무리(캡처) 파일이 USB 안으로 옮겨졌다. 광주 대동고등학교에서 지난 11~13일 치러진 2학년 1학기 기말고사에서 답안 유출 의혹이 제기돼 경찰이 수사를 진행하고 있다. A군이 지구과학, 한국사, 수학 Ⅱ, 생명과학 등 4과목에서 만점을 받았다가, 이후 답안이 정정되면서 지구과학과 수학Ⅱ 각 100점, 한국사 93점, 생명과학 86점을 받았다. A군은 기말고사 당시 4과목 시험지 모퉁이에 작은 글씨로 답을 적고, 시험시간 끝날 때마다 답안을 적은 부분을 찢어 쓰레기통에 버렸다. 같은 반 친구들은 A군의 이 같은 행동을 목격하고, 그가 버린 종이를 쓰레기통을 뒤져 다시 이어 붙였다. 이어 붙은 종이에는 정답과 일치한 답안이 선명하게 적혀있었다. 동급생들은 이 같은 사실을 부모에게 알렸고, 일부 학부모가 이를 광주시 교육청에 신고하면서 답안 유출 의혹이 수면 위로 드러나게 됐다. '비뚤어진 성적 욕심' 악성코드 심어 시험문제 빼낸 고교생들(CG) ※ 기사와 직접 관계가 없습니다. [연합뉴스TV 제공] 경찰은 서둘러 A군의 컴퓨터를 압수해 분석하고, A군을 소환 조사했다. A군의 입에서는 친구 B군과 함께 시험 전 교무실에 숨어 들어가 교사들의 노트북에 악성코드를 심었다는 충격적인 자백이 쏟아졌다. 이들이 직접 만든 악성코드는 일정 시간마다 컴퓨터 화면을 갈무리해 컴퓨터 내에 저장하는 프로그램이었다. 코딩 등 프로그래밍을 능숙하게 하는 B군이 시중에 나도는 악성코드를 직접 수정해 컴퓨터 화면을 일정 시간 간격으로 캡처해 저장하는 악성코드를 만들었다. 교사들이 시험문제를 각자의 노트북으로 출제한다는 것을 알고 시험 문제 출제 시기에 악성코드를 교무실에 몰래 침입해 심었다. 그리고 며칠 뒤 각 교사 노트북 깊숙한 곳에 저장된 캡처 파일을 다시 빼내 시험 문제와 답안을 미리 알 수 있었던 것으로 경찰은 보고 있다. 경찰이 교사들의 노트북을 확인했더니 B군이 심은 악성코드는 아직도 그대로 남아있었다. 답안을 외우지 못해 적어가 흔적이 친구들에게 발견된 A군과 달리 B군은 답안을 모두 외워가 시험을 치렀다. 해당 학교에서는 4년 전에도 시험지가 통째로 유출되는 사건이 발생해 행정실장과 학부모가 구속된 전력이 있는 곳이다. 이후 재발 방지 약속도 있었지만, 시험문제가 출제되는 교무실 창문 등의 잠금장치는 허술했고 보안경보는 울리지 않았다. 미완성 시험문제가 담긴 노트북은 교사들이 퇴근한 교무실 책상에 그대로 놓여있었다. 경찰은 시험문제를 유출한 학생 2명을 건조물침입, 업무방해 등 혐의로 일단 불구속 입건해 자백을 토대로 정확한 사건 경위를 추가 확인하고 있다. 또 시험 문제를 유출한 4과목 외에도 다른 과목 시험 문제와 답안도 빼내려 시도했는지 확인하고 있다. 이들 학생에게는 악성 코드를 만들고 심은 행위에 대해 향후 정보통신망법 위반 혐의 적용도 검토될 전망이다. 평소에도 준수한 성적을 기록했던 이들 학생은 경찰 조사에서 \"공부를 더 잘하고 싶어서 그랬다\"고 진술했다. 악성코드 [연합뉴스TV 제공] pch80@yna.co.kr ▶제보는 카톡 okjebo \n"
     ]
    }
   ],
   "source": [
    "#다른 방법 \n",
    "import requests as rq\n",
    "from bs4 import BeautifulSoup\n",
    "\n",
    "url = 'https://news.v.daum.net/v/20220726165351116'\n",
    "r = rq.get(url)\n",
    "html = r.text\n",
    "bs = BeautifulSoup(html, 'lxml')\n",
    "lines = bs.select_one('#harmonyContainer > section').text\n",
    "line = re.sub('\\n', ' ', lines)\n",
    "line = re.sub('\\s+', ' ', line)\n",
    "print(line)\n"
   ]
  },
  {
   "cell_type": "markdown",
   "id": "a30ec493",
   "metadata": {},
   "source": [
    "#### 크롤링) 접속 차단되었을때 User-Agent지정(header)\n",
    "--> 서버가 접근자를 봇으로 인지하고 정보를 주지 않고 차단할 경우, header에 자신의 정보를 직접 전송한다.(https://www.whatismybrowser.com/detect/what-is-my-user-agent/)\n",
    "- 참고 자료 :https://m.blog.naver.com/PostView.naver?isHttpsRedirect=true&blogId=kiddwannabe&logNo=221185808375\n"
   ]
  },
  {
   "cell_type": "code",
   "execution_count": 71,
   "id": "b484d744",
   "metadata": {},
   "outputs": [
    {
     "ename": "ConnectionError",
     "evalue": "('Connection aborted.', ConnectionResetError(10054, '현재 연결은 원격 호스트에 의해 강제로 끊겼습니다', None, 10054, None))",
     "output_type": "error",
     "traceback": [
      "\u001b[1;31m---------------------------------------------------------------------------\u001b[0m",
      "\u001b[1;31mConnectionResetError\u001b[0m                      Traceback (most recent call last)",
      "File \u001b[1;32m~\\anaconda3\\envs\\cakd7\\lib\\site-packages\\urllib3\\connectionpool.py:703\u001b[0m, in \u001b[0;36mHTTPConnectionPool.urlopen\u001b[1;34m(self, method, url, body, headers, retries, redirect, assert_same_host, timeout, pool_timeout, release_conn, chunked, body_pos, **response_kw)\u001b[0m\n\u001b[0;32m    702\u001b[0m \u001b[38;5;66;03m# Make the request on the httplib connection object.\u001b[39;00m\n\u001b[1;32m--> 703\u001b[0m httplib_response \u001b[38;5;241m=\u001b[39m \u001b[38;5;28;43mself\u001b[39;49m\u001b[38;5;241;43m.\u001b[39;49m\u001b[43m_make_request\u001b[49m\u001b[43m(\u001b[49m\n\u001b[0;32m    704\u001b[0m \u001b[43m    \u001b[49m\u001b[43mconn\u001b[49m\u001b[43m,\u001b[49m\n\u001b[0;32m    705\u001b[0m \u001b[43m    \u001b[49m\u001b[43mmethod\u001b[49m\u001b[43m,\u001b[49m\n\u001b[0;32m    706\u001b[0m \u001b[43m    \u001b[49m\u001b[43murl\u001b[49m\u001b[43m,\u001b[49m\n\u001b[0;32m    707\u001b[0m \u001b[43m    \u001b[49m\u001b[43mtimeout\u001b[49m\u001b[38;5;241;43m=\u001b[39;49m\u001b[43mtimeout_obj\u001b[49m\u001b[43m,\u001b[49m\n\u001b[0;32m    708\u001b[0m \u001b[43m    \u001b[49m\u001b[43mbody\u001b[49m\u001b[38;5;241;43m=\u001b[39;49m\u001b[43mbody\u001b[49m\u001b[43m,\u001b[49m\n\u001b[0;32m    709\u001b[0m \u001b[43m    \u001b[49m\u001b[43mheaders\u001b[49m\u001b[38;5;241;43m=\u001b[39;49m\u001b[43mheaders\u001b[49m\u001b[43m,\u001b[49m\n\u001b[0;32m    710\u001b[0m \u001b[43m    \u001b[49m\u001b[43mchunked\u001b[49m\u001b[38;5;241;43m=\u001b[39;49m\u001b[43mchunked\u001b[49m\u001b[43m,\u001b[49m\n\u001b[0;32m    711\u001b[0m \u001b[43m\u001b[49m\u001b[43m)\u001b[49m\n\u001b[0;32m    713\u001b[0m \u001b[38;5;66;03m# If we're going to release the connection in ``finally:``, then\u001b[39;00m\n\u001b[0;32m    714\u001b[0m \u001b[38;5;66;03m# the response doesn't need to know about the connection. Otherwise\u001b[39;00m\n\u001b[0;32m    715\u001b[0m \u001b[38;5;66;03m# it will also try to release it and we'll have a double-release\u001b[39;00m\n\u001b[0;32m    716\u001b[0m \u001b[38;5;66;03m# mess.\u001b[39;00m\n",
      "File \u001b[1;32m~\\anaconda3\\envs\\cakd7\\lib\\site-packages\\urllib3\\connectionpool.py:449\u001b[0m, in \u001b[0;36mHTTPConnectionPool._make_request\u001b[1;34m(self, conn, method, url, timeout, chunked, **httplib_request_kw)\u001b[0m\n\u001b[0;32m    445\u001b[0m         \u001b[38;5;28;01mexcept\u001b[39;00m \u001b[38;5;167;01mBaseException\u001b[39;00m \u001b[38;5;28;01mas\u001b[39;00m e:\n\u001b[0;32m    446\u001b[0m             \u001b[38;5;66;03m# Remove the TypeError from the exception chain in\u001b[39;00m\n\u001b[0;32m    447\u001b[0m             \u001b[38;5;66;03m# Python 3 (including for exceptions like SystemExit).\u001b[39;00m\n\u001b[0;32m    448\u001b[0m             \u001b[38;5;66;03m# Otherwise it looks like a bug in the code.\u001b[39;00m\n\u001b[1;32m--> 449\u001b[0m             \u001b[43msix\u001b[49m\u001b[38;5;241;43m.\u001b[39;49m\u001b[43mraise_from\u001b[49m\u001b[43m(\u001b[49m\u001b[43me\u001b[49m\u001b[43m,\u001b[49m\u001b[43m \u001b[49m\u001b[38;5;28;43;01mNone\u001b[39;49;00m\u001b[43m)\u001b[49m\n\u001b[0;32m    450\u001b[0m \u001b[38;5;28;01mexcept\u001b[39;00m (SocketTimeout, BaseSSLError, SocketError) \u001b[38;5;28;01mas\u001b[39;00m e:\n",
      "File \u001b[1;32m<string>:3\u001b[0m, in \u001b[0;36mraise_from\u001b[1;34m(value, from_value)\u001b[0m\n",
      "File \u001b[1;32m~\\anaconda3\\envs\\cakd7\\lib\\site-packages\\urllib3\\connectionpool.py:444\u001b[0m, in \u001b[0;36mHTTPConnectionPool._make_request\u001b[1;34m(self, conn, method, url, timeout, chunked, **httplib_request_kw)\u001b[0m\n\u001b[0;32m    443\u001b[0m \u001b[38;5;28;01mtry\u001b[39;00m:\n\u001b[1;32m--> 444\u001b[0m     httplib_response \u001b[38;5;241m=\u001b[39m \u001b[43mconn\u001b[49m\u001b[38;5;241;43m.\u001b[39;49m\u001b[43mgetresponse\u001b[49m\u001b[43m(\u001b[49m\u001b[43m)\u001b[49m\n\u001b[0;32m    445\u001b[0m \u001b[38;5;28;01mexcept\u001b[39;00m \u001b[38;5;167;01mBaseException\u001b[39;00m \u001b[38;5;28;01mas\u001b[39;00m e:\n\u001b[0;32m    446\u001b[0m     \u001b[38;5;66;03m# Remove the TypeError from the exception chain in\u001b[39;00m\n\u001b[0;32m    447\u001b[0m     \u001b[38;5;66;03m# Python 3 (including for exceptions like SystemExit).\u001b[39;00m\n\u001b[0;32m    448\u001b[0m     \u001b[38;5;66;03m# Otherwise it looks like a bug in the code.\u001b[39;00m\n",
      "File \u001b[1;32m~\\anaconda3\\envs\\cakd7\\lib\\http\\client.py:1348\u001b[0m, in \u001b[0;36mHTTPConnection.getresponse\u001b[1;34m(self)\u001b[0m\n\u001b[0;32m   1347\u001b[0m \u001b[38;5;28;01mtry\u001b[39;00m:\n\u001b[1;32m-> 1348\u001b[0m     \u001b[43mresponse\u001b[49m\u001b[38;5;241;43m.\u001b[39;49m\u001b[43mbegin\u001b[49m\u001b[43m(\u001b[49m\u001b[43m)\u001b[49m\n\u001b[0;32m   1349\u001b[0m \u001b[38;5;28;01mexcept\u001b[39;00m \u001b[38;5;167;01mConnectionError\u001b[39;00m:\n",
      "File \u001b[1;32m~\\anaconda3\\envs\\cakd7\\lib\\http\\client.py:316\u001b[0m, in \u001b[0;36mHTTPResponse.begin\u001b[1;34m(self)\u001b[0m\n\u001b[0;32m    315\u001b[0m \u001b[38;5;28;01mwhile\u001b[39;00m \u001b[38;5;28;01mTrue\u001b[39;00m:\n\u001b[1;32m--> 316\u001b[0m     version, status, reason \u001b[38;5;241m=\u001b[39m \u001b[38;5;28;43mself\u001b[39;49m\u001b[38;5;241;43m.\u001b[39;49m\u001b[43m_read_status\u001b[49m\u001b[43m(\u001b[49m\u001b[43m)\u001b[49m\n\u001b[0;32m    317\u001b[0m     \u001b[38;5;28;01mif\u001b[39;00m status \u001b[38;5;241m!=\u001b[39m CONTINUE:\n",
      "File \u001b[1;32m~\\anaconda3\\envs\\cakd7\\lib\\http\\client.py:277\u001b[0m, in \u001b[0;36mHTTPResponse._read_status\u001b[1;34m(self)\u001b[0m\n\u001b[0;32m    276\u001b[0m \u001b[38;5;28;01mdef\u001b[39;00m \u001b[38;5;21m_read_status\u001b[39m(\u001b[38;5;28mself\u001b[39m):\n\u001b[1;32m--> 277\u001b[0m     line \u001b[38;5;241m=\u001b[39m \u001b[38;5;28mstr\u001b[39m(\u001b[38;5;28;43mself\u001b[39;49m\u001b[38;5;241;43m.\u001b[39;49m\u001b[43mfp\u001b[49m\u001b[38;5;241;43m.\u001b[39;49m\u001b[43mreadline\u001b[49m\u001b[43m(\u001b[49m\u001b[43m_MAXLINE\u001b[49m\u001b[43m \u001b[49m\u001b[38;5;241;43m+\u001b[39;49m\u001b[43m \u001b[49m\u001b[38;5;241;43m1\u001b[39;49m\u001b[43m)\u001b[49m, \u001b[38;5;124m\"\u001b[39m\u001b[38;5;124miso-8859-1\u001b[39m\u001b[38;5;124m\"\u001b[39m)\n\u001b[0;32m    278\u001b[0m     \u001b[38;5;28;01mif\u001b[39;00m \u001b[38;5;28mlen\u001b[39m(line) \u001b[38;5;241m>\u001b[39m _MAXLINE:\n",
      "File \u001b[1;32m~\\anaconda3\\envs\\cakd7\\lib\\socket.py:669\u001b[0m, in \u001b[0;36mSocketIO.readinto\u001b[1;34m(self, b)\u001b[0m\n\u001b[0;32m    668\u001b[0m \u001b[38;5;28;01mtry\u001b[39;00m:\n\u001b[1;32m--> 669\u001b[0m     \u001b[38;5;28;01mreturn\u001b[39;00m \u001b[38;5;28;43mself\u001b[39;49m\u001b[38;5;241;43m.\u001b[39;49m\u001b[43m_sock\u001b[49m\u001b[38;5;241;43m.\u001b[39;49m\u001b[43mrecv_into\u001b[49m\u001b[43m(\u001b[49m\u001b[43mb\u001b[49m\u001b[43m)\u001b[49m\n\u001b[0;32m    670\u001b[0m \u001b[38;5;28;01mexcept\u001b[39;00m timeout:\n",
      "File \u001b[1;32m~\\anaconda3\\envs\\cakd7\\lib\\ssl.py:1241\u001b[0m, in \u001b[0;36mSSLSocket.recv_into\u001b[1;34m(self, buffer, nbytes, flags)\u001b[0m\n\u001b[0;32m   1238\u001b[0m         \u001b[38;5;28;01mraise\u001b[39;00m \u001b[38;5;167;01mValueError\u001b[39;00m(\n\u001b[0;32m   1239\u001b[0m           \u001b[38;5;124m\"\u001b[39m\u001b[38;5;124mnon-zero flags not allowed in calls to recv_into() on \u001b[39m\u001b[38;5;132;01m%s\u001b[39;00m\u001b[38;5;124m\"\u001b[39m \u001b[38;5;241m%\u001b[39m\n\u001b[0;32m   1240\u001b[0m           \u001b[38;5;28mself\u001b[39m\u001b[38;5;241m.\u001b[39m\u001b[38;5;18m__class__\u001b[39m)\n\u001b[1;32m-> 1241\u001b[0m     \u001b[38;5;28;01mreturn\u001b[39;00m \u001b[38;5;28;43mself\u001b[39;49m\u001b[38;5;241;43m.\u001b[39;49m\u001b[43mread\u001b[49m\u001b[43m(\u001b[49m\u001b[43mnbytes\u001b[49m\u001b[43m,\u001b[49m\u001b[43m \u001b[49m\u001b[43mbuffer\u001b[49m\u001b[43m)\u001b[49m\n\u001b[0;32m   1242\u001b[0m \u001b[38;5;28;01melse\u001b[39;00m:\n",
      "File \u001b[1;32m~\\anaconda3\\envs\\cakd7\\lib\\ssl.py:1099\u001b[0m, in \u001b[0;36mSSLSocket.read\u001b[1;34m(self, len, buffer)\u001b[0m\n\u001b[0;32m   1098\u001b[0m \u001b[38;5;28;01mif\u001b[39;00m buffer \u001b[38;5;129;01mis\u001b[39;00m \u001b[38;5;129;01mnot\u001b[39;00m \u001b[38;5;28;01mNone\u001b[39;00m:\n\u001b[1;32m-> 1099\u001b[0m     \u001b[38;5;28;01mreturn\u001b[39;00m \u001b[38;5;28;43mself\u001b[39;49m\u001b[38;5;241;43m.\u001b[39;49m\u001b[43m_sslobj\u001b[49m\u001b[38;5;241;43m.\u001b[39;49m\u001b[43mread\u001b[49m\u001b[43m(\u001b[49m\u001b[38;5;28;43mlen\u001b[39;49m\u001b[43m,\u001b[49m\u001b[43m \u001b[49m\u001b[43mbuffer\u001b[49m\u001b[43m)\u001b[49m\n\u001b[0;32m   1100\u001b[0m \u001b[38;5;28;01melse\u001b[39;00m:\n",
      "\u001b[1;31mConnectionResetError\u001b[0m: [WinError 10054] 현재 연결은 원격 호스트에 의해 강제로 끊겼습니다",
      "\nDuring handling of the above exception, another exception occurred:\n",
      "\u001b[1;31mProtocolError\u001b[0m                             Traceback (most recent call last)",
      "File \u001b[1;32m~\\anaconda3\\envs\\cakd7\\lib\\site-packages\\requests\\adapters.py:440\u001b[0m, in \u001b[0;36mHTTPAdapter.send\u001b[1;34m(self, request, stream, timeout, verify, cert, proxies)\u001b[0m\n\u001b[0;32m    439\u001b[0m \u001b[38;5;28;01mif\u001b[39;00m \u001b[38;5;129;01mnot\u001b[39;00m chunked:\n\u001b[1;32m--> 440\u001b[0m     resp \u001b[38;5;241m=\u001b[39m \u001b[43mconn\u001b[49m\u001b[38;5;241;43m.\u001b[39;49m\u001b[43murlopen\u001b[49m\u001b[43m(\u001b[49m\n\u001b[0;32m    441\u001b[0m \u001b[43m        \u001b[49m\u001b[43mmethod\u001b[49m\u001b[38;5;241;43m=\u001b[39;49m\u001b[43mrequest\u001b[49m\u001b[38;5;241;43m.\u001b[39;49m\u001b[43mmethod\u001b[49m\u001b[43m,\u001b[49m\n\u001b[0;32m    442\u001b[0m \u001b[43m        \u001b[49m\u001b[43murl\u001b[49m\u001b[38;5;241;43m=\u001b[39;49m\u001b[43murl\u001b[49m\u001b[43m,\u001b[49m\n\u001b[0;32m    443\u001b[0m \u001b[43m        \u001b[49m\u001b[43mbody\u001b[49m\u001b[38;5;241;43m=\u001b[39;49m\u001b[43mrequest\u001b[49m\u001b[38;5;241;43m.\u001b[39;49m\u001b[43mbody\u001b[49m\u001b[43m,\u001b[49m\n\u001b[0;32m    444\u001b[0m \u001b[43m        \u001b[49m\u001b[43mheaders\u001b[49m\u001b[38;5;241;43m=\u001b[39;49m\u001b[43mrequest\u001b[49m\u001b[38;5;241;43m.\u001b[39;49m\u001b[43mheaders\u001b[49m\u001b[43m,\u001b[49m\n\u001b[0;32m    445\u001b[0m \u001b[43m        \u001b[49m\u001b[43mredirect\u001b[49m\u001b[38;5;241;43m=\u001b[39;49m\u001b[38;5;28;43;01mFalse\u001b[39;49;00m\u001b[43m,\u001b[49m\n\u001b[0;32m    446\u001b[0m \u001b[43m        \u001b[49m\u001b[43massert_same_host\u001b[49m\u001b[38;5;241;43m=\u001b[39;49m\u001b[38;5;28;43;01mFalse\u001b[39;49;00m\u001b[43m,\u001b[49m\n\u001b[0;32m    447\u001b[0m \u001b[43m        \u001b[49m\u001b[43mpreload_content\u001b[49m\u001b[38;5;241;43m=\u001b[39;49m\u001b[38;5;28;43;01mFalse\u001b[39;49;00m\u001b[43m,\u001b[49m\n\u001b[0;32m    448\u001b[0m \u001b[43m        \u001b[49m\u001b[43mdecode_content\u001b[49m\u001b[38;5;241;43m=\u001b[39;49m\u001b[38;5;28;43;01mFalse\u001b[39;49;00m\u001b[43m,\u001b[49m\n\u001b[0;32m    449\u001b[0m \u001b[43m        \u001b[49m\u001b[43mretries\u001b[49m\u001b[38;5;241;43m=\u001b[39;49m\u001b[38;5;28;43mself\u001b[39;49m\u001b[38;5;241;43m.\u001b[39;49m\u001b[43mmax_retries\u001b[49m\u001b[43m,\u001b[49m\n\u001b[0;32m    450\u001b[0m \u001b[43m        \u001b[49m\u001b[43mtimeout\u001b[49m\u001b[38;5;241;43m=\u001b[39;49m\u001b[43mtimeout\u001b[49m\n\u001b[0;32m    451\u001b[0m \u001b[43m    \u001b[49m\u001b[43m)\u001b[49m\n\u001b[0;32m    453\u001b[0m \u001b[38;5;66;03m# Send the request.\u001b[39;00m\n\u001b[0;32m    454\u001b[0m \u001b[38;5;28;01melse\u001b[39;00m:\n",
      "File \u001b[1;32m~\\anaconda3\\envs\\cakd7\\lib\\site-packages\\urllib3\\connectionpool.py:785\u001b[0m, in \u001b[0;36mHTTPConnectionPool.urlopen\u001b[1;34m(self, method, url, body, headers, retries, redirect, assert_same_host, timeout, pool_timeout, release_conn, chunked, body_pos, **response_kw)\u001b[0m\n\u001b[0;32m    783\u001b[0m     e \u001b[38;5;241m=\u001b[39m ProtocolError(\u001b[38;5;124m\"\u001b[39m\u001b[38;5;124mConnection aborted.\u001b[39m\u001b[38;5;124m\"\u001b[39m, e)\n\u001b[1;32m--> 785\u001b[0m retries \u001b[38;5;241m=\u001b[39m \u001b[43mretries\u001b[49m\u001b[38;5;241;43m.\u001b[39;49m\u001b[43mincrement\u001b[49m\u001b[43m(\u001b[49m\n\u001b[0;32m    786\u001b[0m \u001b[43m    \u001b[49m\u001b[43mmethod\u001b[49m\u001b[43m,\u001b[49m\u001b[43m \u001b[49m\u001b[43murl\u001b[49m\u001b[43m,\u001b[49m\u001b[43m \u001b[49m\u001b[43merror\u001b[49m\u001b[38;5;241;43m=\u001b[39;49m\u001b[43me\u001b[49m\u001b[43m,\u001b[49m\u001b[43m \u001b[49m\u001b[43m_pool\u001b[49m\u001b[38;5;241;43m=\u001b[39;49m\u001b[38;5;28;43mself\u001b[39;49m\u001b[43m,\u001b[49m\u001b[43m \u001b[49m\u001b[43m_stacktrace\u001b[49m\u001b[38;5;241;43m=\u001b[39;49m\u001b[43msys\u001b[49m\u001b[38;5;241;43m.\u001b[39;49m\u001b[43mexc_info\u001b[49m\u001b[43m(\u001b[49m\u001b[43m)\u001b[49m\u001b[43m[\u001b[49m\u001b[38;5;241;43m2\u001b[39;49m\u001b[43m]\u001b[49m\n\u001b[0;32m    787\u001b[0m \u001b[43m\u001b[49m\u001b[43m)\u001b[49m\n\u001b[0;32m    788\u001b[0m retries\u001b[38;5;241m.\u001b[39msleep()\n",
      "File \u001b[1;32m~\\anaconda3\\envs\\cakd7\\lib\\site-packages\\urllib3\\util\\retry.py:550\u001b[0m, in \u001b[0;36mRetry.increment\u001b[1;34m(self, method, url, response, error, _pool, _stacktrace)\u001b[0m\n\u001b[0;32m    549\u001b[0m \u001b[38;5;28;01mif\u001b[39;00m read \u001b[38;5;129;01mis\u001b[39;00m \u001b[38;5;28;01mFalse\u001b[39;00m \u001b[38;5;129;01mor\u001b[39;00m \u001b[38;5;129;01mnot\u001b[39;00m \u001b[38;5;28mself\u001b[39m\u001b[38;5;241m.\u001b[39m_is_method_retryable(method):\n\u001b[1;32m--> 550\u001b[0m     \u001b[38;5;28;01mraise\u001b[39;00m \u001b[43msix\u001b[49m\u001b[38;5;241;43m.\u001b[39;49m\u001b[43mreraise\u001b[49m\u001b[43m(\u001b[49m\u001b[38;5;28;43mtype\u001b[39;49m\u001b[43m(\u001b[49m\u001b[43merror\u001b[49m\u001b[43m)\u001b[49m\u001b[43m,\u001b[49m\u001b[43m \u001b[49m\u001b[43merror\u001b[49m\u001b[43m,\u001b[49m\u001b[43m \u001b[49m\u001b[43m_stacktrace\u001b[49m\u001b[43m)\u001b[49m\n\u001b[0;32m    551\u001b[0m \u001b[38;5;28;01melif\u001b[39;00m read \u001b[38;5;129;01mis\u001b[39;00m \u001b[38;5;129;01mnot\u001b[39;00m \u001b[38;5;28;01mNone\u001b[39;00m:\n",
      "File \u001b[1;32m~\\anaconda3\\envs\\cakd7\\lib\\site-packages\\urllib3\\packages\\six.py:769\u001b[0m, in \u001b[0;36mreraise\u001b[1;34m(tp, value, tb)\u001b[0m\n\u001b[0;32m    768\u001b[0m \u001b[38;5;28;01mif\u001b[39;00m value\u001b[38;5;241m.\u001b[39m__traceback__ \u001b[38;5;129;01mis\u001b[39;00m \u001b[38;5;129;01mnot\u001b[39;00m tb:\n\u001b[1;32m--> 769\u001b[0m     \u001b[38;5;28;01mraise\u001b[39;00m value\u001b[38;5;241m.\u001b[39mwith_traceback(tb)\n\u001b[0;32m    770\u001b[0m \u001b[38;5;28;01mraise\u001b[39;00m value\n",
      "File \u001b[1;32m~\\anaconda3\\envs\\cakd7\\lib\\site-packages\\urllib3\\connectionpool.py:703\u001b[0m, in \u001b[0;36mHTTPConnectionPool.urlopen\u001b[1;34m(self, method, url, body, headers, retries, redirect, assert_same_host, timeout, pool_timeout, release_conn, chunked, body_pos, **response_kw)\u001b[0m\n\u001b[0;32m    702\u001b[0m \u001b[38;5;66;03m# Make the request on the httplib connection object.\u001b[39;00m\n\u001b[1;32m--> 703\u001b[0m httplib_response \u001b[38;5;241m=\u001b[39m \u001b[38;5;28;43mself\u001b[39;49m\u001b[38;5;241;43m.\u001b[39;49m\u001b[43m_make_request\u001b[49m\u001b[43m(\u001b[49m\n\u001b[0;32m    704\u001b[0m \u001b[43m    \u001b[49m\u001b[43mconn\u001b[49m\u001b[43m,\u001b[49m\n\u001b[0;32m    705\u001b[0m \u001b[43m    \u001b[49m\u001b[43mmethod\u001b[49m\u001b[43m,\u001b[49m\n\u001b[0;32m    706\u001b[0m \u001b[43m    \u001b[49m\u001b[43murl\u001b[49m\u001b[43m,\u001b[49m\n\u001b[0;32m    707\u001b[0m \u001b[43m    \u001b[49m\u001b[43mtimeout\u001b[49m\u001b[38;5;241;43m=\u001b[39;49m\u001b[43mtimeout_obj\u001b[49m\u001b[43m,\u001b[49m\n\u001b[0;32m    708\u001b[0m \u001b[43m    \u001b[49m\u001b[43mbody\u001b[49m\u001b[38;5;241;43m=\u001b[39;49m\u001b[43mbody\u001b[49m\u001b[43m,\u001b[49m\n\u001b[0;32m    709\u001b[0m \u001b[43m    \u001b[49m\u001b[43mheaders\u001b[49m\u001b[38;5;241;43m=\u001b[39;49m\u001b[43mheaders\u001b[49m\u001b[43m,\u001b[49m\n\u001b[0;32m    710\u001b[0m \u001b[43m    \u001b[49m\u001b[43mchunked\u001b[49m\u001b[38;5;241;43m=\u001b[39;49m\u001b[43mchunked\u001b[49m\u001b[43m,\u001b[49m\n\u001b[0;32m    711\u001b[0m \u001b[43m\u001b[49m\u001b[43m)\u001b[49m\n\u001b[0;32m    713\u001b[0m \u001b[38;5;66;03m# If we're going to release the connection in ``finally:``, then\u001b[39;00m\n\u001b[0;32m    714\u001b[0m \u001b[38;5;66;03m# the response doesn't need to know about the connection. Otherwise\u001b[39;00m\n\u001b[0;32m    715\u001b[0m \u001b[38;5;66;03m# it will also try to release it and we'll have a double-release\u001b[39;00m\n\u001b[0;32m    716\u001b[0m \u001b[38;5;66;03m# mess.\u001b[39;00m\n",
      "File \u001b[1;32m~\\anaconda3\\envs\\cakd7\\lib\\site-packages\\urllib3\\connectionpool.py:449\u001b[0m, in \u001b[0;36mHTTPConnectionPool._make_request\u001b[1;34m(self, conn, method, url, timeout, chunked, **httplib_request_kw)\u001b[0m\n\u001b[0;32m    445\u001b[0m         \u001b[38;5;28;01mexcept\u001b[39;00m \u001b[38;5;167;01mBaseException\u001b[39;00m \u001b[38;5;28;01mas\u001b[39;00m e:\n\u001b[0;32m    446\u001b[0m             \u001b[38;5;66;03m# Remove the TypeError from the exception chain in\u001b[39;00m\n\u001b[0;32m    447\u001b[0m             \u001b[38;5;66;03m# Python 3 (including for exceptions like SystemExit).\u001b[39;00m\n\u001b[0;32m    448\u001b[0m             \u001b[38;5;66;03m# Otherwise it looks like a bug in the code.\u001b[39;00m\n\u001b[1;32m--> 449\u001b[0m             \u001b[43msix\u001b[49m\u001b[38;5;241;43m.\u001b[39;49m\u001b[43mraise_from\u001b[49m\u001b[43m(\u001b[49m\u001b[43me\u001b[49m\u001b[43m,\u001b[49m\u001b[43m \u001b[49m\u001b[38;5;28;43;01mNone\u001b[39;49;00m\u001b[43m)\u001b[49m\n\u001b[0;32m    450\u001b[0m \u001b[38;5;28;01mexcept\u001b[39;00m (SocketTimeout, BaseSSLError, SocketError) \u001b[38;5;28;01mas\u001b[39;00m e:\n",
      "File \u001b[1;32m<string>:3\u001b[0m, in \u001b[0;36mraise_from\u001b[1;34m(value, from_value)\u001b[0m\n",
      "File \u001b[1;32m~\\anaconda3\\envs\\cakd7\\lib\\site-packages\\urllib3\\connectionpool.py:444\u001b[0m, in \u001b[0;36mHTTPConnectionPool._make_request\u001b[1;34m(self, conn, method, url, timeout, chunked, **httplib_request_kw)\u001b[0m\n\u001b[0;32m    443\u001b[0m \u001b[38;5;28;01mtry\u001b[39;00m:\n\u001b[1;32m--> 444\u001b[0m     httplib_response \u001b[38;5;241m=\u001b[39m \u001b[43mconn\u001b[49m\u001b[38;5;241;43m.\u001b[39;49m\u001b[43mgetresponse\u001b[49m\u001b[43m(\u001b[49m\u001b[43m)\u001b[49m\n\u001b[0;32m    445\u001b[0m \u001b[38;5;28;01mexcept\u001b[39;00m \u001b[38;5;167;01mBaseException\u001b[39;00m \u001b[38;5;28;01mas\u001b[39;00m e:\n\u001b[0;32m    446\u001b[0m     \u001b[38;5;66;03m# Remove the TypeError from the exception chain in\u001b[39;00m\n\u001b[0;32m    447\u001b[0m     \u001b[38;5;66;03m# Python 3 (including for exceptions like SystemExit).\u001b[39;00m\n\u001b[0;32m    448\u001b[0m     \u001b[38;5;66;03m# Otherwise it looks like a bug in the code.\u001b[39;00m\n",
      "File \u001b[1;32m~\\anaconda3\\envs\\cakd7\\lib\\http\\client.py:1348\u001b[0m, in \u001b[0;36mHTTPConnection.getresponse\u001b[1;34m(self)\u001b[0m\n\u001b[0;32m   1347\u001b[0m \u001b[38;5;28;01mtry\u001b[39;00m:\n\u001b[1;32m-> 1348\u001b[0m     \u001b[43mresponse\u001b[49m\u001b[38;5;241;43m.\u001b[39;49m\u001b[43mbegin\u001b[49m\u001b[43m(\u001b[49m\u001b[43m)\u001b[49m\n\u001b[0;32m   1349\u001b[0m \u001b[38;5;28;01mexcept\u001b[39;00m \u001b[38;5;167;01mConnectionError\u001b[39;00m:\n",
      "File \u001b[1;32m~\\anaconda3\\envs\\cakd7\\lib\\http\\client.py:316\u001b[0m, in \u001b[0;36mHTTPResponse.begin\u001b[1;34m(self)\u001b[0m\n\u001b[0;32m    315\u001b[0m \u001b[38;5;28;01mwhile\u001b[39;00m \u001b[38;5;28;01mTrue\u001b[39;00m:\n\u001b[1;32m--> 316\u001b[0m     version, status, reason \u001b[38;5;241m=\u001b[39m \u001b[38;5;28;43mself\u001b[39;49m\u001b[38;5;241;43m.\u001b[39;49m\u001b[43m_read_status\u001b[49m\u001b[43m(\u001b[49m\u001b[43m)\u001b[49m\n\u001b[0;32m    317\u001b[0m     \u001b[38;5;28;01mif\u001b[39;00m status \u001b[38;5;241m!=\u001b[39m CONTINUE:\n",
      "File \u001b[1;32m~\\anaconda3\\envs\\cakd7\\lib\\http\\client.py:277\u001b[0m, in \u001b[0;36mHTTPResponse._read_status\u001b[1;34m(self)\u001b[0m\n\u001b[0;32m    276\u001b[0m \u001b[38;5;28;01mdef\u001b[39;00m \u001b[38;5;21m_read_status\u001b[39m(\u001b[38;5;28mself\u001b[39m):\n\u001b[1;32m--> 277\u001b[0m     line \u001b[38;5;241m=\u001b[39m \u001b[38;5;28mstr\u001b[39m(\u001b[38;5;28;43mself\u001b[39;49m\u001b[38;5;241;43m.\u001b[39;49m\u001b[43mfp\u001b[49m\u001b[38;5;241;43m.\u001b[39;49m\u001b[43mreadline\u001b[49m\u001b[43m(\u001b[49m\u001b[43m_MAXLINE\u001b[49m\u001b[43m \u001b[49m\u001b[38;5;241;43m+\u001b[39;49m\u001b[43m \u001b[49m\u001b[38;5;241;43m1\u001b[39;49m\u001b[43m)\u001b[49m, \u001b[38;5;124m\"\u001b[39m\u001b[38;5;124miso-8859-1\u001b[39m\u001b[38;5;124m\"\u001b[39m)\n\u001b[0;32m    278\u001b[0m     \u001b[38;5;28;01mif\u001b[39;00m \u001b[38;5;28mlen\u001b[39m(line) \u001b[38;5;241m>\u001b[39m _MAXLINE:\n",
      "File \u001b[1;32m~\\anaconda3\\envs\\cakd7\\lib\\socket.py:669\u001b[0m, in \u001b[0;36mSocketIO.readinto\u001b[1;34m(self, b)\u001b[0m\n\u001b[0;32m    668\u001b[0m \u001b[38;5;28;01mtry\u001b[39;00m:\n\u001b[1;32m--> 669\u001b[0m     \u001b[38;5;28;01mreturn\u001b[39;00m \u001b[38;5;28;43mself\u001b[39;49m\u001b[38;5;241;43m.\u001b[39;49m\u001b[43m_sock\u001b[49m\u001b[38;5;241;43m.\u001b[39;49m\u001b[43mrecv_into\u001b[49m\u001b[43m(\u001b[49m\u001b[43mb\u001b[49m\u001b[43m)\u001b[49m\n\u001b[0;32m    670\u001b[0m \u001b[38;5;28;01mexcept\u001b[39;00m timeout:\n",
      "File \u001b[1;32m~\\anaconda3\\envs\\cakd7\\lib\\ssl.py:1241\u001b[0m, in \u001b[0;36mSSLSocket.recv_into\u001b[1;34m(self, buffer, nbytes, flags)\u001b[0m\n\u001b[0;32m   1238\u001b[0m         \u001b[38;5;28;01mraise\u001b[39;00m \u001b[38;5;167;01mValueError\u001b[39;00m(\n\u001b[0;32m   1239\u001b[0m           \u001b[38;5;124m\"\u001b[39m\u001b[38;5;124mnon-zero flags not allowed in calls to recv_into() on \u001b[39m\u001b[38;5;132;01m%s\u001b[39;00m\u001b[38;5;124m\"\u001b[39m \u001b[38;5;241m%\u001b[39m\n\u001b[0;32m   1240\u001b[0m           \u001b[38;5;28mself\u001b[39m\u001b[38;5;241m.\u001b[39m\u001b[38;5;18m__class__\u001b[39m)\n\u001b[1;32m-> 1241\u001b[0m     \u001b[38;5;28;01mreturn\u001b[39;00m \u001b[38;5;28;43mself\u001b[39;49m\u001b[38;5;241;43m.\u001b[39;49m\u001b[43mread\u001b[49m\u001b[43m(\u001b[49m\u001b[43mnbytes\u001b[49m\u001b[43m,\u001b[49m\u001b[43m \u001b[49m\u001b[43mbuffer\u001b[49m\u001b[43m)\u001b[49m\n\u001b[0;32m   1242\u001b[0m \u001b[38;5;28;01melse\u001b[39;00m:\n",
      "File \u001b[1;32m~\\anaconda3\\envs\\cakd7\\lib\\ssl.py:1099\u001b[0m, in \u001b[0;36mSSLSocket.read\u001b[1;34m(self, len, buffer)\u001b[0m\n\u001b[0;32m   1098\u001b[0m \u001b[38;5;28;01mif\u001b[39;00m buffer \u001b[38;5;129;01mis\u001b[39;00m \u001b[38;5;129;01mnot\u001b[39;00m \u001b[38;5;28;01mNone\u001b[39;00m:\n\u001b[1;32m-> 1099\u001b[0m     \u001b[38;5;28;01mreturn\u001b[39;00m \u001b[38;5;28;43mself\u001b[39;49m\u001b[38;5;241;43m.\u001b[39;49m\u001b[43m_sslobj\u001b[49m\u001b[38;5;241;43m.\u001b[39;49m\u001b[43mread\u001b[49m\u001b[43m(\u001b[49m\u001b[38;5;28;43mlen\u001b[39;49m\u001b[43m,\u001b[49m\u001b[43m \u001b[49m\u001b[43mbuffer\u001b[49m\u001b[43m)\u001b[49m\n\u001b[0;32m   1100\u001b[0m \u001b[38;5;28;01melse\u001b[39;00m:\n",
      "\u001b[1;31mProtocolError\u001b[0m: ('Connection aborted.', ConnectionResetError(10054, '현재 연결은 원격 호스트에 의해 강제로 끊겼습니다', None, 10054, None))",
      "\nDuring handling of the above exception, another exception occurred:\n",
      "\u001b[1;31mConnectionError\u001b[0m                           Traceback (most recent call last)",
      "Input \u001b[1;32mIn [71]\u001b[0m, in \u001b[0;36m<cell line: 4>\u001b[1;34m()\u001b[0m\n\u001b[0;32m      2\u001b[0m \u001b[38;5;28;01mimport\u001b[39;00m \u001b[38;5;21;01mrequests\u001b[39;00m\n\u001b[0;32m      3\u001b[0m url \u001b[38;5;241m=\u001b[39m \u001b[38;5;124m'\u001b[39m\u001b[38;5;124mhttps://news.naver.com/main/main.naver?mode=LSD&mid=shm&sid1=102\u001b[39m\u001b[38;5;124m'\u001b[39m \n\u001b[1;32m----> 4\u001b[0m req \u001b[38;5;241m=\u001b[39m \u001b[43mrequests\u001b[49m\u001b[38;5;241;43m.\u001b[39;49m\u001b[43mget\u001b[49m\u001b[43m(\u001b[49m\u001b[43murl\u001b[49m\u001b[43m)\u001b[49m\n\u001b[0;32m      5\u001b[0m bs \u001b[38;5;241m=\u001b[39m BeautifulSoup(req\u001b[38;5;241m.\u001b[39mcontent, \u001b[38;5;124m'\u001b[39m\u001b[38;5;124mhtml.parser\u001b[39m\u001b[38;5;124m'\u001b[39m)\n\u001b[0;32m      6\u001b[0m \u001b[38;5;28mprint\u001b[39m(bs)\n",
      "File \u001b[1;32m~\\anaconda3\\envs\\cakd7\\lib\\site-packages\\requests\\api.py:75\u001b[0m, in \u001b[0;36mget\u001b[1;34m(url, params, **kwargs)\u001b[0m\n\u001b[0;32m     64\u001b[0m \u001b[38;5;28;01mdef\u001b[39;00m \u001b[38;5;21mget\u001b[39m(url, params\u001b[38;5;241m=\u001b[39m\u001b[38;5;28;01mNone\u001b[39;00m, \u001b[38;5;241m*\u001b[39m\u001b[38;5;241m*\u001b[39mkwargs):\n\u001b[0;32m     65\u001b[0m     \u001b[38;5;124mr\u001b[39m\u001b[38;5;124;03m\"\"\"Sends a GET request.\u001b[39;00m\n\u001b[0;32m     66\u001b[0m \n\u001b[0;32m     67\u001b[0m \u001b[38;5;124;03m    :param url: URL for the new :class:`Request` object.\u001b[39;00m\n\u001b[1;32m   (...)\u001b[0m\n\u001b[0;32m     72\u001b[0m \u001b[38;5;124;03m    :rtype: requests.Response\u001b[39;00m\n\u001b[0;32m     73\u001b[0m \u001b[38;5;124;03m    \"\"\"\u001b[39;00m\n\u001b[1;32m---> 75\u001b[0m     \u001b[38;5;28;01mreturn\u001b[39;00m \u001b[43mrequest\u001b[49m\u001b[43m(\u001b[49m\u001b[38;5;124;43m'\u001b[39;49m\u001b[38;5;124;43mget\u001b[39;49m\u001b[38;5;124;43m'\u001b[39;49m\u001b[43m,\u001b[49m\u001b[43m \u001b[49m\u001b[43murl\u001b[49m\u001b[43m,\u001b[49m\u001b[43m \u001b[49m\u001b[43mparams\u001b[49m\u001b[38;5;241;43m=\u001b[39;49m\u001b[43mparams\u001b[49m\u001b[43m,\u001b[49m\u001b[43m \u001b[49m\u001b[38;5;241;43m*\u001b[39;49m\u001b[38;5;241;43m*\u001b[39;49m\u001b[43mkwargs\u001b[49m\u001b[43m)\u001b[49m\n",
      "File \u001b[1;32m~\\anaconda3\\envs\\cakd7\\lib\\site-packages\\requests\\api.py:61\u001b[0m, in \u001b[0;36mrequest\u001b[1;34m(method, url, **kwargs)\u001b[0m\n\u001b[0;32m     57\u001b[0m \u001b[38;5;66;03m# By using the 'with' statement we are sure the session is closed, thus we\u001b[39;00m\n\u001b[0;32m     58\u001b[0m \u001b[38;5;66;03m# avoid leaving sockets open which can trigger a ResourceWarning in some\u001b[39;00m\n\u001b[0;32m     59\u001b[0m \u001b[38;5;66;03m# cases, and look like a memory leak in others.\u001b[39;00m\n\u001b[0;32m     60\u001b[0m \u001b[38;5;28;01mwith\u001b[39;00m sessions\u001b[38;5;241m.\u001b[39mSession() \u001b[38;5;28;01mas\u001b[39;00m session:\n\u001b[1;32m---> 61\u001b[0m     \u001b[38;5;28;01mreturn\u001b[39;00m \u001b[43msession\u001b[49m\u001b[38;5;241;43m.\u001b[39;49m\u001b[43mrequest\u001b[49m\u001b[43m(\u001b[49m\u001b[43mmethod\u001b[49m\u001b[38;5;241;43m=\u001b[39;49m\u001b[43mmethod\u001b[49m\u001b[43m,\u001b[49m\u001b[43m \u001b[49m\u001b[43murl\u001b[49m\u001b[38;5;241;43m=\u001b[39;49m\u001b[43murl\u001b[49m\u001b[43m,\u001b[49m\u001b[43m \u001b[49m\u001b[38;5;241;43m*\u001b[39;49m\u001b[38;5;241;43m*\u001b[39;49m\u001b[43mkwargs\u001b[49m\u001b[43m)\u001b[49m\n",
      "File \u001b[1;32m~\\anaconda3\\envs\\cakd7\\lib\\site-packages\\requests\\sessions.py:529\u001b[0m, in \u001b[0;36mSession.request\u001b[1;34m(self, method, url, params, data, headers, cookies, files, auth, timeout, allow_redirects, proxies, hooks, stream, verify, cert, json)\u001b[0m\n\u001b[0;32m    524\u001b[0m send_kwargs \u001b[38;5;241m=\u001b[39m {\n\u001b[0;32m    525\u001b[0m     \u001b[38;5;124m'\u001b[39m\u001b[38;5;124mtimeout\u001b[39m\u001b[38;5;124m'\u001b[39m: timeout,\n\u001b[0;32m    526\u001b[0m     \u001b[38;5;124m'\u001b[39m\u001b[38;5;124mallow_redirects\u001b[39m\u001b[38;5;124m'\u001b[39m: allow_redirects,\n\u001b[0;32m    527\u001b[0m }\n\u001b[0;32m    528\u001b[0m send_kwargs\u001b[38;5;241m.\u001b[39mupdate(settings)\n\u001b[1;32m--> 529\u001b[0m resp \u001b[38;5;241m=\u001b[39m \u001b[38;5;28;43mself\u001b[39;49m\u001b[38;5;241;43m.\u001b[39;49m\u001b[43msend\u001b[49m\u001b[43m(\u001b[49m\u001b[43mprep\u001b[49m\u001b[43m,\u001b[49m\u001b[43m \u001b[49m\u001b[38;5;241;43m*\u001b[39;49m\u001b[38;5;241;43m*\u001b[39;49m\u001b[43msend_kwargs\u001b[49m\u001b[43m)\u001b[49m\n\u001b[0;32m    531\u001b[0m \u001b[38;5;28;01mreturn\u001b[39;00m resp\n",
      "File \u001b[1;32m~\\anaconda3\\envs\\cakd7\\lib\\site-packages\\requests\\sessions.py:645\u001b[0m, in \u001b[0;36mSession.send\u001b[1;34m(self, request, **kwargs)\u001b[0m\n\u001b[0;32m    642\u001b[0m start \u001b[38;5;241m=\u001b[39m preferred_clock()\n\u001b[0;32m    644\u001b[0m \u001b[38;5;66;03m# Send the request\u001b[39;00m\n\u001b[1;32m--> 645\u001b[0m r \u001b[38;5;241m=\u001b[39m \u001b[43madapter\u001b[49m\u001b[38;5;241;43m.\u001b[39;49m\u001b[43msend\u001b[49m\u001b[43m(\u001b[49m\u001b[43mrequest\u001b[49m\u001b[43m,\u001b[49m\u001b[43m \u001b[49m\u001b[38;5;241;43m*\u001b[39;49m\u001b[38;5;241;43m*\u001b[39;49m\u001b[43mkwargs\u001b[49m\u001b[43m)\u001b[49m\n\u001b[0;32m    647\u001b[0m \u001b[38;5;66;03m# Total elapsed time of the request (approximately)\u001b[39;00m\n\u001b[0;32m    648\u001b[0m elapsed \u001b[38;5;241m=\u001b[39m preferred_clock() \u001b[38;5;241m-\u001b[39m start\n",
      "File \u001b[1;32m~\\anaconda3\\envs\\cakd7\\lib\\site-packages\\requests\\adapters.py:501\u001b[0m, in \u001b[0;36mHTTPAdapter.send\u001b[1;34m(self, request, stream, timeout, verify, cert, proxies)\u001b[0m\n\u001b[0;32m    498\u001b[0m             \u001b[38;5;28;01mraise\u001b[39;00m\n\u001b[0;32m    500\u001b[0m \u001b[38;5;28;01mexcept\u001b[39;00m (ProtocolError, socket\u001b[38;5;241m.\u001b[39merror) \u001b[38;5;28;01mas\u001b[39;00m err:\n\u001b[1;32m--> 501\u001b[0m     \u001b[38;5;28;01mraise\u001b[39;00m \u001b[38;5;167;01mConnectionError\u001b[39;00m(err, request\u001b[38;5;241m=\u001b[39mrequest)\n\u001b[0;32m    503\u001b[0m \u001b[38;5;28;01mexcept\u001b[39;00m MaxRetryError \u001b[38;5;28;01mas\u001b[39;00m e:\n\u001b[0;32m    504\u001b[0m     \u001b[38;5;28;01mif\u001b[39;00m \u001b[38;5;28misinstance\u001b[39m(e\u001b[38;5;241m.\u001b[39mreason, ConnectTimeoutError):\n\u001b[0;32m    505\u001b[0m         \u001b[38;5;66;03m# TODO: Remove this in 3.0.0: see #2811\u001b[39;00m\n",
      "\u001b[1;31mConnectionError\u001b[0m: ('Connection aborted.', ConnectionResetError(10054, '현재 연결은 원격 호스트에 의해 강제로 끊겼습니다', None, 10054, None))"
     ]
    }
   ],
   "source": [
    "from bs4 import BeautifulSoup\n",
    "import requests\n",
    "url = 'https://news.naver.com/main/main.naver?mode=LSD&mid=shm&sid1=102' \n",
    "req = requests.get(url)\n",
    "bs = BeautifulSoup(req.content, 'html.parser')\n",
    "print(bs)\n",
    "\n",
    "# ('Connection aborted.', ConnectionResetError(10054, '현재 연결은 원격 호스트에 의해 강제로 끊겼습니다', None, 10054, None))\n",
    "# 이런 오류가 뜬다고 ! \n"
   ]
  },
  {
   "cell_type": "markdown",
   "id": "eea215d4",
   "metadata": {},
   "source": [
    "#### text vs content\n",
    "cf) https://blog.ch4n3.kr/515"
   ]
  },
  {
   "cell_type": "code",
   "execution_count": 21,
   "id": "80d694a0",
   "metadata": {},
   "outputs": [
    {
     "ename": "ConnectionError",
     "evalue": "('Connection aborted.', ConnectionResetError(10054, '현재 연결은 원격 호스트에 의해 강제로 끊겼습니다', None, 10054, None))",
     "output_type": "error",
     "traceback": [
      "\u001b[1;31m---------------------------------------------------------------------------\u001b[0m",
      "\u001b[1;31mConnectionResetError\u001b[0m                      Traceback (most recent call last)",
      "File \u001b[1;32m~\\anaconda3\\envs\\cakd7\\lib\\site-packages\\urllib3\\connectionpool.py:703\u001b[0m, in \u001b[0;36mHTTPConnectionPool.urlopen\u001b[1;34m(self, method, url, body, headers, retries, redirect, assert_same_host, timeout, pool_timeout, release_conn, chunked, body_pos, **response_kw)\u001b[0m\n\u001b[0;32m    702\u001b[0m \u001b[38;5;66;03m# Make the request on the httplib connection object.\u001b[39;00m\n\u001b[1;32m--> 703\u001b[0m httplib_response \u001b[38;5;241m=\u001b[39m \u001b[38;5;28;43mself\u001b[39;49m\u001b[38;5;241;43m.\u001b[39;49m\u001b[43m_make_request\u001b[49m\u001b[43m(\u001b[49m\n\u001b[0;32m    704\u001b[0m \u001b[43m    \u001b[49m\u001b[43mconn\u001b[49m\u001b[43m,\u001b[49m\n\u001b[0;32m    705\u001b[0m \u001b[43m    \u001b[49m\u001b[43mmethod\u001b[49m\u001b[43m,\u001b[49m\n\u001b[0;32m    706\u001b[0m \u001b[43m    \u001b[49m\u001b[43murl\u001b[49m\u001b[43m,\u001b[49m\n\u001b[0;32m    707\u001b[0m \u001b[43m    \u001b[49m\u001b[43mtimeout\u001b[49m\u001b[38;5;241;43m=\u001b[39;49m\u001b[43mtimeout_obj\u001b[49m\u001b[43m,\u001b[49m\n\u001b[0;32m    708\u001b[0m \u001b[43m    \u001b[49m\u001b[43mbody\u001b[49m\u001b[38;5;241;43m=\u001b[39;49m\u001b[43mbody\u001b[49m\u001b[43m,\u001b[49m\n\u001b[0;32m    709\u001b[0m \u001b[43m    \u001b[49m\u001b[43mheaders\u001b[49m\u001b[38;5;241;43m=\u001b[39;49m\u001b[43mheaders\u001b[49m\u001b[43m,\u001b[49m\n\u001b[0;32m    710\u001b[0m \u001b[43m    \u001b[49m\u001b[43mchunked\u001b[49m\u001b[38;5;241;43m=\u001b[39;49m\u001b[43mchunked\u001b[49m\u001b[43m,\u001b[49m\n\u001b[0;32m    711\u001b[0m \u001b[43m\u001b[49m\u001b[43m)\u001b[49m\n\u001b[0;32m    713\u001b[0m \u001b[38;5;66;03m# If we're going to release the connection in ``finally:``, then\u001b[39;00m\n\u001b[0;32m    714\u001b[0m \u001b[38;5;66;03m# the response doesn't need to know about the connection. Otherwise\u001b[39;00m\n\u001b[0;32m    715\u001b[0m \u001b[38;5;66;03m# it will also try to release it and we'll have a double-release\u001b[39;00m\n\u001b[0;32m    716\u001b[0m \u001b[38;5;66;03m# mess.\u001b[39;00m\n",
      "File \u001b[1;32m~\\anaconda3\\envs\\cakd7\\lib\\site-packages\\urllib3\\connectionpool.py:449\u001b[0m, in \u001b[0;36mHTTPConnectionPool._make_request\u001b[1;34m(self, conn, method, url, timeout, chunked, **httplib_request_kw)\u001b[0m\n\u001b[0;32m    445\u001b[0m         \u001b[38;5;28;01mexcept\u001b[39;00m \u001b[38;5;167;01mBaseException\u001b[39;00m \u001b[38;5;28;01mas\u001b[39;00m e:\n\u001b[0;32m    446\u001b[0m             \u001b[38;5;66;03m# Remove the TypeError from the exception chain in\u001b[39;00m\n\u001b[0;32m    447\u001b[0m             \u001b[38;5;66;03m# Python 3 (including for exceptions like SystemExit).\u001b[39;00m\n\u001b[0;32m    448\u001b[0m             \u001b[38;5;66;03m# Otherwise it looks like a bug in the code.\u001b[39;00m\n\u001b[1;32m--> 449\u001b[0m             \u001b[43msix\u001b[49m\u001b[38;5;241;43m.\u001b[39;49m\u001b[43mraise_from\u001b[49m\u001b[43m(\u001b[49m\u001b[43me\u001b[49m\u001b[43m,\u001b[49m\u001b[43m \u001b[49m\u001b[38;5;28;43;01mNone\u001b[39;49;00m\u001b[43m)\u001b[49m\n\u001b[0;32m    450\u001b[0m \u001b[38;5;28;01mexcept\u001b[39;00m (SocketTimeout, BaseSSLError, SocketError) \u001b[38;5;28;01mas\u001b[39;00m e:\n",
      "File \u001b[1;32m<string>:3\u001b[0m, in \u001b[0;36mraise_from\u001b[1;34m(value, from_value)\u001b[0m\n",
      "File \u001b[1;32m~\\anaconda3\\envs\\cakd7\\lib\\site-packages\\urllib3\\connectionpool.py:444\u001b[0m, in \u001b[0;36mHTTPConnectionPool._make_request\u001b[1;34m(self, conn, method, url, timeout, chunked, **httplib_request_kw)\u001b[0m\n\u001b[0;32m    443\u001b[0m \u001b[38;5;28;01mtry\u001b[39;00m:\n\u001b[1;32m--> 444\u001b[0m     httplib_response \u001b[38;5;241m=\u001b[39m \u001b[43mconn\u001b[49m\u001b[38;5;241;43m.\u001b[39;49m\u001b[43mgetresponse\u001b[49m\u001b[43m(\u001b[49m\u001b[43m)\u001b[49m\n\u001b[0;32m    445\u001b[0m \u001b[38;5;28;01mexcept\u001b[39;00m \u001b[38;5;167;01mBaseException\u001b[39;00m \u001b[38;5;28;01mas\u001b[39;00m e:\n\u001b[0;32m    446\u001b[0m     \u001b[38;5;66;03m# Remove the TypeError from the exception chain in\u001b[39;00m\n\u001b[0;32m    447\u001b[0m     \u001b[38;5;66;03m# Python 3 (including for exceptions like SystemExit).\u001b[39;00m\n\u001b[0;32m    448\u001b[0m     \u001b[38;5;66;03m# Otherwise it looks like a bug in the code.\u001b[39;00m\n",
      "File \u001b[1;32m~\\anaconda3\\envs\\cakd7\\lib\\http\\client.py:1348\u001b[0m, in \u001b[0;36mHTTPConnection.getresponse\u001b[1;34m(self)\u001b[0m\n\u001b[0;32m   1347\u001b[0m \u001b[38;5;28;01mtry\u001b[39;00m:\n\u001b[1;32m-> 1348\u001b[0m     \u001b[43mresponse\u001b[49m\u001b[38;5;241;43m.\u001b[39;49m\u001b[43mbegin\u001b[49m\u001b[43m(\u001b[49m\u001b[43m)\u001b[49m\n\u001b[0;32m   1349\u001b[0m \u001b[38;5;28;01mexcept\u001b[39;00m \u001b[38;5;167;01mConnectionError\u001b[39;00m:\n",
      "File \u001b[1;32m~\\anaconda3\\envs\\cakd7\\lib\\http\\client.py:316\u001b[0m, in \u001b[0;36mHTTPResponse.begin\u001b[1;34m(self)\u001b[0m\n\u001b[0;32m    315\u001b[0m \u001b[38;5;28;01mwhile\u001b[39;00m \u001b[38;5;28;01mTrue\u001b[39;00m:\n\u001b[1;32m--> 316\u001b[0m     version, status, reason \u001b[38;5;241m=\u001b[39m \u001b[38;5;28;43mself\u001b[39;49m\u001b[38;5;241;43m.\u001b[39;49m\u001b[43m_read_status\u001b[49m\u001b[43m(\u001b[49m\u001b[43m)\u001b[49m\n\u001b[0;32m    317\u001b[0m     \u001b[38;5;28;01mif\u001b[39;00m status \u001b[38;5;241m!=\u001b[39m CONTINUE:\n",
      "File \u001b[1;32m~\\anaconda3\\envs\\cakd7\\lib\\http\\client.py:277\u001b[0m, in \u001b[0;36mHTTPResponse._read_status\u001b[1;34m(self)\u001b[0m\n\u001b[0;32m    276\u001b[0m \u001b[38;5;28;01mdef\u001b[39;00m \u001b[38;5;21m_read_status\u001b[39m(\u001b[38;5;28mself\u001b[39m):\n\u001b[1;32m--> 277\u001b[0m     line \u001b[38;5;241m=\u001b[39m \u001b[38;5;28mstr\u001b[39m(\u001b[38;5;28;43mself\u001b[39;49m\u001b[38;5;241;43m.\u001b[39;49m\u001b[43mfp\u001b[49m\u001b[38;5;241;43m.\u001b[39;49m\u001b[43mreadline\u001b[49m\u001b[43m(\u001b[49m\u001b[43m_MAXLINE\u001b[49m\u001b[43m \u001b[49m\u001b[38;5;241;43m+\u001b[39;49m\u001b[43m \u001b[49m\u001b[38;5;241;43m1\u001b[39;49m\u001b[43m)\u001b[49m, \u001b[38;5;124m\"\u001b[39m\u001b[38;5;124miso-8859-1\u001b[39m\u001b[38;5;124m\"\u001b[39m)\n\u001b[0;32m    278\u001b[0m     \u001b[38;5;28;01mif\u001b[39;00m \u001b[38;5;28mlen\u001b[39m(line) \u001b[38;5;241m>\u001b[39m _MAXLINE:\n",
      "File \u001b[1;32m~\\anaconda3\\envs\\cakd7\\lib\\socket.py:669\u001b[0m, in \u001b[0;36mSocketIO.readinto\u001b[1;34m(self, b)\u001b[0m\n\u001b[0;32m    668\u001b[0m \u001b[38;5;28;01mtry\u001b[39;00m:\n\u001b[1;32m--> 669\u001b[0m     \u001b[38;5;28;01mreturn\u001b[39;00m \u001b[38;5;28;43mself\u001b[39;49m\u001b[38;5;241;43m.\u001b[39;49m\u001b[43m_sock\u001b[49m\u001b[38;5;241;43m.\u001b[39;49m\u001b[43mrecv_into\u001b[49m\u001b[43m(\u001b[49m\u001b[43mb\u001b[49m\u001b[43m)\u001b[49m\n\u001b[0;32m    670\u001b[0m \u001b[38;5;28;01mexcept\u001b[39;00m timeout:\n",
      "File \u001b[1;32m~\\anaconda3\\envs\\cakd7\\lib\\ssl.py:1241\u001b[0m, in \u001b[0;36mSSLSocket.recv_into\u001b[1;34m(self, buffer, nbytes, flags)\u001b[0m\n\u001b[0;32m   1238\u001b[0m         \u001b[38;5;28;01mraise\u001b[39;00m \u001b[38;5;167;01mValueError\u001b[39;00m(\n\u001b[0;32m   1239\u001b[0m           \u001b[38;5;124m\"\u001b[39m\u001b[38;5;124mnon-zero flags not allowed in calls to recv_into() on \u001b[39m\u001b[38;5;132;01m%s\u001b[39;00m\u001b[38;5;124m\"\u001b[39m \u001b[38;5;241m%\u001b[39m\n\u001b[0;32m   1240\u001b[0m           \u001b[38;5;28mself\u001b[39m\u001b[38;5;241m.\u001b[39m\u001b[38;5;18m__class__\u001b[39m)\n\u001b[1;32m-> 1241\u001b[0m     \u001b[38;5;28;01mreturn\u001b[39;00m \u001b[38;5;28;43mself\u001b[39;49m\u001b[38;5;241;43m.\u001b[39;49m\u001b[43mread\u001b[49m\u001b[43m(\u001b[49m\u001b[43mnbytes\u001b[49m\u001b[43m,\u001b[49m\u001b[43m \u001b[49m\u001b[43mbuffer\u001b[49m\u001b[43m)\u001b[49m\n\u001b[0;32m   1242\u001b[0m \u001b[38;5;28;01melse\u001b[39;00m:\n",
      "File \u001b[1;32m~\\anaconda3\\envs\\cakd7\\lib\\ssl.py:1099\u001b[0m, in \u001b[0;36mSSLSocket.read\u001b[1;34m(self, len, buffer)\u001b[0m\n\u001b[0;32m   1098\u001b[0m \u001b[38;5;28;01mif\u001b[39;00m buffer \u001b[38;5;129;01mis\u001b[39;00m \u001b[38;5;129;01mnot\u001b[39;00m \u001b[38;5;28;01mNone\u001b[39;00m:\n\u001b[1;32m-> 1099\u001b[0m     \u001b[38;5;28;01mreturn\u001b[39;00m \u001b[38;5;28;43mself\u001b[39;49m\u001b[38;5;241;43m.\u001b[39;49m\u001b[43m_sslobj\u001b[49m\u001b[38;5;241;43m.\u001b[39;49m\u001b[43mread\u001b[49m\u001b[43m(\u001b[49m\u001b[38;5;28;43mlen\u001b[39;49m\u001b[43m,\u001b[49m\u001b[43m \u001b[49m\u001b[43mbuffer\u001b[49m\u001b[43m)\u001b[49m\n\u001b[0;32m   1100\u001b[0m \u001b[38;5;28;01melse\u001b[39;00m:\n",
      "\u001b[1;31mConnectionResetError\u001b[0m: [WinError 10054] 현재 연결은 원격 호스트에 의해 강제로 끊겼습니다",
      "\nDuring handling of the above exception, another exception occurred:\n",
      "\u001b[1;31mProtocolError\u001b[0m                             Traceback (most recent call last)",
      "File \u001b[1;32m~\\anaconda3\\envs\\cakd7\\lib\\site-packages\\requests\\adapters.py:440\u001b[0m, in \u001b[0;36mHTTPAdapter.send\u001b[1;34m(self, request, stream, timeout, verify, cert, proxies)\u001b[0m\n\u001b[0;32m    439\u001b[0m \u001b[38;5;28;01mif\u001b[39;00m \u001b[38;5;129;01mnot\u001b[39;00m chunked:\n\u001b[1;32m--> 440\u001b[0m     resp \u001b[38;5;241m=\u001b[39m \u001b[43mconn\u001b[49m\u001b[38;5;241;43m.\u001b[39;49m\u001b[43murlopen\u001b[49m\u001b[43m(\u001b[49m\n\u001b[0;32m    441\u001b[0m \u001b[43m        \u001b[49m\u001b[43mmethod\u001b[49m\u001b[38;5;241;43m=\u001b[39;49m\u001b[43mrequest\u001b[49m\u001b[38;5;241;43m.\u001b[39;49m\u001b[43mmethod\u001b[49m\u001b[43m,\u001b[49m\n\u001b[0;32m    442\u001b[0m \u001b[43m        \u001b[49m\u001b[43murl\u001b[49m\u001b[38;5;241;43m=\u001b[39;49m\u001b[43murl\u001b[49m\u001b[43m,\u001b[49m\n\u001b[0;32m    443\u001b[0m \u001b[43m        \u001b[49m\u001b[43mbody\u001b[49m\u001b[38;5;241;43m=\u001b[39;49m\u001b[43mrequest\u001b[49m\u001b[38;5;241;43m.\u001b[39;49m\u001b[43mbody\u001b[49m\u001b[43m,\u001b[49m\n\u001b[0;32m    444\u001b[0m \u001b[43m        \u001b[49m\u001b[43mheaders\u001b[49m\u001b[38;5;241;43m=\u001b[39;49m\u001b[43mrequest\u001b[49m\u001b[38;5;241;43m.\u001b[39;49m\u001b[43mheaders\u001b[49m\u001b[43m,\u001b[49m\n\u001b[0;32m    445\u001b[0m \u001b[43m        \u001b[49m\u001b[43mredirect\u001b[49m\u001b[38;5;241;43m=\u001b[39;49m\u001b[38;5;28;43;01mFalse\u001b[39;49;00m\u001b[43m,\u001b[49m\n\u001b[0;32m    446\u001b[0m \u001b[43m        \u001b[49m\u001b[43massert_same_host\u001b[49m\u001b[38;5;241;43m=\u001b[39;49m\u001b[38;5;28;43;01mFalse\u001b[39;49;00m\u001b[43m,\u001b[49m\n\u001b[0;32m    447\u001b[0m \u001b[43m        \u001b[49m\u001b[43mpreload_content\u001b[49m\u001b[38;5;241;43m=\u001b[39;49m\u001b[38;5;28;43;01mFalse\u001b[39;49;00m\u001b[43m,\u001b[49m\n\u001b[0;32m    448\u001b[0m \u001b[43m        \u001b[49m\u001b[43mdecode_content\u001b[49m\u001b[38;5;241;43m=\u001b[39;49m\u001b[38;5;28;43;01mFalse\u001b[39;49;00m\u001b[43m,\u001b[49m\n\u001b[0;32m    449\u001b[0m \u001b[43m        \u001b[49m\u001b[43mretries\u001b[49m\u001b[38;5;241;43m=\u001b[39;49m\u001b[38;5;28;43mself\u001b[39;49m\u001b[38;5;241;43m.\u001b[39;49m\u001b[43mmax_retries\u001b[49m\u001b[43m,\u001b[49m\n\u001b[0;32m    450\u001b[0m \u001b[43m        \u001b[49m\u001b[43mtimeout\u001b[49m\u001b[38;5;241;43m=\u001b[39;49m\u001b[43mtimeout\u001b[49m\n\u001b[0;32m    451\u001b[0m \u001b[43m    \u001b[49m\u001b[43m)\u001b[49m\n\u001b[0;32m    453\u001b[0m \u001b[38;5;66;03m# Send the request.\u001b[39;00m\n\u001b[0;32m    454\u001b[0m \u001b[38;5;28;01melse\u001b[39;00m:\n",
      "File \u001b[1;32m~\\anaconda3\\envs\\cakd7\\lib\\site-packages\\urllib3\\connectionpool.py:785\u001b[0m, in \u001b[0;36mHTTPConnectionPool.urlopen\u001b[1;34m(self, method, url, body, headers, retries, redirect, assert_same_host, timeout, pool_timeout, release_conn, chunked, body_pos, **response_kw)\u001b[0m\n\u001b[0;32m    783\u001b[0m     e \u001b[38;5;241m=\u001b[39m ProtocolError(\u001b[38;5;124m\"\u001b[39m\u001b[38;5;124mConnection aborted.\u001b[39m\u001b[38;5;124m\"\u001b[39m, e)\n\u001b[1;32m--> 785\u001b[0m retries \u001b[38;5;241m=\u001b[39m \u001b[43mretries\u001b[49m\u001b[38;5;241;43m.\u001b[39;49m\u001b[43mincrement\u001b[49m\u001b[43m(\u001b[49m\n\u001b[0;32m    786\u001b[0m \u001b[43m    \u001b[49m\u001b[43mmethod\u001b[49m\u001b[43m,\u001b[49m\u001b[43m \u001b[49m\u001b[43murl\u001b[49m\u001b[43m,\u001b[49m\u001b[43m \u001b[49m\u001b[43merror\u001b[49m\u001b[38;5;241;43m=\u001b[39;49m\u001b[43me\u001b[49m\u001b[43m,\u001b[49m\u001b[43m \u001b[49m\u001b[43m_pool\u001b[49m\u001b[38;5;241;43m=\u001b[39;49m\u001b[38;5;28;43mself\u001b[39;49m\u001b[43m,\u001b[49m\u001b[43m \u001b[49m\u001b[43m_stacktrace\u001b[49m\u001b[38;5;241;43m=\u001b[39;49m\u001b[43msys\u001b[49m\u001b[38;5;241;43m.\u001b[39;49m\u001b[43mexc_info\u001b[49m\u001b[43m(\u001b[49m\u001b[43m)\u001b[49m\u001b[43m[\u001b[49m\u001b[38;5;241;43m2\u001b[39;49m\u001b[43m]\u001b[49m\n\u001b[0;32m    787\u001b[0m \u001b[43m\u001b[49m\u001b[43m)\u001b[49m\n\u001b[0;32m    788\u001b[0m retries\u001b[38;5;241m.\u001b[39msleep()\n",
      "File \u001b[1;32m~\\anaconda3\\envs\\cakd7\\lib\\site-packages\\urllib3\\util\\retry.py:550\u001b[0m, in \u001b[0;36mRetry.increment\u001b[1;34m(self, method, url, response, error, _pool, _stacktrace)\u001b[0m\n\u001b[0;32m    549\u001b[0m \u001b[38;5;28;01mif\u001b[39;00m read \u001b[38;5;129;01mis\u001b[39;00m \u001b[38;5;28;01mFalse\u001b[39;00m \u001b[38;5;129;01mor\u001b[39;00m \u001b[38;5;129;01mnot\u001b[39;00m \u001b[38;5;28mself\u001b[39m\u001b[38;5;241m.\u001b[39m_is_method_retryable(method):\n\u001b[1;32m--> 550\u001b[0m     \u001b[38;5;28;01mraise\u001b[39;00m \u001b[43msix\u001b[49m\u001b[38;5;241;43m.\u001b[39;49m\u001b[43mreraise\u001b[49m\u001b[43m(\u001b[49m\u001b[38;5;28;43mtype\u001b[39;49m\u001b[43m(\u001b[49m\u001b[43merror\u001b[49m\u001b[43m)\u001b[49m\u001b[43m,\u001b[49m\u001b[43m \u001b[49m\u001b[43merror\u001b[49m\u001b[43m,\u001b[49m\u001b[43m \u001b[49m\u001b[43m_stacktrace\u001b[49m\u001b[43m)\u001b[49m\n\u001b[0;32m    551\u001b[0m \u001b[38;5;28;01melif\u001b[39;00m read \u001b[38;5;129;01mis\u001b[39;00m \u001b[38;5;129;01mnot\u001b[39;00m \u001b[38;5;28;01mNone\u001b[39;00m:\n",
      "File \u001b[1;32m~\\anaconda3\\envs\\cakd7\\lib\\site-packages\\urllib3\\packages\\six.py:769\u001b[0m, in \u001b[0;36mreraise\u001b[1;34m(tp, value, tb)\u001b[0m\n\u001b[0;32m    768\u001b[0m \u001b[38;5;28;01mif\u001b[39;00m value\u001b[38;5;241m.\u001b[39m__traceback__ \u001b[38;5;129;01mis\u001b[39;00m \u001b[38;5;129;01mnot\u001b[39;00m tb:\n\u001b[1;32m--> 769\u001b[0m     \u001b[38;5;28;01mraise\u001b[39;00m value\u001b[38;5;241m.\u001b[39mwith_traceback(tb)\n\u001b[0;32m    770\u001b[0m \u001b[38;5;28;01mraise\u001b[39;00m value\n",
      "File \u001b[1;32m~\\anaconda3\\envs\\cakd7\\lib\\site-packages\\urllib3\\connectionpool.py:703\u001b[0m, in \u001b[0;36mHTTPConnectionPool.urlopen\u001b[1;34m(self, method, url, body, headers, retries, redirect, assert_same_host, timeout, pool_timeout, release_conn, chunked, body_pos, **response_kw)\u001b[0m\n\u001b[0;32m    702\u001b[0m \u001b[38;5;66;03m# Make the request on the httplib connection object.\u001b[39;00m\n\u001b[1;32m--> 703\u001b[0m httplib_response \u001b[38;5;241m=\u001b[39m \u001b[38;5;28;43mself\u001b[39;49m\u001b[38;5;241;43m.\u001b[39;49m\u001b[43m_make_request\u001b[49m\u001b[43m(\u001b[49m\n\u001b[0;32m    704\u001b[0m \u001b[43m    \u001b[49m\u001b[43mconn\u001b[49m\u001b[43m,\u001b[49m\n\u001b[0;32m    705\u001b[0m \u001b[43m    \u001b[49m\u001b[43mmethod\u001b[49m\u001b[43m,\u001b[49m\n\u001b[0;32m    706\u001b[0m \u001b[43m    \u001b[49m\u001b[43murl\u001b[49m\u001b[43m,\u001b[49m\n\u001b[0;32m    707\u001b[0m \u001b[43m    \u001b[49m\u001b[43mtimeout\u001b[49m\u001b[38;5;241;43m=\u001b[39;49m\u001b[43mtimeout_obj\u001b[49m\u001b[43m,\u001b[49m\n\u001b[0;32m    708\u001b[0m \u001b[43m    \u001b[49m\u001b[43mbody\u001b[49m\u001b[38;5;241;43m=\u001b[39;49m\u001b[43mbody\u001b[49m\u001b[43m,\u001b[49m\n\u001b[0;32m    709\u001b[0m \u001b[43m    \u001b[49m\u001b[43mheaders\u001b[49m\u001b[38;5;241;43m=\u001b[39;49m\u001b[43mheaders\u001b[49m\u001b[43m,\u001b[49m\n\u001b[0;32m    710\u001b[0m \u001b[43m    \u001b[49m\u001b[43mchunked\u001b[49m\u001b[38;5;241;43m=\u001b[39;49m\u001b[43mchunked\u001b[49m\u001b[43m,\u001b[49m\n\u001b[0;32m    711\u001b[0m \u001b[43m\u001b[49m\u001b[43m)\u001b[49m\n\u001b[0;32m    713\u001b[0m \u001b[38;5;66;03m# If we're going to release the connection in ``finally:``, then\u001b[39;00m\n\u001b[0;32m    714\u001b[0m \u001b[38;5;66;03m# the response doesn't need to know about the connection. Otherwise\u001b[39;00m\n\u001b[0;32m    715\u001b[0m \u001b[38;5;66;03m# it will also try to release it and we'll have a double-release\u001b[39;00m\n\u001b[0;32m    716\u001b[0m \u001b[38;5;66;03m# mess.\u001b[39;00m\n",
      "File \u001b[1;32m~\\anaconda3\\envs\\cakd7\\lib\\site-packages\\urllib3\\connectionpool.py:449\u001b[0m, in \u001b[0;36mHTTPConnectionPool._make_request\u001b[1;34m(self, conn, method, url, timeout, chunked, **httplib_request_kw)\u001b[0m\n\u001b[0;32m    445\u001b[0m         \u001b[38;5;28;01mexcept\u001b[39;00m \u001b[38;5;167;01mBaseException\u001b[39;00m \u001b[38;5;28;01mas\u001b[39;00m e:\n\u001b[0;32m    446\u001b[0m             \u001b[38;5;66;03m# Remove the TypeError from the exception chain in\u001b[39;00m\n\u001b[0;32m    447\u001b[0m             \u001b[38;5;66;03m# Python 3 (including for exceptions like SystemExit).\u001b[39;00m\n\u001b[0;32m    448\u001b[0m             \u001b[38;5;66;03m# Otherwise it looks like a bug in the code.\u001b[39;00m\n\u001b[1;32m--> 449\u001b[0m             \u001b[43msix\u001b[49m\u001b[38;5;241;43m.\u001b[39;49m\u001b[43mraise_from\u001b[49m\u001b[43m(\u001b[49m\u001b[43me\u001b[49m\u001b[43m,\u001b[49m\u001b[43m \u001b[49m\u001b[38;5;28;43;01mNone\u001b[39;49;00m\u001b[43m)\u001b[49m\n\u001b[0;32m    450\u001b[0m \u001b[38;5;28;01mexcept\u001b[39;00m (SocketTimeout, BaseSSLError, SocketError) \u001b[38;5;28;01mas\u001b[39;00m e:\n",
      "File \u001b[1;32m<string>:3\u001b[0m, in \u001b[0;36mraise_from\u001b[1;34m(value, from_value)\u001b[0m\n",
      "File \u001b[1;32m~\\anaconda3\\envs\\cakd7\\lib\\site-packages\\urllib3\\connectionpool.py:444\u001b[0m, in \u001b[0;36mHTTPConnectionPool._make_request\u001b[1;34m(self, conn, method, url, timeout, chunked, **httplib_request_kw)\u001b[0m\n\u001b[0;32m    443\u001b[0m \u001b[38;5;28;01mtry\u001b[39;00m:\n\u001b[1;32m--> 444\u001b[0m     httplib_response \u001b[38;5;241m=\u001b[39m \u001b[43mconn\u001b[49m\u001b[38;5;241;43m.\u001b[39;49m\u001b[43mgetresponse\u001b[49m\u001b[43m(\u001b[49m\u001b[43m)\u001b[49m\n\u001b[0;32m    445\u001b[0m \u001b[38;5;28;01mexcept\u001b[39;00m \u001b[38;5;167;01mBaseException\u001b[39;00m \u001b[38;5;28;01mas\u001b[39;00m e:\n\u001b[0;32m    446\u001b[0m     \u001b[38;5;66;03m# Remove the TypeError from the exception chain in\u001b[39;00m\n\u001b[0;32m    447\u001b[0m     \u001b[38;5;66;03m# Python 3 (including for exceptions like SystemExit).\u001b[39;00m\n\u001b[0;32m    448\u001b[0m     \u001b[38;5;66;03m# Otherwise it looks like a bug in the code.\u001b[39;00m\n",
      "File \u001b[1;32m~\\anaconda3\\envs\\cakd7\\lib\\http\\client.py:1348\u001b[0m, in \u001b[0;36mHTTPConnection.getresponse\u001b[1;34m(self)\u001b[0m\n\u001b[0;32m   1347\u001b[0m \u001b[38;5;28;01mtry\u001b[39;00m:\n\u001b[1;32m-> 1348\u001b[0m     \u001b[43mresponse\u001b[49m\u001b[38;5;241;43m.\u001b[39;49m\u001b[43mbegin\u001b[49m\u001b[43m(\u001b[49m\u001b[43m)\u001b[49m\n\u001b[0;32m   1349\u001b[0m \u001b[38;5;28;01mexcept\u001b[39;00m \u001b[38;5;167;01mConnectionError\u001b[39;00m:\n",
      "File \u001b[1;32m~\\anaconda3\\envs\\cakd7\\lib\\http\\client.py:316\u001b[0m, in \u001b[0;36mHTTPResponse.begin\u001b[1;34m(self)\u001b[0m\n\u001b[0;32m    315\u001b[0m \u001b[38;5;28;01mwhile\u001b[39;00m \u001b[38;5;28;01mTrue\u001b[39;00m:\n\u001b[1;32m--> 316\u001b[0m     version, status, reason \u001b[38;5;241m=\u001b[39m \u001b[38;5;28;43mself\u001b[39;49m\u001b[38;5;241;43m.\u001b[39;49m\u001b[43m_read_status\u001b[49m\u001b[43m(\u001b[49m\u001b[43m)\u001b[49m\n\u001b[0;32m    317\u001b[0m     \u001b[38;5;28;01mif\u001b[39;00m status \u001b[38;5;241m!=\u001b[39m CONTINUE:\n",
      "File \u001b[1;32m~\\anaconda3\\envs\\cakd7\\lib\\http\\client.py:277\u001b[0m, in \u001b[0;36mHTTPResponse._read_status\u001b[1;34m(self)\u001b[0m\n\u001b[0;32m    276\u001b[0m \u001b[38;5;28;01mdef\u001b[39;00m \u001b[38;5;21m_read_status\u001b[39m(\u001b[38;5;28mself\u001b[39m):\n\u001b[1;32m--> 277\u001b[0m     line \u001b[38;5;241m=\u001b[39m \u001b[38;5;28mstr\u001b[39m(\u001b[38;5;28;43mself\u001b[39;49m\u001b[38;5;241;43m.\u001b[39;49m\u001b[43mfp\u001b[49m\u001b[38;5;241;43m.\u001b[39;49m\u001b[43mreadline\u001b[49m\u001b[43m(\u001b[49m\u001b[43m_MAXLINE\u001b[49m\u001b[43m \u001b[49m\u001b[38;5;241;43m+\u001b[39;49m\u001b[43m \u001b[49m\u001b[38;5;241;43m1\u001b[39;49m\u001b[43m)\u001b[49m, \u001b[38;5;124m\"\u001b[39m\u001b[38;5;124miso-8859-1\u001b[39m\u001b[38;5;124m\"\u001b[39m)\n\u001b[0;32m    278\u001b[0m     \u001b[38;5;28;01mif\u001b[39;00m \u001b[38;5;28mlen\u001b[39m(line) \u001b[38;5;241m>\u001b[39m _MAXLINE:\n",
      "File \u001b[1;32m~\\anaconda3\\envs\\cakd7\\lib\\socket.py:669\u001b[0m, in \u001b[0;36mSocketIO.readinto\u001b[1;34m(self, b)\u001b[0m\n\u001b[0;32m    668\u001b[0m \u001b[38;5;28;01mtry\u001b[39;00m:\n\u001b[1;32m--> 669\u001b[0m     \u001b[38;5;28;01mreturn\u001b[39;00m \u001b[38;5;28;43mself\u001b[39;49m\u001b[38;5;241;43m.\u001b[39;49m\u001b[43m_sock\u001b[49m\u001b[38;5;241;43m.\u001b[39;49m\u001b[43mrecv_into\u001b[49m\u001b[43m(\u001b[49m\u001b[43mb\u001b[49m\u001b[43m)\u001b[49m\n\u001b[0;32m    670\u001b[0m \u001b[38;5;28;01mexcept\u001b[39;00m timeout:\n",
      "File \u001b[1;32m~\\anaconda3\\envs\\cakd7\\lib\\ssl.py:1241\u001b[0m, in \u001b[0;36mSSLSocket.recv_into\u001b[1;34m(self, buffer, nbytes, flags)\u001b[0m\n\u001b[0;32m   1238\u001b[0m         \u001b[38;5;28;01mraise\u001b[39;00m \u001b[38;5;167;01mValueError\u001b[39;00m(\n\u001b[0;32m   1239\u001b[0m           \u001b[38;5;124m\"\u001b[39m\u001b[38;5;124mnon-zero flags not allowed in calls to recv_into() on \u001b[39m\u001b[38;5;132;01m%s\u001b[39;00m\u001b[38;5;124m\"\u001b[39m \u001b[38;5;241m%\u001b[39m\n\u001b[0;32m   1240\u001b[0m           \u001b[38;5;28mself\u001b[39m\u001b[38;5;241m.\u001b[39m\u001b[38;5;18m__class__\u001b[39m)\n\u001b[1;32m-> 1241\u001b[0m     \u001b[38;5;28;01mreturn\u001b[39;00m \u001b[38;5;28;43mself\u001b[39;49m\u001b[38;5;241;43m.\u001b[39;49m\u001b[43mread\u001b[49m\u001b[43m(\u001b[49m\u001b[43mnbytes\u001b[49m\u001b[43m,\u001b[49m\u001b[43m \u001b[49m\u001b[43mbuffer\u001b[49m\u001b[43m)\u001b[49m\n\u001b[0;32m   1242\u001b[0m \u001b[38;5;28;01melse\u001b[39;00m:\n",
      "File \u001b[1;32m~\\anaconda3\\envs\\cakd7\\lib\\ssl.py:1099\u001b[0m, in \u001b[0;36mSSLSocket.read\u001b[1;34m(self, len, buffer)\u001b[0m\n\u001b[0;32m   1098\u001b[0m \u001b[38;5;28;01mif\u001b[39;00m buffer \u001b[38;5;129;01mis\u001b[39;00m \u001b[38;5;129;01mnot\u001b[39;00m \u001b[38;5;28;01mNone\u001b[39;00m:\n\u001b[1;32m-> 1099\u001b[0m     \u001b[38;5;28;01mreturn\u001b[39;00m \u001b[38;5;28;43mself\u001b[39;49m\u001b[38;5;241;43m.\u001b[39;49m\u001b[43m_sslobj\u001b[49m\u001b[38;5;241;43m.\u001b[39;49m\u001b[43mread\u001b[49m\u001b[43m(\u001b[49m\u001b[38;5;28;43mlen\u001b[39;49m\u001b[43m,\u001b[49m\u001b[43m \u001b[49m\u001b[43mbuffer\u001b[49m\u001b[43m)\u001b[49m\n\u001b[0;32m   1100\u001b[0m \u001b[38;5;28;01melse\u001b[39;00m:\n",
      "\u001b[1;31mProtocolError\u001b[0m: ('Connection aborted.', ConnectionResetError(10054, '현재 연결은 원격 호스트에 의해 강제로 끊겼습니다', None, 10054, None))",
      "\nDuring handling of the above exception, another exception occurred:\n",
      "\u001b[1;31mConnectionError\u001b[0m                           Traceback (most recent call last)",
      "Input \u001b[1;32mIn [21]\u001b[0m, in \u001b[0;36m<cell line: 11>\u001b[1;34m()\u001b[0m\n\u001b[0;32m      8\u001b[0m headers \u001b[38;5;241m=\u001b[39m {\u001b[38;5;124m\"\u001b[39m\u001b[38;5;124mUser-Agent\u001b[39m\u001b[38;5;124m\"\u001b[39m:\u001b[38;5;124m\"\u001b[39m\u001b[38;5;124mMozilla/5.0 (Windows NT 10.0; Win64; x64) AppleWebKit/537.36 (KHTML, like Gecko) Chrome/96.0.4664.45 Safari/537.36\u001b[39m\u001b[38;5;124m\"\u001b[39m}\n\u001b[0;32m     10\u001b[0m url \u001b[38;5;241m=\u001b[39m \u001b[38;5;124m'\u001b[39m\u001b[38;5;124mhttps://news.naver.com/main/main.naver?mode=LSD&mid=shm&sid1=102\u001b[39m\u001b[38;5;124m'\u001b[39m\n\u001b[1;32m---> 11\u001b[0m req \u001b[38;5;241m=\u001b[39m \u001b[43mrequests\u001b[49m\u001b[38;5;241;43m.\u001b[39;49m\u001b[43mget\u001b[49m\u001b[43m(\u001b[49m\u001b[43murl\u001b[49m\u001b[43m,\u001b[49m\u001b[43m \u001b[49m\u001b[43mheaders\u001b[49m\u001b[38;5;241;43m=\u001b[39;49m\u001b[43mheaders\u001b[49m\u001b[43m)\u001b[49m \u001b[38;5;66;03m#header 설정\u001b[39;00m\n\u001b[0;32m     12\u001b[0m bs \u001b[38;5;241m=\u001b[39m BeautifulSoup(req\u001b[38;5;241m.\u001b[39mcontent, \u001b[38;5;124m'\u001b[39m\u001b[38;5;124mhtml.parser\u001b[39m\u001b[38;5;124m'\u001b[39m)\n\u001b[0;32m     13\u001b[0m \u001b[38;5;28mprint\u001b[39m(bs)\n",
      "File \u001b[1;32m~\\anaconda3\\envs\\cakd7\\lib\\site-packages\\requests\\api.py:75\u001b[0m, in \u001b[0;36mget\u001b[1;34m(url, params, **kwargs)\u001b[0m\n\u001b[0;32m     64\u001b[0m \u001b[38;5;28;01mdef\u001b[39;00m \u001b[38;5;21mget\u001b[39m(url, params\u001b[38;5;241m=\u001b[39m\u001b[38;5;28;01mNone\u001b[39;00m, \u001b[38;5;241m*\u001b[39m\u001b[38;5;241m*\u001b[39mkwargs):\n\u001b[0;32m     65\u001b[0m     \u001b[38;5;124mr\u001b[39m\u001b[38;5;124;03m\"\"\"Sends a GET request.\u001b[39;00m\n\u001b[0;32m     66\u001b[0m \n\u001b[0;32m     67\u001b[0m \u001b[38;5;124;03m    :param url: URL for the new :class:`Request` object.\u001b[39;00m\n\u001b[1;32m   (...)\u001b[0m\n\u001b[0;32m     72\u001b[0m \u001b[38;5;124;03m    :rtype: requests.Response\u001b[39;00m\n\u001b[0;32m     73\u001b[0m \u001b[38;5;124;03m    \"\"\"\u001b[39;00m\n\u001b[1;32m---> 75\u001b[0m     \u001b[38;5;28;01mreturn\u001b[39;00m \u001b[43mrequest\u001b[49m\u001b[43m(\u001b[49m\u001b[38;5;124;43m'\u001b[39;49m\u001b[38;5;124;43mget\u001b[39;49m\u001b[38;5;124;43m'\u001b[39;49m\u001b[43m,\u001b[49m\u001b[43m \u001b[49m\u001b[43murl\u001b[49m\u001b[43m,\u001b[49m\u001b[43m \u001b[49m\u001b[43mparams\u001b[49m\u001b[38;5;241;43m=\u001b[39;49m\u001b[43mparams\u001b[49m\u001b[43m,\u001b[49m\u001b[43m \u001b[49m\u001b[38;5;241;43m*\u001b[39;49m\u001b[38;5;241;43m*\u001b[39;49m\u001b[43mkwargs\u001b[49m\u001b[43m)\u001b[49m\n",
      "File \u001b[1;32m~\\anaconda3\\envs\\cakd7\\lib\\site-packages\\requests\\api.py:61\u001b[0m, in \u001b[0;36mrequest\u001b[1;34m(method, url, **kwargs)\u001b[0m\n\u001b[0;32m     57\u001b[0m \u001b[38;5;66;03m# By using the 'with' statement we are sure the session is closed, thus we\u001b[39;00m\n\u001b[0;32m     58\u001b[0m \u001b[38;5;66;03m# avoid leaving sockets open which can trigger a ResourceWarning in some\u001b[39;00m\n\u001b[0;32m     59\u001b[0m \u001b[38;5;66;03m# cases, and look like a memory leak in others.\u001b[39;00m\n\u001b[0;32m     60\u001b[0m \u001b[38;5;28;01mwith\u001b[39;00m sessions\u001b[38;5;241m.\u001b[39mSession() \u001b[38;5;28;01mas\u001b[39;00m session:\n\u001b[1;32m---> 61\u001b[0m     \u001b[38;5;28;01mreturn\u001b[39;00m \u001b[43msession\u001b[49m\u001b[38;5;241;43m.\u001b[39;49m\u001b[43mrequest\u001b[49m\u001b[43m(\u001b[49m\u001b[43mmethod\u001b[49m\u001b[38;5;241;43m=\u001b[39;49m\u001b[43mmethod\u001b[49m\u001b[43m,\u001b[49m\u001b[43m \u001b[49m\u001b[43murl\u001b[49m\u001b[38;5;241;43m=\u001b[39;49m\u001b[43murl\u001b[49m\u001b[43m,\u001b[49m\u001b[43m \u001b[49m\u001b[38;5;241;43m*\u001b[39;49m\u001b[38;5;241;43m*\u001b[39;49m\u001b[43mkwargs\u001b[49m\u001b[43m)\u001b[49m\n",
      "File \u001b[1;32m~\\anaconda3\\envs\\cakd7\\lib\\site-packages\\requests\\sessions.py:529\u001b[0m, in \u001b[0;36mSession.request\u001b[1;34m(self, method, url, params, data, headers, cookies, files, auth, timeout, allow_redirects, proxies, hooks, stream, verify, cert, json)\u001b[0m\n\u001b[0;32m    524\u001b[0m send_kwargs \u001b[38;5;241m=\u001b[39m {\n\u001b[0;32m    525\u001b[0m     \u001b[38;5;124m'\u001b[39m\u001b[38;5;124mtimeout\u001b[39m\u001b[38;5;124m'\u001b[39m: timeout,\n\u001b[0;32m    526\u001b[0m     \u001b[38;5;124m'\u001b[39m\u001b[38;5;124mallow_redirects\u001b[39m\u001b[38;5;124m'\u001b[39m: allow_redirects,\n\u001b[0;32m    527\u001b[0m }\n\u001b[0;32m    528\u001b[0m send_kwargs\u001b[38;5;241m.\u001b[39mupdate(settings)\n\u001b[1;32m--> 529\u001b[0m resp \u001b[38;5;241m=\u001b[39m \u001b[38;5;28;43mself\u001b[39;49m\u001b[38;5;241;43m.\u001b[39;49m\u001b[43msend\u001b[49m\u001b[43m(\u001b[49m\u001b[43mprep\u001b[49m\u001b[43m,\u001b[49m\u001b[43m \u001b[49m\u001b[38;5;241;43m*\u001b[39;49m\u001b[38;5;241;43m*\u001b[39;49m\u001b[43msend_kwargs\u001b[49m\u001b[43m)\u001b[49m\n\u001b[0;32m    531\u001b[0m \u001b[38;5;28;01mreturn\u001b[39;00m resp\n",
      "File \u001b[1;32m~\\anaconda3\\envs\\cakd7\\lib\\site-packages\\requests\\sessions.py:645\u001b[0m, in \u001b[0;36mSession.send\u001b[1;34m(self, request, **kwargs)\u001b[0m\n\u001b[0;32m    642\u001b[0m start \u001b[38;5;241m=\u001b[39m preferred_clock()\n\u001b[0;32m    644\u001b[0m \u001b[38;5;66;03m# Send the request\u001b[39;00m\n\u001b[1;32m--> 645\u001b[0m r \u001b[38;5;241m=\u001b[39m \u001b[43madapter\u001b[49m\u001b[38;5;241;43m.\u001b[39;49m\u001b[43msend\u001b[49m\u001b[43m(\u001b[49m\u001b[43mrequest\u001b[49m\u001b[43m,\u001b[49m\u001b[43m \u001b[49m\u001b[38;5;241;43m*\u001b[39;49m\u001b[38;5;241;43m*\u001b[39;49m\u001b[43mkwargs\u001b[49m\u001b[43m)\u001b[49m\n\u001b[0;32m    647\u001b[0m \u001b[38;5;66;03m# Total elapsed time of the request (approximately)\u001b[39;00m\n\u001b[0;32m    648\u001b[0m elapsed \u001b[38;5;241m=\u001b[39m preferred_clock() \u001b[38;5;241m-\u001b[39m start\n",
      "File \u001b[1;32m~\\anaconda3\\envs\\cakd7\\lib\\site-packages\\requests\\adapters.py:501\u001b[0m, in \u001b[0;36mHTTPAdapter.send\u001b[1;34m(self, request, stream, timeout, verify, cert, proxies)\u001b[0m\n\u001b[0;32m    498\u001b[0m             \u001b[38;5;28;01mraise\u001b[39;00m\n\u001b[0;32m    500\u001b[0m \u001b[38;5;28;01mexcept\u001b[39;00m (ProtocolError, socket\u001b[38;5;241m.\u001b[39merror) \u001b[38;5;28;01mas\u001b[39;00m err:\n\u001b[1;32m--> 501\u001b[0m     \u001b[38;5;28;01mraise\u001b[39;00m \u001b[38;5;167;01mConnectionError\u001b[39;00m(err, request\u001b[38;5;241m=\u001b[39mrequest)\n\u001b[0;32m    503\u001b[0m \u001b[38;5;28;01mexcept\u001b[39;00m MaxRetryError \u001b[38;5;28;01mas\u001b[39;00m e:\n\u001b[0;32m    504\u001b[0m     \u001b[38;5;28;01mif\u001b[39;00m \u001b[38;5;28misinstance\u001b[39m(e\u001b[38;5;241m.\u001b[39mreason, ConnectTimeoutError):\n\u001b[0;32m    505\u001b[0m         \u001b[38;5;66;03m# TODO: Remove this in 3.0.0: see #2811\u001b[39;00m\n",
      "\u001b[1;31mConnectionError\u001b[0m: ('Connection aborted.', ConnectionResetError(10054, '현재 연결은 원격 호스트에 의해 강제로 끊겼습니다', None, 10054, None))"
     ]
    }
   ],
   "source": [
    "#이미지 등의 미디어 파일을 다른 서버로부터 받고 싶을 때는 r.content를 사용해야 한다\n",
    "\n",
    "\n",
    "from bs4 import BeautifulSoup\n",
    "import requests\n",
    "\n",
    "# headers 입력\n",
    "headers = {\"User-Agent\":\"Mozilla/5.0 (Windows NT 10.0; Win64; x64) AppleWebKit/537.36 (KHTML, like Gecko) Chrome/96.0.4664.45 Safari/537.36\"}\n",
    "\n",
    "url = 'https://news.naver.com/main/main.naver?mode=LSD&mid=shm&sid1=102'\n",
    "req = requests.get(url, headers=headers) #header 설정\n",
    "bs = BeautifulSoup(req.content, 'html.parser')\n",
    "print(bs) "
   ]
  },
  {
   "cell_type": "code",
   "execution_count": 72,
   "id": "f0f0dac5",
   "metadata": {},
   "outputs": [
    {
     "ename": "AttributeError",
     "evalue": "'NoneType' object has no attribute 'text'",
     "output_type": "error",
     "traceback": [
      "\u001b[1;31m---------------------------------------------------------------------------\u001b[0m",
      "\u001b[1;31mAttributeError\u001b[0m                            Traceback (most recent call last)",
      "Input \u001b[1;32mIn [72]\u001b[0m, in \u001b[0;36m<cell line: 2>\u001b[1;34m()\u001b[0m\n\u001b[0;32m      1\u001b[0m target \u001b[38;5;241m=\u001b[39m bs\u001b[38;5;241m.\u001b[39mselect_one(\u001b[38;5;124m'\u001b[39m\u001b[38;5;124m#main_content > div > div._persist > div:nth-child(1) > div:nth-child(1) > div.cluster_body > ul > li:nth-child(1) > div.cluster_text > a\u001b[39m\u001b[38;5;124m'\u001b[39m)\n\u001b[1;32m----> 2\u001b[0m \u001b[38;5;28mprint\u001b[39m(\u001b[43mtarget\u001b[49m\u001b[38;5;241;43m.\u001b[39;49m\u001b[43mtext\u001b[49m,\u001b[38;5;124m'\u001b[39m\u001b[38;5;130;01m\\n\u001b[39;00m\u001b[38;5;124m'\u001b[39m)\n\u001b[0;32m      3\u001b[0m \u001b[38;5;28mprint\u001b[39m(target,\u001b[38;5;124m'\u001b[39m\u001b[38;5;130;01m\\n\u001b[39;00m\u001b[38;5;124m'\u001b[39m)\n\u001b[0;32m      4\u001b[0m \u001b[38;5;28mprint\u001b[39m(target[\u001b[38;5;124m'\u001b[39m\u001b[38;5;124mclass\u001b[39m\u001b[38;5;124m'\u001b[39m],\u001b[38;5;124m'\u001b[39m\u001b[38;5;130;01m\\n\u001b[39;00m\u001b[38;5;124m'\u001b[39m)\n",
      "\u001b[1;31mAttributeError\u001b[0m: 'NoneType' object has no attribute 'text'"
     ]
    }
   ],
   "source": [
    "target = bs.select_one('#main_content > div > div._persist > div:nth-child(1) > div:nth-child(1) > div.cluster_body > ul > li:nth-child(1) > div.cluster_text > a')\n",
    "print(target.text,'\\n')\n",
    "print(target,'\\n')\n",
    "print(target['class'],'\\n')\n",
    "print(target['href'])\n"
   ]
  },
  {
   "cell_type": "code",
   "execution_count": 23,
   "id": "abc079d1",
   "metadata": {},
   "outputs": [],
   "source": [
    "target = bs.select('#main_content > div > div > div > div > div > ul > li > div > a') \n",
    "for element in target:\n",
    "    print(element.text)\n",
    "    print(element['href'])\n",
    "    \n",
    " "
   ]
  },
  {
   "cell_type": "code",
   "execution_count": 22,
   "id": "4b0a0d98",
   "metadata": {
    "scrolled": true
   },
   "outputs": [
    {
     "name": "stdout",
     "output_type": "stream",
     "text": [
      "<img class=\"_LAZY_LOADING\" data-src=\"https://imgnews.pstatic.net/image/629/2022/07/26/202229941658735740_20220726060102195.jpg?type=w647\" id=\"img1\">\n",
      "</img>\n",
      "----------------------------------------------------------------------------------------------------\n",
      "https://imgnews.pstatic.net/image/629/2022/07/26/202229941658735740_20220726060102195.jpg?type=w647\n"
     ]
    }
   ],
   "source": [
    "#이미지 추출\n",
    "import requests as rq\n",
    "\n",
    "url = 'https://n.news.naver.com/mnews/article/629/0000162958?sid=102'\n",
    "headers = {\"User-Agent\":\"Mozilla/5.0 (Windows NT 10.0; Win64; x64) AppleWebKit/537.36 (KHTML, like Gecko) Chrome/96.0.4664.45 Safari/537.36\"}\n",
    "req = requests.get(url,headers=headers)\n",
    "bs = BeautifulSoup(req.content, 'html.parser') #content로 가져와 \n",
    "\n",
    "\n",
    "\n",
    "target = bs.select_one('#img1') #id가 img1임 \n",
    "print(target)\n",
    "print('-'*100)\n",
    "print(target['data-src'])"
   ]
  },
  {
   "cell_type": "code",
   "execution_count": 75,
   "id": "4bd9eedf",
   "metadata": {},
   "outputs": [
    {
     "ename": "NameError",
     "evalue": "name 'headers' is not defined",
     "output_type": "error",
     "traceback": [
      "\u001b[1;31m---------------------------------------------------------------------------\u001b[0m",
      "\u001b[1;31mNameError\u001b[0m                                 Traceback (most recent call last)",
      "Input \u001b[1;32mIn [75]\u001b[0m, in \u001b[0;36m<cell line: 11>\u001b[1;34m()\u001b[0m\n\u001b[0;32m      8\u001b[0m \u001b[38;5;28;01mimport\u001b[39;00m \u001b[38;5;21;01mrequests\u001b[39;00m\n\u001b[0;32m     10\u001b[0m url \u001b[38;5;241m=\u001b[39m \u001b[38;5;124m'\u001b[39m\u001b[38;5;124mhttps://news.naver.com/main/main.nhn?mode=LSD&mid=shm&sid1=100\u001b[39m\u001b[38;5;124m'\u001b[39m\n\u001b[1;32m---> 11\u001b[0m rqs \u001b[38;5;241m=\u001b[39m requests\u001b[38;5;241m.\u001b[39mget(url,headers\u001b[38;5;241m=\u001b[39m\u001b[43mheaders\u001b[49m)\u001b[38;5;241m.\u001b[39mtext\n\u001b[0;32m     12\u001b[0m bs \u001b[38;5;241m=\u001b[39m BeautifulSoup(rqs,\u001b[38;5;124m'\u001b[39m\u001b[38;5;124mlxml\u001b[39m\u001b[38;5;124m'\u001b[39m)\n\u001b[0;32m     13\u001b[0m bs \u001b[38;5;241m=\u001b[39m bs\u001b[38;5;241m.\u001b[39mfind_all(\u001b[38;5;124m'\u001b[39m\u001b[38;5;124mdiv\u001b[39m\u001b[38;5;124m'\u001b[39m,class_\u001b[38;5;241m=\u001b[39m\u001b[38;5;124m'\u001b[39m\u001b[38;5;124mcluster\u001b[39m\u001b[38;5;124m'\u001b[39m)\n",
      "\u001b[1;31mNameError\u001b[0m: name 'headers' is not defined"
     ]
    }
   ],
   "source": [
    "# Q. url = 'https://news.naver.com/main/main.nhn?mode=LSD&mid=shm&sid1=100' 사이트에서 뉴스기사를 출력하세요.\n",
    "# - 용도는 주요 키워드 분석을 위한 데이터 셋 만들기\n",
    "# - 워드클라우드를 하기전단계 키워드를 뽑아서 데이터 셋 만들기 ! \n",
    "\n",
    "from konlpy.tag import Okt\n",
    "from collections import Counter\n",
    "from bs4 import BeautifulSoup\n",
    "import requests\n",
    "\n",
    "url = 'https://news.naver.com/main/main.nhn?mode=LSD&mid=shm&sid1=100'\n",
    "rqs = requests.get(url,headers=headers).text\n",
    "bs = BeautifulSoup(rqs,'lxml')\n",
    "bs = bs.find_all('div',class_='cluster')\n",
    "result = []\n",
    "for i in bs:\n",
    "    result.append(i.get_text())\n",
    "bs = re.sub('[^가-힣]+',' ',str(result))\n",
    "\n",
    "okok = Okt()\n",
    "okok2 = okok.pos(bs)\n",
    "okre = []\n",
    "for i, j in okok2:\n",
    "    if (j =='Noun')& (len(i)> 1 ):\n",
    "        okre.append(i)\n",
    "\n",
    "okreid = dict(Counter(okre).most_common())\n",
    "okreid = sorted(okreid.items(), key=lambda x:x[1], reverse=True)\n",
    "okreid\n",
    "\n"
   ]
  },
  {
   "cell_type": "markdown",
   "id": "3526687a",
   "metadata": {},
   "source": [
    "#### 0726_2 과제\n",
    "네이버 카테고리별 기사를 아래 카테고리 정의를 기준으로 크롤링한 후 불필요한 공백을 제거하고 한글만으로 된 데이터 프레임을 출력하세요.\n",
    "- 카테고리 정의\n",
    "    - 100 정치\n",
    "        - (청와대[264] + 국회/정당[265] + 북한[268] + 국방/외교[267])\n",
    "\n",
    "    - 101 경제\n",
    "        - (금융[259] + 증권[258] + 산업/재계[261] + 글로벌 경제[262] + 부동산[260])\n",
    "\n",
    "    - 103 생활/문화\n",
    "        - (건강정보[241] + 여행/레저[237] + 공연/전시[242] + 날씨[248] + 생활문화 일반[245])\n",
    "\n",
    "    - 105 IT/과학\n",
    "        - (통신/뉴미디어[227] + IT 일반[230] + 컴퓨터[283] + 과학 일반[228])\n",
    "        \n",
    "- 1. 카테고리별 1000개, 총 4천개로 구성된 데이터프레임 생성\n",
    "--> 이렇게 카테고리별로 1000개씩 뽑아야 각 주제별로 균등하게 동등한 수준에서 키워드를 뽑을 수 있는거지, 의도적으로 어떤 카테고리에 치우쳐서 뽑히지않고\n",
    "2. 키워드 분석할 수 있게 말뭉치로 바꿔야함(키워드 분석할수있는 dataset으로 만들어주기)\n",
    "- 데이터 프레임은 행별로 쭉 되어있으니까 다 합쳐줘야지 말뭉치로 바꿔줘야지 \n",
    "\n",
    "3. 자주 나오지만 별 의미없는 애들은 불용어 처리를 해주는게 좋다 ex) 기자, ~신문 뭐이런거\n"
   ]
  },
  {
   "cell_type": "markdown",
   "id": "64bcde3d",
   "metadata": {},
   "source": [
    "#웹구조 파악 : sid1 = 100, sid2 = 264, page = 이 3개를 해야겠구나 \n",
    "```\n",
    "#정치(sid1)\n",
    "https://news.naver.com/main/main.naver?mode=LSD&mid=shm&sid1=100\n",
    "#경제(sid1)\n",
    "https://news.naver.com/main/main.naver?mode=LSD&mid=shm&sid1=101   \n",
    "#정치에서 국회/정당(sid2)\n",
    "https://news.naver.com/main/list.naver?mode=LS2D&mid=shm&sid1=100&sid2=265\n",
    "#정치에서 국회/정당은 페이지수가 27까지 있네\n",
    "https://news.naver.com/main/list.naver?mode=LS2D&sid2=265&sid1=100&mid=shm&date=20220726&page=27\n",
    "```"
   ]
  },
  {
   "cell_type": "code",
   "execution_count": null,
   "id": "8b862356",
   "metadata": {},
   "outputs": [],
   "source": [
    "#sid1은 고정시키고 sid2를 변수로 만들자 \n",
    "url = 'https://news.naver.com/main/list.naver?mode=LS2D&sid2='+str(cat)+'&sid1=100&mid=shm&date=20220726&page='+str(i + 1)    "
   ]
  },
  {
   "cell_type": "code",
   "execution_count": 76,
   "id": "c1a7f480",
   "metadata": {},
   "outputs": [
    {
     "data": {
      "text/html": [
       "<div>\n",
       "<style scoped>\n",
       "    .dataframe tbody tr th:only-of-type {\n",
       "        vertical-align: middle;\n",
       "    }\n",
       "\n",
       "    .dataframe tbody tr th {\n",
       "        vertical-align: top;\n",
       "    }\n",
       "\n",
       "    .dataframe thead th {\n",
       "        text-align: right;\n",
       "    }\n",
       "</style>\n",
       "<table border=\"1\" class=\"dataframe\">\n",
       "  <thead>\n",
       "    <tr style=\"text-align: right;\">\n",
       "      <th></th>\n",
       "      <th>news</th>\n",
       "      <th>category</th>\n",
       "    </tr>\n",
       "  </thead>\n",
       "  <tbody>\n",
       "  </tbody>\n",
       "</table>\n",
       "</div>"
      ],
      "text/plain": [
       "Empty DataFrame\n",
       "Columns: [news, category]\n",
       "Index: []"
      ]
     },
     "execution_count": 76,
     "metadata": {},
     "output_type": "execute_result"
    }
   ],
   "source": [
    "import pandas as pd\n",
    "news_df = pd.DataFrame(columns = ['news', 'category'])\n",
    "news_df"
   ]
  },
  {
   "cell_type": "markdown",
   "id": "35d3de82",
   "metadata": {},
   "source": [
    "#### 1. 정치 dataframe"
   ]
  },
  {
   "cell_type": "code",
   "execution_count": 79,
   "id": "06dabd4f",
   "metadata": {},
   "outputs": [
    {
     "ename": "ConnectionError",
     "evalue": "('Connection aborted.', ConnectionResetError(10054, '현재 연결은 원격 호스트에 의해 강제로 끊겼습니다', None, 10054, None))",
     "output_type": "error",
     "traceback": [
      "\u001b[1;31m---------------------------------------------------------------------------\u001b[0m",
      "\u001b[1;31mConnectionResetError\u001b[0m                      Traceback (most recent call last)",
      "File \u001b[1;32m~\\anaconda3\\envs\\cakd7\\lib\\site-packages\\urllib3\\connectionpool.py:703\u001b[0m, in \u001b[0;36mHTTPConnectionPool.urlopen\u001b[1;34m(self, method, url, body, headers, retries, redirect, assert_same_host, timeout, pool_timeout, release_conn, chunked, body_pos, **response_kw)\u001b[0m\n\u001b[0;32m    702\u001b[0m \u001b[38;5;66;03m# Make the request on the httplib connection object.\u001b[39;00m\n\u001b[1;32m--> 703\u001b[0m httplib_response \u001b[38;5;241m=\u001b[39m \u001b[38;5;28;43mself\u001b[39;49m\u001b[38;5;241;43m.\u001b[39;49m\u001b[43m_make_request\u001b[49m\u001b[43m(\u001b[49m\n\u001b[0;32m    704\u001b[0m \u001b[43m    \u001b[49m\u001b[43mconn\u001b[49m\u001b[43m,\u001b[49m\n\u001b[0;32m    705\u001b[0m \u001b[43m    \u001b[49m\u001b[43mmethod\u001b[49m\u001b[43m,\u001b[49m\n\u001b[0;32m    706\u001b[0m \u001b[43m    \u001b[49m\u001b[43murl\u001b[49m\u001b[43m,\u001b[49m\n\u001b[0;32m    707\u001b[0m \u001b[43m    \u001b[49m\u001b[43mtimeout\u001b[49m\u001b[38;5;241;43m=\u001b[39;49m\u001b[43mtimeout_obj\u001b[49m\u001b[43m,\u001b[49m\n\u001b[0;32m    708\u001b[0m \u001b[43m    \u001b[49m\u001b[43mbody\u001b[49m\u001b[38;5;241;43m=\u001b[39;49m\u001b[43mbody\u001b[49m\u001b[43m,\u001b[49m\n\u001b[0;32m    709\u001b[0m \u001b[43m    \u001b[49m\u001b[43mheaders\u001b[49m\u001b[38;5;241;43m=\u001b[39;49m\u001b[43mheaders\u001b[49m\u001b[43m,\u001b[49m\n\u001b[0;32m    710\u001b[0m \u001b[43m    \u001b[49m\u001b[43mchunked\u001b[49m\u001b[38;5;241;43m=\u001b[39;49m\u001b[43mchunked\u001b[49m\u001b[43m,\u001b[49m\n\u001b[0;32m    711\u001b[0m \u001b[43m\u001b[49m\u001b[43m)\u001b[49m\n\u001b[0;32m    713\u001b[0m \u001b[38;5;66;03m# If we're going to release the connection in ``finally:``, then\u001b[39;00m\n\u001b[0;32m    714\u001b[0m \u001b[38;5;66;03m# the response doesn't need to know about the connection. Otherwise\u001b[39;00m\n\u001b[0;32m    715\u001b[0m \u001b[38;5;66;03m# it will also try to release it and we'll have a double-release\u001b[39;00m\n\u001b[0;32m    716\u001b[0m \u001b[38;5;66;03m# mess.\u001b[39;00m\n",
      "File \u001b[1;32m~\\anaconda3\\envs\\cakd7\\lib\\site-packages\\urllib3\\connectionpool.py:449\u001b[0m, in \u001b[0;36mHTTPConnectionPool._make_request\u001b[1;34m(self, conn, method, url, timeout, chunked, **httplib_request_kw)\u001b[0m\n\u001b[0;32m    445\u001b[0m         \u001b[38;5;28;01mexcept\u001b[39;00m \u001b[38;5;167;01mBaseException\u001b[39;00m \u001b[38;5;28;01mas\u001b[39;00m e:\n\u001b[0;32m    446\u001b[0m             \u001b[38;5;66;03m# Remove the TypeError from the exception chain in\u001b[39;00m\n\u001b[0;32m    447\u001b[0m             \u001b[38;5;66;03m# Python 3 (including for exceptions like SystemExit).\u001b[39;00m\n\u001b[0;32m    448\u001b[0m             \u001b[38;5;66;03m# Otherwise it looks like a bug in the code.\u001b[39;00m\n\u001b[1;32m--> 449\u001b[0m             \u001b[43msix\u001b[49m\u001b[38;5;241;43m.\u001b[39;49m\u001b[43mraise_from\u001b[49m\u001b[43m(\u001b[49m\u001b[43me\u001b[49m\u001b[43m,\u001b[49m\u001b[43m \u001b[49m\u001b[38;5;28;43;01mNone\u001b[39;49;00m\u001b[43m)\u001b[49m\n\u001b[0;32m    450\u001b[0m \u001b[38;5;28;01mexcept\u001b[39;00m (SocketTimeout, BaseSSLError, SocketError) \u001b[38;5;28;01mas\u001b[39;00m e:\n",
      "File \u001b[1;32m<string>:3\u001b[0m, in \u001b[0;36mraise_from\u001b[1;34m(value, from_value)\u001b[0m\n",
      "File \u001b[1;32m~\\anaconda3\\envs\\cakd7\\lib\\site-packages\\urllib3\\connectionpool.py:444\u001b[0m, in \u001b[0;36mHTTPConnectionPool._make_request\u001b[1;34m(self, conn, method, url, timeout, chunked, **httplib_request_kw)\u001b[0m\n\u001b[0;32m    443\u001b[0m \u001b[38;5;28;01mtry\u001b[39;00m:\n\u001b[1;32m--> 444\u001b[0m     httplib_response \u001b[38;5;241m=\u001b[39m \u001b[43mconn\u001b[49m\u001b[38;5;241;43m.\u001b[39;49m\u001b[43mgetresponse\u001b[49m\u001b[43m(\u001b[49m\u001b[43m)\u001b[49m\n\u001b[0;32m    445\u001b[0m \u001b[38;5;28;01mexcept\u001b[39;00m \u001b[38;5;167;01mBaseException\u001b[39;00m \u001b[38;5;28;01mas\u001b[39;00m e:\n\u001b[0;32m    446\u001b[0m     \u001b[38;5;66;03m# Remove the TypeError from the exception chain in\u001b[39;00m\n\u001b[0;32m    447\u001b[0m     \u001b[38;5;66;03m# Python 3 (including for exceptions like SystemExit).\u001b[39;00m\n\u001b[0;32m    448\u001b[0m     \u001b[38;5;66;03m# Otherwise it looks like a bug in the code.\u001b[39;00m\n",
      "File \u001b[1;32m~\\anaconda3\\envs\\cakd7\\lib\\http\\client.py:1348\u001b[0m, in \u001b[0;36mHTTPConnection.getresponse\u001b[1;34m(self)\u001b[0m\n\u001b[0;32m   1347\u001b[0m \u001b[38;5;28;01mtry\u001b[39;00m:\n\u001b[1;32m-> 1348\u001b[0m     \u001b[43mresponse\u001b[49m\u001b[38;5;241;43m.\u001b[39;49m\u001b[43mbegin\u001b[49m\u001b[43m(\u001b[49m\u001b[43m)\u001b[49m\n\u001b[0;32m   1349\u001b[0m \u001b[38;5;28;01mexcept\u001b[39;00m \u001b[38;5;167;01mConnectionError\u001b[39;00m:\n",
      "File \u001b[1;32m~\\anaconda3\\envs\\cakd7\\lib\\http\\client.py:316\u001b[0m, in \u001b[0;36mHTTPResponse.begin\u001b[1;34m(self)\u001b[0m\n\u001b[0;32m    315\u001b[0m \u001b[38;5;28;01mwhile\u001b[39;00m \u001b[38;5;28;01mTrue\u001b[39;00m:\n\u001b[1;32m--> 316\u001b[0m     version, status, reason \u001b[38;5;241m=\u001b[39m \u001b[38;5;28;43mself\u001b[39;49m\u001b[38;5;241;43m.\u001b[39;49m\u001b[43m_read_status\u001b[49m\u001b[43m(\u001b[49m\u001b[43m)\u001b[49m\n\u001b[0;32m    317\u001b[0m     \u001b[38;5;28;01mif\u001b[39;00m status \u001b[38;5;241m!=\u001b[39m CONTINUE:\n",
      "File \u001b[1;32m~\\anaconda3\\envs\\cakd7\\lib\\http\\client.py:277\u001b[0m, in \u001b[0;36mHTTPResponse._read_status\u001b[1;34m(self)\u001b[0m\n\u001b[0;32m    276\u001b[0m \u001b[38;5;28;01mdef\u001b[39;00m \u001b[38;5;21m_read_status\u001b[39m(\u001b[38;5;28mself\u001b[39m):\n\u001b[1;32m--> 277\u001b[0m     line \u001b[38;5;241m=\u001b[39m \u001b[38;5;28mstr\u001b[39m(\u001b[38;5;28;43mself\u001b[39;49m\u001b[38;5;241;43m.\u001b[39;49m\u001b[43mfp\u001b[49m\u001b[38;5;241;43m.\u001b[39;49m\u001b[43mreadline\u001b[49m\u001b[43m(\u001b[49m\u001b[43m_MAXLINE\u001b[49m\u001b[43m \u001b[49m\u001b[38;5;241;43m+\u001b[39;49m\u001b[43m \u001b[49m\u001b[38;5;241;43m1\u001b[39;49m\u001b[43m)\u001b[49m, \u001b[38;5;124m\"\u001b[39m\u001b[38;5;124miso-8859-1\u001b[39m\u001b[38;5;124m\"\u001b[39m)\n\u001b[0;32m    278\u001b[0m     \u001b[38;5;28;01mif\u001b[39;00m \u001b[38;5;28mlen\u001b[39m(line) \u001b[38;5;241m>\u001b[39m _MAXLINE:\n",
      "File \u001b[1;32m~\\anaconda3\\envs\\cakd7\\lib\\socket.py:669\u001b[0m, in \u001b[0;36mSocketIO.readinto\u001b[1;34m(self, b)\u001b[0m\n\u001b[0;32m    668\u001b[0m \u001b[38;5;28;01mtry\u001b[39;00m:\n\u001b[1;32m--> 669\u001b[0m     \u001b[38;5;28;01mreturn\u001b[39;00m \u001b[38;5;28;43mself\u001b[39;49m\u001b[38;5;241;43m.\u001b[39;49m\u001b[43m_sock\u001b[49m\u001b[38;5;241;43m.\u001b[39;49m\u001b[43mrecv_into\u001b[49m\u001b[43m(\u001b[49m\u001b[43mb\u001b[49m\u001b[43m)\u001b[49m\n\u001b[0;32m    670\u001b[0m \u001b[38;5;28;01mexcept\u001b[39;00m timeout:\n",
      "File \u001b[1;32m~\\anaconda3\\envs\\cakd7\\lib\\ssl.py:1241\u001b[0m, in \u001b[0;36mSSLSocket.recv_into\u001b[1;34m(self, buffer, nbytes, flags)\u001b[0m\n\u001b[0;32m   1238\u001b[0m         \u001b[38;5;28;01mraise\u001b[39;00m \u001b[38;5;167;01mValueError\u001b[39;00m(\n\u001b[0;32m   1239\u001b[0m           \u001b[38;5;124m\"\u001b[39m\u001b[38;5;124mnon-zero flags not allowed in calls to recv_into() on \u001b[39m\u001b[38;5;132;01m%s\u001b[39;00m\u001b[38;5;124m\"\u001b[39m \u001b[38;5;241m%\u001b[39m\n\u001b[0;32m   1240\u001b[0m           \u001b[38;5;28mself\u001b[39m\u001b[38;5;241m.\u001b[39m\u001b[38;5;18m__class__\u001b[39m)\n\u001b[1;32m-> 1241\u001b[0m     \u001b[38;5;28;01mreturn\u001b[39;00m \u001b[38;5;28;43mself\u001b[39;49m\u001b[38;5;241;43m.\u001b[39;49m\u001b[43mread\u001b[49m\u001b[43m(\u001b[49m\u001b[43mnbytes\u001b[49m\u001b[43m,\u001b[49m\u001b[43m \u001b[49m\u001b[43mbuffer\u001b[49m\u001b[43m)\u001b[49m\n\u001b[0;32m   1242\u001b[0m \u001b[38;5;28;01melse\u001b[39;00m:\n",
      "File \u001b[1;32m~\\anaconda3\\envs\\cakd7\\lib\\ssl.py:1099\u001b[0m, in \u001b[0;36mSSLSocket.read\u001b[1;34m(self, len, buffer)\u001b[0m\n\u001b[0;32m   1098\u001b[0m \u001b[38;5;28;01mif\u001b[39;00m buffer \u001b[38;5;129;01mis\u001b[39;00m \u001b[38;5;129;01mnot\u001b[39;00m \u001b[38;5;28;01mNone\u001b[39;00m:\n\u001b[1;32m-> 1099\u001b[0m     \u001b[38;5;28;01mreturn\u001b[39;00m \u001b[38;5;28;43mself\u001b[39;49m\u001b[38;5;241;43m.\u001b[39;49m\u001b[43m_sslobj\u001b[49m\u001b[38;5;241;43m.\u001b[39;49m\u001b[43mread\u001b[49m\u001b[43m(\u001b[49m\u001b[38;5;28;43mlen\u001b[39;49m\u001b[43m,\u001b[49m\u001b[43m \u001b[49m\u001b[43mbuffer\u001b[49m\u001b[43m)\u001b[49m\n\u001b[0;32m   1100\u001b[0m \u001b[38;5;28;01melse\u001b[39;00m:\n",
      "\u001b[1;31mConnectionResetError\u001b[0m: [WinError 10054] 현재 연결은 원격 호스트에 의해 강제로 끊겼습니다",
      "\nDuring handling of the above exception, another exception occurred:\n",
      "\u001b[1;31mProtocolError\u001b[0m                             Traceback (most recent call last)",
      "File \u001b[1;32m~\\anaconda3\\envs\\cakd7\\lib\\site-packages\\requests\\adapters.py:440\u001b[0m, in \u001b[0;36mHTTPAdapter.send\u001b[1;34m(self, request, stream, timeout, verify, cert, proxies)\u001b[0m\n\u001b[0;32m    439\u001b[0m \u001b[38;5;28;01mif\u001b[39;00m \u001b[38;5;129;01mnot\u001b[39;00m chunked:\n\u001b[1;32m--> 440\u001b[0m     resp \u001b[38;5;241m=\u001b[39m \u001b[43mconn\u001b[49m\u001b[38;5;241;43m.\u001b[39;49m\u001b[43murlopen\u001b[49m\u001b[43m(\u001b[49m\n\u001b[0;32m    441\u001b[0m \u001b[43m        \u001b[49m\u001b[43mmethod\u001b[49m\u001b[38;5;241;43m=\u001b[39;49m\u001b[43mrequest\u001b[49m\u001b[38;5;241;43m.\u001b[39;49m\u001b[43mmethod\u001b[49m\u001b[43m,\u001b[49m\n\u001b[0;32m    442\u001b[0m \u001b[43m        \u001b[49m\u001b[43murl\u001b[49m\u001b[38;5;241;43m=\u001b[39;49m\u001b[43murl\u001b[49m\u001b[43m,\u001b[49m\n\u001b[0;32m    443\u001b[0m \u001b[43m        \u001b[49m\u001b[43mbody\u001b[49m\u001b[38;5;241;43m=\u001b[39;49m\u001b[43mrequest\u001b[49m\u001b[38;5;241;43m.\u001b[39;49m\u001b[43mbody\u001b[49m\u001b[43m,\u001b[49m\n\u001b[0;32m    444\u001b[0m \u001b[43m        \u001b[49m\u001b[43mheaders\u001b[49m\u001b[38;5;241;43m=\u001b[39;49m\u001b[43mrequest\u001b[49m\u001b[38;5;241;43m.\u001b[39;49m\u001b[43mheaders\u001b[49m\u001b[43m,\u001b[49m\n\u001b[0;32m    445\u001b[0m \u001b[43m        \u001b[49m\u001b[43mredirect\u001b[49m\u001b[38;5;241;43m=\u001b[39;49m\u001b[38;5;28;43;01mFalse\u001b[39;49;00m\u001b[43m,\u001b[49m\n\u001b[0;32m    446\u001b[0m \u001b[43m        \u001b[49m\u001b[43massert_same_host\u001b[49m\u001b[38;5;241;43m=\u001b[39;49m\u001b[38;5;28;43;01mFalse\u001b[39;49;00m\u001b[43m,\u001b[49m\n\u001b[0;32m    447\u001b[0m \u001b[43m        \u001b[49m\u001b[43mpreload_content\u001b[49m\u001b[38;5;241;43m=\u001b[39;49m\u001b[38;5;28;43;01mFalse\u001b[39;49;00m\u001b[43m,\u001b[49m\n\u001b[0;32m    448\u001b[0m \u001b[43m        \u001b[49m\u001b[43mdecode_content\u001b[49m\u001b[38;5;241;43m=\u001b[39;49m\u001b[38;5;28;43;01mFalse\u001b[39;49;00m\u001b[43m,\u001b[49m\n\u001b[0;32m    449\u001b[0m \u001b[43m        \u001b[49m\u001b[43mretries\u001b[49m\u001b[38;5;241;43m=\u001b[39;49m\u001b[38;5;28;43mself\u001b[39;49m\u001b[38;5;241;43m.\u001b[39;49m\u001b[43mmax_retries\u001b[49m\u001b[43m,\u001b[49m\n\u001b[0;32m    450\u001b[0m \u001b[43m        \u001b[49m\u001b[43mtimeout\u001b[49m\u001b[38;5;241;43m=\u001b[39;49m\u001b[43mtimeout\u001b[49m\n\u001b[0;32m    451\u001b[0m \u001b[43m    \u001b[49m\u001b[43m)\u001b[49m\n\u001b[0;32m    453\u001b[0m \u001b[38;5;66;03m# Send the request.\u001b[39;00m\n\u001b[0;32m    454\u001b[0m \u001b[38;5;28;01melse\u001b[39;00m:\n",
      "File \u001b[1;32m~\\anaconda3\\envs\\cakd7\\lib\\site-packages\\urllib3\\connectionpool.py:785\u001b[0m, in \u001b[0;36mHTTPConnectionPool.urlopen\u001b[1;34m(self, method, url, body, headers, retries, redirect, assert_same_host, timeout, pool_timeout, release_conn, chunked, body_pos, **response_kw)\u001b[0m\n\u001b[0;32m    783\u001b[0m     e \u001b[38;5;241m=\u001b[39m ProtocolError(\u001b[38;5;124m\"\u001b[39m\u001b[38;5;124mConnection aborted.\u001b[39m\u001b[38;5;124m\"\u001b[39m, e)\n\u001b[1;32m--> 785\u001b[0m retries \u001b[38;5;241m=\u001b[39m \u001b[43mretries\u001b[49m\u001b[38;5;241;43m.\u001b[39;49m\u001b[43mincrement\u001b[49m\u001b[43m(\u001b[49m\n\u001b[0;32m    786\u001b[0m \u001b[43m    \u001b[49m\u001b[43mmethod\u001b[49m\u001b[43m,\u001b[49m\u001b[43m \u001b[49m\u001b[43murl\u001b[49m\u001b[43m,\u001b[49m\u001b[43m \u001b[49m\u001b[43merror\u001b[49m\u001b[38;5;241;43m=\u001b[39;49m\u001b[43me\u001b[49m\u001b[43m,\u001b[49m\u001b[43m \u001b[49m\u001b[43m_pool\u001b[49m\u001b[38;5;241;43m=\u001b[39;49m\u001b[38;5;28;43mself\u001b[39;49m\u001b[43m,\u001b[49m\u001b[43m \u001b[49m\u001b[43m_stacktrace\u001b[49m\u001b[38;5;241;43m=\u001b[39;49m\u001b[43msys\u001b[49m\u001b[38;5;241;43m.\u001b[39;49m\u001b[43mexc_info\u001b[49m\u001b[43m(\u001b[49m\u001b[43m)\u001b[49m\u001b[43m[\u001b[49m\u001b[38;5;241;43m2\u001b[39;49m\u001b[43m]\u001b[49m\n\u001b[0;32m    787\u001b[0m \u001b[43m\u001b[49m\u001b[43m)\u001b[49m\n\u001b[0;32m    788\u001b[0m retries\u001b[38;5;241m.\u001b[39msleep()\n",
      "File \u001b[1;32m~\\anaconda3\\envs\\cakd7\\lib\\site-packages\\urllib3\\util\\retry.py:550\u001b[0m, in \u001b[0;36mRetry.increment\u001b[1;34m(self, method, url, response, error, _pool, _stacktrace)\u001b[0m\n\u001b[0;32m    549\u001b[0m \u001b[38;5;28;01mif\u001b[39;00m read \u001b[38;5;129;01mis\u001b[39;00m \u001b[38;5;28;01mFalse\u001b[39;00m \u001b[38;5;129;01mor\u001b[39;00m \u001b[38;5;129;01mnot\u001b[39;00m \u001b[38;5;28mself\u001b[39m\u001b[38;5;241m.\u001b[39m_is_method_retryable(method):\n\u001b[1;32m--> 550\u001b[0m     \u001b[38;5;28;01mraise\u001b[39;00m \u001b[43msix\u001b[49m\u001b[38;5;241;43m.\u001b[39;49m\u001b[43mreraise\u001b[49m\u001b[43m(\u001b[49m\u001b[38;5;28;43mtype\u001b[39;49m\u001b[43m(\u001b[49m\u001b[43merror\u001b[49m\u001b[43m)\u001b[49m\u001b[43m,\u001b[49m\u001b[43m \u001b[49m\u001b[43merror\u001b[49m\u001b[43m,\u001b[49m\u001b[43m \u001b[49m\u001b[43m_stacktrace\u001b[49m\u001b[43m)\u001b[49m\n\u001b[0;32m    551\u001b[0m \u001b[38;5;28;01melif\u001b[39;00m read \u001b[38;5;129;01mis\u001b[39;00m \u001b[38;5;129;01mnot\u001b[39;00m \u001b[38;5;28;01mNone\u001b[39;00m:\n",
      "File \u001b[1;32m~\\anaconda3\\envs\\cakd7\\lib\\site-packages\\urllib3\\packages\\six.py:769\u001b[0m, in \u001b[0;36mreraise\u001b[1;34m(tp, value, tb)\u001b[0m\n\u001b[0;32m    768\u001b[0m \u001b[38;5;28;01mif\u001b[39;00m value\u001b[38;5;241m.\u001b[39m__traceback__ \u001b[38;5;129;01mis\u001b[39;00m \u001b[38;5;129;01mnot\u001b[39;00m tb:\n\u001b[1;32m--> 769\u001b[0m     \u001b[38;5;28;01mraise\u001b[39;00m value\u001b[38;5;241m.\u001b[39mwith_traceback(tb)\n\u001b[0;32m    770\u001b[0m \u001b[38;5;28;01mraise\u001b[39;00m value\n",
      "File \u001b[1;32m~\\anaconda3\\envs\\cakd7\\lib\\site-packages\\urllib3\\connectionpool.py:703\u001b[0m, in \u001b[0;36mHTTPConnectionPool.urlopen\u001b[1;34m(self, method, url, body, headers, retries, redirect, assert_same_host, timeout, pool_timeout, release_conn, chunked, body_pos, **response_kw)\u001b[0m\n\u001b[0;32m    702\u001b[0m \u001b[38;5;66;03m# Make the request on the httplib connection object.\u001b[39;00m\n\u001b[1;32m--> 703\u001b[0m httplib_response \u001b[38;5;241m=\u001b[39m \u001b[38;5;28;43mself\u001b[39;49m\u001b[38;5;241;43m.\u001b[39;49m\u001b[43m_make_request\u001b[49m\u001b[43m(\u001b[49m\n\u001b[0;32m    704\u001b[0m \u001b[43m    \u001b[49m\u001b[43mconn\u001b[49m\u001b[43m,\u001b[49m\n\u001b[0;32m    705\u001b[0m \u001b[43m    \u001b[49m\u001b[43mmethod\u001b[49m\u001b[43m,\u001b[49m\n\u001b[0;32m    706\u001b[0m \u001b[43m    \u001b[49m\u001b[43murl\u001b[49m\u001b[43m,\u001b[49m\n\u001b[0;32m    707\u001b[0m \u001b[43m    \u001b[49m\u001b[43mtimeout\u001b[49m\u001b[38;5;241;43m=\u001b[39;49m\u001b[43mtimeout_obj\u001b[49m\u001b[43m,\u001b[49m\n\u001b[0;32m    708\u001b[0m \u001b[43m    \u001b[49m\u001b[43mbody\u001b[49m\u001b[38;5;241;43m=\u001b[39;49m\u001b[43mbody\u001b[49m\u001b[43m,\u001b[49m\n\u001b[0;32m    709\u001b[0m \u001b[43m    \u001b[49m\u001b[43mheaders\u001b[49m\u001b[38;5;241;43m=\u001b[39;49m\u001b[43mheaders\u001b[49m\u001b[43m,\u001b[49m\n\u001b[0;32m    710\u001b[0m \u001b[43m    \u001b[49m\u001b[43mchunked\u001b[49m\u001b[38;5;241;43m=\u001b[39;49m\u001b[43mchunked\u001b[49m\u001b[43m,\u001b[49m\n\u001b[0;32m    711\u001b[0m \u001b[43m\u001b[49m\u001b[43m)\u001b[49m\n\u001b[0;32m    713\u001b[0m \u001b[38;5;66;03m# If we're going to release the connection in ``finally:``, then\u001b[39;00m\n\u001b[0;32m    714\u001b[0m \u001b[38;5;66;03m# the response doesn't need to know about the connection. Otherwise\u001b[39;00m\n\u001b[0;32m    715\u001b[0m \u001b[38;5;66;03m# it will also try to release it and we'll have a double-release\u001b[39;00m\n\u001b[0;32m    716\u001b[0m \u001b[38;5;66;03m# mess.\u001b[39;00m\n",
      "File \u001b[1;32m~\\anaconda3\\envs\\cakd7\\lib\\site-packages\\urllib3\\connectionpool.py:449\u001b[0m, in \u001b[0;36mHTTPConnectionPool._make_request\u001b[1;34m(self, conn, method, url, timeout, chunked, **httplib_request_kw)\u001b[0m\n\u001b[0;32m    445\u001b[0m         \u001b[38;5;28;01mexcept\u001b[39;00m \u001b[38;5;167;01mBaseException\u001b[39;00m \u001b[38;5;28;01mas\u001b[39;00m e:\n\u001b[0;32m    446\u001b[0m             \u001b[38;5;66;03m# Remove the TypeError from the exception chain in\u001b[39;00m\n\u001b[0;32m    447\u001b[0m             \u001b[38;5;66;03m# Python 3 (including for exceptions like SystemExit).\u001b[39;00m\n\u001b[0;32m    448\u001b[0m             \u001b[38;5;66;03m# Otherwise it looks like a bug in the code.\u001b[39;00m\n\u001b[1;32m--> 449\u001b[0m             \u001b[43msix\u001b[49m\u001b[38;5;241;43m.\u001b[39;49m\u001b[43mraise_from\u001b[49m\u001b[43m(\u001b[49m\u001b[43me\u001b[49m\u001b[43m,\u001b[49m\u001b[43m \u001b[49m\u001b[38;5;28;43;01mNone\u001b[39;49;00m\u001b[43m)\u001b[49m\n\u001b[0;32m    450\u001b[0m \u001b[38;5;28;01mexcept\u001b[39;00m (SocketTimeout, BaseSSLError, SocketError) \u001b[38;5;28;01mas\u001b[39;00m e:\n",
      "File \u001b[1;32m<string>:3\u001b[0m, in \u001b[0;36mraise_from\u001b[1;34m(value, from_value)\u001b[0m\n",
      "File \u001b[1;32m~\\anaconda3\\envs\\cakd7\\lib\\site-packages\\urllib3\\connectionpool.py:444\u001b[0m, in \u001b[0;36mHTTPConnectionPool._make_request\u001b[1;34m(self, conn, method, url, timeout, chunked, **httplib_request_kw)\u001b[0m\n\u001b[0;32m    443\u001b[0m \u001b[38;5;28;01mtry\u001b[39;00m:\n\u001b[1;32m--> 444\u001b[0m     httplib_response \u001b[38;5;241m=\u001b[39m \u001b[43mconn\u001b[49m\u001b[38;5;241;43m.\u001b[39;49m\u001b[43mgetresponse\u001b[49m\u001b[43m(\u001b[49m\u001b[43m)\u001b[49m\n\u001b[0;32m    445\u001b[0m \u001b[38;5;28;01mexcept\u001b[39;00m \u001b[38;5;167;01mBaseException\u001b[39;00m \u001b[38;5;28;01mas\u001b[39;00m e:\n\u001b[0;32m    446\u001b[0m     \u001b[38;5;66;03m# Remove the TypeError from the exception chain in\u001b[39;00m\n\u001b[0;32m    447\u001b[0m     \u001b[38;5;66;03m# Python 3 (including for exceptions like SystemExit).\u001b[39;00m\n\u001b[0;32m    448\u001b[0m     \u001b[38;5;66;03m# Otherwise it looks like a bug in the code.\u001b[39;00m\n",
      "File \u001b[1;32m~\\anaconda3\\envs\\cakd7\\lib\\http\\client.py:1348\u001b[0m, in \u001b[0;36mHTTPConnection.getresponse\u001b[1;34m(self)\u001b[0m\n\u001b[0;32m   1347\u001b[0m \u001b[38;5;28;01mtry\u001b[39;00m:\n\u001b[1;32m-> 1348\u001b[0m     \u001b[43mresponse\u001b[49m\u001b[38;5;241;43m.\u001b[39;49m\u001b[43mbegin\u001b[49m\u001b[43m(\u001b[49m\u001b[43m)\u001b[49m\n\u001b[0;32m   1349\u001b[0m \u001b[38;5;28;01mexcept\u001b[39;00m \u001b[38;5;167;01mConnectionError\u001b[39;00m:\n",
      "File \u001b[1;32m~\\anaconda3\\envs\\cakd7\\lib\\http\\client.py:316\u001b[0m, in \u001b[0;36mHTTPResponse.begin\u001b[1;34m(self)\u001b[0m\n\u001b[0;32m    315\u001b[0m \u001b[38;5;28;01mwhile\u001b[39;00m \u001b[38;5;28;01mTrue\u001b[39;00m:\n\u001b[1;32m--> 316\u001b[0m     version, status, reason \u001b[38;5;241m=\u001b[39m \u001b[38;5;28;43mself\u001b[39;49m\u001b[38;5;241;43m.\u001b[39;49m\u001b[43m_read_status\u001b[49m\u001b[43m(\u001b[49m\u001b[43m)\u001b[49m\n\u001b[0;32m    317\u001b[0m     \u001b[38;5;28;01mif\u001b[39;00m status \u001b[38;5;241m!=\u001b[39m CONTINUE:\n",
      "File \u001b[1;32m~\\anaconda3\\envs\\cakd7\\lib\\http\\client.py:277\u001b[0m, in \u001b[0;36mHTTPResponse._read_status\u001b[1;34m(self)\u001b[0m\n\u001b[0;32m    276\u001b[0m \u001b[38;5;28;01mdef\u001b[39;00m \u001b[38;5;21m_read_status\u001b[39m(\u001b[38;5;28mself\u001b[39m):\n\u001b[1;32m--> 277\u001b[0m     line \u001b[38;5;241m=\u001b[39m \u001b[38;5;28mstr\u001b[39m(\u001b[38;5;28;43mself\u001b[39;49m\u001b[38;5;241;43m.\u001b[39;49m\u001b[43mfp\u001b[49m\u001b[38;5;241;43m.\u001b[39;49m\u001b[43mreadline\u001b[49m\u001b[43m(\u001b[49m\u001b[43m_MAXLINE\u001b[49m\u001b[43m \u001b[49m\u001b[38;5;241;43m+\u001b[39;49m\u001b[43m \u001b[49m\u001b[38;5;241;43m1\u001b[39;49m\u001b[43m)\u001b[49m, \u001b[38;5;124m\"\u001b[39m\u001b[38;5;124miso-8859-1\u001b[39m\u001b[38;5;124m\"\u001b[39m)\n\u001b[0;32m    278\u001b[0m     \u001b[38;5;28;01mif\u001b[39;00m \u001b[38;5;28mlen\u001b[39m(line) \u001b[38;5;241m>\u001b[39m _MAXLINE:\n",
      "File \u001b[1;32m~\\anaconda3\\envs\\cakd7\\lib\\socket.py:669\u001b[0m, in \u001b[0;36mSocketIO.readinto\u001b[1;34m(self, b)\u001b[0m\n\u001b[0;32m    668\u001b[0m \u001b[38;5;28;01mtry\u001b[39;00m:\n\u001b[1;32m--> 669\u001b[0m     \u001b[38;5;28;01mreturn\u001b[39;00m \u001b[38;5;28;43mself\u001b[39;49m\u001b[38;5;241;43m.\u001b[39;49m\u001b[43m_sock\u001b[49m\u001b[38;5;241;43m.\u001b[39;49m\u001b[43mrecv_into\u001b[49m\u001b[43m(\u001b[49m\u001b[43mb\u001b[49m\u001b[43m)\u001b[49m\n\u001b[0;32m    670\u001b[0m \u001b[38;5;28;01mexcept\u001b[39;00m timeout:\n",
      "File \u001b[1;32m~\\anaconda3\\envs\\cakd7\\lib\\ssl.py:1241\u001b[0m, in \u001b[0;36mSSLSocket.recv_into\u001b[1;34m(self, buffer, nbytes, flags)\u001b[0m\n\u001b[0;32m   1238\u001b[0m         \u001b[38;5;28;01mraise\u001b[39;00m \u001b[38;5;167;01mValueError\u001b[39;00m(\n\u001b[0;32m   1239\u001b[0m           \u001b[38;5;124m\"\u001b[39m\u001b[38;5;124mnon-zero flags not allowed in calls to recv_into() on \u001b[39m\u001b[38;5;132;01m%s\u001b[39;00m\u001b[38;5;124m\"\u001b[39m \u001b[38;5;241m%\u001b[39m\n\u001b[0;32m   1240\u001b[0m           \u001b[38;5;28mself\u001b[39m\u001b[38;5;241m.\u001b[39m\u001b[38;5;18m__class__\u001b[39m)\n\u001b[1;32m-> 1241\u001b[0m     \u001b[38;5;28;01mreturn\u001b[39;00m \u001b[38;5;28;43mself\u001b[39;49m\u001b[38;5;241;43m.\u001b[39;49m\u001b[43mread\u001b[49m\u001b[43m(\u001b[49m\u001b[43mnbytes\u001b[49m\u001b[43m,\u001b[49m\u001b[43m \u001b[49m\u001b[43mbuffer\u001b[49m\u001b[43m)\u001b[49m\n\u001b[0;32m   1242\u001b[0m \u001b[38;5;28;01melse\u001b[39;00m:\n",
      "File \u001b[1;32m~\\anaconda3\\envs\\cakd7\\lib\\ssl.py:1099\u001b[0m, in \u001b[0;36mSSLSocket.read\u001b[1;34m(self, len, buffer)\u001b[0m\n\u001b[0;32m   1098\u001b[0m \u001b[38;5;28;01mif\u001b[39;00m buffer \u001b[38;5;129;01mis\u001b[39;00m \u001b[38;5;129;01mnot\u001b[39;00m \u001b[38;5;28;01mNone\u001b[39;00m:\n\u001b[1;32m-> 1099\u001b[0m     \u001b[38;5;28;01mreturn\u001b[39;00m \u001b[38;5;28;43mself\u001b[39;49m\u001b[38;5;241;43m.\u001b[39;49m\u001b[43m_sslobj\u001b[49m\u001b[38;5;241;43m.\u001b[39;49m\u001b[43mread\u001b[49m\u001b[43m(\u001b[49m\u001b[38;5;28;43mlen\u001b[39;49m\u001b[43m,\u001b[49m\u001b[43m \u001b[49m\u001b[43mbuffer\u001b[49m\u001b[43m)\u001b[49m\n\u001b[0;32m   1100\u001b[0m \u001b[38;5;28;01melse\u001b[39;00m:\n",
      "\u001b[1;31mProtocolError\u001b[0m: ('Connection aborted.', ConnectionResetError(10054, '현재 연결은 원격 호스트에 의해 강제로 끊겼습니다', None, 10054, None))",
      "\nDuring handling of the above exception, another exception occurred:\n",
      "\u001b[1;31mConnectionError\u001b[0m                           Traceback (most recent call last)",
      "Input \u001b[1;32mIn [79]\u001b[0m, in \u001b[0;36m<cell line: 10>\u001b[1;34m()\u001b[0m\n\u001b[0;32m     12\u001b[0m url \u001b[38;5;241m=\u001b[39m \u001b[38;5;124m'\u001b[39m\u001b[38;5;124mhttps://news.naver.com/main/list.naver?mode=LS2D&sid2=\u001b[39m\u001b[38;5;124m'\u001b[39m\u001b[38;5;241m+\u001b[39m\u001b[38;5;28mstr\u001b[39m(cat)\u001b[38;5;241m+\u001b[39m\u001b[38;5;124m'\u001b[39m\u001b[38;5;124m&sid1=100&mid=shm&date=20220726&page=\u001b[39m\u001b[38;5;124m'\u001b[39m\u001b[38;5;241m+\u001b[39m\u001b[38;5;28mstr\u001b[39m(i \u001b[38;5;241m+\u001b[39m \u001b[38;5;241m1\u001b[39m)\n\u001b[0;32m     13\u001b[0m headers \u001b[38;5;241m=\u001b[39m {\u001b[38;5;124m\"\u001b[39m\u001b[38;5;124mUser-Agent\u001b[39m\u001b[38;5;124m\"\u001b[39m:\u001b[38;5;124m\"\u001b[39m\u001b[38;5;124mMozilla/5.0 (Windows NT 10.0; Win64; x64) AppleWebKit/537.36 (KHTML, like Gecko) Chrome/96.0.4664.45 Safari/537.36\u001b[39m\u001b[38;5;124m\"\u001b[39m}\n\u001b[1;32m---> 14\u001b[0m news \u001b[38;5;241m=\u001b[39m \u001b[43mrequests\u001b[49m\u001b[38;5;241;43m.\u001b[39;49m\u001b[43mget\u001b[49m\u001b[43m(\u001b[49m\u001b[43murl\u001b[49m\u001b[43m,\u001b[49m\u001b[43m \u001b[49m\u001b[43mheaders\u001b[49m\u001b[43m \u001b[49m\u001b[38;5;241;43m=\u001b[39;49m\u001b[43m \u001b[49m\u001b[43mheaders\u001b[49m\u001b[43m)\u001b[49m\n\u001b[0;32m     15\u001b[0m bs \u001b[38;5;241m=\u001b[39m BeautifulSoup(news\u001b[38;5;241m.\u001b[39mtext, \u001b[38;5;124m'\u001b[39m\u001b[38;5;124mhtml.parser\u001b[39m\u001b[38;5;124m'\u001b[39m)\n\u001b[0;32m     16\u001b[0m links \u001b[38;5;241m=\u001b[39m bs\u001b[38;5;241m.\u001b[39mselect(\u001b[38;5;124m'\u001b[39m\u001b[38;5;124m#main_content > div > ul > li > dl > dt > a\u001b[39m\u001b[38;5;124m'\u001b[39m)\n",
      "File \u001b[1;32m~\\anaconda3\\envs\\cakd7\\lib\\site-packages\\requests\\api.py:75\u001b[0m, in \u001b[0;36mget\u001b[1;34m(url, params, **kwargs)\u001b[0m\n\u001b[0;32m     64\u001b[0m \u001b[38;5;28;01mdef\u001b[39;00m \u001b[38;5;21mget\u001b[39m(url, params\u001b[38;5;241m=\u001b[39m\u001b[38;5;28;01mNone\u001b[39;00m, \u001b[38;5;241m*\u001b[39m\u001b[38;5;241m*\u001b[39mkwargs):\n\u001b[0;32m     65\u001b[0m     \u001b[38;5;124mr\u001b[39m\u001b[38;5;124;03m\"\"\"Sends a GET request.\u001b[39;00m\n\u001b[0;32m     66\u001b[0m \n\u001b[0;32m     67\u001b[0m \u001b[38;5;124;03m    :param url: URL for the new :class:`Request` object.\u001b[39;00m\n\u001b[1;32m   (...)\u001b[0m\n\u001b[0;32m     72\u001b[0m \u001b[38;5;124;03m    :rtype: requests.Response\u001b[39;00m\n\u001b[0;32m     73\u001b[0m \u001b[38;5;124;03m    \"\"\"\u001b[39;00m\n\u001b[1;32m---> 75\u001b[0m     \u001b[38;5;28;01mreturn\u001b[39;00m \u001b[43mrequest\u001b[49m\u001b[43m(\u001b[49m\u001b[38;5;124;43m'\u001b[39;49m\u001b[38;5;124;43mget\u001b[39;49m\u001b[38;5;124;43m'\u001b[39;49m\u001b[43m,\u001b[49m\u001b[43m \u001b[49m\u001b[43murl\u001b[49m\u001b[43m,\u001b[49m\u001b[43m \u001b[49m\u001b[43mparams\u001b[49m\u001b[38;5;241;43m=\u001b[39;49m\u001b[43mparams\u001b[49m\u001b[43m,\u001b[49m\u001b[43m \u001b[49m\u001b[38;5;241;43m*\u001b[39;49m\u001b[38;5;241;43m*\u001b[39;49m\u001b[43mkwargs\u001b[49m\u001b[43m)\u001b[49m\n",
      "File \u001b[1;32m~\\anaconda3\\envs\\cakd7\\lib\\site-packages\\requests\\api.py:61\u001b[0m, in \u001b[0;36mrequest\u001b[1;34m(method, url, **kwargs)\u001b[0m\n\u001b[0;32m     57\u001b[0m \u001b[38;5;66;03m# By using the 'with' statement we are sure the session is closed, thus we\u001b[39;00m\n\u001b[0;32m     58\u001b[0m \u001b[38;5;66;03m# avoid leaving sockets open which can trigger a ResourceWarning in some\u001b[39;00m\n\u001b[0;32m     59\u001b[0m \u001b[38;5;66;03m# cases, and look like a memory leak in others.\u001b[39;00m\n\u001b[0;32m     60\u001b[0m \u001b[38;5;28;01mwith\u001b[39;00m sessions\u001b[38;5;241m.\u001b[39mSession() \u001b[38;5;28;01mas\u001b[39;00m session:\n\u001b[1;32m---> 61\u001b[0m     \u001b[38;5;28;01mreturn\u001b[39;00m \u001b[43msession\u001b[49m\u001b[38;5;241;43m.\u001b[39;49m\u001b[43mrequest\u001b[49m\u001b[43m(\u001b[49m\u001b[43mmethod\u001b[49m\u001b[38;5;241;43m=\u001b[39;49m\u001b[43mmethod\u001b[49m\u001b[43m,\u001b[49m\u001b[43m \u001b[49m\u001b[43murl\u001b[49m\u001b[38;5;241;43m=\u001b[39;49m\u001b[43murl\u001b[49m\u001b[43m,\u001b[49m\u001b[43m \u001b[49m\u001b[38;5;241;43m*\u001b[39;49m\u001b[38;5;241;43m*\u001b[39;49m\u001b[43mkwargs\u001b[49m\u001b[43m)\u001b[49m\n",
      "File \u001b[1;32m~\\anaconda3\\envs\\cakd7\\lib\\site-packages\\requests\\sessions.py:529\u001b[0m, in \u001b[0;36mSession.request\u001b[1;34m(self, method, url, params, data, headers, cookies, files, auth, timeout, allow_redirects, proxies, hooks, stream, verify, cert, json)\u001b[0m\n\u001b[0;32m    524\u001b[0m send_kwargs \u001b[38;5;241m=\u001b[39m {\n\u001b[0;32m    525\u001b[0m     \u001b[38;5;124m'\u001b[39m\u001b[38;5;124mtimeout\u001b[39m\u001b[38;5;124m'\u001b[39m: timeout,\n\u001b[0;32m    526\u001b[0m     \u001b[38;5;124m'\u001b[39m\u001b[38;5;124mallow_redirects\u001b[39m\u001b[38;5;124m'\u001b[39m: allow_redirects,\n\u001b[0;32m    527\u001b[0m }\n\u001b[0;32m    528\u001b[0m send_kwargs\u001b[38;5;241m.\u001b[39mupdate(settings)\n\u001b[1;32m--> 529\u001b[0m resp \u001b[38;5;241m=\u001b[39m \u001b[38;5;28;43mself\u001b[39;49m\u001b[38;5;241;43m.\u001b[39;49m\u001b[43msend\u001b[49m\u001b[43m(\u001b[49m\u001b[43mprep\u001b[49m\u001b[43m,\u001b[49m\u001b[43m \u001b[49m\u001b[38;5;241;43m*\u001b[39;49m\u001b[38;5;241;43m*\u001b[39;49m\u001b[43msend_kwargs\u001b[49m\u001b[43m)\u001b[49m\n\u001b[0;32m    531\u001b[0m \u001b[38;5;28;01mreturn\u001b[39;00m resp\n",
      "File \u001b[1;32m~\\anaconda3\\envs\\cakd7\\lib\\site-packages\\requests\\sessions.py:645\u001b[0m, in \u001b[0;36mSession.send\u001b[1;34m(self, request, **kwargs)\u001b[0m\n\u001b[0;32m    642\u001b[0m start \u001b[38;5;241m=\u001b[39m preferred_clock()\n\u001b[0;32m    644\u001b[0m \u001b[38;5;66;03m# Send the request\u001b[39;00m\n\u001b[1;32m--> 645\u001b[0m r \u001b[38;5;241m=\u001b[39m \u001b[43madapter\u001b[49m\u001b[38;5;241;43m.\u001b[39;49m\u001b[43msend\u001b[49m\u001b[43m(\u001b[49m\u001b[43mrequest\u001b[49m\u001b[43m,\u001b[49m\u001b[43m \u001b[49m\u001b[38;5;241;43m*\u001b[39;49m\u001b[38;5;241;43m*\u001b[39;49m\u001b[43mkwargs\u001b[49m\u001b[43m)\u001b[49m\n\u001b[0;32m    647\u001b[0m \u001b[38;5;66;03m# Total elapsed time of the request (approximately)\u001b[39;00m\n\u001b[0;32m    648\u001b[0m elapsed \u001b[38;5;241m=\u001b[39m preferred_clock() \u001b[38;5;241m-\u001b[39m start\n",
      "File \u001b[1;32m~\\anaconda3\\envs\\cakd7\\lib\\site-packages\\requests\\adapters.py:501\u001b[0m, in \u001b[0;36mHTTPAdapter.send\u001b[1;34m(self, request, stream, timeout, verify, cert, proxies)\u001b[0m\n\u001b[0;32m    498\u001b[0m             \u001b[38;5;28;01mraise\u001b[39;00m\n\u001b[0;32m    500\u001b[0m \u001b[38;5;28;01mexcept\u001b[39;00m (ProtocolError, socket\u001b[38;5;241m.\u001b[39merror) \u001b[38;5;28;01mas\u001b[39;00m err:\n\u001b[1;32m--> 501\u001b[0m     \u001b[38;5;28;01mraise\u001b[39;00m \u001b[38;5;167;01mConnectionError\u001b[39;00m(err, request\u001b[38;5;241m=\u001b[39mrequest)\n\u001b[0;32m    503\u001b[0m \u001b[38;5;28;01mexcept\u001b[39;00m MaxRetryError \u001b[38;5;28;01mas\u001b[39;00m e:\n\u001b[0;32m    504\u001b[0m     \u001b[38;5;28;01mif\u001b[39;00m \u001b[38;5;28misinstance\u001b[39m(e\u001b[38;5;241m.\u001b[39mreason, ConnectTimeoutError):\n\u001b[0;32m    505\u001b[0m         \u001b[38;5;66;03m# TODO: Remove this in 3.0.0: see #2811\u001b[39;00m\n",
      "\u001b[1;31mConnectionError\u001b[0m: ('Connection aborted.', ConnectionResetError(10054, '현재 연결은 원격 호스트에 의해 강제로 끊겼습니다', None, 10054, None))"
     ]
    }
   ],
   "source": [
    "from bs4 import BeautifulSoup\n",
    "import requests\n",
    "\n",
    "\n",
    "#main_content > div > ul > li > dl > dt > a\n",
    "cats = [264, 265, 268, 267]\n",
    "\n",
    "ind = 0 #행번호\n",
    "\n",
    "for cat in cats:\n",
    "    for i in range(15): #range안에는 페이지수, 넉넉하게 넣기 #여기는 15페이지까지 가겠네  \n",
    "        url = 'https://news.naver.com/main/list.naver?mode=LS2D&sid2='+str(cat)+'&sid1=100&mid=shm&date=20220726&page='+str(i + 1)\n",
    "        headers = {\"User-Agent\":\"Mozilla/5.0 (Windows NT 10.0; Win64; x64) AppleWebKit/537.36 (KHTML, like Gecko) Chrome/96.0.4664.45 Safari/537.36\"}\n",
    "        news = requests.get(url, headers = headers)\n",
    "        bs = BeautifulSoup(news.text, 'html.parser')\n",
    "        links = bs.select('#main_content > div > ul > li > dl > dt > a')\n",
    "        \n",
    "        newslinks = []\n",
    "        for j, a in enumerate(links):\n",
    "            newslink = a.get('href') #속성 'href'의 값 얻기 \n",
    "            newslinks.append(newslink)\n",
    "            newlinks = list(set(newslinks)) #중복 기사 제거\n",
    "            \n",
    "        for link in newlinks:\n",
    "            res2 = requests.get(link, headers = headers).text\n",
    "            bs2 = BeautifulSoup(res2, 'html.parser')\n",
    "            news = bs2.find('div', id='dic_area').text\n",
    "        \n",
    "            news = re.sub('\\n', '', news) #개행 공백으로\n",
    "            news = re.sub('\\t', '', news) #tab 공백으로\n",
    "            news_df.loc[ind] = [news, cat]\n",
    "            ind += 1\n",
    "news_df = news_df[:1000]\n",
    "news_df"
   ]
  },
  {
   "cell_type": "markdown",
   "id": "81cc982d",
   "metadata": {},
   "source": [
    "#### 2. 경제 데이터 프레임"
   ]
  },
  {
   "cell_type": "code",
   "execution_count": null,
   "id": "e8023fcb",
   "metadata": {},
   "outputs": [],
   "source": [
    "cats = [259, 258, 261, 262, 260]\n",
    "\n",
    "ind = 1000 #행번호\n",
    "\n",
    "for cat in cats:\n",
    "    for i in range(15): #range안에는 페이지수, 넉넉하게 넣기 #여기는 15페이지까지 가겠네  \n",
    "        url = 'https://news.naver.com/main/list.naver?mode=LS2D&sid2='+str(cat)+'&sid1=101&mid=shm&date=20220726&page='+str(i + 1)\n",
    "        headers = {\"User-Agent\":\"Mozilla/5.0 (Windows NT 10.0; Win64; x64) AppleWebKit/537.36 (KHTML, like Gecko) Chrome/96.0.4664.45 Safari/537.36\"}\n",
    "        news = requests.get(url, headers = headers)\n",
    "        bs = BeautifulSoup(news.text, 'html.parser')\n",
    "        links = bs.select('#main_content > div > ul > li > dl > dt > a')\n",
    "        \n",
    "        newslinks = []\n",
    "        for j, a in enumerate(links):\n",
    "            newslink = a.get('href') #속성 'href'의 값 얻기 \n",
    "            newslinks.append(newslink)\n",
    "            newlinks = list(set(newslinks)) #중복 기사 제거\n",
    "            \n",
    "        for link in newlinks:\n",
    "            res2 = requests.get(link, headers = headers).text\n",
    "            bs2 = BeautifulSoup(res2, 'html.parser')\n",
    "            news = bs2.find('div', id='dic_area').text\n",
    "        \n",
    "            news = re.sub('\\n', '', news) #개행 공백으로\n",
    "            news = re.sub('\\t', '', news) #tab 공백으로\n",
    "            news_df.loc[ind] = [news, cat]\n",
    "            ind += 1\n",
    "news_df = news_df[:2000]\n",
    "news_df"
   ]
  },
  {
   "cell_type": "markdown",
   "id": "8050c433",
   "metadata": {},
   "source": [
    "#### 3. 생활/문화 데이터 프레임"
   ]
  },
  {
   "cell_type": "code",
   "execution_count": null,
   "id": "0acb665c",
   "metadata": {},
   "outputs": [],
   "source": [
    "#왜 오류 뜨는지 여쭙기 오류 처리 그냥 하라해서 해줌 \n",
    "from bs4 import BeautifulSoup\n",
    "import requests\n",
    "\n",
    "#1000개 안 되길래 카테고리 다 넣어줌 \n",
    "cats = [241,239,240,237,238,376,242,243,244,248,245]\n",
    "\n",
    "ind = 2000 #행번호\n",
    "\n",
    "for cat in cats:\n",
    "    for i in range(15): #range안에는 페이지수, 넉넉하게 넣기 #여기는 15페이지까지 가겠네  \n",
    "        url = 'https://news.naver.com/main/list.naver?mode=LS2D&sid2='+str(cat)+'&sid1=103&mid=shm&date=20220726&page='+str(i + 1)\n",
    "        headers = {\"User-Agent\":\"Mozilla/5.0 (Windows NT 10.0; Win64; x64) AppleWebKit/537.36 (KHTML, like Gecko) Chrome/96.0.4664.45 Safari/537.36\"}\n",
    "        news = requests.get(url, headers = headers)\n",
    "        bs = BeautifulSoup(news.text, 'html.parser')\n",
    "        links = bs.select('#main_content > div > ul > li > dl > dt > a')\n",
    "        \n",
    "        newslinks = []\n",
    "        for j, a in enumerate(links):\n",
    "            newslink = a.get('href') #속성 'href'의 값 얻기 \n",
    "            newslinks.append(newslink)\n",
    "            newlinks = list(set(newslinks)) #중복 기사 제거\n",
    "            \n",
    "        for link in newlinks:\n",
    "            res2 = requests.get(link, headers = headers).text\n",
    "            bs2 = BeautifulSoup(res2, 'html.parser')\n",
    "            \n",
    "            try:\n",
    "                news = bs2.find('div', id='dic_area').text\n",
    "            except Exception as e:\n",
    "                continue\n",
    "            news = re.sub('\\n', '', news) #개행 공백으로\n",
    "            news = re.sub('\\t', '', news) #tab 공백으로\n",
    "            news_df.loc[ind] = [news, cat]\n",
    "            ind += 1\n",
    "news_df = news_df[:3000]\n",
    "news_df"
   ]
  },
  {
   "cell_type": "markdown",
   "id": "73c8995a",
   "metadata": {},
   "source": [
    "#### 4. IT/과학 데이터 프레임"
   ]
  },
  {
   "cell_type": "code",
   "execution_count": null,
   "id": "5d608cc3",
   "metadata": {},
   "outputs": [],
   "source": [
    "cats = [227, 230, 283, 228, 731, 226] #부족해서 채움 \n",
    "\n",
    "ind = 3000 #행번호\n",
    "\n",
    "for cat in cats:\n",
    "    for i in range(15): #range안에는 페이지수, 넉넉하게 넣기 #여기는 15페이지까지 가겠네  \n",
    "        url = 'https://news.naver.com/main/list.naver?mode=LS2D&sid2='+str(cat)+'&sid1=105&mid=shm&date=20220726&page='+str(i + 1)\n",
    "        headers = {\"User-Agent\":\"Mozilla/5.0 (Windows NT 10.0; Win64; x64) AppleWebKit/537.36 (KHTML, like Gecko) Chrome/96.0.4664.45 Safari/537.36\"}\n",
    "        news = requests.get(url, headers = headers)\n",
    "        bs = BeautifulSoup(news.text, 'html.parser')\n",
    "        links = bs.select('#main_content > div > ul > li > dl > dt > a')\n",
    "        \n",
    "        newslinks = []\n",
    "        for j, a in enumerate(links):\n",
    "            newslink = a.get('href') #속성 'href'의 값 얻기 \n",
    "            newslinks.append(newslink)\n",
    "            newlinks = list(set(newslinks)) #중복 기사 제거\n",
    "            \n",
    "        for link in newlinks:\n",
    "            res2 = requests.get(link, headers = headers).text\n",
    "            bs2 = BeautifulSoup(res2, 'html.parser')\n",
    "            try:\n",
    "                news = bs2.find('div', id='dic_area').text\n",
    "            except Exception as e:\n",
    "                continue\n",
    "            news = re.sub('\\n', '', news) #개행 공백으로\n",
    "            news = re.sub('\\t', '', news) #tab 공백으로\n",
    "            news_df.loc[ind] = [news, cat]\n",
    "            ind += 1\n",
    "news_df = news_df[:4000]\n",
    "news_df"
   ]
  },
  {
   "cell_type": "code",
   "execution_count": null,
   "id": "6cd3e7c8",
   "metadata": {},
   "outputs": [],
   "source": [
    "target = news_df['news'].values #배열\n",
    "title_list = target.tolist() #리스트로 변환\n",
    "text = ' '.join(title_list) #공백하나를 기준으로 각 요소들을 하나의 텍스트로 합치기\n",
    "text"
   ]
  },
  {
   "cell_type": "code",
   "execution_count": null,
   "id": "67336aa7",
   "metadata": {},
   "outputs": [],
   "source": [
    "#영어랑 의미있는 숫자도 포함해보삼 ㅋㅋ 한글 영어 숫자니까 /d인 거 같기도 \n",
    "#근데 단독으로 숫자는 의미가 없으니 글자랑 이어진.. ? \n",
    "\n",
    "#예술 카테고리는 형용사도 무시할 수 없다고하심 \n",
    "\n",
    "import re \n",
    "\n",
    "text = re.sub('[^가-힣]+', ' ', text)\n",
    "\n",
    "#형태소 분석을 해주는 패키지 konlpy\n",
    "#Okt(Open Korean Text)는 트위터에서 만든 오픈소스 한국어 처리기\n",
    "\n",
    "from konlpy.tag import Okt \n",
    "\n",
    "okt = Okt()\n",
    "morph = okt.pos(text) #pos > 텍스트에서 단어와 품사를 뽑아줌 \n",
    "noun_list = []\n",
    "\n",
    "for word, tag in morph: #tag = Noun은 명사라는 것\n",
    "    if (tag == 'Noun') & (len(word) > 1): #하나인거는 거의 조사여서 의미없으니까 2개이상부터\n",
    "        noun_list.append(word)\n",
    "#     print(morph)\n",
    "print(noun_list)"
   ]
  },
  {
   "cell_type": "code",
   "execution_count": null,
   "id": "68a57fb0",
   "metadata": {},
   "outputs": [],
   "source": [
    "from collections import Counter \n",
    "from matplotlib import rc\n",
    "import matplotlib.pyplot as plt\n",
    "import seaborn as sns\n",
    "\n",
    "rc('font', family = 'Malgun Gothic') #한글 폰트 설정\n",
    "plt.rcParams['axes.unicode_minus'] #마이너스 부호 출력 설정\n",
    "\n",
    "count = Counter(noun_list) #두글자 이상이면서 명사인걸 count에 담음 \n",
    "data = dict(count.most_common()) #많이 나오는걸 dict로 해서 data에 넣었고 "
   ]
  },
  {
   "cell_type": "code",
   "execution_count": 78,
   "id": "9dc1d80f",
   "metadata": {},
   "outputs": [
    {
     "ename": "ValueError",
     "evalue": "'flare' is not a valid value for name; supported values are 'Accent', 'Accent_r', 'Blues', 'Blues_r', 'BrBG', 'BrBG_r', 'BuGn', 'BuGn_r', 'BuPu', 'BuPu_r', 'CMRmap', 'CMRmap_r', 'Dark2', 'Dark2_r', 'GnBu', 'GnBu_r', 'Greens', 'Greens_r', 'Greys', 'Greys_r', 'OrRd', 'OrRd_r', 'Oranges', 'Oranges_r', 'PRGn', 'PRGn_r', 'Paired', 'Paired_r', 'Pastel1', 'Pastel1_r', 'Pastel2', 'Pastel2_r', 'PiYG', 'PiYG_r', 'PuBu', 'PuBuGn', 'PuBuGn_r', 'PuBu_r', 'PuOr', 'PuOr_r', 'PuRd', 'PuRd_r', 'Purples', 'Purples_r', 'RdBu', 'RdBu_r', 'RdGy', 'RdGy_r', 'RdPu', 'RdPu_r', 'RdYlBu', 'RdYlBu_r', 'RdYlGn', 'RdYlGn_r', 'Reds', 'Reds_r', 'Set1', 'Set1_r', 'Set2', 'Set2_r', 'Set3', 'Set3_r', 'Spectral', 'Spectral_r', 'Wistia', 'Wistia_r', 'YlGn', 'YlGnBu', 'YlGnBu_r', 'YlGn_r', 'YlOrBr', 'YlOrBr_r', 'YlOrRd', 'YlOrRd_r', 'afmhot', 'afmhot_r', 'autumn', 'autumn_r', 'binary', 'binary_r', 'bone', 'bone_r', 'brg', 'brg_r', 'bwr', 'bwr_r', 'cividis', 'cividis_r', 'cool', 'cool_r', 'coolwarm', 'coolwarm_r', 'copper', 'copper_r', 'cubehelix', 'cubehelix_r', 'flag', 'flag_r', 'gist_earth', 'gist_earth_r', 'gist_gray', 'gist_gray_r', 'gist_heat', 'gist_heat_r', 'gist_ncar', 'gist_ncar_r', 'gist_rainbow', 'gist_rainbow_r', 'gist_stern', 'gist_stern_r', 'gist_yarg', 'gist_yarg_r', 'gnuplot', 'gnuplot2', 'gnuplot2_r', 'gnuplot_r', 'gray', 'gray_r', 'hot', 'hot_r', 'hsv', 'hsv_r', 'inferno', 'inferno_r', 'jet', 'jet_r', 'magma', 'magma_r', 'nipy_spectral', 'nipy_spectral_r', 'ocean', 'ocean_r', 'pink', 'pink_r', 'plasma', 'plasma_r', 'prism', 'prism_r', 'rainbow', 'rainbow_r', 'seismic', 'seismic_r', 'spring', 'spring_r', 'summer', 'summer_r', 'tab10', 'tab10_r', 'tab20', 'tab20_r', 'tab20b', 'tab20b_r', 'tab20c', 'tab20c_r', 'terrain', 'terrain_r', 'turbo', 'turbo_r', 'twilight', 'twilight_r', 'twilight_shifted', 'twilight_shifted_r', 'viridis', 'viridis_r', 'winter', 'winter_r'",
     "output_type": "error",
     "traceback": [
      "\u001b[1;31m---------------------------------------------------------------------------\u001b[0m",
      "\u001b[1;31mValueError\u001b[0m                                Traceback (most recent call last)",
      "Input \u001b[1;32mIn [78]\u001b[0m, in \u001b[0;36m<cell line: 3>\u001b[1;34m()\u001b[0m\n\u001b[0;32m      1\u001b[0m \u001b[38;5;28;01mfrom\u001b[39;00m \u001b[38;5;21;01mwordcloud\u001b[39;00m \u001b[38;5;28;01mimport\u001b[39;00m WordCloud\n\u001b[0;32m      2\u001b[0m \u001b[38;5;28;01mimport\u001b[39;00m \u001b[38;5;21;01mmatplotlib\u001b[39;00m\u001b[38;5;21;01m.\u001b[39;00m\u001b[38;5;21;01mpyplot\u001b[39;00m \u001b[38;5;28;01mas\u001b[39;00m \u001b[38;5;21;01mplt\u001b[39;00m \u001b[38;5;66;03m#생성한 워드클라우드 데이터를 시각화하여 그리기 위해 \u001b[39;00m\n\u001b[1;32m----> 3\u001b[0m wordcloud \u001b[38;5;241m=\u001b[39m \u001b[43mWordCloud\u001b[49m\u001b[43m(\u001b[49m\u001b[43mfont_path\u001b[49m\u001b[38;5;241;43m=\u001b[39;49m\u001b[38;5;124;43m'\u001b[39;49m\u001b[38;5;124;43m../visualization/dataset/malgun.ttf\u001b[39;49m\u001b[38;5;124;43m'\u001b[39;49m\u001b[43m,\u001b[49m\u001b[43m \u001b[49m\u001b[43mbackground_color\u001b[49m\u001b[38;5;241;43m=\u001b[39;49m\u001b[38;5;124;43m'\u001b[39;49m\u001b[38;5;124;43mwhite\u001b[39;49m\u001b[38;5;124;43m'\u001b[39;49m\u001b[43m,\u001b[49m\u001b[43m \u001b[49m\u001b[43mcolormap\u001b[49m\u001b[38;5;241;43m=\u001b[39;49m\u001b[38;5;124;43m'\u001b[39;49m\u001b[38;5;124;43mflare\u001b[39;49m\u001b[38;5;124;43m'\u001b[39;49m\u001b[43m,\u001b[49m\u001b[43m \u001b[49m\u001b[43mwidth\u001b[49m\u001b[38;5;241;43m=\u001b[39;49m\u001b[38;5;241;43m2000\u001b[39;49m\u001b[43m,\u001b[49m\u001b[43m \u001b[49m\u001b[43mheight\u001b[49m\u001b[38;5;241;43m=\u001b[39;49m\u001b[38;5;241;43m1500\u001b[39;49m\u001b[43m)\u001b[49m\u001b[38;5;241m.\u001b[39mgenerate_from_frequencies(data) \n\u001b[0;32m      4\u001b[0m \u001b[38;5;66;03m# generate_from_frequencies 미리 정의된 단어의 빈도수 dict를 이용하여 워드 클라우드를 그림\u001b[39;00m\n\u001b[0;32m      5\u001b[0m plt\u001b[38;5;241m.\u001b[39mimshow(wordcloud) \u001b[38;5;66;03m#이미지 표시\u001b[39;00m\n",
      "File \u001b[1;32m~\\anaconda3\\envs\\cakd7\\lib\\site-packages\\wordcloud\\wordcloud.py:337\u001b[0m, in \u001b[0;36mWordCloud.__init__\u001b[1;34m(self, font_path, width, height, margin, ranks_only, prefer_horizontal, mask, scale, color_func, max_words, min_font_size, stopwords, random_state, background_color, max_font_size, font_step, mode, relative_scaling, regexp, collocations, colormap, normalize_plurals, contour_width, contour_color, repeat, include_numbers, min_word_length, collocation_threshold)\u001b[0m\n\u001b[0;32m    335\u001b[0m \u001b[38;5;28mself\u001b[39m\u001b[38;5;241m.\u001b[39mcontour_width \u001b[38;5;241m=\u001b[39m contour_width\n\u001b[0;32m    336\u001b[0m \u001b[38;5;28mself\u001b[39m\u001b[38;5;241m.\u001b[39mscale \u001b[38;5;241m=\u001b[39m scale\n\u001b[1;32m--> 337\u001b[0m \u001b[38;5;28mself\u001b[39m\u001b[38;5;241m.\u001b[39mcolor_func \u001b[38;5;241m=\u001b[39m color_func \u001b[38;5;129;01mor\u001b[39;00m \u001b[43mcolormap_color_func\u001b[49m\u001b[43m(\u001b[49m\u001b[43mcolormap\u001b[49m\u001b[43m)\u001b[49m\n\u001b[0;32m    338\u001b[0m \u001b[38;5;28mself\u001b[39m\u001b[38;5;241m.\u001b[39mmax_words \u001b[38;5;241m=\u001b[39m max_words\n\u001b[0;32m    339\u001b[0m \u001b[38;5;28mself\u001b[39m\u001b[38;5;241m.\u001b[39mstopwords \u001b[38;5;241m=\u001b[39m stopwords \u001b[38;5;28;01mif\u001b[39;00m stopwords \u001b[38;5;129;01mis\u001b[39;00m \u001b[38;5;129;01mnot\u001b[39;00m \u001b[38;5;28;01mNone\u001b[39;00m \u001b[38;5;28;01melse\u001b[39;00m STOPWORDS\n",
      "File \u001b[1;32m~\\anaconda3\\envs\\cakd7\\lib\\site-packages\\wordcloud\\wordcloud.py:106\u001b[0m, in \u001b[0;36mcolormap_color_func.__init__\u001b[1;34m(self, colormap)\u001b[0m\n\u001b[0;32m    104\u001b[0m \u001b[38;5;28;01mdef\u001b[39;00m \u001b[38;5;21m__init__\u001b[39m(\u001b[38;5;28mself\u001b[39m, colormap):\n\u001b[0;32m    105\u001b[0m     \u001b[38;5;28;01mimport\u001b[39;00m \u001b[38;5;21;01mmatplotlib\u001b[39;00m\u001b[38;5;21;01m.\u001b[39;00m\u001b[38;5;21;01mpyplot\u001b[39;00m \u001b[38;5;28;01mas\u001b[39;00m \u001b[38;5;21;01mplt\u001b[39;00m\n\u001b[1;32m--> 106\u001b[0m     \u001b[38;5;28mself\u001b[39m\u001b[38;5;241m.\u001b[39mcolormap \u001b[38;5;241m=\u001b[39m \u001b[43mplt\u001b[49m\u001b[38;5;241;43m.\u001b[39;49m\u001b[43mcm\u001b[49m\u001b[38;5;241;43m.\u001b[39;49m\u001b[43mget_cmap\u001b[49m\u001b[43m(\u001b[49m\u001b[43mcolormap\u001b[49m\u001b[43m)\u001b[49m\n",
      "File \u001b[1;32m~\\anaconda3\\envs\\cakd7\\lib\\site-packages\\matplotlib\\cm.py:286\u001b[0m, in \u001b[0;36mget_cmap\u001b[1;34m(name, lut)\u001b[0m\n\u001b[0;32m    284\u001b[0m \u001b[38;5;28;01mif\u001b[39;00m \u001b[38;5;28misinstance\u001b[39m(name, colors\u001b[38;5;241m.\u001b[39mColormap):\n\u001b[0;32m    285\u001b[0m     \u001b[38;5;28;01mreturn\u001b[39;00m name\n\u001b[1;32m--> 286\u001b[0m \u001b[43m_api\u001b[49m\u001b[38;5;241;43m.\u001b[39;49m\u001b[43mcheck_in_list\u001b[49m\u001b[43m(\u001b[49m\u001b[38;5;28;43msorted\u001b[39;49m\u001b[43m(\u001b[49m\u001b[43m_cmap_registry\u001b[49m\u001b[43m)\u001b[49m\u001b[43m,\u001b[49m\u001b[43m \u001b[49m\u001b[43mname\u001b[49m\u001b[38;5;241;43m=\u001b[39;49m\u001b[43mname\u001b[49m\u001b[43m)\u001b[49m\n\u001b[0;32m    287\u001b[0m \u001b[38;5;28;01mif\u001b[39;00m lut \u001b[38;5;129;01mis\u001b[39;00m \u001b[38;5;28;01mNone\u001b[39;00m:\n\u001b[0;32m    288\u001b[0m     \u001b[38;5;28;01mreturn\u001b[39;00m _cmap_registry[name]\n",
      "File \u001b[1;32m~\\anaconda3\\envs\\cakd7\\lib\\site-packages\\matplotlib\\_api\\__init__.py:129\u001b[0m, in \u001b[0;36mcheck_in_list\u001b[1;34m(_values, _print_supported_values, **kwargs)\u001b[0m\n\u001b[0;32m    127\u001b[0m \u001b[38;5;28;01mif\u001b[39;00m _print_supported_values:\n\u001b[0;32m    128\u001b[0m     msg \u001b[38;5;241m+\u001b[39m\u001b[38;5;241m=\u001b[39m \u001b[38;5;124mf\u001b[39m\u001b[38;5;124m\"\u001b[39m\u001b[38;5;124m; supported values are \u001b[39m\u001b[38;5;132;01m{\u001b[39;00m\u001b[38;5;124m'\u001b[39m\u001b[38;5;124m, \u001b[39m\u001b[38;5;124m'\u001b[39m\u001b[38;5;241m.\u001b[39mjoin(\u001b[38;5;28mmap\u001b[39m(\u001b[38;5;28mrepr\u001b[39m, values))\u001b[38;5;132;01m}\u001b[39;00m\u001b[38;5;124m\"\u001b[39m\n\u001b[1;32m--> 129\u001b[0m \u001b[38;5;28;01mraise\u001b[39;00m \u001b[38;5;167;01mValueError\u001b[39;00m(msg)\n",
      "\u001b[1;31mValueError\u001b[0m: 'flare' is not a valid value for name; supported values are 'Accent', 'Accent_r', 'Blues', 'Blues_r', 'BrBG', 'BrBG_r', 'BuGn', 'BuGn_r', 'BuPu', 'BuPu_r', 'CMRmap', 'CMRmap_r', 'Dark2', 'Dark2_r', 'GnBu', 'GnBu_r', 'Greens', 'Greens_r', 'Greys', 'Greys_r', 'OrRd', 'OrRd_r', 'Oranges', 'Oranges_r', 'PRGn', 'PRGn_r', 'Paired', 'Paired_r', 'Pastel1', 'Pastel1_r', 'Pastel2', 'Pastel2_r', 'PiYG', 'PiYG_r', 'PuBu', 'PuBuGn', 'PuBuGn_r', 'PuBu_r', 'PuOr', 'PuOr_r', 'PuRd', 'PuRd_r', 'Purples', 'Purples_r', 'RdBu', 'RdBu_r', 'RdGy', 'RdGy_r', 'RdPu', 'RdPu_r', 'RdYlBu', 'RdYlBu_r', 'RdYlGn', 'RdYlGn_r', 'Reds', 'Reds_r', 'Set1', 'Set1_r', 'Set2', 'Set2_r', 'Set3', 'Set3_r', 'Spectral', 'Spectral_r', 'Wistia', 'Wistia_r', 'YlGn', 'YlGnBu', 'YlGnBu_r', 'YlGn_r', 'YlOrBr', 'YlOrBr_r', 'YlOrRd', 'YlOrRd_r', 'afmhot', 'afmhot_r', 'autumn', 'autumn_r', 'binary', 'binary_r', 'bone', 'bone_r', 'brg', 'brg_r', 'bwr', 'bwr_r', 'cividis', 'cividis_r', 'cool', 'cool_r', 'coolwarm', 'coolwarm_r', 'copper', 'copper_r', 'cubehelix', 'cubehelix_r', 'flag', 'flag_r', 'gist_earth', 'gist_earth_r', 'gist_gray', 'gist_gray_r', 'gist_heat', 'gist_heat_r', 'gist_ncar', 'gist_ncar_r', 'gist_rainbow', 'gist_rainbow_r', 'gist_stern', 'gist_stern_r', 'gist_yarg', 'gist_yarg_r', 'gnuplot', 'gnuplot2', 'gnuplot2_r', 'gnuplot_r', 'gray', 'gray_r', 'hot', 'hot_r', 'hsv', 'hsv_r', 'inferno', 'inferno_r', 'jet', 'jet_r', 'magma', 'magma_r', 'nipy_spectral', 'nipy_spectral_r', 'ocean', 'ocean_r', 'pink', 'pink_r', 'plasma', 'plasma_r', 'prism', 'prism_r', 'rainbow', 'rainbow_r', 'seismic', 'seismic_r', 'spring', 'spring_r', 'summer', 'summer_r', 'tab10', 'tab10_r', 'tab20', 'tab20_r', 'tab20b', 'tab20b_r', 'tab20c', 'tab20c_r', 'terrain', 'terrain_r', 'turbo', 'turbo_r', 'twilight', 'twilight_r', 'twilight_shifted', 'twilight_shifted_r', 'viridis', 'viridis_r', 'winter', 'winter_r'"
     ]
    }
   ],
   "source": [
    "from wordcloud import WordCloud\n",
    "import matplotlib.pyplot as plt #생성한 워드클라우드 데이터를 시각화하여 그리기 위해 \n",
    "wordcloud = WordCloud(font_path='../visualization/dataset/malgun.ttf', background_color='white', colormap='flare', width=2000, height=1500).generate_from_frequencies(data) \n",
    "# generate_from_frequencies 미리 정의된 단어의 빈도수 dict를 이용하여 워드 클라우드를 그림\n",
    "plt.imshow(wordcloud) #이미지 표시\n",
    "plt.axis('off') #축 지우기"
   ]
  },
  {
   "cell_type": "code",
   "execution_count": 81,
   "id": "57bfbc5b",
   "metadata": {},
   "outputs": [],
   "source": [
    "# 메모 \n",
    "# 상윤님 이번거 과제에서 stopwords 있음 -> 케이스에 맞게 쓰는거래\n",
    "#stopwords 모꼬 \n",
    "\n",
    "#빈도수는 막대로 하라고 하심 \n",
    "\n",
    "#서연님 로그파일 만드셨음 \n",
    "\n",
    "#전처리 과정도 해보고 #이번주까지 해서 이거 과제 폴더에 집어 넣으라고 하심 \n",
    "#불용어도 생각해서 리스트로 해서 제거하고 하삼"
   ]
  },
  {
   "cell_type": "markdown",
   "id": "99b4b521",
   "metadata": {},
   "source": [
    "### 0727수업 시작"
   ]
  },
  {
   "cell_type": "code",
   "execution_count": 31,
   "id": "28992e73",
   "metadata": {},
   "outputs": [],
   "source": [
    "html=\"\"\"\n",
    "<head>\n",
    "    <title>crawler</title>\n",
    "</head>\n",
    "<body>\n",
    "    <p class=\"a\" align=\"center\"> text1</p>\n",
    "    <p class=\"b\" align=\"center\"> text2</p>\n",
    "    <p class=\"c\" align=\"center\"> text3</p>\n",
    "    <div>\n",
    "        <img src=\"/source\" width=\"300\" height=\"200\">\n",
    "    </div>\n",
    "</body>\n",
    "</html>\n",
    "\"\"\"\n"
   ]
  },
  {
   "cell_type": "markdown",
   "id": "b2aa7960",
   "metadata": {},
   "source": [
    "#### 자식, 부모, 형제\n",
    "- 자식(children)은 항상 부모(parent)의 딱 한 단계 하위의 태그를 말하는 반면(부모 바로 밑), 후손(descendant)은 부모보다 아래기만 하면 어떤 레벨에 존재해도 상관 없습니다."
   ]
  },
  {
   "cell_type": "code",
   "execution_count": 32,
   "id": "4dd6642e",
   "metadata": {},
   "outputs": [
    {
     "name": "stdout",
     "output_type": "stream",
     "text": [
      "\n",
      "\n",
      "<p align=\"center\" class=\"a\"> text1</p>\n",
      "\n",
      "\n",
      "<p align=\"center\" class=\"b\"> text2</p>\n",
      "\n",
      "\n",
      "<p align=\"center\" class=\"c\"> text3</p>\n",
      "\n",
      "\n",
      "<div>\n",
      "<img height=\"200\" src=\"/source\" width=\"300\"/>\n",
      "</div>\n",
      "\n",
      "\n"
     ]
    }
   ],
   "source": [
    "#children -> 자식 \n",
    "\n",
    "from bs4 import BeautifulSoup\n",
    "\n",
    "bs = BeautifulSoup(html, 'html.parser')\n",
    "contents = bs.find('body')\n",
    "contents.children #객체로 나옴  -> for문을 써야함\n",
    "\n",
    "for child in contents.children:\n",
    "    print(child)  #img는 자식은 아니지 자손이지, 근데 div가 자식이라 같이나온 것 "
   ]
  },
  {
   "cell_type": "code",
   "execution_count": 33,
   "id": "0bf1d94e",
   "metadata": {},
   "outputs": [
    {
     "name": "stdout",
     "output_type": "stream",
     "text": [
      "\n",
      "\n",
      "<p align=\"center\" class=\"a\"> text1</p>\n",
      " text1\n",
      "\n",
      "\n",
      "<p align=\"center\" class=\"b\"> text2</p>\n",
      " text2\n",
      "\n",
      "\n",
      "<p align=\"center\" class=\"c\"> text3</p>\n",
      " text3\n",
      "\n",
      "\n",
      "<div>\n",
      "<img height=\"200\" src=\"/source\" width=\"300\"/>\n",
      "</div>\n",
      "\n",
      "\n",
      "<img height=\"200\" src=\"/source\" width=\"300\"/>\n",
      "\n",
      "\n",
      "\n",
      "\n"
     ]
    }
   ],
   "source": [
    "#descendants -> 자손 \n",
    "\n",
    "# body의 자손은 p, div, img\n",
    "for d in contents.descendants:\n",
    "    print(d) #자손이 별도로 또 나옴 "
   ]
  },
  {
   "cell_type": "code",
   "execution_count": 34,
   "id": "b5fa55d8",
   "metadata": {},
   "outputs": [
    {
     "name": "stdout",
     "output_type": "stream",
     "text": [
      "<img height=\"200\" src=\"/source\" width=\"300\"/> \n",
      "\n",
      "<div>\n",
      "<img height=\"200\" src=\"/source\" width=\"300\"/>\n",
      "</div> \n",
      "\n",
      "[<div>\n",
      "<img height=\"200\" src=\"/source\" width=\"300\"/>\n",
      "</div>, <body>\n",
      "<p align=\"center\" class=\"a\"> text1</p>\n",
      "<p align=\"center\" class=\"b\"> text2</p>\n",
      "<p align=\"center\" class=\"c\"> text3</p>\n",
      "<div>\n",
      "<img height=\"200\" src=\"/source\" width=\"300\"/>\n",
      "</div>\n",
      "</body>, \n",
      "<head>\n",
      "<title>crawler</title>\n",
      "</head>\n",
      "<body>\n",
      "<p align=\"center\" class=\"a\"> text1</p>\n",
      "<p align=\"center\" class=\"b\"> text2</p>\n",
      "<p align=\"center\" class=\"c\"> text3</p>\n",
      "<div>\n",
      "<img height=\"200\" src=\"/source\" width=\"300\"/>\n",
      "</div>\n",
      "</body>\n",
      "\n",
      "]\n"
     ]
    }
   ],
   "source": [
    "#부모 (parent, parents)\n",
    "\n",
    "img_tag = contents.find('img')\n",
    "print(img_tag, '\\n')\n",
    "print(img_tag.parent, '\\n') #바로 윗단계 부모 \n",
    "\n",
    "#윗 단계 부모들 싹 다 ~! \n",
    "print(list(img_tag.parents)) #div(img 감싸는), div, html"
   ]
  },
  {
   "cell_type": "code",
   "execution_count": 92,
   "id": "08b96180",
   "metadata": {},
   "outputs": [
    {
     "data": {
      "text/plain": [
       "<body>\n",
       "<p align=\"center\" class=\"a\"> text1</p>\n",
       "<p align=\"center\" class=\"b\"> text2</p>\n",
       "<p align=\"center\" class=\"c\"> text3</p>\n",
       "<div>\n",
       "<img height=\"200\" src=\"/source\" width=\"300\"/>\n",
       "</div>\n",
       "</body>"
      ]
     },
     "execution_count": 92,
     "metadata": {},
     "output_type": "execute_result"
    }
   ],
   "source": [
    "contents"
   ]
  },
  {
   "cell_type": "code",
   "execution_count": 91,
   "id": "97f15add",
   "metadata": {},
   "outputs": [
    {
     "data": {
      "text/plain": [
       "<img height=\"200\" src=\"/source\" width=\"300\"/>"
      ]
     },
     "execution_count": 91,
     "metadata": {},
     "output_type": "execute_result"
    }
   ],
   "source": [
    "#태그 객체  -> .을 통해 접근하기\n",
    "contents.div.img"
   ]
  },
  {
   "cell_type": "code",
   "execution_count": 94,
   "id": "7b25d025",
   "metadata": {},
   "outputs": [
    {
     "data": {
      "text/plain": [
       "<p align=\"center\" class=\"b\"> text2</p>"
      ]
     },
     "execution_count": 94,
     "metadata": {},
     "output_type": "execute_result"
    }
   ],
   "source": [
    "p_tag = bs.find('p', class_ = 'b')\n",
    "p_tag"
   ]
  },
  {
   "cell_type": "code",
   "execution_count": 97,
   "id": "06bf45c5",
   "metadata": {},
   "outputs": [
    {
     "name": "stdout",
     "output_type": "stream",
     "text": [
      "<p align=\"center\" class=\"b\"> text2</p> \n",
      "\n",
      "[<p align=\"center\" class=\"b\"> text2</p>, <p align=\"center\" class=\"a\"> text1</p>]\n"
     ]
    }
   ],
   "source": [
    "#find_previous_sibling(): 바로 이전 형제 노드를 검색\n",
    "#find_previous_siblings() : 이전에 모든 형제 노드를 검색 \n",
    "p_tag = bs.find('p', class_ = 'c')\n",
    "print(p_tag.find_previous_sibling(), '\\n')\n",
    "\n",
    "print(p_tag.find_previous_siblings())"
   ]
  },
  {
   "cell_type": "code",
   "execution_count": null,
   "id": "4e5f276c",
   "metadata": {},
   "outputs": [],
   "source": [
    "#find_next_sibling(): 바로 다음 형제 노드를 검색\n",
    "#find_next_siblings() : 다음에 모든 형제 노드를 검색 "
   ]
  },
  {
   "cell_type": "code",
   "execution_count": 35,
   "id": "4159e0c9",
   "metadata": {},
   "outputs": [
    {
     "name": "stdout",
     "output_type": "stream",
     "text": [
      "[<a class=\"link_newsstand\" data-clk=\"title\" href=\"http://newsstand.naver.com/\" target=\"_blank\">뉴스스탠드</a>]\n"
     ]
    }
   ],
   "source": [
    "import urllib\n",
    "from bs4 import BeautifulSoup\n",
    "\n",
    "response = urllib.request.urlopen('http://naver.com')\n",
    "byte_data = response.read()\n",
    "html = byte_data.decode('utf-8')\n",
    "bs = BeautifulSoup(html, 'html.parser')\n",
    "print(bs.find_all('a', {'class': 'link_newsstand'}))"
   ]
  },
  {
   "cell_type": "code",
   "execution_count": 36,
   "id": "49fe9cce",
   "metadata": {},
   "outputs": [
    {
     "name": "stdout",
     "output_type": "stream",
     "text": [
      "뉴스스탠드\n",
      "구독한 언론사\n",
      "전체언론사\n"
     ]
    }
   ],
   "source": [
    "nlists = bs.find_all('a', {'class': ['link_newsstand', 'btn_sort','btn_sort.sort_on'] }) #'class' key의 값 여러개일때 리스트 혹은 딕셔너리로 감싸주기\n",
    "for n in nlists:\n",
    "    print(n.get_text())"
   ]
  },
  {
   "cell_type": "code",
   "execution_count": 103,
   "id": "bd1920ed",
   "metadata": {},
   "outputs": [
    {
     "name": "stdout",
     "output_type": "stream",
     "text": [
      "<h1 class=\"logo_default\">\n",
      "<a class=\"logo_naver\" data-clk=\"top.logo\" href=\"/\"><span class=\"blind\">네이버</span></a>\n",
      "</h1>\n",
      "\n",
      "네이버\n",
      " \n",
      "\n",
      "<h2 class=\"blind\">뉴스스탠드</h2>\n",
      "뉴스스탠드 \n",
      "\n",
      "<h2 class=\"blind\">주제별 캐스트</h2>\n",
      "주제별 캐스트 \n",
      "\n",
      "<h2 class=\"blind\">Sign in</h2>\n",
      "Sign in \n",
      "\n",
      "<h2 class=\"blind\">타임스퀘어</h2>\n",
      "타임스퀘어 \n",
      "\n"
     ]
    }
   ],
   "source": [
    "hlists = bs.findAll({'h1', 'h2', 'h3', 'h4', 'h5', 'h6'}, limit = 5)\n",
    "\n",
    "for h in hlists:\n",
    "    print(h)\n",
    "    print(h.get_text(), '\\n')"
   ]
  },
  {
   "cell_type": "markdown",
   "id": "052f3631",
   "metadata": {},
   "source": [
    "#### 과제0727_1 \n",
    "코스피 지수, 등락폭 및 등락율을 출력하세요."
   ]
  },
  {
   "cell_type": "code",
   "execution_count": null,
   "id": "e26dd7e5",
   "metadata": {},
   "outputs": [],
   "source": [
    "#sol) \n",
    "import requests\n",
    "from bs4 import BeautifulSoup\n",
    "\n",
    "# 네이버 금융 국내증시 메인 사이트 주소\n",
    "url = 'https://finance.naver.com/sise/sise_index.naver?code=KOSPI'\n"
   ]
  },
  {
   "cell_type": "code",
   "execution_count": 108,
   "id": "35f0aa2b",
   "metadata": {},
   "outputs": [
    {
     "name": "stdout",
     "output_type": "stream",
     "text": [
      "<ul id=\"bible\">\n",
      "<li id=\"ge\">Genesis</li>\n",
      "<li id=\"ex\">Exodus</li>\n",
      "<li id=\"le\">Leviticus</li>\n",
      "<li id=\"nu\">Numbers</li>\n",
      "<li id=\"de\">Deuteronomy</li>\n",
      "</ul> \n",
      "\n",
      "Numbers\n"
     ]
    }
   ],
   "source": [
    "from bs4 import BeautifulSoup\n",
    "\n",
    "fp = open('books.html', encoding='utf-8')\n",
    "bs = BeautifulSoup(fp, 'html.parser')\n",
    "print(bs, '\\n')\n",
    "sel = lambda q: print(bs.select_one(q).string)\n",
    "sel('#nu')  "
   ]
  },
  {
   "cell_type": "code",
   "execution_count": 113,
   "id": "dddd8db2",
   "metadata": {},
   "outputs": [
    {
     "name": "stdout",
     "output_type": "stream",
     "text": [
      "Numbers\n",
      "Numbers\n",
      "Numbers\n",
      "Numbers\n",
      "Numbers\n",
      "Numbers\n",
      "Numbers\n",
      "Numbers\n",
      "Numbers\n",
      "Numbers\n"
     ]
    }
   ],
   "source": [
    "#9개의 Numbers를 출력하세요.\n",
    "sel('#nu')\n",
    "sel('li#nu')\n",
    "sel('#bible > #nu')\n",
    "sel('#bible #nu')\n",
    "sel('ul li#nu')\n",
    "sel('ul > li#nu')\n",
    "sel('ul #nu')\n",
    "sel('ul > #nu')\n",
    "sel('li:nth-child(4) ')\n",
    "sel('ul li:nth-child(4)')\n"
   ]
  },
  {
   "cell_type": "markdown",
   "id": "cc554cdd",
   "metadata": {},
   "source": [
    "#### 과제0727_2\n",
    "네이버 뉴스 검색 사이트에서 검색 키워드와 총 필요한 뉴스기사 수를 입력하면 데이터 프레임 형태(컬럼은 title, url)로출력해 주는 크롤링 프로그램을 수행하세요.\n",
    "https://search.naver.com/search.naver?where=news&sm=tab_jum&query=\n"
   ]
  },
  {
   "cell_type": "code",
   "execution_count": null,
   "id": "a4d5e279",
   "metadata": {},
   "outputs": [],
   "source": []
  }
 ],
 "metadata": {
  "kernelspec": {
   "display_name": "Python 3 (ipykernel)",
   "language": "python",
   "name": "python3"
  },
  "language_info": {
   "codemirror_mode": {
    "name": "ipython",
    "version": 3
   },
   "file_extension": ".py",
   "mimetype": "text/x-python",
   "name": "python",
   "nbconvert_exporter": "python",
   "pygments_lexer": "ipython3",
   "version": "3.8.13"
  },
  "toc": {
   "base_numbering": 1,
   "nav_menu": {},
   "number_sections": true,
   "sideBar": true,
   "skip_h1_title": false,
   "title_cell": "Table of Contents",
   "title_sidebar": "Contents",
   "toc_cell": false,
   "toc_position": {
    "height": "calc(100% - 180px)",
    "left": "10px",
    "top": "150px",
    "width": "266.435px"
   },
   "toc_section_display": true,
   "toc_window_display": true
  }
 },
 "nbformat": 4,
 "nbformat_minor": 5
}

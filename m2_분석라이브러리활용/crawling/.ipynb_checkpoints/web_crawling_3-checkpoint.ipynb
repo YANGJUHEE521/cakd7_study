{
 "cells": [
  {
   "cell_type": "markdown",
   "id": "00b39844",
   "metadata": {},
   "source": [
    "# 집에서 할 때랑 학원에서랑 path 다르다.\n",
    "## 집: path = 'C:/jupyter-files/cakd7/tool/chromedriver.exe'\n",
    "## 학원: path = 'C:/cakd7/tool/chromedriver.exe'"
   ]
  },
  {
   "cell_type": "markdown",
   "id": "289d9381",
   "metadata": {},
   "source": [
    "# 셀레니움 함수\n",
    "##### BeautifulSoup과는 다르게 동적인 부분을 처리\n",
    "\n",
    "- https://goodthings4me.tistory.com/696  -- 얘가 업그레이드\n",
    "\n",
    "##### HTML 요소를 찾는 메서드 import 방법\n",
    "- from selenium.webdriver.common.by import By \n",
    "\n",
    "##### HTML 요소를 찾는 메서드\n",
    "- find_element(By.ID, \" \"): id 속성을 사용하여 접근\n",
    "- find_element(s)(By.CLASS_NAME, \" \"): 클래스를 사용하여 접근\n",
    "- find_element(s)(By.NAME, \" \"): name 속성을 사용하여 접근\n",
    "- find_element(s)(By.XPATH, \" \"): xpath 속성을 사용하여 접근(copy xpath하면 됨 )\n",
    "- find_element(s)(By.LINK_TEXT, \" \"): 앵커태그(a 태그)에 사용되는 텍스트로 접근 \n",
    "- find_element(s)(By.PARTIAL_LINK_TEXT, \" \"): 앵커태그(a 태그)에 사용되는 일부 텍스트로 접근\n",
    "- find_element(s)(By.TAG_NAME, \" \"): 태그를 사용하여 접근\n",
    "- find_element(s)(By.CSS_SELECTOR, \" \"): CSS 선택자를 사용하여 접근<br><br>\n",
    "셀레니움 사용법 : https://greeksharifa.github.io/references/2020/10/30/python-selenium-usage/ <br>\n",
    "셀레니움 사용법 : https://workingwithpython.com/howtouseselenium-3/\n",
    "implicit wait vs sleep :\n",
    "https://ongbike.tistory.com/470\n",
    "\n",
    "cf)\n",
    "```\n",
    "- https://june98.tistory.com/10\n",
    "- https://june98.tistory.com/11\n",
    "- https://selenium-python.readthedocs.io/waits.html\n",
    "```\n",
    "\n",
    "\n",
    "\n",
    "- 크롬 드라이버가 있어야된다고 하심\n"
   ]
  },
  {
   "cell_type": "code",
   "execution_count": 1,
   "id": "3cbf869a",
   "metadata": {},
   "outputs": [
    {
     "name": "stdout",
     "output_type": "stream",
     "text": [
      "Collecting selenium\n",
      "  Downloading selenium-4.3.0-py3-none-any.whl (981 kB)\n",
      "     -------------------------------------- 981.4/981.4 kB 7.8 MB/s eta 0:00:00\n",
      "Collecting trio-websocket~=0.9\n",
      "  Downloading trio_websocket-0.9.2-py3-none-any.whl (16 kB)\n",
      "Requirement already satisfied: urllib3[secure,socks]~=1.26 in c:\\users\\user\\appdata\\local\\programs\\python\\python39\\lib\\site-packages (from selenium) (1.26.9)\n",
      "Collecting trio~=0.17\n",
      "  Downloading trio-0.21.0-py3-none-any.whl (358 kB)\n",
      "     -------------------------------------- 359.0/359.0 kB 7.4 MB/s eta 0:00:00\n",
      "Collecting sortedcontainers\n",
      "  Downloading sortedcontainers-2.4.0-py2.py3-none-any.whl (29 kB)\n",
      "Collecting outcome\n",
      "  Downloading outcome-1.2.0-py2.py3-none-any.whl (9.7 kB)\n",
      "Collecting sniffio\n",
      "  Downloading sniffio-1.2.0-py3-none-any.whl (10 kB)\n",
      "Requirement already satisfied: attrs>=19.2.0 in c:\\users\\user\\appdata\\local\\programs\\python\\python39\\lib\\site-packages (from trio~=0.17->selenium) (21.2.0)\n",
      "Requirement already satisfied: idna in c:\\users\\user\\appdata\\local\\programs\\python\\python39\\lib\\site-packages (from trio~=0.17->selenium) (3.3)\n",
      "Requirement already satisfied: cffi>=1.14 in c:\\users\\user\\appdata\\local\\programs\\python\\python39\\lib\\site-packages (from trio~=0.17->selenium) (1.14.6)\n",
      "Collecting async-generator>=1.9\n",
      "  Downloading async_generator-1.10-py3-none-any.whl (18 kB)\n",
      "Collecting wsproto>=0.14\n",
      "  Downloading wsproto-1.1.0-py3-none-any.whl (24 kB)\n",
      "Collecting PySocks!=1.5.7,<2.0,>=1.5.6\n",
      "  Downloading PySocks-1.7.1-py3-none-any.whl (16 kB)\n",
      "Collecting cryptography>=1.3.4\n",
      "  Downloading cryptography-37.0.4-cp36-abi3-win_amd64.whl (2.4 MB)\n",
      "     ---------------------------------------- 2.4/2.4 MB 9.6 MB/s eta 0:00:00\n",
      "Requirement already satisfied: certifi in c:\\users\\user\\appdata\\local\\programs\\python\\python39\\lib\\site-packages (from urllib3[secure,socks]~=1.26->selenium) (2021.10.8)\n",
      "Collecting pyOpenSSL>=0.14\n",
      "  Downloading pyOpenSSL-22.0.0-py2.py3-none-any.whl (55 kB)\n",
      "     ---------------------------------------- 55.8/55.8 kB ? eta 0:00:00\n",
      "Requirement already satisfied: pycparser in c:\\users\\user\\appdata\\local\\programs\\python\\python39\\lib\\site-packages (from cffi>=1.14->trio~=0.17->selenium) (2.20)\n",
      "Collecting h11<1,>=0.9.0\n",
      "  Downloading h11-0.13.0-py3-none-any.whl (58 kB)\n",
      "     ---------------------------------------- 58.2/58.2 kB 3.0 MB/s eta 0:00:00\n",
      "Installing collected packages: sortedcontainers, sniffio, PySocks, outcome, h11, async-generator, wsproto, trio, cryptography, trio-websocket, pyOpenSSL, selenium\n",
      "Successfully installed PySocks-1.7.1 async-generator-1.10 cryptography-37.0.4 h11-0.13.0 outcome-1.2.0 pyOpenSSL-22.0.0 selenium-4.3.0 sniffio-1.2.0 sortedcontainers-2.4.0 trio-0.21.0 trio-websocket-0.9.2 wsproto-1.1.0\n"
     ]
    }
   ],
   "source": [
    "!pip install selenium"
   ]
  },
  {
   "cell_type": "code",
   "execution_count": 2,
   "id": "81118ddb",
   "metadata": {},
   "outputs": [],
   "source": [
    "import selenium\n",
    "from selenium import webdriver\n",
    "from selenium.webdriver.common.keys import Keys #여기 K 대문자\n",
    "\n",
    "import warnings\n",
    "warnings.filterwarnings('ignore')\n",
    "\n",
    "url = 'https://naver.com'\n",
    "path = 'C:/jupyter-files/cakd7/tool/chromedriver.exe' #집에서 할 때 \n",
    "# path = 'C:/cakd7/tool/chromedriver.exe' #드라이브 경로, 역슬래쉬 일반 슬래쉬로 바꿔줘 \n",
    "#드라이버 로드\n",
    "driver = webdriver.Chrome(path) #여기 C 대문자 \n",
    "driver.get(url) #url 넣고 드라이브 가동 -> 해당 url을 브라우저에 띄움"
   ]
  },
  {
   "cell_type": "code",
   "execution_count": 3,
   "id": "5d580309",
   "metadata": {},
   "outputs": [
    {
     "name": "stdout",
     "output_type": "stream",
     "text": [
      "https://www.naver.com/\n"
     ]
    }
   ],
   "source": [
    "print(driver.current_url) #현재 url 얻기\n",
    "driver.close() #브라우저 닫기 "
   ]
  },
  {
   "cell_type": "code",
   "execution_count": 4,
   "id": "39a8537c",
   "metadata": {},
   "outputs": [
    {
     "name": "stdout",
     "output_type": "stream",
     "text": [
      "https://www.google.com/\n"
     ]
    }
   ],
   "source": [
    "options = webdriver.ChromeOptions()\n",
    "options.add_argument('headless') #브라우저 창을 띄우지 않고 수행하는 옵션 설정\n",
    "\n",
    "#옵션 지정해서 드라이브 로드\n",
    "driver = webdriver.Chrome(path, options=options) \n",
    "driver #이 드라이버는 브라우저 창을 띄우지 않고 수행하는 드라이버! \n",
    "\n",
    "driver.get('https://google.com')\n",
    "print(driver.current_url)\n",
    "driver.close()"
   ]
  },
  {
   "cell_type": "markdown",
   "id": "09b2641e",
   "metadata": {},
   "source": [
    "#### 명시적 대기(Explicit Waits) vs Implicit waits(암묵적 대기)"
   ]
  },
  {
   "cell_type": "code",
   "execution_count": 5,
   "id": "b95351f4",
   "metadata": {},
   "outputs": [],
   "source": [
    "#명시적 대기(Explicit Waits)\n",
    "\n",
    "from selenium.webdriver.support.ui import WebDriverWait\n",
    "from selenium.webdriver.support import expected_conditions as EC\n",
    "from selenium.webdriver.common.by import By\n",
    "\n",
    "driver = webdriver.Chrome(path)\n",
    "driver.get(url='https://google.com')\n",
    "\n",
    "\n",
    "# 웹페이지에서 class가 gLFyf인 어떤 element를 찾을 수 있는지를\n",
    "#최대 5초 동안 매 0.5초마다 시도한다. \n",
    "#expected_conditions(EC)는 만약 element를 찾을 수 있었으면 True를, 아니라면 False를 반환\n",
    "#until(method, message='') 함수는 method의 반환값이 False인 동안 계속 method를 실행한다.\n",
    "try:\n",
    "    element = WebDriverWait(driver, 5).until(\n",
    "    EC.presence_of_element_located((By.CLASS_NAME, 'gLFyf'))\n",
    "    )\n",
    "finally:\n",
    "    driver.quit()"
   ]
  },
  {
   "cell_type": "code",
   "execution_count": 6,
   "id": "6fc6697c",
   "metadata": {},
   "outputs": [
    {
     "name": "stdout",
     "output_type": "stream",
     "text": [
      "빅데이터란? | 고급 빅데이터 분석 | SAP Insights\n",
      "빅 데이터 프로세싱 - 나무위키:대문\n",
      "빅데이터(Big Data)란? | 알테어\n",
      "K-ICT 빅데이터 센터\n",
      "빅 데이터란 무엇인가 - 대한당뇨병학회\n",
      "국가기술 빅데이터 분석기사\n"
     ]
    }
   ],
   "source": [
    "#Implicit waits(암묵적 대기): 찾으려는 element가 로드될 때까지 지정한 시간만큼 대기할 수 있도록 설정  \n",
    "\n",
    "from time import sleep\n",
    "import selenium\n",
    "from selenium import webdriver\n",
    "from selenium.webdriver.common.keys import Keys\n",
    "\n",
    "options = webdriver.ChromeOptions()\n",
    "options.add_argument('window_size=1920, 1080')\n",
    "\n",
    "driver = webdriver.Chrome(path, options=options)\n",
    "driver.maximize_window() #브라우저 최대화\n",
    "driver.implicitly_wait(time_to_wait=5) #암묵적 대기\n",
    "driver.get(url='https://google.com/') #맨끝에 슬래시 잊지말고\n",
    "\n",
    "#빅데이터 검색 및 저장\n",
    "\n",
    "from selenium.webdriver.common.by import By\n",
    "\n",
    "search_box = driver.find_element(By.XPATH,'/html/body/div[1]/div[3]/form/div[1]/div[1]/div[1]/div/div[2]/input')  \n",
    "# 구글 링크를 들어가서 검색창에서 xpath 복사해야돼 -> /html/body/div[1]/div[3]/form/div[1]/div[1]/div[1]/div/div[2]/input\n",
    "\n",
    "search_box.send_keys('빅데이터')\n",
    "search_box.send_keys(Keys.RETURN)\n",
    "\n",
    "elements = driver.find_elements(By.XPATH,'//*[@id=\"rso\"]/div/div/div/div/a/h3')\n",
    "\n",
    "#//*[@id=\"rso\"]/div[3]/div/div[1]/div/a/h3 \n",
    "#빅데이터 검색하고 뉴스 밑에 게시글 섹션에서 제목 xpath함\n",
    "#하나가 아니라 여러개 할거니까 인덱스 지워 \n",
    "\n",
    "for element in elements:\n",
    "    print(element.text)\n",
    "sleep(3)\n",
    "driver.close()\n"
   ]
  },
  {
   "cell_type": "markdown",
   "id": "d93593ac",
   "metadata": {},
   "source": [
    "#### 과제0727_3 네이버 사이트 불러오기 > 로그인 이동> 홈 이동 > 검색어('빅데이터')입력, 실행 > 'a' 태그 href 속성을 모두 출력\n",
    "\n",
    "- 로그인 갔다가 다시 홈으로 가는거는(뒤로가기) driver.back()을 쓰면 됨\n",
    "- 앞으로 가는건 driver.forward()\n",
    "- 나는 그 a태그 접근 xpath 어떻게 할지만 하면 끝임 href쪽이랑, 아 위에 find_element 그쪽 보고 xpath말고 a태그 관련으로 하면 될 거 같애"
   ]
  },
  {
   "cell_type": "code",
   "execution_count": 7,
   "id": "b1b25d41",
   "metadata": {},
   "outputs": [],
   "source": [
    "from time import sleep\n",
    "import selenium\n",
    "from selenium import webdriver\n",
    "from selenium.webdriver.common.keys import Keys\n",
    "\n",
    "options = webdriver.ChromeOptions()\n",
    "options.add_argument('window_size=1920, 1080')\n",
    "\n",
    "driver = webdriver.Chrome(path, options=options)\n",
    "driver.maximize_window()\n",
    "driver.implicitly_wait(time_to_wait=5) #암묵적 대기\n",
    "driver.get(url='https://naver.com/') #맨끝에 슬래시 잊지말고\n",
    "\n",
    "driver.get(url='https://nid.naver.com/nidlogin.login?mode=form&url=https%3A%2F%2Fwww.naver.com')\n",
    "sleep(3)\n",
    "driver.back()\n",
    "\n",
    "\n",
    "#빅데이터 검색 및 저장\n",
    "\n",
    "from selenium.webdriver.common.by import By\n",
    "\n",
    "search_box = driver.find_element(By.XPATH,'//*[@id=\"query\"]')  \n",
    "\n",
    "\n",
    "search_box.send_keys('빅데이터')\n",
    "search_box.send_keys(Keys.RETURN)\n",
    "\n",
    "elements = driver.find_elements(By.XPATH,'//*[@id=\"main_pack\"]/a ')\n",
    "                                \n",
    "\n",
    "\n",
    "for element in elements:\n",
    "    print(element.get('href'))\n",
    "sleep(3)\n",
    "driver.close()"
   ]
  },
  {
   "cell_type": "code",
   "execution_count": 16,
   "id": "7c8f5f12",
   "metadata": {},
   "outputs": [],
   "source": [
    "url = 'https://naver.com'\n",
    "path = 'C:/jupyter-files/cakd7/tool/chromedriver.exe' #집에서 할 때 \n",
    "# path = 'C:/cakd7/tool/chromedriver.exe'\n",
    "driver = webdriver.Chrome(path)\n",
    "driver.get(url)\n",
    "\n",
    "#다음 사이트로 이동\n",
    "driver.get('http://daum.net')\n",
    "\n",
    "#다음 사이트로 이동한 상태에서 검색어 입력 및 실행\n",
    "\n",
    "#다음 검색창 보면 name이 q임\n",
    "elem = driver.find_element(By.NAME,'q')\n",
    "elem.send_keys('빅데이터')\n",
    "elem.send_keys(Keys.ENTER)\n",
    "\n",
    "# 홈 이동\n",
    "driver.back()\n",
    "\n",
    "elem = driver.find_element(By.NAME,'q')\n",
    "elem.send_keys('빅데이터')\n",
    "\n",
    "\n",
    "#검색어 돋보기 버튼을 누를 수도 있지 \n",
    "# 홈에서 돋보기 SELECTOR \n",
    "# elem = driver.find_element(By.CSS_SELECTOR, '#daumSearch > fieldset > div > div > button.ico_pctop.btn_search')\n",
    "\n",
    "#이 밑에는 홈에서 돋보기 copy full xpath 결과임\n",
    "elem = driver.find_element(By.XPATH, '//*[@id=\"daumSearch\"]/fieldset/div/div/button[3]')\n",
    "elem.click()\n",
    "\n",
    "driver.refresh()"
   ]
  },
  {
   "cell_type": "code",
   "execution_count": 10,
   "id": "e5956460",
   "metadata": {},
   "outputs": [],
   "source": [
    "#한빛 네트워크 사이트 로그인 후 마일리지 점수 가져오기\n",
    "\n",
    "import time\n",
    "import selenium\n",
    "from selenium import webdriver\n",
    "path = 'C:/jupyter-files/cakd7/tool/chromedriver.exe' #집에서 할 때 \n",
    "driver = webdriver.Chrome(path)\n",
    "driver.get('https://www.hanbit.co.kr/')\n",
    "element = driver.find_element(By.CLASS_NAME, 'login') \n",
    "# 로그인 클릭\n",
    "element.click() \n",
    "\n",
    "m_id = 'didwngml12'\n",
    "m_pw = 'juhee41191694!'\n",
    "\n",
    "element = driver.find_element(By.ID, 'm_id') \n",
    "element.send_keys(m_id)\n",
    "time.sleep(1)\n",
    "\n",
    "element = driver.find_element(By.ID, 'm_passwd')\n",
    "element.send_keys(m_pw)\n",
    "time.sleep(1)\n",
    "element = driver.find_element(By.CLASS_NAME, 'btn_login')\n",
    "element.click()"
   ]
  },
  {
   "cell_type": "markdown",
   "id": "dbcc35f6",
   "metadata": {},
   "source": [
    "#### 과제0727_4\n",
    "한빛 네트워크 사이트 로그인까지 위에 했으니까, 마이페이지에서 마일리지 점수를 가져와서 출력하세요."
   ]
  },
  {
   "cell_type": "markdown",
   "id": "8cec7167",
   "metadata": {},
   "source": [
    "#### [도전과제] 네이버 로그인 후 메일 리스트 출력하기\n",
    " 뭐 자동로그인방지가 걸려있다고하심  .. ? \n",
    " 1. 자바스크립트 쓰거나 \n",
    " 2. import pyperclip (구글링 ㄱㄱ)"
   ]
  },
  {
   "cell_type": "markdown",
   "id": "e4e623e7",
   "metadata": {},
   "source": [
    "##### 강사님 코드 \n",
    "- 근데 로그인 새로운 환경에서 했을 때 등록 안 함 해결하는 코드는 없어서 세희님 거 가져와야함 "
   ]
  },
  {
   "cell_type": "code",
   "execution_count": null,
   "id": "369e40e8",
   "metadata": {},
   "outputs": [],
   "source": [
    "import time\n",
    "import selenium\n",
    "from selenium import webdriver\n",
    "from selenium.webdriver.common.by import By\n",
    "\n",
    "path = 'C:/jupyter-files/cakd7/tool/chromedriver.exe' #집에서 할 때 \n",
    "# path = 'C:/tool/chromedriver.exe'\n",
    "driver = webdriver.Chrome(path)\n",
    "driver.get('https://www.naver.com')\n",
    "driver.maximize_window()\n",
    "time.sleep(1)\n",
    "element = driver.find_element(By.CLASS_NAME, 'link_login')\n",
    "element.click()\n",
    "id  = ''\n",
    "pw = ''\n",
    "\n",
    "# execute_script 함수를 사용하면 자바스크립트 코드를 실행\n",
    "# js는 getElementById('id').value로 값을 가져올 수 있다.\n",
    "#아래와 같이 문서 객체로 하면 네이버에서 막는 거 해결 가능\n",
    "driver.execute_script(\"document.getElementById('id').value=\\'\" + id + \"\\'\") # text \n",
    "\n",
    "time.sleep(1)\n",
    "driver.execute_script(\"document.getElementById('pw').value=\\'\" + pw + \"\\'\")\n",
    "time.sleep(1)\n",
    "\n",
    "element = driver.find_element(By.CLASS_NAME, 'btn_login')\n",
    "element.click()\n",
    "# print(driver.page_source)\n",
    "\n",
    "# 이메일\n",
    "driver.maximize_window()\n",
    "driver.find_element(By.CSS_SELECTOR, '#NM_FAVORITE > div.group_nav > ul.list_nav.type_fix > li:nth-child(1) > a').click()\n",
    "\n",
    "elements = driver.find_elements(By.CSS_SELECTOR,'#list_for_view > ol > li> div > div.subject')\n",
    "for e in elements:\n",
    "    print(e.text)\n",
    "    \n",
    "driver.close()\n",
    "driver.quit()\n"
   ]
  },
  {
   "cell_type": "code",
   "execution_count": null,
   "id": "9311aedb",
   "metadata": {},
   "outputs": [],
   "source": []
  }
 ],
 "metadata": {
  "kernelspec": {
   "display_name": "Python 3 (ipykernel)",
   "language": "python",
   "name": "python3"
  },
  "language_info": {
   "codemirror_mode": {
    "name": "ipython",
    "version": 3
   },
   "file_extension": ".py",
   "mimetype": "text/x-python",
   "name": "python",
   "nbconvert_exporter": "python",
   "pygments_lexer": "ipython3",
   "version": "3.9.7"
  },
  "toc": {
   "base_numbering": 1,
   "nav_menu": {},
   "number_sections": false,
   "sideBar": true,
   "skip_h1_title": false,
   "title_cell": "Table of Contents",
   "title_sidebar": "Contents",
   "toc_cell": false,
   "toc_position": {
    "height": "429.333px",
    "left": "52px",
    "top": "272px",
    "width": "202px"
   },
   "toc_section_display": true,
   "toc_window_display": false
  }
 },
 "nbformat": 4,
 "nbformat_minor": 5
}

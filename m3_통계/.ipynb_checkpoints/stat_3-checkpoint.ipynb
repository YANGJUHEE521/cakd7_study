{
 "cells": [
  {
   "cell_type": "markdown",
   "id": "8b04af8a",
   "metadata": {},
   "source": [
    "# 통계적 추정"
   ]
  },
  {
   "cell_type": "code",
   "execution_count": 1,
   "id": "ee1a08f5",
   "metadata": {},
   "outputs": [
    {
     "data": {
      "text/plain": [
       "'%.3f'"
      ]
     },
     "execution_count": 1,
     "metadata": {},
     "output_type": "execute_result"
    }
   ],
   "source": [
    "import numpy as np\n",
    "import pandas as pd\n",
    "import matplotlib.pyplot as plt\n",
    "from scipy import stats\n",
    "\n",
    "%precision 3"
   ]
  },
  {
   "cell_type": "code",
   "execution_count": 3,
   "id": "9fbf80ee",
   "metadata": {},
   "outputs": [
    {
     "name": "stdout",
     "output_type": "stream",
     "text": [
      "   score\n",
      "0     76\n",
      "1     55\n",
      "2     80\n",
      "3     80\n",
      "4     74\n"
     ]
    },
    {
     "data": {
      "text/plain": [
       "(400, 1)"
      ]
     },
     "execution_count": 3,
     "metadata": {},
     "output_type": "execute_result"
    }
   ],
   "source": [
    "df = pd.read_csv('data/ch4_scores400.csv')\n",
    "print(df.head())\n",
    "\n",
    "scores = np.array(df['score']) #모집단이라 가정\n",
    "df.shape"
   ]
  },
  {
   "cell_type": "code",
   "execution_count": 4,
   "id": "6873e3a8",
   "metadata": {},
   "outputs": [
    {
     "data": {
      "text/plain": [
       "(69.53, 206.6691)"
      ]
     },
     "execution_count": 4,
     "metadata": {},
     "output_type": "execute_result"
    }
   ],
   "source": [
    "#모평균, 모분산\n",
    "p_mean = np.mean(scores)\n",
    "p_var = np.var(scores)\n",
    "\n",
    "p_mean, p_var"
   ]
  },
  {
   "cell_type": "code",
   "execution_count": 7,
   "id": "8d8b0fa8",
   "metadata": {},
   "outputs": [
    {
     "data": {
      "image/png": "[encoded data removed]",
      "text/plain": [
       "<Figure size 720x432 with 1 Axes>"
      ]
     },
     "metadata": {
      "needs_background": "light"
     },
     "output_type": "display_data"
    }
   ],
   "source": [
    "#모집단이 정규분포를 이룬다고 가정하여 추정 수행\n",
    "fig = plt.figure(figsize=(10,6))\n",
    "ax = fig.add_subplot(111)\n",
    "xs = np.arange(101)\n",
    "\n",
    "rv = stats.norm(p_mean, np.sqrt(p_var))\n",
    "ax.plot(xs, rv.pdf(xs), color='gray')\n",
    "ax.hist(scores, bins=100, range=(0, 100), density=True)\n",
    "\n",
    "plt.show()"
   ]
  },
  {
   "cell_type": "code",
   "execution_count": 8,
   "id": "f0386f5d",
   "metadata": {},
   "outputs": [
    {
     "data": {
      "text/plain": [
       "array([49, 60, 72, 86, 52, 61, 77, 91, 80, 56, 69, 67, 90, 56, 75, 79, 60,\n",
       "       79, 68, 81], dtype=int64)"
      ]
     },
     "execution_count": 8,
     "metadata": {},
     "output_type": "execute_result"
    }
   ],
   "source": [
    "#A학생이 무작위로 추출한 표본 크기가 20인 표본\n",
    "np.random.seed(0)\n",
    "n = 20 \n",
    "sample = np.random.choice(scores, n)\n",
    "sample"
   ]
  },
  {
   "cell_type": "code",
   "execution_count": 10,
   "id": "44fd7746",
   "metadata": {},
   "outputs": [],
   "source": [
    "#표본 크기가 20인 표본 10000개 추출\n",
    "np.random.seed(1111)\n",
    "n = 20 \n",
    "n_samples = 10000\n",
    "samples = np.random.choice(scores, (n_sample, n))"
   ]
  },
  {
   "cell_type": "markdown",
   "id": "c3e7b674",
   "metadata": {},
   "source": [
    "## 점추정\n",
    "- 모평균이나 모분산 등의 모수를 하나의 수치로 추정\n",
    "- 추정량의 기댓값이 추측하려는 모수가 되는 성질을 불편성이라고 하며 불편성을 가진 추정량을 불편추정량이라고 한다.(편향이 없다는 뜻)\n",
    "- 표본평균이 모평균을 잘 추정할 수 있는 근거 중 하나가 바로 이 불편성이다.\n",
    "- 표본크기 n을 증가시키면 추측하기 원하는 모수에 수렴해가는 성질을 일치성이라고 하며 일치성을 지닌 추정량을 일치추정량이라고 함\n",
    "- 표본평균은 불편성과 일치성을 모두 가지고 있기 때문에 모평균을 잘 추정한다고 말할 수 있다.\n"
   ]
  },
  {
   "cell_type": "code",
   "execution_count": 14,
   "id": "dc77a890",
   "metadata": {},
   "outputs": [
    {
     "name": "stdout",
     "output_type": "stream",
     "text": [
      "모평균: 69.53\n",
      "모분산: 207.18706766917293\n",
      "표본평균, 분산: 69.53799999999998 , 206.67808263157895\n"
     ]
    }
   ],
   "source": [
    "df = pd.read_csv('data/ch4_scores400.csv')\n",
    "print('모평균:', df.score.mean())\n",
    "\n",
    "np.random.seed(1111)\n",
    "n = 20 \n",
    "n_samples = 10000\n",
    "samples = np.random.choice(scores, (n_sample, n))\n",
    "\n",
    "sample_means = np.mean(samples, axis = 1)\n",
    "\n",
    "print('모분산:', df.score.var())\n",
    "\n",
    "sample_u_vars = np.var(samples, axis=1, ddof=1) #ddof = 1, 불편분산 \n",
    "print('표본평균, 분산:', np.mean(sample_means),',', np.mean(sample_u_vars))"
   ]
  },
  {
   "cell_type": "code",
   "execution_count": 15,
   "id": "8b112ec2",
   "metadata": {},
   "outputs": [
    {
     "data": {
      "text/plain": [
       "69.53799999999998"
      ]
     },
     "execution_count": 15,
     "metadata": {},
     "output_type": "execute_result"
    }
   ],
   "source": [
    "#표본평균의 평균\n",
    "sample_means = np.mean(samples, axis = 1)\n",
    "np.mean(sample_means)"
   ]
  },
  {
   "cell_type": "code",
   "execution_count": 18,
   "id": "b09dec08",
   "metadata": {},
   "outputs": [
    {
     "data": {
      "text/plain": [
       "68.19811320754717"
      ]
     },
     "execution_count": 18,
     "metadata": {},
     "output_type": "execute_result"
    }
   ],
   "source": [
    "#표본크기를 백만으로 할 때의 표본평균 - 얘는 하나의 표본의 표본의 크기가 1000만임 \n",
    "np.mean(np.random.choice(scores, int(106)))"
   ]
  },
  {
   "cell_type": "code",
   "execution_count": 19,
   "id": "80406957",
   "metadata": {},
   "outputs": [
    {
     "data": {
      "text/plain": [
       "70.4"
      ]
     },
     "execution_count": 19,
     "metadata": {},
     "output_type": "execute_result"
    }
   ],
   "source": [
    "#A학생이 추출한 표본의 표본평균\n",
    "np.random.seed(0)\n",
    "n = 20 \n",
    "sample = np.random.choice(scores, n)\n",
    "sample\n",
    "\n",
    "s_mean = np.mean(sample)\n",
    "s_mean"
   ]
  },
  {
   "cell_type": "code",
   "execution_count": 20,
   "id": "86fd4ca4",
   "metadata": {},
   "outputs": [
    {
     "data": {
      "text/plain": [
       "206.6691"
      ]
     },
     "execution_count": 20,
     "metadata": {},
     "output_type": "execute_result"
    }
   ],
   "source": [
    "np.var(scores)"
   ]
  },
  {
   "cell_type": "markdown",
   "id": "c5aa8b3a",
   "metadata": {},
   "source": [
    "   "
   ]
  },
  {
   "cell_type": "markdown",
   "id": "c5c24afb",
   "metadata": {},
   "source": [
    "#### [ 20220905 과제]\n",
    "- 다음 용어를 예를들어 설명하세요.\n",
    "    불편성, 일치성, 불편분산 <br>\n",
    "- 카이제곱분포, t분포가 구간 추정에 활용된 사례를 만들어 설명하세요."
   ]
  },
  {
   "cell_type": "markdown",
   "id": "0558c277",
   "metadata": {},
   "source": [
    "# 통계적 가설검정"
   ]
  },
  {
   "cell_type": "markdown",
   "id": "a854f6ad",
   "metadata": {},
   "source": [
    "## 통계적 가설검정이란\n",
    "모집단의 모수에 관하여 두가지 가설을 세우고 표본으로부터 계산되는 통계량을 이용하여 어느 가설이 옳은지 판단하는 통계적인 방법\n",
    "- 검정통계량 vs 임곗값\n",
    "- p값 vs 유의수준\n"
   ]
  },
  {
   "cell_type": "code",
   "execution_count": 1,
   "id": "b6ecf209",
   "metadata": {},
   "outputs": [
    {
     "data": {
      "text/plain": [
       "'%.3f'"
      ]
     },
     "execution_count": 1,
     "metadata": {},
     "output_type": "execute_result"
    }
   ],
   "source": [
    "import numpy as np\n",
    "import pandas as pd\n",
    "from scipy import stats\n",
    "%precision 3"
   ]
  },
  {
   "cell_type": "code",
   "execution_count": 7,
   "id": "d42543d0",
   "metadata": {},
   "outputs": [
    {
     "data": {
      "text/html": [
       "<div>\n",
       "<style scoped>\n",
       "    .dataframe tbody tr th:only-of-type {\n",
       "        vertical-align: middle;\n",
       "    }\n",
       "\n",
       "    .dataframe tbody tr th {\n",
       "        vertical-align: top;\n",
       "    }\n",
       "\n",
       "    .dataframe thead th {\n",
       "        text-align: right;\n",
       "    }\n",
       "</style>\n",
       "<table border=\"1\" class=\"dataframe\">\n",
       "  <thead>\n",
       "    <tr style=\"text-align: right;\">\n",
       "      <th></th>\n",
       "      <th>무게</th>\n",
       "    </tr>\n",
       "  </thead>\n",
       "  <tbody>\n",
       "    <tr>\n",
       "      <th>0</th>\n",
       "      <td>122.02</td>\n",
       "    </tr>\n",
       "    <tr>\n",
       "      <th>1</th>\n",
       "      <td>131.73</td>\n",
       "    </tr>\n",
       "    <tr>\n",
       "      <th>2</th>\n",
       "      <td>130.60</td>\n",
       "    </tr>\n",
       "    <tr>\n",
       "      <th>3</th>\n",
       "      <td>131.82</td>\n",
       "    </tr>\n",
       "    <tr>\n",
       "      <th>4</th>\n",
       "      <td>132.05</td>\n",
       "    </tr>\n",
       "    <tr>\n",
       "      <th>5</th>\n",
       "      <td>126.12</td>\n",
       "    </tr>\n",
       "    <tr>\n",
       "      <th>6</th>\n",
       "      <td>124.43</td>\n",
       "    </tr>\n",
       "    <tr>\n",
       "      <th>7</th>\n",
       "      <td>132.89</td>\n",
       "    </tr>\n",
       "    <tr>\n",
       "      <th>8</th>\n",
       "      <td>122.79</td>\n",
       "    </tr>\n",
       "    <tr>\n",
       "      <th>9</th>\n",
       "      <td>129.95</td>\n",
       "    </tr>\n",
       "    <tr>\n",
       "      <th>10</th>\n",
       "      <td>126.14</td>\n",
       "    </tr>\n",
       "    <tr>\n",
       "      <th>11</th>\n",
       "      <td>134.45</td>\n",
       "    </tr>\n",
       "    <tr>\n",
       "      <th>12</th>\n",
       "      <td>127.64</td>\n",
       "    </tr>\n",
       "    <tr>\n",
       "      <th>13</th>\n",
       "      <td>125.68</td>\n",
       "    </tr>\n",
       "  </tbody>\n",
       "</table>\n",
       "</div>"
      ],
      "text/plain": [
       "        무게\n",
       "0   122.02\n",
       "1   131.73\n",
       "2   130.60\n",
       "3   131.82\n",
       "4   132.05\n",
       "5   126.12\n",
       "6   124.43\n",
       "7   132.89\n",
       "8   122.79\n",
       "9   129.95\n",
       "10  126.14\n",
       "11  134.45\n",
       "12  127.64\n",
       "13  125.68"
      ]
     },
     "execution_count": 7,
     "metadata": {},
     "output_type": "execute_result"
    }
   ],
   "source": [
    "df = pd.read_csv('data/ch11_potato.csv')\n",
    "\n",
    "df"
   ]
  },
  {
   "cell_type": "code",
   "execution_count": 8,
   "id": "fa5dd701",
   "metadata": {},
   "outputs": [
    {
     "data": {
      "text/plain": [
       "128.451"
      ]
     },
     "execution_count": 8,
     "metadata": {},
     "output_type": "execute_result"
    }
   ],
   "source": [
    "#표본평균\n",
    "sample = np.array(df['무게'])\n",
    "s_mean = np.mean(sample)\n",
    "s_mean"
   ]
  },
  {
   "cell_type": "code",
   "execution_count": 10,
   "id": "b941f207",
   "metadata": {},
   "outputs": [
    {
     "name": "stdout",
     "output_type": "stream",
     "text": [
      "130.0 0.8017837257372732 \n",
      "\n",
      "[130.202 129.608 129.609 130.82  130.81  130.543 130.118 129.123 129.143\n",
      " 129.242] \n",
      "\n"
     ]
    },
    {
     "data": {
      "text/plain": [
       "128.681"
      ]
     },
     "execution_count": 10,
     "metadata": {},
     "output_type": "execute_result"
    }
   ],
   "source": [
    "# 모평균이 알려진 감자튀김 무게 평균 130g 적은지 여부 - 단측 검정 \n",
    "# 모집단이 정규분포를 따르고, 모분산은 9이다. \n",
    "\n",
    "rv = stats.norm(130, np.sqrt(9/14))\n",
    "print(rv.mean(), rv.std(), '\\n')\n",
    "print(rv.rvs(10), '\\n')\n",
    "rv.isf(0.95)"
   ]
  },
  {
   "cell_type": "code",
   "execution_count": 11,
   "id": "472a066f",
   "metadata": {},
   "outputs": [
    {
     "data": {
      "text/plain": [
       "<bound method _AxesBase.set_ylim of <AxesSubplot:xlabel='x', ylabel='pdf'>>"
      ]
     },
     "execution_count": 11,
     "metadata": {},
     "output_type": "execute_result"
    },
    {
     "data": {
      "image/png": "[encoded data removed]",
      "text/plain": [
       "<Figure size 720x432 with 2 Axes>"
      ]
     },
     "metadata": {
      "needs_background": "light"
     },
     "output_type": "display_data"
    }
   ],
   "source": [
    "import matplotlib.pyplot as plt\n",
    "fig = plt.figure(figsize=(10,6))\n",
    "ax1 = fig.add_subplot(111)\n",
    "ax2 = ax1.twinx()\n",
    "xs = np.linspace(127,133,60)\n",
    "\n",
    "ax1.plot(xs,rv.pdf(xs))\n",
    "ax2.plot(xs,rv.cdf(xs),color='black')\n",
    "ax1.vlines(rv.ppf(0.05), 0,0.5, color='gray',ls='--')\n",
    "ax1.set_xlabel(\"x\",fontsize=20)\n",
    "ax1.set_ylabel('pdf',rotation=0,fontsize=20)\n",
    "ax2.set_ylabel('cdf',rotation=0,fontsize=20) \n",
    "ax1.set_ylim\n"
   ]
  },
  {
   "cell_type": "markdown",
   "id": "2806dc0b",
   "metadata": {},
   "source": [
    "- 검정통계량 vs 임계값 "
   ]
  },
  {
   "cell_type": "code",
   "execution_count": 12,
   "id": "6a333867",
   "metadata": {},
   "outputs": [
    {
     "data": {
      "text/plain": [
       "-1.932"
      ]
     },
     "execution_count": 12,
     "metadata": {},
     "output_type": "execute_result"
    }
   ],
   "source": [
    "# 검정통계량 z : 표본평균을 표준화\n",
    "z = (s_mean - 130) / np.sqrt(9/14)\n",
    "z"
   ]
  },
  {
   "cell_type": "code",
   "execution_count": 13,
   "id": "e645a1eb",
   "metadata": {},
   "outputs": [
    {
     "data": {
      "text/plain": [
       "-1.645"
      ]
     },
     "execution_count": 13,
     "metadata": {},
     "output_type": "execute_result"
    }
   ],
   "source": [
    "#임계값 \n",
    "rv = stats.norm()\n",
    "rv.isf(0.95) #검정통계량값이 임계값보다 작으니까 기 각 "
   ]
  },
  {
   "cell_type": "markdown",
   "id": "92725a8c",
   "metadata": {},
   "source": [
    "- p값 vs 유의수준(여기서는 0.05)"
   ]
  },
  {
   "cell_type": "code",
   "execution_count": 14,
   "id": "2617ec34",
   "metadata": {},
   "outputs": [
    {
     "data": {
      "text/plain": [
       "0.027"
      ]
     },
     "execution_count": 14,
     "metadata": {},
     "output_type": "execute_result"
    }
   ],
   "source": [
    "#검정통계량으로부터 p값 산출\n",
    "#p값이 유의수준 0.05보다 작으므로 귀무가설 기각 \n",
    "rv.cdf(z)"
   ]
  },
  {
   "cell_type": "markdown",
   "id": "ac98409b",
   "metadata": {},
   "source": [
    "### 단측검정과 양측검정\n",
    "귀무가설 : 감자튀김의 무게는 130g이다.\n",
    "- 단측검정 : 감자튀김의 무게가 130g보다 작다를 대립가설로 수행\n",
    "- 양측검정 : 감자튀김의 무게는 130g이 아니다를 대립가설로 수행\n"
   ]
  },
  {
   "cell_type": "code",
   "execution_count": 17,
   "id": "41b40c08",
   "metadata": {},
   "outputs": [
    {
     "data": {
      "text/plain": [
       "-1.932"
      ]
     },
     "execution_count": 17,
     "metadata": {},
     "output_type": "execute_result"
    }
   ],
   "source": [
    "z = (s_mean - 130) / np.sqrt(9 / 14)\n",
    "z"
   ]
  },
  {
   "cell_type": "code",
   "execution_count": 18,
   "id": "fa9c2749",
   "metadata": {},
   "outputs": [
    {
     "data": {
      "text/plain": [
       "(-1.960, 1.960)"
      ]
     },
     "execution_count": 18,
     "metadata": {},
     "output_type": "execute_result"
    }
   ],
   "source": [
    "rv = stats.norm()\n",
    "rv.interval(0.95)"
   ]
  },
  {
   "cell_type": "code",
   "execution_count": 19,
   "id": "d0164770",
   "metadata": {},
   "outputs": [
    {
     "data": {
      "text/plain": [
       "0.053"
      ]
     },
     "execution_count": 19,
     "metadata": {},
     "output_type": "execute_result"
    }
   ],
   "source": [
    "#양측 검정 p 값은 상단과 하단의 양쪽 면적을 고려해야하므로, 누적밀도함수의 2배로 한다.\n",
    "rv.cdf(z) * 2 #p값이 0.05보다 크니까 채 택 "
   ]
  },
  {
   "cell_type": "markdown",
   "id": "845bea5a",
   "metadata": {},
   "source": [
    "### 가설검정에서의 두 가지 오류\n",
    "- 제1종 오류 : 귀무가설이 옳을 때 귀무가설을 기각하는 오류\n",
    "  - '실제로 평균이 130g'인데도 평균은 130g 보다 작다라는 결론을 내리는 상황 \n",
    "- 제2종 오류 : 대립가설이 옳을 때 귀무가설을 채택하는 오류\n",
    "  - '모평균은 130g 보다 작다'인데도 모평균은 130g 보다 작다라는 결론을 얻을 수 없는 비율\n",
    "- 통계적 가설검정에서는 제1종 오류는 제어할 수 있지만 제2종 오류는 제어할 수 없는 비대칭성이 있다.\n"
   ]
  },
  {
   "cell_type": "code",
   "execution_count": 24,
   "id": "5ca73237",
   "metadata": {},
   "outputs": [],
   "source": [
    "#실제로 평균은 130g인 상황 고려 N(130, 9)\n",
    "rv = stats.norm(130, 3)"
   ]
  },
  {
   "cell_type": "code",
   "execution_count": 26,
   "id": "8e9128a1",
   "metadata": {},
   "outputs": [
    {
     "name": "stdout",
     "output_type": "stream",
     "text": [
      "임계값: -1.6448536269514722\n"
     ]
    },
    {
     "data": {
      "text/plain": [
       "0.049"
      ]
     },
     "execution_count": 26,
     "metadata": {},
     "output_type": "execute_result"
    }
   ],
   "source": [
    "#1종 오류를 범할 비율 : 위험률이라 하며, 유의수준과 일치 \n",
    "c = stats.norm().isf(0.95)\n",
    "print('임계값:', c)\n",
    "n_samples = 10000\n",
    "cnt = 0\n",
    "\n",
    "for _ in range(n_samples):\n",
    "    sample_ = np.round(rv.rvs(14), 2)\n",
    "    s_mean_ = np.mean(sample_)\n",
    "    z = (s_mean_ - 130) / np.sqrt(9 / 14)\n",
    "    if z < c : #검정통계량 < 임계값 - 오류를 범한 것 \n",
    "        cnt += 1\n",
    "        \n",
    "cnt / n_samples #오류를 범할 비율"
   ]
  },
  {
   "cell_type": "code",
   "execution_count": 30,
   "id": "a2489df7",
   "metadata": {},
   "outputs": [
    {
     "name": "stdout",
     "output_type": "stream",
     "text": [
      "임계값:  -1.6448536269514722\n"
     ]
    },
    {
     "data": {
      "text/plain": [
       "0.195"
      ]
     },
     "execution_count": 30,
     "metadata": {},
     "output_type": "execute_result"
    }
   ],
   "source": [
    "# 2종 오류를 범하는 비율 = 1 - 베타, 검정력, 분석가가 제어할 수 없는 확률\n",
    "rv = stats.norm(128, 3)\n",
    "c = stats.norm().isf(0.95)\n",
    "print('임계값: ', c)\n",
    "n_samples = 10000\n",
    "cnt = 0\n",
    "\n",
    "for _ in range(n_samples):\n",
    "    sample_ = np.round(rv.rvs(14), 2)\n",
    "    s_mean_ = np.mean(sample_)\n",
    "    z = (s_mean_ - 130) / np.sqrt(9 / 14)\n",
    "    if z >= c : #검정통계량 >= 임계값 - 오류를 범한 것 \n",
    "        cnt += 1\n",
    "        \n",
    "cnt / n_samples #오류를 범할 비율"
   ]
  },
  {
   "cell_type": "markdown",
   "id": "a4ccf3d8",
   "metadata": {},
   "source": [
    "### 과제 0907"
   ]
  },
  {
   "cell_type": "markdown",
   "id": "e5cb0b72",
   "metadata": {},
   "source": [
    "#### 과제_0907_1\n",
    "p.308 ~ 331(윌콕슨, 만위트니는 제외)"
   ]
  },
  {
   "cell_type": "markdown",
   "id": "77783cf8",
   "metadata": {},
   "source": [
    "## 카이제곱검정\n",
    "- 독립성 검정이란 두 변수 'X,Y에 관해서 X와 Y가 독립이다.'라는 귀무가설과 'X,Y에 관해서 X와 Y가 독립이 아니다.'라는 대립가설에 의해 수행되는 검정\n",
    "- 독립성 검정에 카이제곱분포가 사용되기 때문에 카이제곱검정이라고도 부른다.\n",
    "- 광고A와 광고B간의 구입 비율에 유의한 차이가 있는지 확인하는 경우 사용할 수 있음.\n"
   ]
  },
  {
   "cell_type": "code",
   "execution_count": 32,
   "id": "0972e1e6",
   "metadata": {},
   "outputs": [
    {
     "name": "stdout",
     "output_type": "stream",
     "text": [
      "1000\n"
     ]
    },
    {
     "data": {
      "text/html": [
       "<div>\n",
       "<style scoped>\n",
       "    .dataframe tbody tr th:only-of-type {\n",
       "        vertical-align: middle;\n",
       "    }\n",
       "\n",
       "    .dataframe tbody tr th {\n",
       "        vertical-align: top;\n",
       "    }\n",
       "\n",
       "    .dataframe thead th {\n",
       "        text-align: right;\n",
       "    }\n",
       "</style>\n",
       "<table border=\"1\" class=\"dataframe\">\n",
       "  <thead>\n",
       "    <tr style=\"text-align: right;\">\n",
       "      <th></th>\n",
       "      <th>광고</th>\n",
       "      <th>구입</th>\n",
       "    </tr>\n",
       "  </thead>\n",
       "  <tbody>\n",
       "    <tr>\n",
       "      <th>0</th>\n",
       "      <td>B</td>\n",
       "      <td>하지 않았다</td>\n",
       "    </tr>\n",
       "    <tr>\n",
       "      <th>1</th>\n",
       "      <td>B</td>\n",
       "      <td>하지 않았다</td>\n",
       "    </tr>\n",
       "    <tr>\n",
       "      <th>2</th>\n",
       "      <td>A</td>\n",
       "      <td>했다</td>\n",
       "    </tr>\n",
       "    <tr>\n",
       "      <th>3</th>\n",
       "      <td>A</td>\n",
       "      <td>했다</td>\n",
       "    </tr>\n",
       "    <tr>\n",
       "      <th>4</th>\n",
       "      <td>B</td>\n",
       "      <td>하지 않았다</td>\n",
       "    </tr>\n",
       "    <tr>\n",
       "      <th>...</th>\n",
       "      <td>...</td>\n",
       "      <td>...</td>\n",
       "    </tr>\n",
       "    <tr>\n",
       "      <th>995</th>\n",
       "      <td>B</td>\n",
       "      <td>하지 않았다</td>\n",
       "    </tr>\n",
       "    <tr>\n",
       "      <th>996</th>\n",
       "      <td>B</td>\n",
       "      <td>하지 않았다</td>\n",
       "    </tr>\n",
       "    <tr>\n",
       "      <th>997</th>\n",
       "      <td>B</td>\n",
       "      <td>하지 않았다</td>\n",
       "    </tr>\n",
       "    <tr>\n",
       "      <th>998</th>\n",
       "      <td>B</td>\n",
       "      <td>하지 않았다</td>\n",
       "    </tr>\n",
       "    <tr>\n",
       "      <th>999</th>\n",
       "      <td>A</td>\n",
       "      <td>했다</td>\n",
       "    </tr>\n",
       "  </tbody>\n",
       "</table>\n",
       "<p>1000 rows × 2 columns</p>\n",
       "</div>"
      ],
      "text/plain": [
       "    광고      구입\n",
       "0    B  하지 않았다\n",
       "1    B  하지 않았다\n",
       "2    A      했다\n",
       "3    A      했다\n",
       "4    B  하지 않았다\n",
       "..  ..     ...\n",
       "995  B  하지 않았다\n",
       "996  B  하지 않았다\n",
       "997  B  하지 않았다\n",
       "998  B  하지 않았다\n",
       "999  A      했다\n",
       "\n",
       "[1000 rows x 2 columns]"
      ]
     },
     "execution_count": 32,
     "metadata": {},
     "output_type": "execute_result"
    }
   ],
   "source": [
    "ad_df = pd.read_csv('data/ch11_ad.csv')\n",
    "n = len(ad_df)\n",
    "print(n)\n",
    "ad_df"
   ]
  },
  {
   "cell_type": "code",
   "execution_count": 33,
   "id": "787081d2",
   "metadata": {},
   "outputs": [
    {
     "data": {
      "text/html": [
       "<div>\n",
       "<style scoped>\n",
       "    .dataframe tbody tr th:only-of-type {\n",
       "        vertical-align: middle;\n",
       "    }\n",
       "\n",
       "    .dataframe tbody tr th {\n",
       "        vertical-align: top;\n",
       "    }\n",
       "\n",
       "    .dataframe thead th {\n",
       "        text-align: right;\n",
       "    }\n",
       "</style>\n",
       "<table border=\"1\" class=\"dataframe\">\n",
       "  <thead>\n",
       "    <tr style=\"text-align: right;\">\n",
       "      <th>구입</th>\n",
       "      <th>하지 않았다</th>\n",
       "      <th>했다</th>\n",
       "    </tr>\n",
       "    <tr>\n",
       "      <th>광고</th>\n",
       "      <th></th>\n",
       "      <th></th>\n",
       "    </tr>\n",
       "  </thead>\n",
       "  <tbody>\n",
       "    <tr>\n",
       "      <th>A</th>\n",
       "      <td>351</td>\n",
       "      <td>49</td>\n",
       "    </tr>\n",
       "    <tr>\n",
       "      <th>B</th>\n",
       "      <td>549</td>\n",
       "      <td>51</td>\n",
       "    </tr>\n",
       "  </tbody>\n",
       "</table>\n",
       "</div>"
      ],
      "text/plain": [
       "구입  하지 않았다  했다\n",
       "광고            \n",
       "A      351  49\n",
       "B      549  51"
      ]
     },
     "execution_count": 33,
     "metadata": {},
     "output_type": "execute_result"
    }
   ],
   "source": [
    "#교차집계표\n",
    "ad_cross = pd.crosstab(ad_df['광고'], ad_df['구입'])\n",
    "ad_cross"
   ]
  },
  {
   "cell_type": "code",
   "execution_count": 37,
   "id": "dad3397a",
   "metadata": {},
   "outputs": [
    {
     "data": {
      "text/plain": [
       "(900, 100)"
      ]
     },
     "execution_count": 37,
     "metadata": {},
     "output_type": "execute_result"
    }
   ],
   "source": [
    "n_not, n_yes = ad_cross.sum() #axis = 0로 해서 구해진거네 - default값 n_not, n_yes\n",
    "n_not, n_yes"
   ]
  },
  {
   "cell_type": "code",
   "execution_count": 35,
   "id": "b65fd3d4",
   "metadata": {},
   "outputs": [
    {
     "data": {
      "text/plain": [
       "(400, 600)"
      ]
     },
     "execution_count": 35,
     "metadata": {},
     "output_type": "execute_result"
    }
   ],
   "source": [
    "n_adA, n_adB = ad_cross.sum(axis=1)\n",
    "n_adA, n_adB"
   ]
  },
  {
   "cell_type": "code",
   "execution_count": 36,
   "id": "f9494a77",
   "metadata": {},
   "outputs": [
    {
     "data": {
      "text/html": [
       "<div>\n",
       "<style scoped>\n",
       "    .dataframe tbody tr th:only-of-type {\n",
       "        vertical-align: middle;\n",
       "    }\n",
       "\n",
       "    .dataframe tbody tr th {\n",
       "        vertical-align: top;\n",
       "    }\n",
       "\n",
       "    .dataframe thead th {\n",
       "        text-align: right;\n",
       "    }\n",
       "</style>\n",
       "<table border=\"1\" class=\"dataframe\">\n",
       "  <thead>\n",
       "    <tr style=\"text-align: right;\">\n",
       "      <th></th>\n",
       "      <th>했다</th>\n",
       "      <th>하지 않았다</th>\n",
       "    </tr>\n",
       "  </thead>\n",
       "  <tbody>\n",
       "    <tr>\n",
       "      <th>A</th>\n",
       "      <td>40.0</td>\n",
       "      <td>360.0</td>\n",
       "    </tr>\n",
       "    <tr>\n",
       "      <th>B</th>\n",
       "      <td>60.0</td>\n",
       "      <td>540.0</td>\n",
       "    </tr>\n",
       "  </tbody>\n",
       "</table>\n",
       "</div>"
      ],
      "text/plain": [
       "     했다  하지 않았다\n",
       "A  40.0   360.0\n",
       "B  60.0   540.0"
      ]
     },
     "execution_count": 36,
     "metadata": {},
     "output_type": "execute_result"
    }
   ],
   "source": [
    "#기대도수\n",
    "ad_ef = pd.DataFrame({'했다': [n_adA * n_yes / n,\n",
    "                             n_adB * n_yes / n],\n",
    "                     '하지 않았다': [n_adA * n_not / n,\n",
    "                               n_adB * n_not / n]},\n",
    "                    index = ['A', 'B'])\n",
    "ad_ef"
   ]
  },
  {
   "cell_type": "code",
   "execution_count": 38,
   "id": "0a8c3b7d",
   "metadata": {},
   "outputs": [
    {
     "data": {
      "text/plain": [
       "3.750"
      ]
     },
     "execution_count": 38,
     "metadata": {},
     "output_type": "execute_result"
    }
   ],
   "source": [
    "#기대도수와 관측도수의 차이를 측정함으로써 검정 수행\n",
    "y = ((ad_cross - ad_ef) ** 2 / ad_ef).sum().sum()\n",
    "y"
   ]
  },
  {
   "cell_type": "code",
   "execution_count": 39,
   "id": "d1cc91a8",
   "metadata": {},
   "outputs": [
    {
     "data": {
      "text/plain": [
       "0.053"
      ]
     },
     "execution_count": 39,
     "metadata": {},
     "output_type": "execute_result"
    }
   ],
   "source": [
    "rv = stats.chi2(1)\n",
    "1 - rv.cdf(y)"
   ]
  },
  {
   "cell_type": "code",
   "execution_count": 40,
   "id": "3ea3248e",
   "metadata": {},
   "outputs": [
    {
     "data": {
      "text/plain": [
       "(3.750, 0.053, 1)"
      ]
     },
     "execution_count": 40,
     "metadata": {},
     "output_type": "execute_result"
    }
   ],
   "source": [
    "#검정통계량, p값, 자유도, 기대도수 \n",
    "chi2, p, dof, ef = stats.chi2_contingency(ad_cross, correction=False)\n",
    "chi2, p, dof"
   ]
  },
  {
   "cell_type": "code",
   "execution_count": 42,
   "id": "27e562e8",
   "metadata": {},
   "outputs": [
    {
     "data": {
      "text/plain": [
       "array([[360.,  40.],\n",
       "       [540.,  60.]])"
      ]
     },
     "execution_count": 42,
     "metadata": {},
     "output_type": "execute_result"
    }
   ],
   "source": [
    "ef"
   ]
  },
  {
   "cell_type": "markdown",
   "id": "01069705",
   "metadata": {},
   "source": [
    "### 과제_0907_2\n",
    "카이제곱 검정을 이용하여 독립성 검정을 수행하는 사례를 작성하여 설명하세요."
   ]
  },
  {
   "cell_type": "code",
   "execution_count": null,
   "id": "e54219bf",
   "metadata": {},
   "outputs": [],
   "source": []
  }
 ],
 "metadata": {
  "kernelspec": {
   "display_name": "Python 3 (ipykernel)",
   "language": "python",
   "name": "python3"
  },
  "language_info": {
   "codemirror_mode": {
    "name": "ipython",
    "version": 3
   },
   "file_extension": ".py",
   "mimetype": "text/x-python",
   "name": "python",
   "nbconvert_exporter": "python",
   "pygments_lexer": "ipython3",
   "version": "3.8.13"
  },
  "toc": {
   "base_numbering": 1,
   "nav_menu": {},
   "number_sections": true,
   "sideBar": true,
   "skip_h1_title": false,
   "title_cell": "Table of Contents",
   "title_sidebar": "Contents",
   "toc_cell": false,
   "toc_position": {},
   "toc_section_display": true,
   "toc_window_display": false
  }
 },
 "nbformat": 4,
 "nbformat_minor": 5
}

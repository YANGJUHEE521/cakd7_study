{
 "cells": [
  {
   "cell_type": "markdown",
   "id": "e3ab4cc7",
   "metadata": {
    "id": "e3ab4cc7"
   },
   "source": [
    "#### Q. 남녀 파트너 정해주기 프로그램(zip) \n",
    "같은 수의 남녀 모임에서 파트너를 랜덤하게 정해주는 프로그램을 만들어 보세요\n",
    "\n",
    "male = ['철수','갑돌','로미오','이몽룡','온돌']\n",
    "\n",
    "female = ['미미','갑순','줄리엣','성춘향','평강']\n"
   ]
  },
  {
   "cell_type": "code",
   "execution_count": null,
   "id": "P0WlK7nZlagh",
   "metadata": {
    "colab": {
     "base_uri": "https://localhost:8080/"
    },
    "executionInfo": {
     "elapsed": 518,
     "status": "ok",
     "timestamp": 1658236434242,
     "user": {
      "displayName": "양주희",
      "userId": "07512774318755994288"
     },
     "user_tz": -540
    },
    "id": "P0WlK7nZlagh",
    "outputId": "ec16ae10-c915-4e76-dc56-cb5f719cf06a"
   },
   "outputs": [
    {
     "name": "stdout",
     "output_type": "stream",
     "text": [
      "로미오 ♥ 미미\n",
      "철수 ♥ 갑순\n",
      "이몽룡 ♥ 평강\n",
      "온돌 ♥ 성춘향\n",
      "갑돌 ♥ 줄리엣\n"
     ]
    }
   ],
   "source": [
    "import random\n",
    "male = ['철수','갑돌','로미오','이몽룡','온돌']\n",
    "\n",
    "female = ['미미','갑순','줄리엣','성춘향','평강']\n",
    "\n",
    "random.shuffle(male)  #기존의 배열을 변경\n",
    "random.shuffle(female)\n",
    "\n",
    "for i, j in zip(male, female):\n",
    "    print(f'{i} ♥ {j}')"
   ]
  },
  {
   "cell_type": "markdown",
   "id": "b408db61",
   "metadata": {
    "id": "b408db61"
   },
   "source": [
    "#### Q2. 사용자가 입력한 횟수만큼 로또 번호를 출력하는 프로그램을 작성하세요.(중복 X )"
   ]
  },
  {
   "cell_type": "code",
   "execution_count": null,
   "id": "Eq8L-H6BlfQA",
   "metadata": {
    "colab": {
     "base_uri": "https://localhost:8080/"
    },
    "executionInfo": {
     "elapsed": 3975,
     "status": "ok",
     "timestamp": 1658236438515,
     "user": {
      "displayName": "양주희",
      "userId": "07512774318755994288"
     },
     "user_tz": -540
    },
    "id": "Eq8L-H6BlfQA",
    "outputId": "b7221cae-1cbf-4e1b-bb0e-2de340a8dedc"
   },
   "outputs": [
    {
     "name": "stdout",
     "output_type": "stream",
     "text": [
      "로또를 시행 할 횟수를 입력해주세요.6\n",
      "[19, 12, 43, 10, 3, 21]\n",
      "[1, 20, 15, 7, 8, 39]\n",
      "[38, 3, 40, 33, 34, 19]\n",
      "[31, 4, 28, 41, 40, 38]\n",
      "[13, 35, 5, 17, 31, 45]\n",
      "[32, 21, 33, 22, 28, 8]\n"
     ]
    }
   ],
   "source": [
    "import random\n",
    "\n",
    "user = int(input('로또를 시행 할 횟수를 입력해주세요.'))\n",
    "\n",
    "i = 0\n",
    "\n",
    "while i < user:\n",
    "    lotto = list(range(1, 46))\n",
    "    print(random.sample(lotto,6))\n",
    "    i += 1"
   ]
  },
  {
   "cell_type": "markdown",
   "id": "af1dcdba",
   "metadata": {
    "id": "af1dcdba"
   },
   "source": [
    "#### [도전과제] 발표자를 원하는 수만큼 랜덤하게 출력하는 프로그램을 작성하세요."
   ]
  },
  {
   "cell_type": "code",
   "execution_count": null,
   "id": "e843c5ae",
   "metadata": {
    "colab": {
     "base_uri": "https://localhost:8080/"
    },
    "executionInfo": {
     "elapsed": 27,
     "status": "ok",
     "timestamp": 1658236438516,
     "user": {
      "displayName": "양주희",
      "userId": "07512774318755994288"
     },
     "user_tz": -540
    },
    "id": "e843c5ae",
    "outputId": "0d0acefe-08d7-434a-ebfa-9c6375564549"
   },
   "outputs": [
    {
     "data": {
      "text/plain": [
       "25"
      ]
     },
     "execution_count": 3,
     "metadata": {},
     "output_type": "execute_result"
    }
   ],
   "source": [
    "cakd7 = ['박영권', '김현지', '김덕현','변서연','한지웅','양주희','이호원','정지은','이정현A','이정현B','이명진','이상윤','조승현','강유한','김영선','최애림','김민섭','박혜린','윤정준','김진형','정승기','진청아','신창훈','김병석','박세희']\n",
    "len(cakd7)"
   ]
  },
  {
   "cell_type": "markdown",
   "id": "a5ece49f",
   "metadata": {
    "id": "a5ece49f"
   },
   "source": [
    "#### Q3.입력받은 문자열의 각 문자를 그 다음 문자로 변경하여 출력하세요. EX) abc ->bca"
   ]
  },
  {
   "cell_type": "code",
   "execution_count": null,
   "id": "0Fwv9gG6lh7y",
   "metadata": {
    "colab": {
     "base_uri": "https://localhost:8080/"
    },
    "executionInfo": {
     "elapsed": 5500,
     "status": "ok",
     "timestamp": 1658236444008,
     "user": {
      "displayName": "양주희",
      "userId": "07512774318755994288"
     },
     "user_tz": -540
    },
    "id": "0Fwv9gG6lh7y",
    "outputId": "747bff79-944e-4207-f1c1-3bfe92bb125d"
   },
   "outputs": [
    {
     "name": "stdout",
     "output_type": "stream",
     "text": [
      "abc\n",
      "bca\n"
     ]
    }
   ],
   "source": [
    "munja = list(input())\n",
    "\n",
    "new = list('a' * len(munja))\n",
    "\n",
    "\n",
    "for i in range(len(munja)):\n",
    "    new[i - 1] = munja[i]\n",
    "\n",
    "joined_new = \"\".join(new)\n",
    "print(joined_new)"
   ]
  },
  {
   "cell_type": "markdown",
   "id": "924b83ff",
   "metadata": {
    "id": "924b83ff"
   },
   "source": [
    "#### Q.4 url에서 호스트 도메인(news.naver.com)을 추출하여 출력하세요.\n",
    "url = 'http://news.naver.com/main/read.nhn?mode=LSD&mid=shm&sid1=105&oid=028&aid=0002334601'\n"
   ]
  },
  {
   "cell_type": "code",
   "execution_count": null,
   "id": "j2bQpVH1lj2k",
   "metadata": {
    "colab": {
     "base_uri": "https://localhost:8080/"
    },
    "executionInfo": {
     "elapsed": 33,
     "status": "ok",
     "timestamp": 1658236444014,
     "user": {
      "displayName": "양주희",
      "userId": "07512774318755994288"
     },
     "user_tz": -540
    },
    "id": "j2bQpVH1lj2k",
    "outputId": "4b70d656-e85c-4bb9-bd57-2401fbcc8365"
   },
   "outputs": [
    {
     "data": {
      "text/plain": [
       "['news.naver.com']"
      ]
     },
     "execution_count": 5,
     "metadata": {},
     "output_type": "execute_result"
    }
   ],
   "source": [
    "import re \n",
    "\n",
    "\n",
    "p = re.compile(r'\\w+[.]\\w+[.]com')\n",
    "\n",
    "url = 'http://news.naver.com/main/read.nhn?mode=LSD&mid=shm&sid1=105&oid=028&aid=0002334601'\n",
    "\n",
    "p.findall(url)"
   ]
  },
  {
   "cell_type": "markdown",
   "id": "c5ff8623",
   "metadata": {
    "id": "c5ff8623"
   },
   "source": [
    "#### url에서 쿼리문을 추출하여 출력하세요. \n",
    "- url에서 '?'뒤에 표시되는 문자열을 쿼리 문자열이라고 하며 변수=값 사이 &로 구분되어 나열된다.\n",
    "- url = 'http://news.naver.com/main/read.nhn?mode=LSD&mid=shm&sid1=105&oid=028&aid=0002334601'\n",
    "\n",
    "> EX. mode=LSD"
   ]
  },
  {
   "cell_type": "markdown",
   "id": "df11b2a9",
   "metadata": {
    "id": "df11b2a9"
   },
   "source": [
    "#### 텍스트 파일(mydata.txt)을 읽고  파일의 내용에서 나타나는 문자들에 대해 자주 나타나는 문자들을 아래와 같이 순서대로 출력하세요.\n",
    "- \\[ \\] -> [177]회 나타남\n",
    "- [e] -> [97]회 나타남\n",
    "- [t] -> [85]회 나타남"
   ]
  },
  {
   "cell_type": "code",
   "execution_count": null,
   "id": "0ea8cbba",
   "metadata": {
    "colab": {
     "base_uri": "https://localhost:8080/",
     "height": 381
    },
    "executionInfo": {
     "elapsed": 38,
     "status": "error",
     "timestamp": 1658236444022,
     "user": {
      "displayName": "양주희",
      "userId": "07512774318755994288"
     },
     "user_tz": -540
    },
    "id": "0ea8cbba",
    "outputId": "362f8aa8-b0f5-47f0-e132-44e7f3c0f3ff"
   },
   "outputs": [
    {
     "name": "stdout",
     "output_type": "stream",
     "text": [
      "[(' ', 177), ('e', 97), ('t', 85), ('a', 78), ('o', 73), ('n', 60), ('s', 60), ('r', 54), ('i', 50), ('h', 48), ('\\n', 43), ('l', 34), ('u', 27), ('d', 24), ('c', 23), ('w', 20), ('m', 20), ('f', 17), ('y', 15), ('p', 15), ('b', 13), ('g', 11), ('v', 9), (\"'\", 8), ('k', 7), ('!', 2)]\n",
      "[ ] - > [177]회 나타남\n",
      "[e] - > [97]회 나타남\n",
      "[t] - > [85]회 나타남\n",
      "[a] - > [78]회 나타남\n",
      "[o] - > [73]회 나타남\n",
      "[n] - > [60]회 나타남\n",
      "[s] - > [60]회 나타남\n",
      "[r] - > [54]회 나타남\n",
      "[i] - > [50]회 나타남\n",
      "[h] - > [48]회 나타남\n",
      "[l] - > [34]회 나타남\n",
      "[u] - > [27]회 나타남\n",
      "[d] - > [24]회 나타남\n",
      "[c] - > [23]회 나타남\n",
      "[w] - > [20]회 나타남\n",
      "[m] - > [20]회 나타남\n",
      "[f] - > [17]회 나타남\n",
      "[y] - > [15]회 나타남\n",
      "[p] - > [15]회 나타남\n",
      "[b] - > [13]회 나타남\n",
      "[g] - > [11]회 나타남\n",
      "[v] - > [9]회 나타남\n",
      "['] - > [8]회 나타남\n",
      "[k] - > [7]회 나타남\n",
      "[!] - > [2]회 나타남\n"
     ]
    }
   ],
   "source": [
    "def getTextFreq(filename):\n",
    "    with open(filename,'r') as f:\n",
    "        text = f.read()\n",
    "        fa = {}\n",
    "        for c in text:\n",
    "            if c in fa:\n",
    "                fa[c] += 1\n",
    "            else:\n",
    "                fa[c] = 1\n",
    "    return fa\n",
    "ret = getTextFreq('data/mydata.txt')\n",
    "ret = sorted(ret.items(),key=lambda x:x[1], reverse=True)\n",
    "print(ret)\n",
    "for c, freq in ret:\n",
    "    if c =='\\n':\n",
    "        continue\n",
    "    print('[%c] - > [%d]회 나타남' %(c,freq))\n"
   ]
  },
  {
   "cell_type": "markdown",
   "id": "9aacc69d",
   "metadata": {
    "id": "9aacc69d"
   },
   "source": [
    "#### Q7. 두 개의 수를 입력한 후 두 개의 수에 대한 사칙 연산을 수행하세요.\n",
    "(0을 입력한 경우 다시 입력하도록 조치)"
   ]
  },
  {
   "cell_type": "code",
   "execution_count": null,
   "id": "78e1b1e1",
   "metadata": {
    "executionInfo": {
     "elapsed": 32,
     "status": "aborted",
     "timestamp": 1658236444017,
     "user": {
      "displayName": "양주희",
      "userId": "07512774318755994288"
     },
     "user_tz": -540
    },
    "id": "78e1b1e1",
    "outputId": "e159320c-7d1f-4ee6-dce9-38ccc22d7fbe"
   },
   "outputs": [
    {
     "name": "stdout",
     "output_type": "stream",
     "text": [
      "더하기 결과:11\n",
      "빼기 결과:5\n",
      "곱하기 결과:24\n",
      "나누기 결과:2.67\n"
     ]
    }
   ],
   "source": [
    "# Cal4 클래스를 만들어서 작성하세요.\n",
    "class Cal4:\n",
    "    \"\"\"두 개의 수를 입력 받아 두 개의 수에 대한 사칙 연산을 수행하는 클래스\"\"\"\n",
    "    def __init__(self, a, b):  #self 매개변수로 인스턴스를 전달 받기, 두 개의 수를 입력 받는 매개변수 - a, b \n",
    "        self.a = a\n",
    "        self.b = b\n",
    "\n",
    "    def add(self):  #더하기 메서드 정의\n",
    "        print(self.a + self.b)\n",
    "    \n",
    "    def sub(self):  #빼기 메서드 정의\n",
    "        print(self.a - self.b)\n",
    "    \n",
    "    def mul(self):  #곱하기 메서드 정의\n",
    "        print(self.a * self.b)\n",
    "\n",
    "    def div(self):  #나누기 메서드 정의\n",
    "        print(round((self.a / self.b), 2)) \n",
    "\n",
    "Cal4_num = Cal4(8,3)\n",
    "\n",
    "print('더하기 결과:',end = '')\n",
    "Cal4_num.add()\n",
    "\n",
    "print('빼기 결과:',end = '')\n",
    "Cal4_num.sub()\n",
    "\n",
    "print('곱하기 결과:',end = '')\n",
    "Cal4_num.mul()\n",
    "\n",
    "print('나누기 결과:',end = '')\n",
    "Cal4_num.div()"
   ]
  },
  {
   "cell_type": "markdown",
   "id": "c74a4026",
   "metadata": {
    "id": "c74a4026"
   },
   "source": [
    "#### Q8. Order 클래스를 상속받아 extraOrder 클래스에서 메소드 오버라이딩하여 출력가격에 원이 추가되도록 출력하세요."
   ]
  },
  {
   "cell_type": "code",
   "execution_count": null,
   "id": "bea06a0e",
   "metadata": {
    "id": "bea06a0e"
   },
   "outputs": [],
   "source": [
    "class Order: \n",
    "    def __init__(self, name): \n",
    "        self.customer = 0 \n",
    "        self.name = name \n",
    "    def order(self, price): \n",
    "        self.customer += price \n",
    "        return self.customer\n",
    "\n",
    "order = Order('kevin')\n",
    "print(order.order(1000))"
   ]
  },
  {
   "cell_type": "code",
   "execution_count": null,
   "id": "rJd7IKTjl3n-",
   "metadata": {
    "executionInfo": {
     "elapsed": 33,
     "status": "aborted",
     "timestamp": 1658236444019,
     "user": {
      "displayName": "양주희",
      "userId": "07512774318755994288"
     },
     "user_tz": -540
    },
    "id": "rJd7IKTjl3n-",
    "outputId": "73a64981-1a80-41e4-f683-481f00b8f0e1"
   },
   "outputs": [
    {
     "name": "stdout",
     "output_type": "stream",
     "text": [
      "1000 \n",
      "\n",
      "1000원\n"
     ]
    }
   ],
   "source": [
    "#sol)\n",
    "# 원래 하위 클래스에서 재정의한 속성은 상위 클래스의 속성을 덮음. \n",
    "# but,  \n",
    "# super()는 이 인스턴스가 속한 클래스의 상위클래스로 평가되는 함수 \n",
    "# → 상위 클래스의 정의한 속성 초기화\n",
    "class Order: \n",
    "    def __init__(self, name): \n",
    "        self.customer = 0 \n",
    "        self.name = name \n",
    "    def order(self, price): \n",
    "        self.customer += price \n",
    "        return self.customer\n",
    "\n",
    "class extraOrder(Order): \n",
    "    def __init__(self, name):\n",
    "        super().__init__(name)\n",
    "    \n",
    "    def won_order(self, price):\n",
    "        a = super().order(price)\n",
    "        return str(a) + '원'\n",
    "\n",
    "order = Order('kevin')\n",
    "print(order.order(1000), '\\n')\n",
    "extraorder =  extraOrder('kevin')\n",
    "print(extraorder.won_order(1000))\n"
   ]
  },
  {
   "cell_type": "markdown",
   "id": "effd3d35",
   "metadata": {
    "id": "effd3d35"
   },
   "source": [
    "#### Q9. 업무미팅이 2시임을 알려주는 자동 이메일을 클래스 AutoEmail을 작성하여 아래와 같이 출력하세요.\n",
    "안녕하세요. kevin님, 업무미팅은 2시입니다. "
   ]
  },
  {
   "cell_type": "code",
   "execution_count": null,
   "id": "xH4EOJFql5Wn",
   "metadata": {
    "executionInfo": {
     "elapsed": 35,
     "status": "aborted",
     "timestamp": 1658236444021,
     "user": {
      "displayName": "양주희",
      "userId": "07512774318755994288"
     },
     "user_tz": -540
    },
    "id": "xH4EOJFql5Wn",
    "outputId": "4b2d9bdb-28f5-406e-fb09-6c6e2a806cb7"
   },
   "outputs": [
    {
     "name": "stdout",
     "output_type": "stream",
     "text": [
      "안녕하세요.Kevin님, 업무미팅은 2입니다.\n"
     ]
    }
   ],
   "source": [
    "class AutoEmail:\n",
    "    def __init__(self, name, work, time):  \n",
    "        self.name = name\n",
    "        self.work = work\n",
    "        self.time = time\n",
    "        \n",
    "    def noti(self):    \n",
    "        print(f'안녕하세요.{self.name}님, {self.work}은 {self.time}입니다.')\n",
    "\n",
    "kevin = AutoEmail('Kevin', '업무미팅', 2)\n",
    "kevin.noti()"
   ]
  },
  {
   "cell_type": "markdown",
   "id": "a3cb1286",
   "metadata": {
    "id": "a3cb1286"
   },
   "source": [
    "#### Q10. 정규표현식을 사용하여 test에서 전화번호만 출력하세요.\n",
    "text = \"문의사항이 있으면 032-232-3245으로 연락주시기 바랍니다.\""
   ]
  },
  {
   "cell_type": "code",
   "execution_count": null,
   "id": "3907bf3f",
   "metadata": {
    "id": "3907bf3f",
    "outputId": "df184249-8392-4021-b0aa-f38a7b7cc264"
   },
   "outputs": [
    {
     "name": "stdout",
     "output_type": "stream",
     "text": [
      "032-232-3245\n"
     ]
    }
   ],
   "source": [
    "import re \n",
    "\n",
    "text = \"문의사항이 있으면 032-232-3245으로 연락주시기 바랍니다.\"\n",
    "\n",
    "#정규표현식 컴파일\n",
    "p = re.compile(r'\\d+[-]\\d+[-]\\d+')\n",
    "\n",
    "#search - 문자열 전체를 검색하여 정규식과 매치되는지 조사\n",
    "#group() - 매치된 문자열을 돌려준다.\n",
    "print(p.search(text).group())"
   ]
  },
  {
   "cell_type": "markdown",
   "id": "71d22915",
   "metadata": {
    "id": "71d22915"
   },
   "source": [
    "#### Q11. 정규표현식을 사용하여 text에서 에러가 들어간 부분만 포함하는 리스트를 출력하세요.\n",
    "text = \"에러 1122, 레퍼런스 오륲, 에러 1033, 아규먼트 오류, 에러 xxx\""
   ]
  },
  {
   "cell_type": "code",
   "execution_count": null,
   "id": "26ffebf2",
   "metadata": {
    "id": "26ffebf2",
    "outputId": "42bc699a-27f7-4ffa-ad0a-fecd7b22c86a"
   },
   "outputs": [
    {
     "data": {
      "text/plain": [
       "['에러 1122', '에러 1033', '에러 xxx']"
      ]
     },
     "execution_count": 16,
     "metadata": {},
     "output_type": "execute_result"
    }
   ],
   "source": [
    "import re \n",
    "\n",
    "text = \"에러 1122, 레퍼런스 오륲, 에러 1033, 아규먼트 오류, 에러 xxx\"\n",
    "\n",
    "p = re.compile(r\"[에러]+\\s+\\w+\")\n",
    "\n",
    "#findall() - 정규식과 매치되는 모든 문자열을 리스트로 돌려준다.\n",
    "p.findall(text)"
   ]
  },
  {
   "cell_type": "markdown",
   "id": "effa56a2",
   "metadata": {
    "id": "effa56a2"
   },
   "source": [
    "#### Q12. 정규표현식을 사용하여 text에서 지역코드만 출력하세요.\n",
    "text = \"문의사항이 있으면 032-232-3245으로 연락주시기 바랍니다.\""
   ]
  },
  {
   "cell_type": "code",
   "execution_count": null,
   "id": "e7586fc1",
   "metadata": {
    "id": "e7586fc1",
    "outputId": "e2a3c070-e221-4d89-98a4-4dd98d6422fb"
   },
   "outputs": [
    {
     "name": "stdout",
     "output_type": "stream",
     "text": [
      "032\n"
     ]
    }
   ],
   "source": [
    "import re \n",
    "\n",
    "text = \"문의사항이 있으면 032-232-3245으로 연락주시기 바랍니다.\"\n",
    "\n",
    "#정규표현식 컴파일\n",
    "p = re.compile(r'(\\d+)[-](\\d+)[-](\\d+)')\n",
    "\n",
    "#group(0) - 매치된 전체 문자열\n",
    "print(p.search(text).group(1))"
   ]
  },
  {
   "cell_type": "markdown",
   "id": "3f5e3a52",
   "metadata": {
    "id": "3f5e3a52"
   },
   "source": [
    "#### Q13. 정규표현식을 사용하여 text에서 지역코드 제외한 번호만 출력하세요.\n",
    "text = \"문의사항이 있으면 032-232-3245으로 연락주시기 바랍니다.\""
   ]
  },
  {
   "cell_type": "code",
   "execution_count": null,
   "id": "f0d57847",
   "metadata": {
    "id": "f0d57847",
    "outputId": "f4de0a87-56f4-43a3-ee23-6eae7a5ce460"
   },
   "outputs": [
    {
     "name": "stdout",
     "output_type": "stream",
     "text": [
      "232-3245\n"
     ]
    }
   ],
   "source": [
    "import re \n",
    "\n",
    "text = \"문의사항이 있으면 032-232-3245으로 연락주시기 바랍니다.\"\n",
    "\n",
    "#정규표현식 컴파일\n",
    "p = re.compile(r'(\\d+)[-](\\d+)[-](\\d+)')\n",
    "\n",
    "#group(0) - 매치된 전체 문자열\n",
    "print(p.search(text).group(2), '-', p.search(text).group(3) , sep='')"
   ]
  },
  {
   "cell_type": "code",
   "execution_count": null,
   "id": "OqMn7yEk-aEq",
   "metadata": {
    "colab": {
     "base_uri": "https://localhost:8080/"
    },
    "executionInfo": {
     "elapsed": 267,
     "status": "ok",
     "timestamp": 1658276465398,
     "user": {
      "displayName": "양주희",
      "userId": "07512774318755994288"
     },
     "user_tz": -540
    },
    "id": "OqMn7yEk-aEq",
    "outputId": "e554345d-8f37-4029-c3c1-e12b894dde7b"
   },
   "outputs": [
    {
     "name": "stdout",
     "output_type": "stream",
     "text": [
      "232-3245\n"
     ]
    }
   ],
   "source": [
    "#답지 풀이 \n",
    "import re\n",
    "\n",
    "text = \"문의사항이 있으면 032-232-3245으로 연락주시기 바랍니다.\"\n",
    "\n",
    "#정규표현식 컴파일\n",
    "p = re.compile(r'(\\d+)[-](\\d+[-]\\d+)')\n",
    "\n",
    "#group(0) - 매치된 전체 문자열\n",
    "print(p.search(text).group(2))"
   ]
  },
  {
   "cell_type": "markdown",
   "id": "65e98e6f",
   "metadata": {
    "id": "65e98e6f"
   },
   "source": [
    "#### Q14. 'abcdefghij' 에 대하여 중첩을 적용한 서브그룹 5개로 컴파일하여 group()함수를 이용하여 'abcdefghi'와 e'를 출력하세요"
   ]
  },
  {
   "cell_type": "code",
   "execution_count": null,
   "id": "b8f6e27c",
   "metadata": {
    "id": "b8f6e27c",
    "outputId": "dacf1fe0-3f4e-45a8-ebac-833ab30286e2"
   },
   "outputs": [
    {
     "name": "stdout",
     "output_type": "stream",
     "text": [
      "abcdefghij e\n"
     ]
    }
   ],
   "source": [
    "#그룹이 중첩되어 있는 경우 바깥쪽부터 시작하여 안쪽으로 들어갈 수록 인덱스가 증가한다.\n",
    "\n",
    "text = 'abcdefghij'\n",
    "p = re.compile(r'a(b(c(d((e)f)g)h)i)j')\n",
    "\n",
    "print(p.search(text).group(0), p.search(text).group(5))"
   ]
  },
  {
   "cell_type": "code",
   "execution_count": null,
   "id": "967LQoxTACK3",
   "metadata": {
    "colab": {
     "base_uri": "https://localhost:8080/"
    },
    "executionInfo": {
     "elapsed": 232,
     "status": "ok",
     "timestamp": 1658276861597,
     "user": {
      "displayName": "양주희",
      "userId": "07512774318755994288"
     },
     "user_tz": -540
    },
    "id": "967LQoxTACK3",
    "outputId": "0f65d313-e59a-4827-da04-e2031b6caff6"
   },
   "outputs": [
    {
     "name": "stdout",
     "output_type": "stream",
     "text": [
      "abcdefghij\n",
      "abcdefghi\n",
      "bcdefgh\n",
      "cdefg\n",
      "def\n",
      "e\n"
     ]
    }
   ],
   "source": [
    "#답지 풀이\n",
    "\n",
    "p = re.compile('(a(b(c(d(e)f)g)h)i)j')\n",
    "m = p.match('abcdefghij')\n",
    "print(m.group(0))\n",
    "print(m.group(1))\n",
    "print(m.group(2))\n",
    "print(m.group(3))\n",
    "print(m.group(4))\n",
    "print(m.group(5))\n",
    "\n"
   ]
  },
  {
   "cell_type": "markdown",
   "id": "43386f8d",
   "metadata": {
    "id": "43386f8d"
   },
   "source": [
    "#### Q15. 위문제에서 모든 서브 그룹에 대한 문자열을 포함하는 튜플을 출력하세요."
   ]
  },
  {
   "cell_type": "code",
   "execution_count": null,
   "id": "af10bfaa",
   "metadata": {
    "id": "af10bfaa",
    "outputId": "257b6b22-934c-4c86-ac7f-fceecabbd31f"
   },
   "outputs": [
    {
     "data": {
      "text/plain": [
       "('bcdefghi', 'cdefgh', 'defg', 'ef', 'e')"
      ]
     },
     "execution_count": 31,
     "metadata": {},
     "output_type": "execute_result"
    }
   ],
   "source": [
    "#groups() 메서드는 모든 서브 그룹에 대한 문자열을 포함하는 튜플을 반환\n",
    "\n",
    "text = 'abcdefghij'\n",
    "p = re.compile(r'a(b(c(d((e)f)g)h)i)j')\n",
    "\n",
    "p.search(text).groups()\n"
   ]
  },
  {
   "cell_type": "markdown",
   "id": "M1eEtbcYJI8O",
   "metadata": {
    "id": "M1eEtbcYJI8O"
   },
   "source": [
    "#### Q16. 이름으로 그룹을 참조하여 'Lots of punctuation 에서 Lots를 출력하세요.\n"
   ]
  },
  {
   "cell_type": "code",
   "execution_count": null,
   "id": "Br3IUgL7JZuF",
   "metadata": {
    "id": "Br3IUgL7JZuF"
   },
   "outputs": [],
   "source": []
  },
  {
   "cell_type": "markdown",
   "id": "NixR2f_sJaJX",
   "metadata": {
    "id": "NixR2f_sJaJX"
   },
   "source": [
    "#### Q.17 'Paris is very very beautiful.'에서 'very very'를 출력하세요.\n"
   ]
  },
  {
   "cell_type": "code",
   "execution_count": null,
   "id": "UQmwZhyaJcGt",
   "metadata": {
    "id": "UQmwZhyaJcGt"
   },
   "outputs": [],
   "source": []
  },
  {
   "cell_type": "markdown",
   "id": "JprkCz8XJcgv",
   "metadata": {
    "id": "JprkCz8XJcgv"
   },
   "source": [
    "#### Q18. 정규표현식을 작성하여 아래와 같이 출력하세요. \n",
    "['1 apple', '5 oranges', '3 boys', '4 girls', '10 army', '11 mr']\n"
   ]
  },
  {
   "cell_type": "code",
   "execution_count": null,
   "id": "zVuig6OgJiqW",
   "metadata": {
    "id": "zVuig6OgJiqW"
   },
   "outputs": [],
   "source": [
    "# Q18\n",
    "import re\n",
    "li = '1 apple, 5 oranges, 3 boys, 4 girls; 10 army| 11 mr'\n",
    "regex = re.compile(      )\n",
    "list = regex.findall(li)\n",
    "print(list)\n"
   ]
  },
  {
   "cell_type": "markdown",
   "id": "0gNeUkLEJlMY",
   "metadata": {
    "id": "0gNeUkLEJlMY"
   },
   "source": [
    "#### Q19. text에서 'H,h' 만 출력하세요.\n",
    "\n",
    "text = 'Hello my friend! Life is short you need Python!'\n"
   ]
  },
  {
   "cell_type": "code",
   "execution_count": null,
   "id": "ROkfGMtIJyiP",
   "metadata": {
    "id": "ROkfGMtIJyiP"
   },
   "outputs": [],
   "source": []
  },
  {
   "cell_type": "markdown",
   "id": "thpRuPnFJzRq",
   "metadata": {
    "id": "thpRuPnFJzRq"
   },
   "source": [
    "#### Q20. text(19번)에서 'H,h'가 아닌 것만 출력하세요."
   ]
  },
  {
   "cell_type": "code",
   "execution_count": null,
   "id": "E5T5id7zJ4qf",
   "metadata": {
    "id": "E5T5id7zJ4qf"
   },
   "outputs": [],
   "source": []
  },
  {
   "cell_type": "markdown",
   "id": "3eODUHYNMeKh",
   "metadata": {
    "id": "3eODUHYNMeKh"
   },
   "source": [
    "#### Q21. 'we are going home'에서 home만 출력하세요.\n"
   ]
  },
  {
   "cell_type": "code",
   "execution_count": null,
   "id": "8RbEbqBbMpIe",
   "metadata": {
    "id": "8RbEbqBbMpIe"
   },
   "outputs": [],
   "source": []
  },
  {
   "cell_type": "markdown",
   "id": "HaF6oM2PMpgA",
   "metadata": {
    "id": "HaF6oM2PMpgA"
   },
   "source": [
    "####Q22. '199305, 1923A, a93247'에서 '199305'만 출력하세요.\n"
   ]
  },
  {
   "cell_type": "code",
   "execution_count": null,
   "id": "pKp-gdGRM34u",
   "metadata": {
    "id": "pKp-gdGRM34u"
   },
   "outputs": [],
   "source": [
    "#숫자 6개 이렇게 개수로 조져주면 될거같기도 "
   ]
  },
  {
   "cell_type": "markdown",
   "id": "jiUsYQEZM4Yv",
   "metadata": {
    "id": "jiUsYQEZM4Yv"
   },
   "source": [
    "#### Q23. '12345abc'에서 'abc'만 출력하세요.\n"
   ]
  },
  {
   "cell_type": "code",
   "execution_count": null,
   "id": "0UN-ghNtNKGG",
   "metadata": {
    "id": "0UN-ghNtNKGG"
   },
   "outputs": [],
   "source": []
  },
  {
   "cell_type": "markdown",
   "id": "PfCHwiL-NKkA",
   "metadata": {
    "id": "PfCHwiL-NKkA"
   },
   "source": [
    "#### Q24. '12345abc'에서 'a'만 출력하세요.\n"
   ]
  },
  {
   "cell_type": "code",
   "execution_count": null,
   "id": "SXvO_zu9NQ5f",
   "metadata": {
    "id": "SXvO_zu9NQ5f"
   },
   "outputs": [],
   "source": [
    "\n"
   ]
  },
  {
   "cell_type": "markdown",
   "id": "DMHb--o7NbSY",
   "metadata": {
    "id": "DMHb--o7NbSY"
   },
   "source": [
    "Q25. 'abc12345Abc'에서 'A'만 출력하세요."
   ]
  },
  {
   "cell_type": "code",
   "execution_count": null,
   "id": "MCKXj-VUNcsg",
   "metadata": {
    "id": "MCKXj-VUNcsg"
   },
   "outputs": [],
   "source": []
  },
  {
   "cell_type": "markdown",
   "id": "uQzo0la3VJxa",
   "metadata": {
    "id": "uQzo0la3VJxa"
   },
   "source": [
    "#### Q26. 'Banker'에서 'anker', 'banker123'에서 'banker'를 출력하세요\n"
   ]
  },
  {
   "cell_type": "code",
   "execution_count": null,
   "id": "VbLr8rFyVNII",
   "metadata": {
    "id": "VbLr8rFyVNII"
   },
   "outputs": [],
   "source": []
  },
  {
   "cell_type": "markdown",
   "id": "29MuANDpVNf6",
   "metadata": {
    "id": "29MuANDpVNf6"
   },
   "source": [
    "#### Q27. 'KOREA 대한민국'에서 '대'만 출력하세요.\n"
   ]
  },
  {
   "cell_type": "code",
   "execution_count": null,
   "id": "xxyNoHGlVVmh",
   "metadata": {
    "id": "xxyNoHGlVVmh"
   },
   "outputs": [],
   "source": []
  },
  {
   "cell_type": "markdown",
   "id": "cKvtbqSvVWBC",
   "metadata": {
    "id": "cKvtbqSvVWBC"
   },
   "source": [
    "#### Q28. text에서 'aaaaBBBcccDDDeee'을 모두 출력하세요.\n",
    "\n",
    "text = 'aaaBBccDDeeaaaaBBBcccDDDeeeeeeDDDcccBBBaaaa'\n"
   ]
  },
  {
   "cell_type": "code",
   "execution_count": null,
   "id": "S8FVg0gpVquB",
   "metadata": {
    "id": "S8FVg0gpVquB"
   },
   "outputs": [],
   "source": [
    "\n"
   ]
  },
  {
   "cell_type": "markdown",
   "id": "Lo469pqMV1Fr",
   "metadata": {
    "id": "Lo469pqMV1Fr"
   },
   "source": [
    "#### Q29. 아래의 경우에서 \\<html>만 출력하세요.\n",
    "\n",
    "```\n",
    "text = '<html><head><title>Title</title></head><body></body></html>'\n",
    "\n",
    "pattern = re.compile('<.*>')\n",
    "\n",
    "\n",
    "print(len(text))\n",
    "p = pattern.search(text)\n",
    "p.group()\n",
    "```\n"
   ]
  },
  {
   "cell_type": "code",
   "execution_count": null,
   "id": "wP98Bq2gWBKp",
   "metadata": {
    "id": "wP98Bq2gWBKp"
   },
   "outputs": [],
   "source": []
  },
  {
   "cell_type": "markdown",
   "id": "hS1wOnNMWKeT",
   "metadata": {
    "id": "hS1wOnNMWKeT"
   },
   "source": [
    "#### Q30. '1234a1234'에서  '1', '2', '3', '4'를 모두 출력하세요.\n"
   ]
  },
  {
   "cell_type": "markdown",
   "id": "22d278bb",
   "metadata": {},
   "source": [
    "#### Q32. text에서 전체문장 모두 출력하세요."
   ]
  },
  {
   "cell_type": "code",
   "execution_count": 2,
   "id": "1bYmZWqnWNIA",
   "metadata": {
    "id": "1bYmZWqnWNIA"
   },
   "outputs": [
    {
     "name": "stdout",
     "output_type": "stream",
     "text": [
      "what are you doing?\n"
     ]
    }
   ],
   "source": [
    "# Q.\n",
    "import re\n",
    "text = \"what are you doing?\\nit is going to be late for school\\nwe need to hurry up\"\n",
    "regex = re.compile('.*')\n",
    "mo = regex.search(text)\n",
    "print(mo.group())\n",
    "\n"
   ]
  },
  {
   "cell_type": "markdown",
   "id": "16998cf4",
   "metadata": {},
   "source": [
    "#### Q33. text에서 대소문자 구분없이 전체문장 모두 출력하세요\n",
    "text = 'Friend fRiend friEnd FRIEND'\n"
   ]
  },
  {
   "cell_type": "markdown",
   "id": "eaee8524",
   "metadata": {},
   "source": [
    "#### Q34. 1609160537.371015을 \"Sat Jun 26 08:35:03 2021\" 포멧으로 출력하세요."
   ]
  },
  {
   "cell_type": "code",
   "execution_count": null,
   "id": "cba5699d",
   "metadata": {},
   "outputs": [],
   "source": []
  },
  {
   "cell_type": "markdown",
   "id": "10c863ab",
   "metadata": {},
   "source": [
    "#### Q35. 현재 날짜와 시간을 \"Sat Jun 26 08:35:03 2021\" 포멧으로 출력하세요."
   ]
  },
  {
   "cell_type": "code",
   "execution_count": null,
   "id": "a0580aee",
   "metadata": {},
   "outputs": [],
   "source": []
  }
 ],
 "metadata": {
  "colab": {
   "collapsed_sections": [],
   "name": "EX1.ipynb",
   "provenance": []
  },
  "kernelspec": {
   "display_name": "Python 3 (ipykernel)",
   "language": "python",
   "name": "python3"
  },
  "language_info": {
   "codemirror_mode": {
    "name": "ipython",
    "version": 3
   },
   "file_extension": ".py",
   "mimetype": "text/x-python",
   "name": "python",
   "nbconvert_exporter": "python",
   "pygments_lexer": "ipython3",
   "version": "3.9.7"
  }
 },
 "nbformat": 4,
 "nbformat_minor": 5
}
